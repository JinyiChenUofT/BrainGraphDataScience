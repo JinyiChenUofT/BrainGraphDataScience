{
 "cells": [
  {
   "cell_type": "code",
   "execution_count": 1,
   "metadata": {},
   "outputs": [],
   "source": [
    "%matplotlib inline"
   ]
  },
  {
   "cell_type": "code",
   "execution_count": 2,
   "metadata": {},
   "outputs": [
    {
     "name": "stdout",
     "output_type": "stream",
     "text": [
      "Atlas ROIs are located in nifti image (4D) at: C:\\Users\\June Cai/nilearn_data\\fsl\\data\\atlases\\HarvardOxford\\HarvardOxford-cort-maxprob-thr25-2mm.nii.gz\n",
      "546\n"
     ]
    }
   ],
   "source": [
    "from nilearn import datasets\n",
    "\n",
    "dataset = datasets.fetch_atlas_harvard_oxford('cort-maxprob-thr25-2mm')\n",
    "atlas_filename = dataset.maps\n",
    "labels = dataset.labels\n",
    "\n",
    "print('Atlas ROIs are located in nifti image (4D) at: %s' %\n",
    "      atlas_filename)  # 4D data\n",
    "\n",
    "import os\n",
    "cwd = os.getcwd()\n",
    "datadir = os.path.join(os.path.sep, cwd,'data')\n",
    "datadir = os.path.join(os.path.sep, datadir, 'abide')\n",
    "files = []\n",
    "for dirpath, dirnames, filenames in os.walk(datadir):\n",
    "    for filename in [f for f in filenames if f.endswith(\".nii.gz\")]:\n",
    "        files.append(os.path.join(dirpath, filename))\n",
    "\n",
    "print(len(files))\n",
    "counter = 0\n",
    "fileNum = 1"
   ]
  },
  {
   "cell_type": "code",
   "execution_count": 3,
   "metadata": {},
   "outputs": [
    {
     "name": "stderr",
     "output_type": "stream",
     "text": [
      "F:\\ece\\ECE521\\Anaconda3-4.2.0-Windows-x86_64\\lib\\importlib\\_bootstrap.py:222: RuntimeWarning: numpy.ufunc size changed, may indicate binary incompatibility. Expected 216, got 192\n",
      "  return f(*args, **kwds)\n"
     ]
    },
    {
     "name": "stdout",
     "output_type": "stream",
     "text": [
      "[NiftiLabelsMasker.fit_transform] loading data from C:\\Users\\June Cai/nilearn_data\\fsl\\data\\atlases\\HarvardOxford\\HarvardOxford-cort-maxprob-thr25-2mm.nii.gz\n",
      "Resampling labels\n"
     ]
    },
    {
     "name": "stderr",
     "output_type": "stream",
     "text": [
      "C:\\Users\\June Cai\\AppData\\Roaming\\Python\\Python35\\site-packages\\nilearn\\_utils\\cache_mixin.py:84: DeprecationWarning: The 'cachedir' parameter has been deprecated in version 0.12 and will be removed in version 0.14.\n",
      "You provided \"cachedir='nilearn_cache'\", use \"location='nilearn_cache'\" instead.\n",
      "  memory = Memory(cachedir=cache_dir, verbose=verbose)\n",
      "C:\\Users\\June Cai\\AppData\\Roaming\\Python\\Python35\\site-packages\\nilearn\\_utils\\cache_mixin.py:232: DeprecationWarning: The 'cachedir' attribute has been deprecated in version 0.12 and will be removed in version 0.14.\n",
      "Use os.path.join(memory.location, 'joblib') attribute instead.\n",
      "  if (memory.cachedir is None and memory_level is not None\n"
     ]
    },
    {
     "name": "stdout",
     "output_type": "stream",
     "text": [
      "________________________________________________________________________________\n",
      "[Memory] Calling nilearn.input_data.base_masker.filter_and_extract...\n",
      "filter_and_extract('F:\\\\ece\\\\capstone\\\\code\\\\py\\\\data\\\\abide\\\\traindata\\\\29150_rest_1.nii.gz', <nilearn.input_data.nifti_labels_masker._ExtractionFunctor object at 0x000001248D6DBBE0>, \n",
      "{ 'background_label': 0,\n",
      "  'detrend': False,\n",
      "  'dtype': None,\n",
      "  'high_pass': None,\n",
      "  'labels_img': 'C:\\\\Users\\\\June '\n",
      "                'Cai/nilearn_data\\\\fsl\\\\data\\\\atlases\\\\HarvardOxford\\\\HarvardOxford-cort-maxprob-thr25-2mm.nii.gz',\n",
      "  'low_pass': None,\n",
      "  'mask_img': None,\n",
      "  'smoothing_fwhm': None,\n",
      "  'standardize': True,\n",
      "  't_r': None,\n",
      "  'target_affine': None,\n",
      "  'target_shape': None}, memory_level=1, memory=Memory(location=nilearn_cache\\joblib), verbose=5, confounds=None, dtype=None)\n",
      "[NiftiLabelsMasker.transform_single_imgs] Loading data from F:\\ece\\capstone\\code\\py\\data\\abide\\traindata\\29150_rest_1.nii.gz\n",
      "[NiftiLabelsMasker.transform_single_imgs] Extracting region signals\n"
     ]
    },
    {
     "name": "stderr",
     "output_type": "stream",
     "text": [
      "F:\\ece\\ECE521\\Anaconda3-4.2.0-Windows-x86_64\\lib\\importlib\\_bootstrap.py:222: RuntimeWarning: numpy.ufunc size changed, may indicate binary incompatibility. Expected 216, got 192\n",
      "  return f(*args, **kwds)\n"
     ]
    },
    {
     "name": "stdout",
     "output_type": "stream",
     "text": [
      "[NiftiLabelsMasker.transform_single_imgs] Cleaning extracted signals\n",
      "_______________________________________________filter_and_extract - 1.3s, 0.0min\n",
      "[NiftiLabelsMasker.fit_transform] loading data from C:\\Users\\June Cai/nilearn_data\\fsl\\data\\atlases\\HarvardOxford\\HarvardOxford-cort-maxprob-thr25-2mm.nii.gz\n",
      "Resampling labels\n",
      "________________________________________________________________________________\n",
      "[Memory] Calling nilearn.input_data.base_masker.filter_and_extract...\n",
      "filter_and_extract('F:\\\\ece\\\\capstone\\\\code\\\\py\\\\data\\\\abide\\\\traindata\\\\29151_rest_1.nii.gz', <nilearn.input_data.nifti_labels_masker._ExtractionFunctor object at 0x000001248A91F828>, \n",
      "{ 'background_label': 0,\n",
      "  'detrend': False,\n",
      "  'dtype': None,\n",
      "  'high_pass': None,\n",
      "  'labels_img': 'C:\\\\Users\\\\June '\n",
      "                'Cai/nilearn_data\\\\fsl\\\\data\\\\atlases\\\\HarvardOxford\\\\HarvardOxford-cort-maxprob-thr25-2mm.nii.gz',\n",
      "  'low_pass': None,\n",
      "  'mask_img': None,\n",
      "  'smoothing_fwhm': None,\n",
      "  'standardize': True,\n",
      "  't_r': None,\n",
      "  'target_affine': None,\n",
      "  'target_shape': None}, memory_level=1, memory=Memory(location=nilearn_cache\\joblib), verbose=5, confounds=None, dtype=None)\n",
      "[NiftiLabelsMasker.transform_single_imgs] Loading data from F:\\ece\\capstone\\code\\py\\data\\abide\\traindata\\29151_rest_1.nii.gz\n"
     ]
    },
    {
     "name": "stderr",
     "output_type": "stream",
     "text": [
      "C:\\Users\\June Cai\\AppData\\Roaming\\Python\\Python35\\site-packages\\nilearn\\_utils\\cache_mixin.py:84: DeprecationWarning: The 'cachedir' parameter has been deprecated in version 0.12 and will be removed in version 0.14.\n",
      "You provided \"cachedir='nilearn_cache'\", use \"location='nilearn_cache'\" instead.\n",
      "  memory = Memory(cachedir=cache_dir, verbose=verbose)\n",
      "C:\\Users\\June Cai\\AppData\\Roaming\\Python\\Python35\\site-packages\\nilearn\\_utils\\cache_mixin.py:232: DeprecationWarning: The 'cachedir' attribute has been deprecated in version 0.12 and will be removed in version 0.14.\n",
      "Use os.path.join(memory.location, 'joblib') attribute instead.\n",
      "  if (memory.cachedir is None and memory_level is not None\n"
     ]
    },
    {
     "name": "stdout",
     "output_type": "stream",
     "text": [
      "[NiftiLabelsMasker.transform_single_imgs] Extracting region signals\n",
      "[NiftiLabelsMasker.transform_single_imgs] Cleaning extracted signals\n",
      "_______________________________________________filter_and_extract - 0.9s, 0.0min\n",
      "[NiftiLabelsMasker.fit_transform] loading data from C:\\Users\\June Cai/nilearn_data\\fsl\\data\\atlases\\HarvardOxford\\HarvardOxford-cort-maxprob-thr25-2mm.nii.gz\n",
      "Resampling labels\n",
      "________________________________________________________________________________\n",
      "[Memory] Calling nilearn.input_data.base_masker.filter_and_extract...\n",
      "filter_and_extract('F:\\\\ece\\\\capstone\\\\code\\\\py\\\\data\\\\abide\\\\traindata\\\\29152_rest_1.nii.gz', <nilearn.input_data.nifti_labels_masker._ExtractionFunctor object at 0x000001248A91F5C0>, \n",
      "{ 'background_label': 0,\n",
      "  'detrend': False,\n",
      "  'dtype': None,\n",
      "  'high_pass': None,\n",
      "  'labels_img': 'C:\\\\Users\\\\June '\n",
      "                'Cai/nilearn_data\\\\fsl\\\\data\\\\atlases\\\\HarvardOxford\\\\HarvardOxford-cort-maxprob-thr25-2mm.nii.gz',\n",
      "  'low_pass': None,\n",
      "  'mask_img': None,\n",
      "  'smoothing_fwhm': None,\n",
      "  'standardize': True,\n",
      "  't_r': None,\n",
      "  'target_affine': None,\n",
      "  'target_shape': None}, memory_level=1, memory=Memory(location=nilearn_cache\\joblib), verbose=5, confounds=None, dtype=None)\n",
      "[NiftiLabelsMasker.transform_single_imgs] Loading data from F:\\ece\\capstone\\code\\py\\data\\abide\\traindata\\29152_rest_1.nii.gz\n"
     ]
    },
    {
     "name": "stderr",
     "output_type": "stream",
     "text": [
      "C:\\Users\\June Cai\\AppData\\Roaming\\Python\\Python35\\site-packages\\nilearn\\_utils\\cache_mixin.py:84: DeprecationWarning: The 'cachedir' parameter has been deprecated in version 0.12 and will be removed in version 0.14.\n",
      "You provided \"cachedir='nilearn_cache'\", use \"location='nilearn_cache'\" instead.\n",
      "  memory = Memory(cachedir=cache_dir, verbose=verbose)\n",
      "C:\\Users\\June Cai\\AppData\\Roaming\\Python\\Python35\\site-packages\\nilearn\\_utils\\cache_mixin.py:232: DeprecationWarning: The 'cachedir' attribute has been deprecated in version 0.12 and will be removed in version 0.14.\n",
      "Use os.path.join(memory.location, 'joblib') attribute instead.\n",
      "  if (memory.cachedir is None and memory_level is not None\n"
     ]
    },
    {
     "name": "stdout",
     "output_type": "stream",
     "text": [
      "[NiftiLabelsMasker.transform_single_imgs] Extracting region signals\n",
      "[NiftiLabelsMasker.transform_single_imgs] Cleaning extracted signals\n",
      "_______________________________________________filter_and_extract - 1.1s, 0.0min\n",
      "[NiftiLabelsMasker.fit_transform] loading data from C:\\Users\\June Cai/nilearn_data\\fsl\\data\\atlases\\HarvardOxford\\HarvardOxford-cort-maxprob-thr25-2mm.nii.gz\n",
      "Resampling labels\n",
      "________________________________________________________________________________\n",
      "[Memory] Calling nilearn.input_data.base_masker.filter_and_extract...\n",
      "filter_and_extract('F:\\\\ece\\\\capstone\\\\code\\\\py\\\\data\\\\abide\\\\traindata\\\\29153_rest_1.nii.gz', <nilearn.input_data.nifti_labels_masker._ExtractionFunctor object at 0x000001248A91F2E8>, \n",
      "{ 'background_label': 0,\n",
      "  'detrend': False,\n",
      "  'dtype': None,\n",
      "  'high_pass': None,\n",
      "  'labels_img': 'C:\\\\Users\\\\June '\n",
      "                'Cai/nilearn_data\\\\fsl\\\\data\\\\atlases\\\\HarvardOxford\\\\HarvardOxford-cort-maxprob-thr25-2mm.nii.gz',\n",
      "  'low_pass': None,\n",
      "  'mask_img': None,\n",
      "  'smoothing_fwhm': None,\n",
      "  'standardize': True,\n",
      "  't_r': None,\n",
      "  'target_affine': None,\n",
      "  'target_shape': None}, memory_level=1, memory=Memory(location=nilearn_cache\\joblib), verbose=5, confounds=None, dtype=None)\n",
      "[NiftiLabelsMasker.transform_single_imgs] Loading data from F:\\ece\\capstone\\code\\py\\data\\abide\\traindata\\29153_rest_1.nii.gz\n"
     ]
    },
    {
     "name": "stderr",
     "output_type": "stream",
     "text": [
      "C:\\Users\\June Cai\\AppData\\Roaming\\Python\\Python35\\site-packages\\nilearn\\_utils\\cache_mixin.py:84: DeprecationWarning: The 'cachedir' parameter has been deprecated in version 0.12 and will be removed in version 0.14.\n",
      "You provided \"cachedir='nilearn_cache'\", use \"location='nilearn_cache'\" instead.\n",
      "  memory = Memory(cachedir=cache_dir, verbose=verbose)\n",
      "C:\\Users\\June Cai\\AppData\\Roaming\\Python\\Python35\\site-packages\\nilearn\\_utils\\cache_mixin.py:232: DeprecationWarning: The 'cachedir' attribute has been deprecated in version 0.12 and will be removed in version 0.14.\n",
      "Use os.path.join(memory.location, 'joblib') attribute instead.\n",
      "  if (memory.cachedir is None and memory_level is not None\n"
     ]
    },
    {
     "name": "stdout",
     "output_type": "stream",
     "text": [
      "[NiftiLabelsMasker.transform_single_imgs] Extracting region signals\n",
      "[NiftiLabelsMasker.transform_single_imgs] Cleaning extracted signals\n",
      "_______________________________________________filter_and_extract - 1.0s, 0.0min\n",
      "[NiftiLabelsMasker.fit_transform] loading data from C:\\Users\\June Cai/nilearn_data\\fsl\\data\\atlases\\HarvardOxford\\HarvardOxford-cort-maxprob-thr25-2mm.nii.gz\n",
      "Resampling labels\n",
      "________________________________________________________________________________\n",
      "[Memory] Calling nilearn.input_data.base_masker.filter_and_extract...\n",
      "filter_and_extract('F:\\\\ece\\\\capstone\\\\code\\\\py\\\\data\\\\abide\\\\traindata\\\\29154_rest_1.nii.gz', <nilearn.input_data.nifti_labels_masker._ExtractionFunctor object at 0x000001248A91F9B0>, \n",
      "{ 'background_label': 0,\n",
      "  'detrend': False,\n",
      "  'dtype': None,\n",
      "  'high_pass': None,\n",
      "  'labels_img': 'C:\\\\Users\\\\June '\n",
      "                'Cai/nilearn_data\\\\fsl\\\\data\\\\atlases\\\\HarvardOxford\\\\HarvardOxford-cort-maxprob-thr25-2mm.nii.gz',\n",
      "  'low_pass': None,\n",
      "  'mask_img': None,\n",
      "  'smoothing_fwhm': None,\n",
      "  'standardize': True,\n",
      "  't_r': None,\n",
      "  'target_affine': None,\n",
      "  'target_shape': None}, memory_level=1, memory=Memory(location=nilearn_cache\\joblib), verbose=5, confounds=None, dtype=None)\n",
      "[NiftiLabelsMasker.transform_single_imgs] Loading data from F:\\ece\\capstone\\code\\py\\data\\abide\\traindata\\29154_rest_1.nii.gz\n"
     ]
    },
    {
     "name": "stderr",
     "output_type": "stream",
     "text": [
      "C:\\Users\\June Cai\\AppData\\Roaming\\Python\\Python35\\site-packages\\nilearn\\_utils\\cache_mixin.py:84: DeprecationWarning: The 'cachedir' parameter has been deprecated in version 0.12 and will be removed in version 0.14.\n",
      "You provided \"cachedir='nilearn_cache'\", use \"location='nilearn_cache'\" instead.\n",
      "  memory = Memory(cachedir=cache_dir, verbose=verbose)\n",
      "C:\\Users\\June Cai\\AppData\\Roaming\\Python\\Python35\\site-packages\\nilearn\\_utils\\cache_mixin.py:232: DeprecationWarning: The 'cachedir' attribute has been deprecated in version 0.12 and will be removed in version 0.14.\n",
      "Use os.path.join(memory.location, 'joblib') attribute instead.\n",
      "  if (memory.cachedir is None and memory_level is not None\n"
     ]
    },
    {
     "name": "stdout",
     "output_type": "stream",
     "text": [
      "[NiftiLabelsMasker.transform_single_imgs] Extracting region signals\n",
      "[NiftiLabelsMasker.transform_single_imgs] Cleaning extracted signals\n",
      "_______________________________________________filter_and_extract - 1.0s, 0.0min\n",
      "[NiftiLabelsMasker.fit_transform] loading data from C:\\Users\\June Cai/nilearn_data\\fsl\\data\\atlases\\HarvardOxford\\HarvardOxford-cort-maxprob-thr25-2mm.nii.gz\n",
      "Resampling labels\n",
      "________________________________________________________________________________\n",
      "[Memory] Calling nilearn.input_data.base_masker.filter_and_extract...\n",
      "filter_and_extract('F:\\\\ece\\\\capstone\\\\code\\\\py\\\\data\\\\abide\\\\traindata\\\\29155_rest_1.nii.gz', <nilearn.input_data.nifti_labels_masker._ExtractionFunctor object at 0x000001248AD57D68>, \n",
      "{ 'background_label': 0,\n",
      "  'detrend': False,\n",
      "  'dtype': None,\n",
      "  'high_pass': None,\n",
      "  'labels_img': 'C:\\\\Users\\\\June '\n",
      "                'Cai/nilearn_data\\\\fsl\\\\data\\\\atlases\\\\HarvardOxford\\\\HarvardOxford-cort-maxprob-thr25-2mm.nii.gz',\n",
      "  'low_pass': None,\n",
      "  'mask_img': None,\n",
      "  'smoothing_fwhm': None,\n",
      "  'standardize': True,\n",
      "  't_r': None,\n",
      "  'target_affine': None,\n",
      "  'target_shape': None}, memory_level=1, memory=Memory(location=nilearn_cache\\joblib), verbose=5, confounds=None, dtype=None)\n",
      "[NiftiLabelsMasker.transform_single_imgs] Loading data from F:\\ece\\capstone\\code\\py\\data\\abide\\traindata\\29155_rest_1.nii.gz\n"
     ]
    },
    {
     "name": "stderr",
     "output_type": "stream",
     "text": [
      "C:\\Users\\June Cai\\AppData\\Roaming\\Python\\Python35\\site-packages\\nilearn\\_utils\\cache_mixin.py:84: DeprecationWarning: The 'cachedir' parameter has been deprecated in version 0.12 and will be removed in version 0.14.\n",
      "You provided \"cachedir='nilearn_cache'\", use \"location='nilearn_cache'\" instead.\n",
      "  memory = Memory(cachedir=cache_dir, verbose=verbose)\n",
      "C:\\Users\\June Cai\\AppData\\Roaming\\Python\\Python35\\site-packages\\nilearn\\_utils\\cache_mixin.py:232: DeprecationWarning: The 'cachedir' attribute has been deprecated in version 0.12 and will be removed in version 0.14.\n",
      "Use os.path.join(memory.location, 'joblib') attribute instead.\n",
      "  if (memory.cachedir is None and memory_level is not None\n"
     ]
    },
    {
     "name": "stdout",
     "output_type": "stream",
     "text": [
      "[NiftiLabelsMasker.transform_single_imgs] Extracting region signals\n",
      "[NiftiLabelsMasker.transform_single_imgs] Cleaning extracted signals\n",
      "_______________________________________________filter_and_extract - 1.0s, 0.0min\n",
      "[NiftiLabelsMasker.fit_transform] loading data from C:\\Users\\June Cai/nilearn_data\\fsl\\data\\atlases\\HarvardOxford\\HarvardOxford-cort-maxprob-thr25-2mm.nii.gz\n",
      "Resampling labels\n",
      "________________________________________________________________________________\n",
      "[Memory] Calling nilearn.input_data.base_masker.filter_and_extract...\n",
      "filter_and_extract('F:\\\\ece\\\\capstone\\\\code\\\\py\\\\data\\\\abide\\\\traindata\\\\29156_rest_1.nii.gz', <nilearn.input_data.nifti_labels_masker._ExtractionFunctor object at 0x0000012496F2AB00>, \n",
      "{ 'background_label': 0,\n",
      "  'detrend': False,\n",
      "  'dtype': None,\n",
      "  'high_pass': None,\n",
      "  'labels_img': 'C:\\\\Users\\\\June '\n",
      "                'Cai/nilearn_data\\\\fsl\\\\data\\\\atlases\\\\HarvardOxford\\\\HarvardOxford-cort-maxprob-thr25-2mm.nii.gz',\n",
      "  'low_pass': None,\n",
      "  'mask_img': None,\n",
      "  'smoothing_fwhm': None,\n",
      "  'standardize': True,\n",
      "  't_r': None,\n",
      "  'target_affine': None,\n",
      "  'target_shape': None}, memory_level=1, memory=Memory(location=nilearn_cache\\joblib), verbose=5, confounds=None, dtype=None)\n",
      "[NiftiLabelsMasker.transform_single_imgs] Loading data from F:\\ece\\capstone\\code\\py\\data\\abide\\traindata\\29156_rest_1.nii.gz\n"
     ]
    },
    {
     "name": "stderr",
     "output_type": "stream",
     "text": [
      "C:\\Users\\June Cai\\AppData\\Roaming\\Python\\Python35\\site-packages\\nilearn\\_utils\\cache_mixin.py:84: DeprecationWarning: The 'cachedir' parameter has been deprecated in version 0.12 and will be removed in version 0.14.\n",
      "You provided \"cachedir='nilearn_cache'\", use \"location='nilearn_cache'\" instead.\n",
      "  memory = Memory(cachedir=cache_dir, verbose=verbose)\n",
      "C:\\Users\\June Cai\\AppData\\Roaming\\Python\\Python35\\site-packages\\nilearn\\_utils\\cache_mixin.py:232: DeprecationWarning: The 'cachedir' attribute has been deprecated in version 0.12 and will be removed in version 0.14.\n",
      "Use os.path.join(memory.location, 'joblib') attribute instead.\n",
      "  if (memory.cachedir is None and memory_level is not None\n"
     ]
    },
    {
     "name": "stdout",
     "output_type": "stream",
     "text": [
      "[NiftiLabelsMasker.transform_single_imgs] Extracting region signals\n",
      "[NiftiLabelsMasker.transform_single_imgs] Cleaning extracted signals\n",
      "_______________________________________________filter_and_extract - 1.1s, 0.0min\n",
      "[NiftiLabelsMasker.fit_transform] loading data from C:\\Users\\June Cai/nilearn_data\\fsl\\data\\atlases\\HarvardOxford\\HarvardOxford-cort-maxprob-thr25-2mm.nii.gz\n",
      "Resampling labels\n",
      "________________________________________________________________________________\n",
      "[Memory] Calling nilearn.input_data.base_masker.filter_and_extract...\n",
      "filter_and_extract('F:\\\\ece\\\\capstone\\\\code\\\\py\\\\data\\\\abide\\\\traindata\\\\29157_rest_1.nii.gz', <nilearn.input_data.nifti_labels_masker._ExtractionFunctor object at 0x00000124FAB717F0>, \n",
      "{ 'background_label': 0,\n",
      "  'detrend': False,\n",
      "  'dtype': None,\n",
      "  'high_pass': None,\n",
      "  'labels_img': 'C:\\\\Users\\\\June '\n",
      "                'Cai/nilearn_data\\\\fsl\\\\data\\\\atlases\\\\HarvardOxford\\\\HarvardOxford-cort-maxprob-thr25-2mm.nii.gz',\n",
      "  'low_pass': None,\n",
      "  'mask_img': None,\n",
      "  'smoothing_fwhm': None,\n",
      "  'standardize': True,\n",
      "  't_r': None,\n",
      "  'target_affine': None,\n",
      "  'target_shape': None}, memory_level=1, memory=Memory(location=nilearn_cache\\joblib), verbose=5, confounds=None, dtype=None)\n",
      "[NiftiLabelsMasker.transform_single_imgs] Loading data from F:\\ece\\capstone\\code\\py\\data\\abide\\traindata\\29157_rest_1.nii.gz\n"
     ]
    },
    {
     "name": "stderr",
     "output_type": "stream",
     "text": [
      "C:\\Users\\June Cai\\AppData\\Roaming\\Python\\Python35\\site-packages\\nilearn\\_utils\\cache_mixin.py:84: DeprecationWarning: The 'cachedir' parameter has been deprecated in version 0.12 and will be removed in version 0.14.\n",
      "You provided \"cachedir='nilearn_cache'\", use \"location='nilearn_cache'\" instead.\n",
      "  memory = Memory(cachedir=cache_dir, verbose=verbose)\n",
      "C:\\Users\\June Cai\\AppData\\Roaming\\Python\\Python35\\site-packages\\nilearn\\_utils\\cache_mixin.py:232: DeprecationWarning: The 'cachedir' attribute has been deprecated in version 0.12 and will be removed in version 0.14.\n",
      "Use os.path.join(memory.location, 'joblib') attribute instead.\n",
      "  if (memory.cachedir is None and memory_level is not None\n"
     ]
    },
    {
     "name": "stdout",
     "output_type": "stream",
     "text": [
      "[NiftiLabelsMasker.transform_single_imgs] Extracting region signals\n",
      "[NiftiLabelsMasker.transform_single_imgs] Cleaning extracted signals\n",
      "_______________________________________________filter_and_extract - 1.0s, 0.0min\n",
      "[NiftiLabelsMasker.fit_transform] loading data from C:\\Users\\June Cai/nilearn_data\\fsl\\data\\atlases\\HarvardOxford\\HarvardOxford-cort-maxprob-thr25-2mm.nii.gz\n",
      "Resampling labels\n",
      "________________________________________________________________________________\n",
      "[Memory] Calling nilearn.input_data.base_masker.filter_and_extract...\n",
      "filter_and_extract('F:\\\\ece\\\\capstone\\\\code\\\\py\\\\data\\\\abide\\\\traindata\\\\29158_rest_1.nii.gz', <nilearn.input_data.nifti_labels_masker._ExtractionFunctor object at 0x000001248A91FF28>, \n",
      "{ 'background_label': 0,\n",
      "  'detrend': False,\n",
      "  'dtype': None,\n",
      "  'high_pass': None,\n",
      "  'labels_img': 'C:\\\\Users\\\\June '\n",
      "                'Cai/nilearn_data\\\\fsl\\\\data\\\\atlases\\\\HarvardOxford\\\\HarvardOxford-cort-maxprob-thr25-2mm.nii.gz',\n",
      "  'low_pass': None,\n",
      "  'mask_img': None,\n",
      "  'smoothing_fwhm': None,\n",
      "  'standardize': True,\n",
      "  't_r': None,\n",
      "  'target_affine': None,\n",
      "  'target_shape': None}, memory_level=1, memory=Memory(location=nilearn_cache\\joblib), verbose=5, confounds=None, dtype=None)\n",
      "[NiftiLabelsMasker.transform_single_imgs] Loading data from F:\\ece\\capstone\\code\\py\\data\\abide\\traindata\\29158_rest_1.nii.gz\n"
     ]
    },
    {
     "name": "stderr",
     "output_type": "stream",
     "text": [
      "C:\\Users\\June Cai\\AppData\\Roaming\\Python\\Python35\\site-packages\\nilearn\\_utils\\cache_mixin.py:84: DeprecationWarning: The 'cachedir' parameter has been deprecated in version 0.12 and will be removed in version 0.14.\n",
      "You provided \"cachedir='nilearn_cache'\", use \"location='nilearn_cache'\" instead.\n",
      "  memory = Memory(cachedir=cache_dir, verbose=verbose)\n",
      "C:\\Users\\June Cai\\AppData\\Roaming\\Python\\Python35\\site-packages\\nilearn\\_utils\\cache_mixin.py:232: DeprecationWarning: The 'cachedir' attribute has been deprecated in version 0.12 and will be removed in version 0.14.\n",
      "Use os.path.join(memory.location, 'joblib') attribute instead.\n",
      "  if (memory.cachedir is None and memory_level is not None\n"
     ]
    },
    {
     "name": "stdout",
     "output_type": "stream",
     "text": [
      "[NiftiLabelsMasker.transform_single_imgs] Extracting region signals\n",
      "[NiftiLabelsMasker.transform_single_imgs] Cleaning extracted signals\n",
      "_______________________________________________filter_and_extract - 1.0s, 0.0min\n",
      "[NiftiLabelsMasker.fit_transform] loading data from C:\\Users\\June Cai/nilearn_data\\fsl\\data\\atlases\\HarvardOxford\\HarvardOxford-cort-maxprob-thr25-2mm.nii.gz\n",
      "Resampling labels\n",
      "________________________________________________________________________________\n",
      "[Memory] Calling nilearn.input_data.base_masker.filter_and_extract...\n",
      "filter_and_extract('F:\\\\ece\\\\capstone\\\\code\\\\py\\\\data\\\\abide\\\\traindata\\\\29159_rest_1.nii.gz', <nilearn.input_data.nifti_labels_masker._ExtractionFunctor object at 0x00000124FBBBF390>, \n",
      "{ 'background_label': 0,\n",
      "  'detrend': False,\n",
      "  'dtype': None,\n",
      "  'high_pass': None,\n",
      "  'labels_img': 'C:\\\\Users\\\\June '\n",
      "                'Cai/nilearn_data\\\\fsl\\\\data\\\\atlases\\\\HarvardOxford\\\\HarvardOxford-cort-maxprob-thr25-2mm.nii.gz',\n",
      "  'low_pass': None,\n",
      "  'mask_img': None,\n",
      "  'smoothing_fwhm': None,\n",
      "  'standardize': True,\n",
      "  't_r': None,\n",
      "  'target_affine': None,\n",
      "  'target_shape': None}, memory_level=1, memory=Memory(location=nilearn_cache\\joblib), verbose=5, confounds=None, dtype=None)\n",
      "[NiftiLabelsMasker.transform_single_imgs] Loading data from F:\\ece\\capstone\\code\\py\\data\\abide\\traindata\\29159_rest_1.nii.gz\n"
     ]
    },
    {
     "name": "stderr",
     "output_type": "stream",
     "text": [
      "C:\\Users\\June Cai\\AppData\\Roaming\\Python\\Python35\\site-packages\\nilearn\\_utils\\cache_mixin.py:84: DeprecationWarning: The 'cachedir' parameter has been deprecated in version 0.12 and will be removed in version 0.14.\n",
      "You provided \"cachedir='nilearn_cache'\", use \"location='nilearn_cache'\" instead.\n",
      "  memory = Memory(cachedir=cache_dir, verbose=verbose)\n",
      "C:\\Users\\June Cai\\AppData\\Roaming\\Python\\Python35\\site-packages\\nilearn\\_utils\\cache_mixin.py:232: DeprecationWarning: The 'cachedir' attribute has been deprecated in version 0.12 and will be removed in version 0.14.\n",
      "Use os.path.join(memory.location, 'joblib') attribute instead.\n",
      "  if (memory.cachedir is None and memory_level is not None\n"
     ]
    },
    {
     "name": "stdout",
     "output_type": "stream",
     "text": [
      "[NiftiLabelsMasker.transform_single_imgs] Extracting region signals\n",
      "[NiftiLabelsMasker.transform_single_imgs] Cleaning extracted signals\n",
      "_______________________________________________filter_and_extract - 1.0s, 0.0min\n",
      "[NiftiLabelsMasker.fit_transform] loading data from C:\\Users\\June Cai/nilearn_data\\fsl\\data\\atlases\\HarvardOxford\\HarvardOxford-cort-maxprob-thr25-2mm.nii.gz\n",
      "Resampling labels\n",
      "________________________________________________________________________________\n",
      "[Memory] Calling nilearn.input_data.base_masker.filter_and_extract...\n",
      "filter_and_extract('F:\\\\ece\\\\capstone\\\\code\\\\py\\\\data\\\\abide\\\\traindata\\\\29160_rest_1.nii.gz', <nilearn.input_data.nifti_labels_masker._ExtractionFunctor object at 0x00000124FBC1F5C0>, \n",
      "{ 'background_label': 0,\n",
      "  'detrend': False,\n",
      "  'dtype': None,\n",
      "  'high_pass': None,\n",
      "  'labels_img': 'C:\\\\Users\\\\June '\n",
      "                'Cai/nilearn_data\\\\fsl\\\\data\\\\atlases\\\\HarvardOxford\\\\HarvardOxford-cort-maxprob-thr25-2mm.nii.gz',\n",
      "  'low_pass': None,\n",
      "  'mask_img': None,\n",
      "  'smoothing_fwhm': None,\n",
      "  'standardize': True,\n",
      "  't_r': None,\n",
      "  'target_affine': None,\n",
      "  'target_shape': None}, memory_level=1, memory=Memory(location=nilearn_cache\\joblib), verbose=5, confounds=None, dtype=None)\n",
      "[NiftiLabelsMasker.transform_single_imgs] Loading data from F:\\ece\\capstone\\code\\py\\data\\abide\\traindata\\29160_rest_1.nii.gz\n"
     ]
    },
    {
     "name": "stderr",
     "output_type": "stream",
     "text": [
      "C:\\Users\\June Cai\\AppData\\Roaming\\Python\\Python35\\site-packages\\nilearn\\_utils\\cache_mixin.py:84: DeprecationWarning: The 'cachedir' parameter has been deprecated in version 0.12 and will be removed in version 0.14.\n",
      "You provided \"cachedir='nilearn_cache'\", use \"location='nilearn_cache'\" instead.\n",
      "  memory = Memory(cachedir=cache_dir, verbose=verbose)\n",
      "C:\\Users\\June Cai\\AppData\\Roaming\\Python\\Python35\\site-packages\\nilearn\\_utils\\cache_mixin.py:232: DeprecationWarning: The 'cachedir' attribute has been deprecated in version 0.12 and will be removed in version 0.14.\n",
      "Use os.path.join(memory.location, 'joblib') attribute instead.\n",
      "  if (memory.cachedir is None and memory_level is not None\n"
     ]
    },
    {
     "name": "stdout",
     "output_type": "stream",
     "text": [
      "[NiftiLabelsMasker.transform_single_imgs] Extracting region signals\n",
      "[NiftiLabelsMasker.transform_single_imgs] Cleaning extracted signals\n",
      "_______________________________________________filter_and_extract - 1.0s, 0.0min\n",
      "[NiftiLabelsMasker.fit_transform] loading data from C:\\Users\\June Cai/nilearn_data\\fsl\\data\\atlases\\HarvardOxford\\HarvardOxford-cort-maxprob-thr25-2mm.nii.gz\n",
      "Resampling labels\n",
      "________________________________________________________________________________\n",
      "[Memory] Calling nilearn.input_data.base_masker.filter_and_extract...\n",
      "filter_and_extract('F:\\\\ece\\\\capstone\\\\code\\\\py\\\\data\\\\abide\\\\traindata\\\\29161_rest_1.nii.gz', <nilearn.input_data.nifti_labels_masker._ExtractionFunctor object at 0x000001248C732048>, \n",
      "{ 'background_label': 0,\n",
      "  'detrend': False,\n",
      "  'dtype': None,\n",
      "  'high_pass': None,\n",
      "  'labels_img': 'C:\\\\Users\\\\June '\n",
      "                'Cai/nilearn_data\\\\fsl\\\\data\\\\atlases\\\\HarvardOxford\\\\HarvardOxford-cort-maxprob-thr25-2mm.nii.gz',\n",
      "  'low_pass': None,\n",
      "  'mask_img': None,\n",
      "  'smoothing_fwhm': None,\n",
      "  'standardize': True,\n",
      "  't_r': None,\n",
      "  'target_affine': None,\n",
      "  'target_shape': None}, memory_level=1, memory=Memory(location=nilearn_cache\\joblib), verbose=5, confounds=None, dtype=None)\n",
      "[NiftiLabelsMasker.transform_single_imgs] Loading data from F:\\ece\\capstone\\code\\py\\data\\abide\\traindata\\29161_rest_1.nii.gz\n"
     ]
    },
    {
     "name": "stderr",
     "output_type": "stream",
     "text": [
      "C:\\Users\\June Cai\\AppData\\Roaming\\Python\\Python35\\site-packages\\nilearn\\_utils\\cache_mixin.py:84: DeprecationWarning: The 'cachedir' parameter has been deprecated in version 0.12 and will be removed in version 0.14.\n",
      "You provided \"cachedir='nilearn_cache'\", use \"location='nilearn_cache'\" instead.\n",
      "  memory = Memory(cachedir=cache_dir, verbose=verbose)\n",
      "C:\\Users\\June Cai\\AppData\\Roaming\\Python\\Python35\\site-packages\\nilearn\\_utils\\cache_mixin.py:232: DeprecationWarning: The 'cachedir' attribute has been deprecated in version 0.12 and will be removed in version 0.14.\n",
      "Use os.path.join(memory.location, 'joblib') attribute instead.\n",
      "  if (memory.cachedir is None and memory_level is not None\n"
     ]
    },
    {
     "name": "stdout",
     "output_type": "stream",
     "text": [
      "[NiftiLabelsMasker.transform_single_imgs] Extracting region signals\n",
      "[NiftiLabelsMasker.transform_single_imgs] Cleaning extracted signals\n",
      "_______________________________________________filter_and_extract - 1.0s, 0.0min\n",
      "[NiftiLabelsMasker.fit_transform] loading data from C:\\Users\\June Cai/nilearn_data\\fsl\\data\\atlases\\HarvardOxford\\HarvardOxford-cort-maxprob-thr25-2mm.nii.gz\n",
      "Resampling labels\n",
      "________________________________________________________________________________\n",
      "[Memory] Calling nilearn.input_data.base_masker.filter_and_extract...\n",
      "filter_and_extract('F:\\\\ece\\\\capstone\\\\code\\\\py\\\\data\\\\abide\\\\traindata\\\\29162_rest_1.nii.gz', <nilearn.input_data.nifti_labels_masker._ExtractionFunctor object at 0x000001248A9110F0>, \n",
      "{ 'background_label': 0,\n",
      "  'detrend': False,\n",
      "  'dtype': None,\n",
      "  'high_pass': None,\n",
      "  'labels_img': 'C:\\\\Users\\\\June '\n",
      "                'Cai/nilearn_data\\\\fsl\\\\data\\\\atlases\\\\HarvardOxford\\\\HarvardOxford-cort-maxprob-thr25-2mm.nii.gz',\n",
      "  'low_pass': None,\n",
      "  'mask_img': None,\n",
      "  'smoothing_fwhm': None,\n",
      "  'standardize': True,\n",
      "  't_r': None,\n",
      "  'target_affine': None,\n",
      "  'target_shape': None}, memory_level=1, memory=Memory(location=nilearn_cache\\joblib), verbose=5, confounds=None, dtype=None)\n",
      "[NiftiLabelsMasker.transform_single_imgs] Loading data from F:\\ece\\capstone\\code\\py\\data\\abide\\traindata\\29162_rest_1.nii.gz\n"
     ]
    },
    {
     "name": "stderr",
     "output_type": "stream",
     "text": [
      "C:\\Users\\June Cai\\AppData\\Roaming\\Python\\Python35\\site-packages\\nilearn\\_utils\\cache_mixin.py:84: DeprecationWarning: The 'cachedir' parameter has been deprecated in version 0.12 and will be removed in version 0.14.\n",
      "You provided \"cachedir='nilearn_cache'\", use \"location='nilearn_cache'\" instead.\n",
      "  memory = Memory(cachedir=cache_dir, verbose=verbose)\n",
      "C:\\Users\\June Cai\\AppData\\Roaming\\Python\\Python35\\site-packages\\nilearn\\_utils\\cache_mixin.py:232: DeprecationWarning: The 'cachedir' attribute has been deprecated in version 0.12 and will be removed in version 0.14.\n",
      "Use os.path.join(memory.location, 'joblib') attribute instead.\n",
      "  if (memory.cachedir is None and memory_level is not None\n"
     ]
    },
    {
     "name": "stdout",
     "output_type": "stream",
     "text": [
      "[NiftiLabelsMasker.transform_single_imgs] Extracting region signals\n",
      "[NiftiLabelsMasker.transform_single_imgs] Cleaning extracted signals\n",
      "_______________________________________________filter_and_extract - 1.1s, 0.0min\n",
      "[NiftiLabelsMasker.fit_transform] loading data from C:\\Users\\June Cai/nilearn_data\\fsl\\data\\atlases\\HarvardOxford\\HarvardOxford-cort-maxprob-thr25-2mm.nii.gz\n",
      "Resampling labels\n",
      "________________________________________________________________________________\n",
      "[Memory] Calling nilearn.input_data.base_masker.filter_and_extract...\n",
      "filter_and_extract('F:\\\\ece\\\\capstone\\\\code\\\\py\\\\data\\\\abide\\\\traindata\\\\29163_rest_1.nii.gz', <nilearn.input_data.nifti_labels_masker._ExtractionFunctor object at 0x000001248A91FB38>, \n",
      "{ 'background_label': 0,\n",
      "  'detrend': False,\n",
      "  'dtype': None,\n",
      "  'high_pass': None,\n",
      "  'labels_img': 'C:\\\\Users\\\\June '\n",
      "                'Cai/nilearn_data\\\\fsl\\\\data\\\\atlases\\\\HarvardOxford\\\\HarvardOxford-cort-maxprob-thr25-2mm.nii.gz',\n",
      "  'low_pass': None,\n",
      "  'mask_img': None,\n",
      "  'smoothing_fwhm': None,\n",
      "  'standardize': True,\n",
      "  't_r': None,\n",
      "  'target_affine': None,\n",
      "  'target_shape': None}, memory_level=1, memory=Memory(location=nilearn_cache\\joblib), verbose=5, confounds=None, dtype=None)\n",
      "[NiftiLabelsMasker.transform_single_imgs] Loading data from F:\\ece\\capstone\\code\\py\\data\\abide\\traindata\\29163_rest_1.nii.gz\n"
     ]
    },
    {
     "name": "stderr",
     "output_type": "stream",
     "text": [
      "C:\\Users\\June Cai\\AppData\\Roaming\\Python\\Python35\\site-packages\\nilearn\\_utils\\cache_mixin.py:84: DeprecationWarning: The 'cachedir' parameter has been deprecated in version 0.12 and will be removed in version 0.14.\n",
      "You provided \"cachedir='nilearn_cache'\", use \"location='nilearn_cache'\" instead.\n",
      "  memory = Memory(cachedir=cache_dir, verbose=verbose)\n",
      "C:\\Users\\June Cai\\AppData\\Roaming\\Python\\Python35\\site-packages\\nilearn\\_utils\\cache_mixin.py:232: DeprecationWarning: The 'cachedir' attribute has been deprecated in version 0.12 and will be removed in version 0.14.\n",
      "Use os.path.join(memory.location, 'joblib') attribute instead.\n",
      "  if (memory.cachedir is None and memory_level is not None\n"
     ]
    },
    {
     "name": "stdout",
     "output_type": "stream",
     "text": [
      "[NiftiLabelsMasker.transform_single_imgs] Extracting region signals\n",
      "[NiftiLabelsMasker.transform_single_imgs] Cleaning extracted signals\n",
      "_______________________________________________filter_and_extract - 1.0s, 0.0min\n",
      "[NiftiLabelsMasker.fit_transform] loading data from C:\\Users\\June Cai/nilearn_data\\fsl\\data\\atlases\\HarvardOxford\\HarvardOxford-cort-maxprob-thr25-2mm.nii.gz\n",
      "Resampling labels\n",
      "________________________________________________________________________________\n",
      "[Memory] Calling nilearn.input_data.base_masker.filter_and_extract...\n",
      "filter_and_extract('F:\\\\ece\\\\capstone\\\\code\\\\py\\\\data\\\\abide\\\\traindata\\\\29164_rest_1.nii.gz', <nilearn.input_data.nifti_labels_masker._ExtractionFunctor object at 0x000001248A91F940>, \n",
      "{ 'background_label': 0,\n",
      "  'detrend': False,\n",
      "  'dtype': None,\n",
      "  'high_pass': None,\n",
      "  'labels_img': 'C:\\\\Users\\\\June '\n",
      "                'Cai/nilearn_data\\\\fsl\\\\data\\\\atlases\\\\HarvardOxford\\\\HarvardOxford-cort-maxprob-thr25-2mm.nii.gz',\n",
      "  'low_pass': None,\n",
      "  'mask_img': None,\n",
      "  'smoothing_fwhm': None,\n",
      "  'standardize': True,\n",
      "  't_r': None,\n",
      "  'target_affine': None,\n",
      "  'target_shape': None}, memory_level=1, memory=Memory(location=nilearn_cache\\joblib), verbose=5, confounds=None, dtype=None)\n",
      "[NiftiLabelsMasker.transform_single_imgs] Loading data from F:\\ece\\capstone\\code\\py\\data\\abide\\traindata\\29164_rest_1.nii.gz\n"
     ]
    },
    {
     "name": "stderr",
     "output_type": "stream",
     "text": [
      "C:\\Users\\June Cai\\AppData\\Roaming\\Python\\Python35\\site-packages\\nilearn\\_utils\\cache_mixin.py:84: DeprecationWarning: The 'cachedir' parameter has been deprecated in version 0.12 and will be removed in version 0.14.\n",
      "You provided \"cachedir='nilearn_cache'\", use \"location='nilearn_cache'\" instead.\n",
      "  memory = Memory(cachedir=cache_dir, verbose=verbose)\n",
      "C:\\Users\\June Cai\\AppData\\Roaming\\Python\\Python35\\site-packages\\nilearn\\_utils\\cache_mixin.py:232: DeprecationWarning: The 'cachedir' attribute has been deprecated in version 0.12 and will be removed in version 0.14.\n",
      "Use os.path.join(memory.location, 'joblib') attribute instead.\n",
      "  if (memory.cachedir is None and memory_level is not None\n"
     ]
    },
    {
     "name": "stdout",
     "output_type": "stream",
     "text": [
      "[NiftiLabelsMasker.transform_single_imgs] Extracting region signals\n",
      "[NiftiLabelsMasker.transform_single_imgs] Cleaning extracted signals\n",
      "_______________________________________________filter_and_extract - 1.0s, 0.0min\n",
      "[NiftiLabelsMasker.fit_transform] loading data from C:\\Users\\June Cai/nilearn_data\\fsl\\data\\atlases\\HarvardOxford\\HarvardOxford-cort-maxprob-thr25-2mm.nii.gz\n",
      "Resampling labels\n",
      "________________________________________________________________________________\n",
      "[Memory] Calling nilearn.input_data.base_masker.filter_and_extract...\n",
      "filter_and_extract('F:\\\\ece\\\\capstone\\\\code\\\\py\\\\data\\\\abide\\\\traindata\\\\29165_rest_1.nii.gz', <nilearn.input_data.nifti_labels_masker._ExtractionFunctor object at 0x000001248D6CCC50>, \n",
      "{ 'background_label': 0,\n",
      "  'detrend': False,\n",
      "  'dtype': None,\n",
      "  'high_pass': None,\n",
      "  'labels_img': 'C:\\\\Users\\\\June '\n",
      "                'Cai/nilearn_data\\\\fsl\\\\data\\\\atlases\\\\HarvardOxford\\\\HarvardOxford-cort-maxprob-thr25-2mm.nii.gz',\n",
      "  'low_pass': None,\n",
      "  'mask_img': None,\n",
      "  'smoothing_fwhm': None,\n",
      "  'standardize': True,\n",
      "  't_r': None,\n",
      "  'target_affine': None,\n",
      "  'target_shape': None}, memory_level=1, memory=Memory(location=nilearn_cache\\joblib), verbose=5, confounds=None, dtype=None)\n",
      "[NiftiLabelsMasker.transform_single_imgs] Loading data from F:\\ece\\capstone\\code\\py\\data\\abide\\traindata\\29165_rest_1.nii.gz\n"
     ]
    },
    {
     "name": "stderr",
     "output_type": "stream",
     "text": [
      "C:\\Users\\June Cai\\AppData\\Roaming\\Python\\Python35\\site-packages\\nilearn\\_utils\\cache_mixin.py:84: DeprecationWarning: The 'cachedir' parameter has been deprecated in version 0.12 and will be removed in version 0.14.\n",
      "You provided \"cachedir='nilearn_cache'\", use \"location='nilearn_cache'\" instead.\n",
      "  memory = Memory(cachedir=cache_dir, verbose=verbose)\n",
      "C:\\Users\\June Cai\\AppData\\Roaming\\Python\\Python35\\site-packages\\nilearn\\_utils\\cache_mixin.py:232: DeprecationWarning: The 'cachedir' attribute has been deprecated in version 0.12 and will be removed in version 0.14.\n",
      "Use os.path.join(memory.location, 'joblib') attribute instead.\n",
      "  if (memory.cachedir is None and memory_level is not None\n"
     ]
    },
    {
     "name": "stdout",
     "output_type": "stream",
     "text": [
      "[NiftiLabelsMasker.transform_single_imgs] Extracting region signals\n",
      "[NiftiLabelsMasker.transform_single_imgs] Cleaning extracted signals\n",
      "_______________________________________________filter_and_extract - 1.0s, 0.0min\n",
      "[NiftiLabelsMasker.fit_transform] loading data from C:\\Users\\June Cai/nilearn_data\\fsl\\data\\atlases\\HarvardOxford\\HarvardOxford-cort-maxprob-thr25-2mm.nii.gz\n",
      "Resampling labels\n",
      "________________________________________________________________________________\n",
      "[Memory] Calling nilearn.input_data.base_masker.filter_and_extract...\n",
      "filter_and_extract('F:\\\\ece\\\\capstone\\\\code\\\\py\\\\data\\\\abide\\\\traindata\\\\29166_rest_1.nii.gz', <nilearn.input_data.nifti_labels_masker._ExtractionFunctor object at 0x0000012496F1A828>, \n",
      "{ 'background_label': 0,\n",
      "  'detrend': False,\n",
      "  'dtype': None,\n",
      "  'high_pass': None,\n",
      "  'labels_img': 'C:\\\\Users\\\\June '\n",
      "                'Cai/nilearn_data\\\\fsl\\\\data\\\\atlases\\\\HarvardOxford\\\\HarvardOxford-cort-maxprob-thr25-2mm.nii.gz',\n",
      "  'low_pass': None,\n",
      "  'mask_img': None,\n",
      "  'smoothing_fwhm': None,\n",
      "  'standardize': True,\n",
      "  't_r': None,\n",
      "  'target_affine': None,\n",
      "  'target_shape': None}, memory_level=1, memory=Memory(location=nilearn_cache\\joblib), verbose=5, confounds=None, dtype=None)\n",
      "[NiftiLabelsMasker.transform_single_imgs] Loading data from F:\\ece\\capstone\\code\\py\\data\\abide\\traindata\\29166_rest_1.nii.gz\n"
     ]
    },
    {
     "name": "stderr",
     "output_type": "stream",
     "text": [
      "C:\\Users\\June Cai\\AppData\\Roaming\\Python\\Python35\\site-packages\\nilearn\\_utils\\cache_mixin.py:84: DeprecationWarning: The 'cachedir' parameter has been deprecated in version 0.12 and will be removed in version 0.14.\n",
      "You provided \"cachedir='nilearn_cache'\", use \"location='nilearn_cache'\" instead.\n",
      "  memory = Memory(cachedir=cache_dir, verbose=verbose)\n",
      "C:\\Users\\June Cai\\AppData\\Roaming\\Python\\Python35\\site-packages\\nilearn\\_utils\\cache_mixin.py:232: DeprecationWarning: The 'cachedir' attribute has been deprecated in version 0.12 and will be removed in version 0.14.\n",
      "Use os.path.join(memory.location, 'joblib') attribute instead.\n",
      "  if (memory.cachedir is None and memory_level is not None\n"
     ]
    },
    {
     "name": "stdout",
     "output_type": "stream",
     "text": [
      "[NiftiLabelsMasker.transform_single_imgs] Extracting region signals\n",
      "[NiftiLabelsMasker.transform_single_imgs] Cleaning extracted signals\n",
      "_______________________________________________filter_and_extract - 1.0s, 0.0min\n",
      "[NiftiLabelsMasker.fit_transform] loading data from C:\\Users\\June Cai/nilearn_data\\fsl\\data\\atlases\\HarvardOxford\\HarvardOxford-cort-maxprob-thr25-2mm.nii.gz\n",
      "Resampling labels\n",
      "________________________________________________________________________________\n",
      "[Memory] Calling nilearn.input_data.base_masker.filter_and_extract...\n",
      "filter_and_extract('F:\\\\ece\\\\capstone\\\\code\\\\py\\\\data\\\\abide\\\\traindata\\\\29167_rest_1.nii.gz', <nilearn.input_data.nifti_labels_masker._ExtractionFunctor object at 0x00000124FBBBF390>, \n",
      "{ 'background_label': 0,\n",
      "  'detrend': False,\n",
      "  'dtype': None,\n",
      "  'high_pass': None,\n",
      "  'labels_img': 'C:\\\\Users\\\\June '\n",
      "                'Cai/nilearn_data\\\\fsl\\\\data\\\\atlases\\\\HarvardOxford\\\\HarvardOxford-cort-maxprob-thr25-2mm.nii.gz',\n",
      "  'low_pass': None,\n",
      "  'mask_img': None,\n",
      "  'smoothing_fwhm': None,\n",
      "  'standardize': True,\n",
      "  't_r': None,\n",
      "  'target_affine': None,\n",
      "  'target_shape': None}, memory_level=1, memory=Memory(location=nilearn_cache\\joblib), verbose=5, confounds=None, dtype=None)\n",
      "[NiftiLabelsMasker.transform_single_imgs] Loading data from F:\\ece\\capstone\\code\\py\\data\\abide\\traindata\\29167_rest_1.nii.gz\n"
     ]
    },
    {
     "name": "stderr",
     "output_type": "stream",
     "text": [
      "C:\\Users\\June Cai\\AppData\\Roaming\\Python\\Python35\\site-packages\\nilearn\\_utils\\cache_mixin.py:84: DeprecationWarning: The 'cachedir' parameter has been deprecated in version 0.12 and will be removed in version 0.14.\n",
      "You provided \"cachedir='nilearn_cache'\", use \"location='nilearn_cache'\" instead.\n",
      "  memory = Memory(cachedir=cache_dir, verbose=verbose)\n",
      "C:\\Users\\June Cai\\AppData\\Roaming\\Python\\Python35\\site-packages\\nilearn\\_utils\\cache_mixin.py:232: DeprecationWarning: The 'cachedir' attribute has been deprecated in version 0.12 and will be removed in version 0.14.\n",
      "Use os.path.join(memory.location, 'joblib') attribute instead.\n",
      "  if (memory.cachedir is None and memory_level is not None\n"
     ]
    },
    {
     "name": "stdout",
     "output_type": "stream",
     "text": [
      "[NiftiLabelsMasker.transform_single_imgs] Extracting region signals\n",
      "[NiftiLabelsMasker.transform_single_imgs] Cleaning extracted signals\n",
      "_______________________________________________filter_and_extract - 1.0s, 0.0min\n",
      "[NiftiLabelsMasker.fit_transform] loading data from C:\\Users\\June Cai/nilearn_data\\fsl\\data\\atlases\\HarvardOxford\\HarvardOxford-cort-maxprob-thr25-2mm.nii.gz\n",
      "Resampling labels\n",
      "________________________________________________________________________________\n",
      "[Memory] Calling nilearn.input_data.base_masker.filter_and_extract...\n",
      "filter_and_extract('F:\\\\ece\\\\capstone\\\\code\\\\py\\\\data\\\\abide\\\\traindata\\\\29168_rest_1.nii.gz', <nilearn.input_data.nifti_labels_masker._ExtractionFunctor object at 0x00000124FA6596D8>, \n",
      "{ 'background_label': 0,\n",
      "  'detrend': False,\n",
      "  'dtype': None,\n",
      "  'high_pass': None,\n",
      "  'labels_img': 'C:\\\\Users\\\\June '\n",
      "                'Cai/nilearn_data\\\\fsl\\\\data\\\\atlases\\\\HarvardOxford\\\\HarvardOxford-cort-maxprob-thr25-2mm.nii.gz',\n",
      "  'low_pass': None,\n",
      "  'mask_img': None,\n",
      "  'smoothing_fwhm': None,\n",
      "  'standardize': True,\n",
      "  't_r': None,\n",
      "  'target_affine': None,\n",
      "  'target_shape': None}, memory_level=1, memory=Memory(location=nilearn_cache\\joblib), verbose=5, confounds=None, dtype=None)\n",
      "[NiftiLabelsMasker.transform_single_imgs] Loading data from F:\\ece\\capstone\\code\\py\\data\\abide\\traindata\\29168_rest_1.nii.gz\n"
     ]
    },
    {
     "name": "stderr",
     "output_type": "stream",
     "text": [
      "C:\\Users\\June Cai\\AppData\\Roaming\\Python\\Python35\\site-packages\\nilearn\\_utils\\cache_mixin.py:84: DeprecationWarning: The 'cachedir' parameter has been deprecated in version 0.12 and will be removed in version 0.14.\n",
      "You provided \"cachedir='nilearn_cache'\", use \"location='nilearn_cache'\" instead.\n",
      "  memory = Memory(cachedir=cache_dir, verbose=verbose)\n",
      "C:\\Users\\June Cai\\AppData\\Roaming\\Python\\Python35\\site-packages\\nilearn\\_utils\\cache_mixin.py:232: DeprecationWarning: The 'cachedir' attribute has been deprecated in version 0.12 and will be removed in version 0.14.\n",
      "Use os.path.join(memory.location, 'joblib') attribute instead.\n",
      "  if (memory.cachedir is None and memory_level is not None\n"
     ]
    },
    {
     "name": "stdout",
     "output_type": "stream",
     "text": [
      "[NiftiLabelsMasker.transform_single_imgs] Extracting region signals\n",
      "[NiftiLabelsMasker.transform_single_imgs] Cleaning extracted signals\n",
      "_______________________________________________filter_and_extract - 1.0s, 0.0min\n",
      "[NiftiLabelsMasker.fit_transform] loading data from C:\\Users\\June Cai/nilearn_data\\fsl\\data\\atlases\\HarvardOxford\\HarvardOxford-cort-maxprob-thr25-2mm.nii.gz\n",
      "Resampling labels\n",
      "________________________________________________________________________________\n",
      "[Memory] Calling nilearn.input_data.base_masker.filter_and_extract...\n",
      "filter_and_extract('F:\\\\ece\\\\capstone\\\\code\\\\py\\\\data\\\\abide\\\\traindata\\\\29169_rest_1.nii.gz', <nilearn.input_data.nifti_labels_masker._ExtractionFunctor object at 0x000001248B1B5320>, \n",
      "{ 'background_label': 0,\n",
      "  'detrend': False,\n",
      "  'dtype': None,\n",
      "  'high_pass': None,\n",
      "  'labels_img': 'C:\\\\Users\\\\June '\n",
      "                'Cai/nilearn_data\\\\fsl\\\\data\\\\atlases\\\\HarvardOxford\\\\HarvardOxford-cort-maxprob-thr25-2mm.nii.gz',\n",
      "  'low_pass': None,\n",
      "  'mask_img': None,\n",
      "  'smoothing_fwhm': None,\n",
      "  'standardize': True,\n",
      "  't_r': None,\n",
      "  'target_affine': None,\n",
      "  'target_shape': None}, memory_level=1, memory=Memory(location=nilearn_cache\\joblib), verbose=5, confounds=None, dtype=None)\n",
      "[NiftiLabelsMasker.transform_single_imgs] Loading data from F:\\ece\\capstone\\code\\py\\data\\abide\\traindata\\29169_rest_1.nii.gz\n"
     ]
    },
    {
     "name": "stderr",
     "output_type": "stream",
     "text": [
      "C:\\Users\\June Cai\\AppData\\Roaming\\Python\\Python35\\site-packages\\nilearn\\_utils\\cache_mixin.py:84: DeprecationWarning: The 'cachedir' parameter has been deprecated in version 0.12 and will be removed in version 0.14.\n",
      "You provided \"cachedir='nilearn_cache'\", use \"location='nilearn_cache'\" instead.\n",
      "  memory = Memory(cachedir=cache_dir, verbose=verbose)\n",
      "C:\\Users\\June Cai\\AppData\\Roaming\\Python\\Python35\\site-packages\\nilearn\\_utils\\cache_mixin.py:232: DeprecationWarning: The 'cachedir' attribute has been deprecated in version 0.12 and will be removed in version 0.14.\n",
      "Use os.path.join(memory.location, 'joblib') attribute instead.\n",
      "  if (memory.cachedir is None and memory_level is not None\n"
     ]
    },
    {
     "name": "stdout",
     "output_type": "stream",
     "text": [
      "[NiftiLabelsMasker.transform_single_imgs] Extracting region signals\n",
      "[NiftiLabelsMasker.transform_single_imgs] Cleaning extracted signals\n",
      "_______________________________________________filter_and_extract - 1.0s, 0.0min\n",
      "[NiftiLabelsMasker.fit_transform] loading data from C:\\Users\\June Cai/nilearn_data\\fsl\\data\\atlases\\HarvardOxford\\HarvardOxford-cort-maxprob-thr25-2mm.nii.gz\n",
      "Resampling labels\n",
      "________________________________________________________________________________\n",
      "[Memory] Calling nilearn.input_data.base_masker.filter_and_extract...\n",
      "filter_and_extract('F:\\\\ece\\\\capstone\\\\code\\\\py\\\\data\\\\abide\\\\traindata\\\\29170_rest_1.nii.gz', <nilearn.input_data.nifti_labels_masker._ExtractionFunctor object at 0x0000012496F1A8D0>, \n",
      "{ 'background_label': 0,\n",
      "  'detrend': False,\n",
      "  'dtype': None,\n",
      "  'high_pass': None,\n",
      "  'labels_img': 'C:\\\\Users\\\\June '\n",
      "                'Cai/nilearn_data\\\\fsl\\\\data\\\\atlases\\\\HarvardOxford\\\\HarvardOxford-cort-maxprob-thr25-2mm.nii.gz',\n",
      "  'low_pass': None,\n",
      "  'mask_img': None,\n",
      "  'smoothing_fwhm': None,\n",
      "  'standardize': True,\n",
      "  't_r': None,\n",
      "  'target_affine': None,\n",
      "  'target_shape': None}, memory_level=1, memory=Memory(location=nilearn_cache\\joblib), verbose=5, confounds=None, dtype=None)\n",
      "[NiftiLabelsMasker.transform_single_imgs] Loading data from F:\\ece\\capstone\\code\\py\\data\\abide\\traindata\\29170_rest_1.nii.gz\n"
     ]
    },
    {
     "name": "stderr",
     "output_type": "stream",
     "text": [
      "C:\\Users\\June Cai\\AppData\\Roaming\\Python\\Python35\\site-packages\\nilearn\\_utils\\cache_mixin.py:84: DeprecationWarning: The 'cachedir' parameter has been deprecated in version 0.12 and will be removed in version 0.14.\n",
      "You provided \"cachedir='nilearn_cache'\", use \"location='nilearn_cache'\" instead.\n",
      "  memory = Memory(cachedir=cache_dir, verbose=verbose)\n",
      "C:\\Users\\June Cai\\AppData\\Roaming\\Python\\Python35\\site-packages\\nilearn\\_utils\\cache_mixin.py:232: DeprecationWarning: The 'cachedir' attribute has been deprecated in version 0.12 and will be removed in version 0.14.\n",
      "Use os.path.join(memory.location, 'joblib') attribute instead.\n",
      "  if (memory.cachedir is None and memory_level is not None\n"
     ]
    },
    {
     "name": "stdout",
     "output_type": "stream",
     "text": [
      "[NiftiLabelsMasker.transform_single_imgs] Extracting region signals\n",
      "[NiftiLabelsMasker.transform_single_imgs] Cleaning extracted signals\n",
      "_______________________________________________filter_and_extract - 1.0s, 0.0min\n",
      "[NiftiLabelsMasker.fit_transform] loading data from C:\\Users\\June Cai/nilearn_data\\fsl\\data\\atlases\\HarvardOxford\\HarvardOxford-cort-maxprob-thr25-2mm.nii.gz\n",
      "Resampling labels\n",
      "________________________________________________________________________________\n",
      "[Memory] Calling nilearn.input_data.base_masker.filter_and_extract...\n",
      "filter_and_extract('F:\\\\ece\\\\capstone\\\\code\\\\py\\\\data\\\\abide\\\\traindata\\\\29171_rest_1.nii.gz', <nilearn.input_data.nifti_labels_masker._ExtractionFunctor object at 0x000001248C732048>, \n",
      "{ 'background_label': 0,\n",
      "  'detrend': False,\n",
      "  'dtype': None,\n",
      "  'high_pass': None,\n",
      "  'labels_img': 'C:\\\\Users\\\\June '\n",
      "                'Cai/nilearn_data\\\\fsl\\\\data\\\\atlases\\\\HarvardOxford\\\\HarvardOxford-cort-maxprob-thr25-2mm.nii.gz',\n",
      "  'low_pass': None,\n",
      "  'mask_img': None,\n",
      "  'smoothing_fwhm': None,\n",
      "  'standardize': True,\n",
      "  't_r': None,\n",
      "  'target_affine': None,\n",
      "  'target_shape': None}, memory_level=1, memory=Memory(location=nilearn_cache\\joblib), verbose=5, confounds=None, dtype=None)\n",
      "[NiftiLabelsMasker.transform_single_imgs] Loading data from F:\\ece\\capstone\\code\\py\\data\\abide\\traindata\\29171_rest_1.nii.gz\n"
     ]
    },
    {
     "name": "stderr",
     "output_type": "stream",
     "text": [
      "C:\\Users\\June Cai\\AppData\\Roaming\\Python\\Python35\\site-packages\\nilearn\\_utils\\cache_mixin.py:84: DeprecationWarning: The 'cachedir' parameter has been deprecated in version 0.12 and will be removed in version 0.14.\n",
      "You provided \"cachedir='nilearn_cache'\", use \"location='nilearn_cache'\" instead.\n",
      "  memory = Memory(cachedir=cache_dir, verbose=verbose)\n",
      "C:\\Users\\June Cai\\AppData\\Roaming\\Python\\Python35\\site-packages\\nilearn\\_utils\\cache_mixin.py:232: DeprecationWarning: The 'cachedir' attribute has been deprecated in version 0.12 and will be removed in version 0.14.\n",
      "Use os.path.join(memory.location, 'joblib') attribute instead.\n",
      "  if (memory.cachedir is None and memory_level is not None\n"
     ]
    },
    {
     "name": "stdout",
     "output_type": "stream",
     "text": [
      "[NiftiLabelsMasker.transform_single_imgs] Extracting region signals\n",
      "[NiftiLabelsMasker.transform_single_imgs] Cleaning extracted signals\n",
      "_______________________________________________filter_and_extract - 1.0s, 0.0min\n",
      "[NiftiLabelsMasker.fit_transform] loading data from C:\\Users\\June Cai/nilearn_data\\fsl\\data\\atlases\\HarvardOxford\\HarvardOxford-cort-maxprob-thr25-2mm.nii.gz\n",
      "Resampling labels\n",
      "________________________________________________________________________________\n",
      "[Memory] Calling nilearn.input_data.base_masker.filter_and_extract...\n",
      "filter_and_extract('F:\\\\ece\\\\capstone\\\\code\\\\py\\\\data\\\\abide\\\\traindata\\\\29172_rest_1.nii.gz', <nilearn.input_data.nifti_labels_masker._ExtractionFunctor object at 0x00000124FAB743C8>, \n",
      "{ 'background_label': 0,\n",
      "  'detrend': False,\n",
      "  'dtype': None,\n",
      "  'high_pass': None,\n",
      "  'labels_img': 'C:\\\\Users\\\\June '\n",
      "                'Cai/nilearn_data\\\\fsl\\\\data\\\\atlases\\\\HarvardOxford\\\\HarvardOxford-cort-maxprob-thr25-2mm.nii.gz',\n",
      "  'low_pass': None,\n",
      "  'mask_img': None,\n",
      "  'smoothing_fwhm': None,\n",
      "  'standardize': True,\n",
      "  't_r': None,\n",
      "  'target_affine': None,\n",
      "  'target_shape': None}, memory_level=1, memory=Memory(location=nilearn_cache\\joblib), verbose=5, confounds=None, dtype=None)\n",
      "[NiftiLabelsMasker.transform_single_imgs] Loading data from F:\\ece\\capstone\\code\\py\\data\\abide\\traindata\\29172_rest_1.nii.gz\n"
     ]
    },
    {
     "name": "stderr",
     "output_type": "stream",
     "text": [
      "C:\\Users\\June Cai\\AppData\\Roaming\\Python\\Python35\\site-packages\\nilearn\\_utils\\cache_mixin.py:84: DeprecationWarning: The 'cachedir' parameter has been deprecated in version 0.12 and will be removed in version 0.14.\n",
      "You provided \"cachedir='nilearn_cache'\", use \"location='nilearn_cache'\" instead.\n",
      "  memory = Memory(cachedir=cache_dir, verbose=verbose)\n",
      "C:\\Users\\June Cai\\AppData\\Roaming\\Python\\Python35\\site-packages\\nilearn\\_utils\\cache_mixin.py:232: DeprecationWarning: The 'cachedir' attribute has been deprecated in version 0.12 and will be removed in version 0.14.\n",
      "Use os.path.join(memory.location, 'joblib') attribute instead.\n",
      "  if (memory.cachedir is None and memory_level is not None\n"
     ]
    },
    {
     "name": "stdout",
     "output_type": "stream",
     "text": [
      "[NiftiLabelsMasker.transform_single_imgs] Extracting region signals\n",
      "[NiftiLabelsMasker.transform_single_imgs] Cleaning extracted signals\n",
      "_______________________________________________filter_and_extract - 1.0s, 0.0min\n",
      "[NiftiLabelsMasker.fit_transform] loading data from C:\\Users\\June Cai/nilearn_data\\fsl\\data\\atlases\\HarvardOxford\\HarvardOxford-cort-maxprob-thr25-2mm.nii.gz\n",
      "Resampling labels\n",
      "________________________________________________________________________________\n",
      "[Memory] Calling nilearn.input_data.base_masker.filter_and_extract...\n",
      "filter_and_extract('F:\\\\ece\\\\capstone\\\\code\\\\py\\\\data\\\\abide\\\\traindata\\\\29173_rest_1.nii.gz', <nilearn.input_data.nifti_labels_masker._ExtractionFunctor object at 0x00000124FA6596D8>, \n",
      "{ 'background_label': 0,\n",
      "  'detrend': False,\n",
      "  'dtype': None,\n",
      "  'high_pass': None,\n",
      "  'labels_img': 'C:\\\\Users\\\\June '\n",
      "                'Cai/nilearn_data\\\\fsl\\\\data\\\\atlases\\\\HarvardOxford\\\\HarvardOxford-cort-maxprob-thr25-2mm.nii.gz',\n",
      "  'low_pass': None,\n",
      "  'mask_img': None,\n",
      "  'smoothing_fwhm': None,\n",
      "  'standardize': True,\n",
      "  't_r': None,\n",
      "  'target_affine': None,\n",
      "  'target_shape': None}, memory_level=1, memory=Memory(location=nilearn_cache\\joblib), verbose=5, confounds=None, dtype=None)\n",
      "[NiftiLabelsMasker.transform_single_imgs] Loading data from F:\\ece\\capstone\\code\\py\\data\\abide\\traindata\\29173_rest_1.nii.gz\n"
     ]
    },
    {
     "name": "stderr",
     "output_type": "stream",
     "text": [
      "C:\\Users\\June Cai\\AppData\\Roaming\\Python\\Python35\\site-packages\\nilearn\\_utils\\cache_mixin.py:84: DeprecationWarning: The 'cachedir' parameter has been deprecated in version 0.12 and will be removed in version 0.14.\n",
      "You provided \"cachedir='nilearn_cache'\", use \"location='nilearn_cache'\" instead.\n",
      "  memory = Memory(cachedir=cache_dir, verbose=verbose)\n",
      "C:\\Users\\June Cai\\AppData\\Roaming\\Python\\Python35\\site-packages\\nilearn\\_utils\\cache_mixin.py:232: DeprecationWarning: The 'cachedir' attribute has been deprecated in version 0.12 and will be removed in version 0.14.\n",
      "Use os.path.join(memory.location, 'joblib') attribute instead.\n",
      "  if (memory.cachedir is None and memory_level is not None\n"
     ]
    },
    {
     "name": "stdout",
     "output_type": "stream",
     "text": [
      "[NiftiLabelsMasker.transform_single_imgs] Extracting region signals\n",
      "[NiftiLabelsMasker.transform_single_imgs] Cleaning extracted signals\n",
      "_______________________________________________filter_and_extract - 1.0s, 0.0min\n",
      "[NiftiLabelsMasker.fit_transform] loading data from C:\\Users\\June Cai/nilearn_data\\fsl\\data\\atlases\\HarvardOxford\\HarvardOxford-cort-maxprob-thr25-2mm.nii.gz\n",
      "Resampling labels\n",
      "________________________________________________________________________________\n",
      "[Memory] Calling nilearn.input_data.base_masker.filter_and_extract...\n",
      "filter_and_extract('F:\\\\ece\\\\capstone\\\\code\\\\py\\\\data\\\\abide\\\\traindata\\\\29174_rest_1.nii.gz', <nilearn.input_data.nifti_labels_masker._ExtractionFunctor object at 0x000001248D6CCC50>, \n",
      "{ 'background_label': 0,\n",
      "  'detrend': False,\n",
      "  'dtype': None,\n",
      "  'high_pass': None,\n",
      "  'labels_img': 'C:\\\\Users\\\\June '\n",
      "                'Cai/nilearn_data\\\\fsl\\\\data\\\\atlases\\\\HarvardOxford\\\\HarvardOxford-cort-maxprob-thr25-2mm.nii.gz',\n",
      "  'low_pass': None,\n",
      "  'mask_img': None,\n",
      "  'smoothing_fwhm': None,\n",
      "  'standardize': True,\n",
      "  't_r': None,\n",
      "  'target_affine': None,\n",
      "  'target_shape': None}, memory_level=1, memory=Memory(location=nilearn_cache\\joblib), verbose=5, confounds=None, dtype=None)\n",
      "[NiftiLabelsMasker.transform_single_imgs] Loading data from F:\\ece\\capstone\\code\\py\\data\\abide\\traindata\\29174_rest_1.nii.gz\n"
     ]
    },
    {
     "name": "stderr",
     "output_type": "stream",
     "text": [
      "C:\\Users\\June Cai\\AppData\\Roaming\\Python\\Python35\\site-packages\\nilearn\\_utils\\cache_mixin.py:84: DeprecationWarning: The 'cachedir' parameter has been deprecated in version 0.12 and will be removed in version 0.14.\n",
      "You provided \"cachedir='nilearn_cache'\", use \"location='nilearn_cache'\" instead.\n",
      "  memory = Memory(cachedir=cache_dir, verbose=verbose)\n",
      "C:\\Users\\June Cai\\AppData\\Roaming\\Python\\Python35\\site-packages\\nilearn\\_utils\\cache_mixin.py:232: DeprecationWarning: The 'cachedir' attribute has been deprecated in version 0.12 and will be removed in version 0.14.\n",
      "Use os.path.join(memory.location, 'joblib') attribute instead.\n",
      "  if (memory.cachedir is None and memory_level is not None\n"
     ]
    },
    {
     "name": "stdout",
     "output_type": "stream",
     "text": [
      "[NiftiLabelsMasker.transform_single_imgs] Extracting region signals\n",
      "[NiftiLabelsMasker.transform_single_imgs] Cleaning extracted signals\n",
      "_______________________________________________filter_and_extract - 1.0s, 0.0min\n",
      "[NiftiLabelsMasker.fit_transform] loading data from C:\\Users\\June Cai/nilearn_data\\fsl\\data\\atlases\\HarvardOxford\\HarvardOxford-cort-maxprob-thr25-2mm.nii.gz\n",
      "Resampling labels\n",
      "________________________________________________________________________________\n",
      "[Memory] Calling nilearn.input_data.base_masker.filter_and_extract...\n",
      "filter_and_extract('F:\\\\ece\\\\capstone\\\\code\\\\py\\\\data\\\\abide\\\\traindata\\\\29175_rest_1.nii.gz', <nilearn.input_data.nifti_labels_masker._ExtractionFunctor object at 0x0000012496F1A828>, \n",
      "{ 'background_label': 0,\n",
      "  'detrend': False,\n",
      "  'dtype': None,\n",
      "  'high_pass': None,\n",
      "  'labels_img': 'C:\\\\Users\\\\June '\n",
      "                'Cai/nilearn_data\\\\fsl\\\\data\\\\atlases\\\\HarvardOxford\\\\HarvardOxford-cort-maxprob-thr25-2mm.nii.gz',\n",
      "  'low_pass': None,\n",
      "  'mask_img': None,\n",
      "  'smoothing_fwhm': None,\n",
      "  'standardize': True,\n",
      "  't_r': None,\n",
      "  'target_affine': None,\n",
      "  'target_shape': None}, memory_level=1, memory=Memory(location=nilearn_cache\\joblib), verbose=5, confounds=None, dtype=None)\n",
      "[NiftiLabelsMasker.transform_single_imgs] Loading data from F:\\ece\\capstone\\code\\py\\data\\abide\\traindata\\29175_rest_1.nii.gz\n"
     ]
    },
    {
     "name": "stderr",
     "output_type": "stream",
     "text": [
      "C:\\Users\\June Cai\\AppData\\Roaming\\Python\\Python35\\site-packages\\nilearn\\_utils\\cache_mixin.py:84: DeprecationWarning: The 'cachedir' parameter has been deprecated in version 0.12 and will be removed in version 0.14.\n",
      "You provided \"cachedir='nilearn_cache'\", use \"location='nilearn_cache'\" instead.\n",
      "  memory = Memory(cachedir=cache_dir, verbose=verbose)\n",
      "C:\\Users\\June Cai\\AppData\\Roaming\\Python\\Python35\\site-packages\\nilearn\\_utils\\cache_mixin.py:232: DeprecationWarning: The 'cachedir' attribute has been deprecated in version 0.12 and will be removed in version 0.14.\n",
      "Use os.path.join(memory.location, 'joblib') attribute instead.\n",
      "  if (memory.cachedir is None and memory_level is not None\n"
     ]
    },
    {
     "name": "stdout",
     "output_type": "stream",
     "text": [
      "[NiftiLabelsMasker.transform_single_imgs] Extracting region signals\n",
      "[NiftiLabelsMasker.transform_single_imgs] Cleaning extracted signals\n",
      "_______________________________________________filter_and_extract - 1.0s, 0.0min\n",
      "[NiftiLabelsMasker.fit_transform] loading data from C:\\Users\\June Cai/nilearn_data\\fsl\\data\\atlases\\HarvardOxford\\HarvardOxford-cort-maxprob-thr25-2mm.nii.gz\n",
      "Resampling labels\n",
      "________________________________________________________________________________\n",
      "[Memory] Calling nilearn.input_data.base_masker.filter_and_extract...\n",
      "filter_and_extract('F:\\\\ece\\\\capstone\\\\code\\\\py\\\\data\\\\abide\\\\traindata\\\\29176_rest_1.nii.gz', <nilearn.input_data.nifti_labels_masker._ExtractionFunctor object at 0x00000124F72414A8>, \n",
      "{ 'background_label': 0,\n",
      "  'detrend': False,\n",
      "  'dtype': None,\n",
      "  'high_pass': None,\n",
      "  'labels_img': 'C:\\\\Users\\\\June '\n",
      "                'Cai/nilearn_data\\\\fsl\\\\data\\\\atlases\\\\HarvardOxford\\\\HarvardOxford-cort-maxprob-thr25-2mm.nii.gz',\n",
      "  'low_pass': None,\n",
      "  'mask_img': None,\n",
      "  'smoothing_fwhm': None,\n",
      "  'standardize': True,\n",
      "  't_r': None,\n",
      "  'target_affine': None,\n",
      "  'target_shape': None}, memory_level=1, memory=Memory(location=nilearn_cache\\joblib), verbose=5, confounds=None, dtype=None)\n",
      "[NiftiLabelsMasker.transform_single_imgs] Loading data from F:\\ece\\capstone\\code\\py\\data\\abide\\traindata\\29176_rest_1.nii.gz\n"
     ]
    },
    {
     "name": "stderr",
     "output_type": "stream",
     "text": [
      "C:\\Users\\June Cai\\AppData\\Roaming\\Python\\Python35\\site-packages\\nilearn\\_utils\\cache_mixin.py:84: DeprecationWarning: The 'cachedir' parameter has been deprecated in version 0.12 and will be removed in version 0.14.\n",
      "You provided \"cachedir='nilearn_cache'\", use \"location='nilearn_cache'\" instead.\n",
      "  memory = Memory(cachedir=cache_dir, verbose=verbose)\n",
      "C:\\Users\\June Cai\\AppData\\Roaming\\Python\\Python35\\site-packages\\nilearn\\_utils\\cache_mixin.py:232: DeprecationWarning: The 'cachedir' attribute has been deprecated in version 0.12 and will be removed in version 0.14.\n",
      "Use os.path.join(memory.location, 'joblib') attribute instead.\n",
      "  if (memory.cachedir is None and memory_level is not None\n"
     ]
    },
    {
     "name": "stdout",
     "output_type": "stream",
     "text": [
      "[NiftiLabelsMasker.transform_single_imgs] Extracting region signals\n",
      "[NiftiLabelsMasker.transform_single_imgs] Cleaning extracted signals\n",
      "_______________________________________________filter_and_extract - 1.0s, 0.0min\n",
      "[NiftiLabelsMasker.fit_transform] loading data from C:\\Users\\June Cai/nilearn_data\\fsl\\data\\atlases\\HarvardOxford\\HarvardOxford-cort-maxprob-thr25-2mm.nii.gz\n",
      "Resampling labels\n",
      "________________________________________________________________________________\n",
      "[Memory] Calling nilearn.input_data.base_masker.filter_and_extract...\n",
      "filter_and_extract('F:\\\\ece\\\\capstone\\\\code\\\\py\\\\data\\\\abide\\\\traindata\\\\29177_rest_1.nii.gz', <nilearn.input_data.nifti_labels_masker._ExtractionFunctor object at 0x0000012496F2AA90>, \n",
      "{ 'background_label': 0,\n",
      "  'detrend': False,\n",
      "  'dtype': None,\n",
      "  'high_pass': None,\n",
      "  'labels_img': 'C:\\\\Users\\\\June '\n",
      "                'Cai/nilearn_data\\\\fsl\\\\data\\\\atlases\\\\HarvardOxford\\\\HarvardOxford-cort-maxprob-thr25-2mm.nii.gz',\n",
      "  'low_pass': None,\n",
      "  'mask_img': None,\n",
      "  'smoothing_fwhm': None,\n",
      "  'standardize': True,\n",
      "  't_r': None,\n",
      "  'target_affine': None,\n",
      "  'target_shape': None}, memory_level=1, memory=Memory(location=nilearn_cache\\joblib), verbose=5, confounds=None, dtype=None)\n",
      "[NiftiLabelsMasker.transform_single_imgs] Loading data from F:\\ece\\capstone\\code\\py\\data\\abide\\traindata\\29177_rest_1.nii.gz\n"
     ]
    },
    {
     "name": "stderr",
     "output_type": "stream",
     "text": [
      "C:\\Users\\June Cai\\AppData\\Roaming\\Python\\Python35\\site-packages\\nilearn\\_utils\\cache_mixin.py:84: DeprecationWarning: The 'cachedir' parameter has been deprecated in version 0.12 and will be removed in version 0.14.\n",
      "You provided \"cachedir='nilearn_cache'\", use \"location='nilearn_cache'\" instead.\n",
      "  memory = Memory(cachedir=cache_dir, verbose=verbose)\n",
      "C:\\Users\\June Cai\\AppData\\Roaming\\Python\\Python35\\site-packages\\nilearn\\_utils\\cache_mixin.py:232: DeprecationWarning: The 'cachedir' attribute has been deprecated in version 0.12 and will be removed in version 0.14.\n",
      "Use os.path.join(memory.location, 'joblib') attribute instead.\n",
      "  if (memory.cachedir is None and memory_level is not None\n"
     ]
    },
    {
     "name": "stdout",
     "output_type": "stream",
     "text": [
      "[NiftiLabelsMasker.transform_single_imgs] Extracting region signals\n",
      "[NiftiLabelsMasker.transform_single_imgs] Cleaning extracted signals\n",
      "_______________________________________________filter_and_extract - 0.9s, 0.0min\n",
      "[NiftiLabelsMasker.fit_transform] loading data from C:\\Users\\June Cai/nilearn_data\\fsl\\data\\atlases\\HarvardOxford\\HarvardOxford-cort-maxprob-thr25-2mm.nii.gz\n",
      "Resampling labels\n",
      "________________________________________________________________________________\n",
      "[Memory] Calling nilearn.input_data.base_masker.filter_and_extract...\n",
      "filter_and_extract('F:\\\\ece\\\\capstone\\\\code\\\\py\\\\data\\\\abide\\\\traindata\\\\29178_rest_1.nii.gz', <nilearn.input_data.nifti_labels_masker._ExtractionFunctor object at 0x000001248A91FB00>, \n",
      "{ 'background_label': 0,\n",
      "  'detrend': False,\n",
      "  'dtype': None,\n",
      "  'high_pass': None,\n",
      "  'labels_img': 'C:\\\\Users\\\\June '\n",
      "                'Cai/nilearn_data\\\\fsl\\\\data\\\\atlases\\\\HarvardOxford\\\\HarvardOxford-cort-maxprob-thr25-2mm.nii.gz',\n",
      "  'low_pass': None,\n",
      "  'mask_img': None,\n",
      "  'smoothing_fwhm': None,\n",
      "  'standardize': True,\n",
      "  't_r': None,\n",
      "  'target_affine': None,\n",
      "  'target_shape': None}, memory_level=1, memory=Memory(location=nilearn_cache\\joblib), verbose=5, confounds=None, dtype=None)\n",
      "[NiftiLabelsMasker.transform_single_imgs] Loading data from F:\\ece\\capstone\\code\\py\\data\\abide\\traindata\\29178_rest_1.nii.gz\n"
     ]
    },
    {
     "name": "stderr",
     "output_type": "stream",
     "text": [
      "C:\\Users\\June Cai\\AppData\\Roaming\\Python\\Python35\\site-packages\\nilearn\\_utils\\cache_mixin.py:84: DeprecationWarning: The 'cachedir' parameter has been deprecated in version 0.12 and will be removed in version 0.14.\n",
      "You provided \"cachedir='nilearn_cache'\", use \"location='nilearn_cache'\" instead.\n",
      "  memory = Memory(cachedir=cache_dir, verbose=verbose)\n",
      "C:\\Users\\June Cai\\AppData\\Roaming\\Python\\Python35\\site-packages\\nilearn\\_utils\\cache_mixin.py:232: DeprecationWarning: The 'cachedir' attribute has been deprecated in version 0.12 and will be removed in version 0.14.\n",
      "Use os.path.join(memory.location, 'joblib') attribute instead.\n",
      "  if (memory.cachedir is None and memory_level is not None\n"
     ]
    },
    {
     "name": "stdout",
     "output_type": "stream",
     "text": [
      "[NiftiLabelsMasker.transform_single_imgs] Extracting region signals\n",
      "[NiftiLabelsMasker.transform_single_imgs] Cleaning extracted signals\n",
      "_______________________________________________filter_and_extract - 1.0s, 0.0min\n",
      "[NiftiLabelsMasker.fit_transform] loading data from C:\\Users\\June Cai/nilearn_data\\fsl\\data\\atlases\\HarvardOxford\\HarvardOxford-cort-maxprob-thr25-2mm.nii.gz\n",
      "Resampling labels\n",
      "________________________________________________________________________________\n",
      "[Memory] Calling nilearn.input_data.base_masker.filter_and_extract...\n",
      "filter_and_extract('F:\\\\ece\\\\capstone\\\\code\\\\py\\\\data\\\\abide\\\\traindata\\\\29179_rest_1.nii.gz', <nilearn.input_data.nifti_labels_masker._ExtractionFunctor object at 0x00000124FA6596D8>, \n",
      "{ 'background_label': 0,\n",
      "  'detrend': False,\n",
      "  'dtype': None,\n",
      "  'high_pass': None,\n",
      "  'labels_img': 'C:\\\\Users\\\\June '\n",
      "                'Cai/nilearn_data\\\\fsl\\\\data\\\\atlases\\\\HarvardOxford\\\\HarvardOxford-cort-maxprob-thr25-2mm.nii.gz',\n",
      "  'low_pass': None,\n",
      "  'mask_img': None,\n",
      "  'smoothing_fwhm': None,\n",
      "  'standardize': True,\n",
      "  't_r': None,\n",
      "  'target_affine': None,\n",
      "  'target_shape': None}, memory_level=1, memory=Memory(location=nilearn_cache\\joblib), verbose=5, confounds=None, dtype=None)\n",
      "[NiftiLabelsMasker.transform_single_imgs] Loading data from F:\\ece\\capstone\\code\\py\\data\\abide\\traindata\\29179_rest_1.nii.gz\n"
     ]
    },
    {
     "name": "stderr",
     "output_type": "stream",
     "text": [
      "C:\\Users\\June Cai\\AppData\\Roaming\\Python\\Python35\\site-packages\\nilearn\\_utils\\cache_mixin.py:84: DeprecationWarning: The 'cachedir' parameter has been deprecated in version 0.12 and will be removed in version 0.14.\n",
      "You provided \"cachedir='nilearn_cache'\", use \"location='nilearn_cache'\" instead.\n",
      "  memory = Memory(cachedir=cache_dir, verbose=verbose)\n",
      "C:\\Users\\June Cai\\AppData\\Roaming\\Python\\Python35\\site-packages\\nilearn\\_utils\\cache_mixin.py:232: DeprecationWarning: The 'cachedir' attribute has been deprecated in version 0.12 and will be removed in version 0.14.\n",
      "Use os.path.join(memory.location, 'joblib') attribute instead.\n",
      "  if (memory.cachedir is None and memory_level is not None\n"
     ]
    },
    {
     "name": "stdout",
     "output_type": "stream",
     "text": [
      "[NiftiLabelsMasker.transform_single_imgs] Extracting region signals\n",
      "[NiftiLabelsMasker.transform_single_imgs] Cleaning extracted signals\n",
      "_______________________________________________filter_and_extract - 0.9s, 0.0min\n",
      "[NiftiLabelsMasker.fit_transform] loading data from C:\\Users\\June Cai/nilearn_data\\fsl\\data\\atlases\\HarvardOxford\\HarvardOxford-cort-maxprob-thr25-2mm.nii.gz\n",
      "Resampling labels\n",
      "________________________________________________________________________________\n",
      "[Memory] Calling nilearn.input_data.base_masker.filter_and_extract...\n",
      "filter_and_extract('F:\\\\ece\\\\capstone\\\\code\\\\py\\\\data\\\\abide\\\\traindata\\\\29180_rest_1.nii.gz', <nilearn.input_data.nifti_labels_masker._ExtractionFunctor object at 0x00000124FAB743C8>, \n",
      "{ 'background_label': 0,\n",
      "  'detrend': False,\n",
      "  'dtype': None,\n",
      "  'high_pass': None,\n",
      "  'labels_img': 'C:\\\\Users\\\\June '\n",
      "                'Cai/nilearn_data\\\\fsl\\\\data\\\\atlases\\\\HarvardOxford\\\\HarvardOxford-cort-maxprob-thr25-2mm.nii.gz',\n",
      "  'low_pass': None,\n",
      "  'mask_img': None,\n",
      "  'smoothing_fwhm': None,\n",
      "  'standardize': True,\n",
      "  't_r': None,\n",
      "  'target_affine': None,\n",
      "  'target_shape': None}, memory_level=1, memory=Memory(location=nilearn_cache\\joblib), verbose=5, confounds=None, dtype=None)\n",
      "[NiftiLabelsMasker.transform_single_imgs] Loading data from F:\\ece\\capstone\\code\\py\\data\\abide\\traindata\\29180_rest_1.nii.gz\n"
     ]
    },
    {
     "name": "stderr",
     "output_type": "stream",
     "text": [
      "C:\\Users\\June Cai\\AppData\\Roaming\\Python\\Python35\\site-packages\\nilearn\\_utils\\cache_mixin.py:84: DeprecationWarning: The 'cachedir' parameter has been deprecated in version 0.12 and will be removed in version 0.14.\n",
      "You provided \"cachedir='nilearn_cache'\", use \"location='nilearn_cache'\" instead.\n",
      "  memory = Memory(cachedir=cache_dir, verbose=verbose)\n",
      "C:\\Users\\June Cai\\AppData\\Roaming\\Python\\Python35\\site-packages\\nilearn\\_utils\\cache_mixin.py:232: DeprecationWarning: The 'cachedir' attribute has been deprecated in version 0.12 and will be removed in version 0.14.\n",
      "Use os.path.join(memory.location, 'joblib') attribute instead.\n",
      "  if (memory.cachedir is None and memory_level is not None\n"
     ]
    },
    {
     "name": "stdout",
     "output_type": "stream",
     "text": [
      "[NiftiLabelsMasker.transform_single_imgs] Extracting region signals\n",
      "[NiftiLabelsMasker.transform_single_imgs] Cleaning extracted signals\n",
      "_______________________________________________filter_and_extract - 0.9s, 0.0min\n",
      "[NiftiLabelsMasker.fit_transform] loading data from C:\\Users\\June Cai/nilearn_data\\fsl\\data\\atlases\\HarvardOxford\\HarvardOxford-cort-maxprob-thr25-2mm.nii.gz\n",
      "Resampling labels\n",
      "________________________________________________________________________________\n",
      "[Memory] Calling nilearn.input_data.base_masker.filter_and_extract...\n",
      "filter_and_extract('F:\\\\ece\\\\capstone\\\\code\\\\py\\\\data\\\\abide\\\\traindata\\\\29181_rest_1.nii.gz', <nilearn.input_data.nifti_labels_masker._ExtractionFunctor object at 0x0000012496F1A8D0>, \n",
      "{ 'background_label': 0,\n",
      "  'detrend': False,\n",
      "  'dtype': None,\n",
      "  'high_pass': None,\n",
      "  'labels_img': 'C:\\\\Users\\\\June '\n",
      "                'Cai/nilearn_data\\\\fsl\\\\data\\\\atlases\\\\HarvardOxford\\\\HarvardOxford-cort-maxprob-thr25-2mm.nii.gz',\n",
      "  'low_pass': None,\n",
      "  'mask_img': None,\n",
      "  'smoothing_fwhm': None,\n",
      "  'standardize': True,\n",
      "  't_r': None,\n",
      "  'target_affine': None,\n",
      "  'target_shape': None}, memory_level=1, memory=Memory(location=nilearn_cache\\joblib), verbose=5, confounds=None, dtype=None)\n",
      "[NiftiLabelsMasker.transform_single_imgs] Loading data from F:\\ece\\capstone\\code\\py\\data\\abide\\traindata\\29181_rest_1.nii.gz\n"
     ]
    },
    {
     "name": "stderr",
     "output_type": "stream",
     "text": [
      "C:\\Users\\June Cai\\AppData\\Roaming\\Python\\Python35\\site-packages\\nilearn\\_utils\\cache_mixin.py:84: DeprecationWarning: The 'cachedir' parameter has been deprecated in version 0.12 and will be removed in version 0.14.\n",
      "You provided \"cachedir='nilearn_cache'\", use \"location='nilearn_cache'\" instead.\n",
      "  memory = Memory(cachedir=cache_dir, verbose=verbose)\n",
      "C:\\Users\\June Cai\\AppData\\Roaming\\Python\\Python35\\site-packages\\nilearn\\_utils\\cache_mixin.py:232: DeprecationWarning: The 'cachedir' attribute has been deprecated in version 0.12 and will be removed in version 0.14.\n",
      "Use os.path.join(memory.location, 'joblib') attribute instead.\n",
      "  if (memory.cachedir is None and memory_level is not None\n"
     ]
    },
    {
     "name": "stdout",
     "output_type": "stream",
     "text": [
      "[NiftiLabelsMasker.transform_single_imgs] Extracting region signals\n",
      "[NiftiLabelsMasker.transform_single_imgs] Cleaning extracted signals\n",
      "_______________________________________________filter_and_extract - 0.9s, 0.0min\n",
      "[NiftiLabelsMasker.fit_transform] loading data from C:\\Users\\June Cai/nilearn_data\\fsl\\data\\atlases\\HarvardOxford\\HarvardOxford-cort-maxprob-thr25-2mm.nii.gz\n",
      "Resampling labels\n",
      "________________________________________________________________________________\n",
      "[Memory] Calling nilearn.input_data.base_masker.filter_and_extract...\n",
      "filter_and_extract('F:\\\\ece\\\\capstone\\\\code\\\\py\\\\data\\\\abide\\\\traindata\\\\29182_rest_1.nii.gz', <nilearn.input_data.nifti_labels_masker._ExtractionFunctor object at 0x00000124FBBBF390>, \n",
      "{ 'background_label': 0,\n",
      "  'detrend': False,\n",
      "  'dtype': None,\n",
      "  'high_pass': None,\n",
      "  'labels_img': 'C:\\\\Users\\\\June '\n",
      "                'Cai/nilearn_data\\\\fsl\\\\data\\\\atlases\\\\HarvardOxford\\\\HarvardOxford-cort-maxprob-thr25-2mm.nii.gz',\n",
      "  'low_pass': None,\n",
      "  'mask_img': None,\n",
      "  'smoothing_fwhm': None,\n",
      "  'standardize': True,\n",
      "  't_r': None,\n",
      "  'target_affine': None,\n",
      "  'target_shape': None}, memory_level=1, memory=Memory(location=nilearn_cache\\joblib), verbose=5, confounds=None, dtype=None)\n",
      "[NiftiLabelsMasker.transform_single_imgs] Loading data from F:\\ece\\capstone\\code\\py\\data\\abide\\traindata\\29182_rest_1.nii.gz\n"
     ]
    },
    {
     "name": "stderr",
     "output_type": "stream",
     "text": [
      "C:\\Users\\June Cai\\AppData\\Roaming\\Python\\Python35\\site-packages\\nilearn\\_utils\\cache_mixin.py:84: DeprecationWarning: The 'cachedir' parameter has been deprecated in version 0.12 and will be removed in version 0.14.\n",
      "You provided \"cachedir='nilearn_cache'\", use \"location='nilearn_cache'\" instead.\n",
      "  memory = Memory(cachedir=cache_dir, verbose=verbose)\n",
      "C:\\Users\\June Cai\\AppData\\Roaming\\Python\\Python35\\site-packages\\nilearn\\_utils\\cache_mixin.py:232: DeprecationWarning: The 'cachedir' attribute has been deprecated in version 0.12 and will be removed in version 0.14.\n",
      "Use os.path.join(memory.location, 'joblib') attribute instead.\n",
      "  if (memory.cachedir is None and memory_level is not None\n"
     ]
    },
    {
     "name": "stdout",
     "output_type": "stream",
     "text": [
      "[NiftiLabelsMasker.transform_single_imgs] Extracting region signals\n",
      "[NiftiLabelsMasker.transform_single_imgs] Cleaning extracted signals\n",
      "_______________________________________________filter_and_extract - 0.9s, 0.0min\n",
      "[NiftiLabelsMasker.fit_transform] loading data from C:\\Users\\June Cai/nilearn_data\\fsl\\data\\atlases\\HarvardOxford\\HarvardOxford-cort-maxprob-thr25-2mm.nii.gz\n",
      "Resampling labels\n",
      "________________________________________________________________________________\n",
      "[Memory] Calling nilearn.input_data.base_masker.filter_and_extract...\n",
      "filter_and_extract('F:\\\\ece\\\\capstone\\\\code\\\\py\\\\data\\\\abide\\\\traindata\\\\29183_rest_1.nii.gz', <nilearn.input_data.nifti_labels_masker._ExtractionFunctor object at 0x000001248D6CCC50>, \n",
      "{ 'background_label': 0,\n",
      "  'detrend': False,\n",
      "  'dtype': None,\n",
      "  'high_pass': None,\n",
      "  'labels_img': 'C:\\\\Users\\\\June '\n",
      "                'Cai/nilearn_data\\\\fsl\\\\data\\\\atlases\\\\HarvardOxford\\\\HarvardOxford-cort-maxprob-thr25-2mm.nii.gz',\n",
      "  'low_pass': None,\n",
      "  'mask_img': None,\n",
      "  'smoothing_fwhm': None,\n",
      "  'standardize': True,\n",
      "  't_r': None,\n",
      "  'target_affine': None,\n",
      "  'target_shape': None}, memory_level=1, memory=Memory(location=nilearn_cache\\joblib), verbose=5, confounds=None, dtype=None)\n",
      "[NiftiLabelsMasker.transform_single_imgs] Loading data from F:\\ece\\capstone\\code\\py\\data\\abide\\traindata\\29183_rest_1.nii.gz\n"
     ]
    },
    {
     "name": "stderr",
     "output_type": "stream",
     "text": [
      "C:\\Users\\June Cai\\AppData\\Roaming\\Python\\Python35\\site-packages\\nilearn\\_utils\\cache_mixin.py:84: DeprecationWarning: The 'cachedir' parameter has been deprecated in version 0.12 and will be removed in version 0.14.\n",
      "You provided \"cachedir='nilearn_cache'\", use \"location='nilearn_cache'\" instead.\n",
      "  memory = Memory(cachedir=cache_dir, verbose=verbose)\n",
      "C:\\Users\\June Cai\\AppData\\Roaming\\Python\\Python35\\site-packages\\nilearn\\_utils\\cache_mixin.py:232: DeprecationWarning: The 'cachedir' attribute has been deprecated in version 0.12 and will be removed in version 0.14.\n",
      "Use os.path.join(memory.location, 'joblib') attribute instead.\n",
      "  if (memory.cachedir is None and memory_level is not None\n"
     ]
    },
    {
     "name": "stdout",
     "output_type": "stream",
     "text": [
      "[NiftiLabelsMasker.transform_single_imgs] Extracting region signals\n",
      "[NiftiLabelsMasker.transform_single_imgs] Cleaning extracted signals\n",
      "_______________________________________________filter_and_extract - 0.9s, 0.0min\n",
      "[NiftiLabelsMasker.fit_transform] loading data from C:\\Users\\June Cai/nilearn_data\\fsl\\data\\atlases\\HarvardOxford\\HarvardOxford-cort-maxprob-thr25-2mm.nii.gz\n",
      "Resampling labels\n",
      "________________________________________________________________________________\n",
      "[Memory] Calling nilearn.input_data.base_masker.filter_and_extract...\n",
      "filter_and_extract('F:\\\\ece\\\\capstone\\\\code\\\\py\\\\data\\\\abide\\\\traindata\\\\29184_rest_1.nii.gz', <nilearn.input_data.nifti_labels_masker._ExtractionFunctor object at 0x000001248B1B5320>, \n",
      "{ 'background_label': 0,\n",
      "  'detrend': False,\n",
      "  'dtype': None,\n",
      "  'high_pass': None,\n",
      "  'labels_img': 'C:\\\\Users\\\\June '\n",
      "                'Cai/nilearn_data\\\\fsl\\\\data\\\\atlases\\\\HarvardOxford\\\\HarvardOxford-cort-maxprob-thr25-2mm.nii.gz',\n",
      "  'low_pass': None,\n",
      "  'mask_img': None,\n",
      "  'smoothing_fwhm': None,\n",
      "  'standardize': True,\n",
      "  't_r': None,\n",
      "  'target_affine': None,\n",
      "  'target_shape': None}, memory_level=1, memory=Memory(location=nilearn_cache\\joblib), verbose=5, confounds=None, dtype=None)\n",
      "[NiftiLabelsMasker.transform_single_imgs] Loading data from F:\\ece\\capstone\\code\\py\\data\\abide\\traindata\\29184_rest_1.nii.gz\n"
     ]
    },
    {
     "name": "stderr",
     "output_type": "stream",
     "text": [
      "C:\\Users\\June Cai\\AppData\\Roaming\\Python\\Python35\\site-packages\\nilearn\\_utils\\cache_mixin.py:84: DeprecationWarning: The 'cachedir' parameter has been deprecated in version 0.12 and will be removed in version 0.14.\n",
      "You provided \"cachedir='nilearn_cache'\", use \"location='nilearn_cache'\" instead.\n",
      "  memory = Memory(cachedir=cache_dir, verbose=verbose)\n",
      "C:\\Users\\June Cai\\AppData\\Roaming\\Python\\Python35\\site-packages\\nilearn\\_utils\\cache_mixin.py:232: DeprecationWarning: The 'cachedir' attribute has been deprecated in version 0.12 and will be removed in version 0.14.\n",
      "Use os.path.join(memory.location, 'joblib') attribute instead.\n",
      "  if (memory.cachedir is None and memory_level is not None\n"
     ]
    },
    {
     "name": "stdout",
     "output_type": "stream",
     "text": [
      "[NiftiLabelsMasker.transform_single_imgs] Extracting region signals\n",
      "[NiftiLabelsMasker.transform_single_imgs] Cleaning extracted signals\n",
      "_______________________________________________filter_and_extract - 1.0s, 0.0min\n",
      "[NiftiLabelsMasker.fit_transform] loading data from C:\\Users\\June Cai/nilearn_data\\fsl\\data\\atlases\\HarvardOxford\\HarvardOxford-cort-maxprob-thr25-2mm.nii.gz\n",
      "Resampling labels\n",
      "________________________________________________________________________________\n",
      "[Memory] Calling nilearn.input_data.base_masker.filter_and_extract...\n",
      "filter_and_extract('F:\\\\ece\\\\capstone\\\\code\\\\py\\\\data\\\\abide\\\\traindata\\\\29185_rest_1.nii.gz', <nilearn.input_data.nifti_labels_masker._ExtractionFunctor object at 0x000001248A91F5F8>, \n",
      "{ 'background_label': 0,\n",
      "  'detrend': False,\n",
      "  'dtype': None,\n",
      "  'high_pass': None,\n",
      "  'labels_img': 'C:\\\\Users\\\\June '\n",
      "                'Cai/nilearn_data\\\\fsl\\\\data\\\\atlases\\\\HarvardOxford\\\\HarvardOxford-cort-maxprob-thr25-2mm.nii.gz',\n",
      "  'low_pass': None,\n",
      "  'mask_img': None,\n",
      "  'smoothing_fwhm': None,\n",
      "  'standardize': True,\n",
      "  't_r': None,\n",
      "  'target_affine': None,\n",
      "  'target_shape': None}, memory_level=1, memory=Memory(location=nilearn_cache\\joblib), verbose=5, confounds=None, dtype=None)\n",
      "[NiftiLabelsMasker.transform_single_imgs] Loading data from F:\\ece\\capstone\\code\\py\\data\\abide\\traindata\\29185_rest_1.nii.gz\n"
     ]
    },
    {
     "name": "stderr",
     "output_type": "stream",
     "text": [
      "C:\\Users\\June Cai\\AppData\\Roaming\\Python\\Python35\\site-packages\\nilearn\\_utils\\cache_mixin.py:84: DeprecationWarning: The 'cachedir' parameter has been deprecated in version 0.12 and will be removed in version 0.14.\n",
      "You provided \"cachedir='nilearn_cache'\", use \"location='nilearn_cache'\" instead.\n",
      "  memory = Memory(cachedir=cache_dir, verbose=verbose)\n",
      "C:\\Users\\June Cai\\AppData\\Roaming\\Python\\Python35\\site-packages\\nilearn\\_utils\\cache_mixin.py:232: DeprecationWarning: The 'cachedir' attribute has been deprecated in version 0.12 and will be removed in version 0.14.\n",
      "Use os.path.join(memory.location, 'joblib') attribute instead.\n",
      "  if (memory.cachedir is None and memory_level is not None\n"
     ]
    },
    {
     "name": "stdout",
     "output_type": "stream",
     "text": [
      "[NiftiLabelsMasker.transform_single_imgs] Extracting region signals\n",
      "[NiftiLabelsMasker.transform_single_imgs] Cleaning extracted signals\n",
      "_______________________________________________filter_and_extract - 0.9s, 0.0min\n",
      "[NiftiLabelsMasker.fit_transform] loading data from C:\\Users\\June Cai/nilearn_data\\fsl\\data\\atlases\\HarvardOxford\\HarvardOxford-cort-maxprob-thr25-2mm.nii.gz\n",
      "Resampling labels\n",
      "________________________________________________________________________________\n",
      "[Memory] Calling nilearn.input_data.base_masker.filter_and_extract...\n",
      "filter_and_extract('F:\\\\ece\\\\capstone\\\\code\\\\py\\\\data\\\\abide\\\\traindata\\\\29186_rest_1.nii.gz', <nilearn.input_data.nifti_labels_masker._ExtractionFunctor object at 0x000001248D6CC4E0>, \n",
      "{ 'background_label': 0,\n",
      "  'detrend': False,\n",
      "  'dtype': None,\n",
      "  'high_pass': None,\n",
      "  'labels_img': 'C:\\\\Users\\\\June '\n",
      "                'Cai/nilearn_data\\\\fsl\\\\data\\\\atlases\\\\HarvardOxford\\\\HarvardOxford-cort-maxprob-thr25-2mm.nii.gz',\n",
      "  'low_pass': None,\n",
      "  'mask_img': None,\n",
      "  'smoothing_fwhm': None,\n",
      "  'standardize': True,\n",
      "  't_r': None,\n",
      "  'target_affine': None,\n",
      "  'target_shape': None}, memory_level=1, memory=Memory(location=nilearn_cache\\joblib), verbose=5, confounds=None, dtype=None)\n",
      "[NiftiLabelsMasker.transform_single_imgs] Loading data from F:\\ece\\capstone\\code\\py\\data\\abide\\traindata\\29186_rest_1.nii.gz\n"
     ]
    },
    {
     "name": "stderr",
     "output_type": "stream",
     "text": [
      "C:\\Users\\June Cai\\AppData\\Roaming\\Python\\Python35\\site-packages\\nilearn\\_utils\\cache_mixin.py:84: DeprecationWarning: The 'cachedir' parameter has been deprecated in version 0.12 and will be removed in version 0.14.\n",
      "You provided \"cachedir='nilearn_cache'\", use \"location='nilearn_cache'\" instead.\n",
      "  memory = Memory(cachedir=cache_dir, verbose=verbose)\n",
      "C:\\Users\\June Cai\\AppData\\Roaming\\Python\\Python35\\site-packages\\nilearn\\_utils\\cache_mixin.py:232: DeprecationWarning: The 'cachedir' attribute has been deprecated in version 0.12 and will be removed in version 0.14.\n",
      "Use os.path.join(memory.location, 'joblib') attribute instead.\n",
      "  if (memory.cachedir is None and memory_level is not None\n"
     ]
    },
    {
     "name": "stdout",
     "output_type": "stream",
     "text": [
      "[NiftiLabelsMasker.transform_single_imgs] Extracting region signals\n",
      "[NiftiLabelsMasker.transform_single_imgs] Cleaning extracted signals\n",
      "_______________________________________________filter_and_extract - 1.0s, 0.0min\n",
      "[NiftiLabelsMasker.fit_transform] loading data from C:\\Users\\June Cai/nilearn_data\\fsl\\data\\atlases\\HarvardOxford\\HarvardOxford-cort-maxprob-thr25-2mm.nii.gz\n",
      "Resampling labels\n",
      "________________________________________________________________________________\n",
      "[Memory] Calling nilearn.input_data.base_masker.filter_and_extract...\n",
      "filter_and_extract('F:\\\\ece\\\\capstone\\\\code\\\\py\\\\data\\\\abide\\\\traindata\\\\29187_rest_1.nii.gz', <nilearn.input_data.nifti_labels_masker._ExtractionFunctor object at 0x00000124FA6596D8>, \n",
      "{ 'background_label': 0,\n",
      "  'detrend': False,\n",
      "  'dtype': None,\n",
      "  'high_pass': None,\n",
      "  'labels_img': 'C:\\\\Users\\\\June '\n",
      "                'Cai/nilearn_data\\\\fsl\\\\data\\\\atlases\\\\HarvardOxford\\\\HarvardOxford-cort-maxprob-thr25-2mm.nii.gz',\n",
      "  'low_pass': None,\n",
      "  'mask_img': None,\n",
      "  'smoothing_fwhm': None,\n",
      "  'standardize': True,\n",
      "  't_r': None,\n",
      "  'target_affine': None,\n",
      "  'target_shape': None}, memory_level=1, memory=Memory(location=nilearn_cache\\joblib), verbose=5, confounds=None, dtype=None)\n",
      "[NiftiLabelsMasker.transform_single_imgs] Loading data from F:\\ece\\capstone\\code\\py\\data\\abide\\traindata\\29187_rest_1.nii.gz\n"
     ]
    },
    {
     "name": "stderr",
     "output_type": "stream",
     "text": [
      "C:\\Users\\June Cai\\AppData\\Roaming\\Python\\Python35\\site-packages\\nilearn\\_utils\\cache_mixin.py:84: DeprecationWarning: The 'cachedir' parameter has been deprecated in version 0.12 and will be removed in version 0.14.\n",
      "You provided \"cachedir='nilearn_cache'\", use \"location='nilearn_cache'\" instead.\n",
      "  memory = Memory(cachedir=cache_dir, verbose=verbose)\n",
      "C:\\Users\\June Cai\\AppData\\Roaming\\Python\\Python35\\site-packages\\nilearn\\_utils\\cache_mixin.py:232: DeprecationWarning: The 'cachedir' attribute has been deprecated in version 0.12 and will be removed in version 0.14.\n",
      "Use os.path.join(memory.location, 'joblib') attribute instead.\n",
      "  if (memory.cachedir is None and memory_level is not None\n"
     ]
    },
    {
     "name": "stdout",
     "output_type": "stream",
     "text": [
      "[NiftiLabelsMasker.transform_single_imgs] Extracting region signals\n",
      "[NiftiLabelsMasker.transform_single_imgs] Cleaning extracted signals\n",
      "_______________________________________________filter_and_extract - 0.9s, 0.0min\n",
      "[NiftiLabelsMasker.fit_transform] loading data from C:\\Users\\June Cai/nilearn_data\\fsl\\data\\atlases\\HarvardOxford\\HarvardOxford-cort-maxprob-thr25-2mm.nii.gz\n",
      "Resampling labels\n",
      "________________________________________________________________________________\n",
      "[Memory] Calling nilearn.input_data.base_masker.filter_and_extract...\n",
      "filter_and_extract('F:\\\\ece\\\\capstone\\\\code\\\\py\\\\data\\\\abide\\\\traindata\\\\29188_rest_1.nii.gz', <nilearn.input_data.nifti_labels_masker._ExtractionFunctor object at 0x000001248A91F208>, \n",
      "{ 'background_label': 0,\n",
      "  'detrend': False,\n",
      "  'dtype': None,\n",
      "  'high_pass': None,\n",
      "  'labels_img': 'C:\\\\Users\\\\June '\n",
      "                'Cai/nilearn_data\\\\fsl\\\\data\\\\atlases\\\\HarvardOxford\\\\HarvardOxford-cort-maxprob-thr25-2mm.nii.gz',\n",
      "  'low_pass': None,\n",
      "  'mask_img': None,\n",
      "  'smoothing_fwhm': None,\n",
      "  'standardize': True,\n",
      "  't_r': None,\n",
      "  'target_affine': None,\n",
      "  'target_shape': None}, memory_level=1, memory=Memory(location=nilearn_cache\\joblib), verbose=5, confounds=None, dtype=None)\n",
      "[NiftiLabelsMasker.transform_single_imgs] Loading data from F:\\ece\\capstone\\code\\py\\data\\abide\\traindata\\29188_rest_1.nii.gz\n"
     ]
    },
    {
     "name": "stderr",
     "output_type": "stream",
     "text": [
      "C:\\Users\\June Cai\\AppData\\Roaming\\Python\\Python35\\site-packages\\nilearn\\_utils\\cache_mixin.py:84: DeprecationWarning: The 'cachedir' parameter has been deprecated in version 0.12 and will be removed in version 0.14.\n",
      "You provided \"cachedir='nilearn_cache'\", use \"location='nilearn_cache'\" instead.\n",
      "  memory = Memory(cachedir=cache_dir, verbose=verbose)\n",
      "C:\\Users\\June Cai\\AppData\\Roaming\\Python\\Python35\\site-packages\\nilearn\\_utils\\cache_mixin.py:232: DeprecationWarning: The 'cachedir' attribute has been deprecated in version 0.12 and will be removed in version 0.14.\n",
      "Use os.path.join(memory.location, 'joblib') attribute instead.\n",
      "  if (memory.cachedir is None and memory_level is not None\n"
     ]
    },
    {
     "name": "stdout",
     "output_type": "stream",
     "text": [
      "[NiftiLabelsMasker.transform_single_imgs] Extracting region signals\n",
      "[NiftiLabelsMasker.transform_single_imgs] Cleaning extracted signals\n",
      "_______________________________________________filter_and_extract - 0.9s, 0.0min\n",
      "[NiftiLabelsMasker.fit_transform] loading data from C:\\Users\\June Cai/nilearn_data\\fsl\\data\\atlases\\HarvardOxford\\HarvardOxford-cort-maxprob-thr25-2mm.nii.gz\n",
      "Resampling labels\n",
      "________________________________________________________________________________\n",
      "[Memory] Calling nilearn.input_data.base_masker.filter_and_extract...\n",
      "filter_and_extract('F:\\\\ece\\\\capstone\\\\code\\\\py\\\\data\\\\abide\\\\traindata\\\\29189_rest_1.nii.gz', <nilearn.input_data.nifti_labels_masker._ExtractionFunctor object at 0x0000012496F2AB00>, \n",
      "{ 'background_label': 0,\n",
      "  'detrend': False,\n",
      "  'dtype': None,\n",
      "  'high_pass': None,\n",
      "  'labels_img': 'C:\\\\Users\\\\June '\n",
      "                'Cai/nilearn_data\\\\fsl\\\\data\\\\atlases\\\\HarvardOxford\\\\HarvardOxford-cort-maxprob-thr25-2mm.nii.gz',\n",
      "  'low_pass': None,\n",
      "  'mask_img': None,\n",
      "  'smoothing_fwhm': None,\n",
      "  'standardize': True,\n",
      "  't_r': None,\n",
      "  'target_affine': None,\n",
      "  'target_shape': None}, memory_level=1, memory=Memory(location=nilearn_cache\\joblib), verbose=5, confounds=None, dtype=None)\n",
      "[NiftiLabelsMasker.transform_single_imgs] Loading data from F:\\ece\\capstone\\code\\py\\data\\abide\\traindata\\29189_rest_1.nii.gz\n"
     ]
    },
    {
     "name": "stderr",
     "output_type": "stream",
     "text": [
      "C:\\Users\\June Cai\\AppData\\Roaming\\Python\\Python35\\site-packages\\nilearn\\_utils\\cache_mixin.py:84: DeprecationWarning: The 'cachedir' parameter has been deprecated in version 0.12 and will be removed in version 0.14.\n",
      "You provided \"cachedir='nilearn_cache'\", use \"location='nilearn_cache'\" instead.\n",
      "  memory = Memory(cachedir=cache_dir, verbose=verbose)\n",
      "C:\\Users\\June Cai\\AppData\\Roaming\\Python\\Python35\\site-packages\\nilearn\\_utils\\cache_mixin.py:232: DeprecationWarning: The 'cachedir' attribute has been deprecated in version 0.12 and will be removed in version 0.14.\n",
      "Use os.path.join(memory.location, 'joblib') attribute instead.\n",
      "  if (memory.cachedir is None and memory_level is not None\n"
     ]
    },
    {
     "name": "stdout",
     "output_type": "stream",
     "text": [
      "[NiftiLabelsMasker.transform_single_imgs] Extracting region signals\n",
      "[NiftiLabelsMasker.transform_single_imgs] Cleaning extracted signals\n",
      "_______________________________________________filter_and_extract - 0.9s, 0.0min\n",
      "[NiftiLabelsMasker.fit_transform] loading data from C:\\Users\\June Cai/nilearn_data\\fsl\\data\\atlases\\HarvardOxford\\HarvardOxford-cort-maxprob-thr25-2mm.nii.gz\n",
      "Resampling labels\n",
      "________________________________________________________________________________\n",
      "[Memory] Calling nilearn.input_data.base_masker.filter_and_extract...\n",
      "filter_and_extract('F:\\\\ece\\\\capstone\\\\code\\\\py\\\\data\\\\abide\\\\traindata\\\\29190_rest_1.nii.gz', <nilearn.input_data.nifti_labels_masker._ExtractionFunctor object at 0x000001248C732048>, \n",
      "{ 'background_label': 0,\n",
      "  'detrend': False,\n",
      "  'dtype': None,\n",
      "  'high_pass': None,\n",
      "  'labels_img': 'C:\\\\Users\\\\June '\n",
      "                'Cai/nilearn_data\\\\fsl\\\\data\\\\atlases\\\\HarvardOxford\\\\HarvardOxford-cort-maxprob-thr25-2mm.nii.gz',\n",
      "  'low_pass': None,\n",
      "  'mask_img': None,\n",
      "  'smoothing_fwhm': None,\n",
      "  'standardize': True,\n",
      "  't_r': None,\n",
      "  'target_affine': None,\n",
      "  'target_shape': None}, memory_level=1, memory=Memory(location=nilearn_cache\\joblib), verbose=5, confounds=None, dtype=None)\n",
      "[NiftiLabelsMasker.transform_single_imgs] Loading data from F:\\ece\\capstone\\code\\py\\data\\abide\\traindata\\29190_rest_1.nii.gz\n"
     ]
    },
    {
     "name": "stderr",
     "output_type": "stream",
     "text": [
      "C:\\Users\\June Cai\\AppData\\Roaming\\Python\\Python35\\site-packages\\nilearn\\_utils\\cache_mixin.py:84: DeprecationWarning: The 'cachedir' parameter has been deprecated in version 0.12 and will be removed in version 0.14.\n",
      "You provided \"cachedir='nilearn_cache'\", use \"location='nilearn_cache'\" instead.\n",
      "  memory = Memory(cachedir=cache_dir, verbose=verbose)\n",
      "C:\\Users\\June Cai\\AppData\\Roaming\\Python\\Python35\\site-packages\\nilearn\\_utils\\cache_mixin.py:232: DeprecationWarning: The 'cachedir' attribute has been deprecated in version 0.12 and will be removed in version 0.14.\n",
      "Use os.path.join(memory.location, 'joblib') attribute instead.\n",
      "  if (memory.cachedir is None and memory_level is not None\n"
     ]
    },
    {
     "name": "stdout",
     "output_type": "stream",
     "text": [
      "[NiftiLabelsMasker.transform_single_imgs] Extracting region signals\n",
      "[NiftiLabelsMasker.transform_single_imgs] Cleaning extracted signals\n",
      "_______________________________________________filter_and_extract - 0.9s, 0.0min\n",
      "[NiftiLabelsMasker.fit_transform] loading data from C:\\Users\\June Cai/nilearn_data\\fsl\\data\\atlases\\HarvardOxford\\HarvardOxford-cort-maxprob-thr25-2mm.nii.gz\n",
      "Resampling labels\n",
      "________________________________________________________________________________\n",
      "[Memory] Calling nilearn.input_data.base_masker.filter_and_extract...\n",
      "filter_and_extract('F:\\\\ece\\\\capstone\\\\code\\\\py\\\\data\\\\abide\\\\traindata\\\\29191_rest_1.nii.gz', <nilearn.input_data.nifti_labels_masker._ExtractionFunctor object at 0x00000124FBC1F5C0>, \n",
      "{ 'background_label': 0,\n",
      "  'detrend': False,\n",
      "  'dtype': None,\n",
      "  'high_pass': None,\n",
      "  'labels_img': 'C:\\\\Users\\\\June '\n",
      "                'Cai/nilearn_data\\\\fsl\\\\data\\\\atlases\\\\HarvardOxford\\\\HarvardOxford-cort-maxprob-thr25-2mm.nii.gz',\n",
      "  'low_pass': None,\n",
      "  'mask_img': None,\n",
      "  'smoothing_fwhm': None,\n",
      "  'standardize': True,\n",
      "  't_r': None,\n",
      "  'target_affine': None,\n",
      "  'target_shape': None}, memory_level=1, memory=Memory(location=nilearn_cache\\joblib), verbose=5, confounds=None, dtype=None)\n",
      "[NiftiLabelsMasker.transform_single_imgs] Loading data from F:\\ece\\capstone\\code\\py\\data\\abide\\traindata\\29191_rest_1.nii.gz\n"
     ]
    },
    {
     "name": "stderr",
     "output_type": "stream",
     "text": [
      "C:\\Users\\June Cai\\AppData\\Roaming\\Python\\Python35\\site-packages\\nilearn\\_utils\\cache_mixin.py:84: DeprecationWarning: The 'cachedir' parameter has been deprecated in version 0.12 and will be removed in version 0.14.\n",
      "You provided \"cachedir='nilearn_cache'\", use \"location='nilearn_cache'\" instead.\n",
      "  memory = Memory(cachedir=cache_dir, verbose=verbose)\n",
      "C:\\Users\\June Cai\\AppData\\Roaming\\Python\\Python35\\site-packages\\nilearn\\_utils\\cache_mixin.py:232: DeprecationWarning: The 'cachedir' attribute has been deprecated in version 0.12 and will be removed in version 0.14.\n",
      "Use os.path.join(memory.location, 'joblib') attribute instead.\n",
      "  if (memory.cachedir is None and memory_level is not None\n"
     ]
    },
    {
     "name": "stdout",
     "output_type": "stream",
     "text": [
      "[NiftiLabelsMasker.transform_single_imgs] Extracting region signals\n",
      "[NiftiLabelsMasker.transform_single_imgs] Cleaning extracted signals\n",
      "_______________________________________________filter_and_extract - 0.9s, 0.0min\n",
      "[NiftiLabelsMasker.fit_transform] loading data from C:\\Users\\June Cai/nilearn_data\\fsl\\data\\atlases\\HarvardOxford\\HarvardOxford-cort-maxprob-thr25-2mm.nii.gz\n",
      "Resampling labels\n",
      "________________________________________________________________________________\n",
      "[Memory] Calling nilearn.input_data.base_masker.filter_and_extract...\n",
      "filter_and_extract('F:\\\\ece\\\\capstone\\\\code\\\\py\\\\data\\\\abide\\\\traindata\\\\29192_rest_1.nii.gz', <nilearn.input_data.nifti_labels_masker._ExtractionFunctor object at 0x000001248A91F470>, \n",
      "{ 'background_label': 0,\n",
      "  'detrend': False,\n",
      "  'dtype': None,\n",
      "  'high_pass': None,\n",
      "  'labels_img': 'C:\\\\Users\\\\June '\n",
      "                'Cai/nilearn_data\\\\fsl\\\\data\\\\atlases\\\\HarvardOxford\\\\HarvardOxford-cort-maxprob-thr25-2mm.nii.gz',\n",
      "  'low_pass': None,\n",
      "  'mask_img': None,\n",
      "  'smoothing_fwhm': None,\n",
      "  'standardize': True,\n",
      "  't_r': None,\n",
      "  'target_affine': None,\n",
      "  'target_shape': None}, memory_level=1, memory=Memory(location=nilearn_cache\\joblib), verbose=5, confounds=None, dtype=None)\n",
      "[NiftiLabelsMasker.transform_single_imgs] Loading data from F:\\ece\\capstone\\code\\py\\data\\abide\\traindata\\29192_rest_1.nii.gz\n"
     ]
    },
    {
     "name": "stderr",
     "output_type": "stream",
     "text": [
      "C:\\Users\\June Cai\\AppData\\Roaming\\Python\\Python35\\site-packages\\nilearn\\_utils\\cache_mixin.py:84: DeprecationWarning: The 'cachedir' parameter has been deprecated in version 0.12 and will be removed in version 0.14.\n",
      "You provided \"cachedir='nilearn_cache'\", use \"location='nilearn_cache'\" instead.\n",
      "  memory = Memory(cachedir=cache_dir, verbose=verbose)\n",
      "C:\\Users\\June Cai\\AppData\\Roaming\\Python\\Python35\\site-packages\\nilearn\\_utils\\cache_mixin.py:232: DeprecationWarning: The 'cachedir' attribute has been deprecated in version 0.12 and will be removed in version 0.14.\n",
      "Use os.path.join(memory.location, 'joblib') attribute instead.\n",
      "  if (memory.cachedir is None and memory_level is not None\n"
     ]
    },
    {
     "name": "stdout",
     "output_type": "stream",
     "text": [
      "[NiftiLabelsMasker.transform_single_imgs] Extracting region signals\n",
      "[NiftiLabelsMasker.transform_single_imgs] Cleaning extracted signals\n",
      "_______________________________________________filter_and_extract - 0.9s, 0.0min\n",
      "[NiftiLabelsMasker.fit_transform] loading data from C:\\Users\\June Cai/nilearn_data\\fsl\\data\\atlases\\HarvardOxford\\HarvardOxford-cort-maxprob-thr25-2mm.nii.gz\n",
      "Resampling labels\n",
      "________________________________________________________________________________\n",
      "[Memory] Calling nilearn.input_data.base_masker.filter_and_extract...\n",
      "filter_and_extract('F:\\\\ece\\\\capstone\\\\code\\\\py\\\\data\\\\abide\\\\traindata\\\\29193_rest_1.nii.gz', <nilearn.input_data.nifti_labels_masker._ExtractionFunctor object at 0x00000124FA6596D8>, \n",
      "{ 'background_label': 0,\n",
      "  'detrend': False,\n",
      "  'dtype': None,\n",
      "  'high_pass': None,\n",
      "  'labels_img': 'C:\\\\Users\\\\June '\n",
      "                'Cai/nilearn_data\\\\fsl\\\\data\\\\atlases\\\\HarvardOxford\\\\HarvardOxford-cort-maxprob-thr25-2mm.nii.gz',\n",
      "  'low_pass': None,\n",
      "  'mask_img': None,\n",
      "  'smoothing_fwhm': None,\n",
      "  'standardize': True,\n",
      "  't_r': None,\n",
      "  'target_affine': None,\n",
      "  'target_shape': None}, memory_level=1, memory=Memory(location=nilearn_cache\\joblib), verbose=5, confounds=None, dtype=None)\n",
      "[NiftiLabelsMasker.transform_single_imgs] Loading data from F:\\ece\\capstone\\code\\py\\data\\abide\\traindata\\29193_rest_1.nii.gz\n"
     ]
    },
    {
     "name": "stderr",
     "output_type": "stream",
     "text": [
      "C:\\Users\\June Cai\\AppData\\Roaming\\Python\\Python35\\site-packages\\nilearn\\_utils\\cache_mixin.py:84: DeprecationWarning: The 'cachedir' parameter has been deprecated in version 0.12 and will be removed in version 0.14.\n",
      "You provided \"cachedir='nilearn_cache'\", use \"location='nilearn_cache'\" instead.\n",
      "  memory = Memory(cachedir=cache_dir, verbose=verbose)\n",
      "C:\\Users\\June Cai\\AppData\\Roaming\\Python\\Python35\\site-packages\\nilearn\\_utils\\cache_mixin.py:232: DeprecationWarning: The 'cachedir' attribute has been deprecated in version 0.12 and will be removed in version 0.14.\n",
      "Use os.path.join(memory.location, 'joblib') attribute instead.\n",
      "  if (memory.cachedir is None and memory_level is not None\n"
     ]
    },
    {
     "name": "stdout",
     "output_type": "stream",
     "text": [
      "[NiftiLabelsMasker.transform_single_imgs] Extracting region signals\n",
      "[NiftiLabelsMasker.transform_single_imgs] Cleaning extracted signals\n",
      "_______________________________________________filter_and_extract - 1.0s, 0.0min\n",
      "[NiftiLabelsMasker.fit_transform] loading data from C:\\Users\\June Cai/nilearn_data\\fsl\\data\\atlases\\HarvardOxford\\HarvardOxford-cort-maxprob-thr25-2mm.nii.gz\n",
      "Resampling labels\n",
      "________________________________________________________________________________\n",
      "[Memory] Calling nilearn.input_data.base_masker.filter_and_extract...\n",
      "filter_and_extract('F:\\\\ece\\\\capstone\\\\code\\\\py\\\\data\\\\abide\\\\traindata\\\\29194_rest_1.nii.gz', <nilearn.input_data.nifti_labels_masker._ExtractionFunctor object at 0x000001248A91FEB8>, \n",
      "{ 'background_label': 0,\n",
      "  'detrend': False,\n",
      "  'dtype': None,\n",
      "  'high_pass': None,\n",
      "  'labels_img': 'C:\\\\Users\\\\June '\n",
      "                'Cai/nilearn_data\\\\fsl\\\\data\\\\atlases\\\\HarvardOxford\\\\HarvardOxford-cort-maxprob-thr25-2mm.nii.gz',\n",
      "  'low_pass': None,\n",
      "  'mask_img': None,\n",
      "  'smoothing_fwhm': None,\n",
      "  'standardize': True,\n",
      "  't_r': None,\n",
      "  'target_affine': None,\n",
      "  'target_shape': None}, memory_level=1, memory=Memory(location=nilearn_cache\\joblib), verbose=5, confounds=None, dtype=None)\n",
      "[NiftiLabelsMasker.transform_single_imgs] Loading data from F:\\ece\\capstone\\code\\py\\data\\abide\\traindata\\29194_rest_1.nii.gz\n"
     ]
    },
    {
     "name": "stderr",
     "output_type": "stream",
     "text": [
      "C:\\Users\\June Cai\\AppData\\Roaming\\Python\\Python35\\site-packages\\nilearn\\_utils\\cache_mixin.py:84: DeprecationWarning: The 'cachedir' parameter has been deprecated in version 0.12 and will be removed in version 0.14.\n",
      "You provided \"cachedir='nilearn_cache'\", use \"location='nilearn_cache'\" instead.\n",
      "  memory = Memory(cachedir=cache_dir, verbose=verbose)\n",
      "C:\\Users\\June Cai\\AppData\\Roaming\\Python\\Python35\\site-packages\\nilearn\\_utils\\cache_mixin.py:232: DeprecationWarning: The 'cachedir' attribute has been deprecated in version 0.12 and will be removed in version 0.14.\n",
      "Use os.path.join(memory.location, 'joblib') attribute instead.\n",
      "  if (memory.cachedir is None and memory_level is not None\n"
     ]
    },
    {
     "name": "stdout",
     "output_type": "stream",
     "text": [
      "[NiftiLabelsMasker.transform_single_imgs] Extracting region signals\n",
      "[NiftiLabelsMasker.transform_single_imgs] Cleaning extracted signals\n",
      "_______________________________________________filter_and_extract - 0.9s, 0.0min\n",
      "[NiftiLabelsMasker.fit_transform] loading data from C:\\Users\\June Cai/nilearn_data\\fsl\\data\\atlases\\HarvardOxford\\HarvardOxford-cort-maxprob-thr25-2mm.nii.gz\n",
      "Resampling labels\n",
      "________________________________________________________________________________\n",
      "[Memory] Calling nilearn.input_data.base_masker.filter_and_extract...\n",
      "filter_and_extract('F:\\\\ece\\\\capstone\\\\code\\\\py\\\\data\\\\abide\\\\traindata\\\\29195_rest_1.nii.gz', <nilearn.input_data.nifti_labels_masker._ExtractionFunctor object at 0x00000124FAB743C8>, \n",
      "{ 'background_label': 0,\n",
      "  'detrend': False,\n",
      "  'dtype': None,\n",
      "  'high_pass': None,\n",
      "  'labels_img': 'C:\\\\Users\\\\June '\n",
      "                'Cai/nilearn_data\\\\fsl\\\\data\\\\atlases\\\\HarvardOxford\\\\HarvardOxford-cort-maxprob-thr25-2mm.nii.gz',\n",
      "  'low_pass': None,\n",
      "  'mask_img': None,\n",
      "  'smoothing_fwhm': None,\n",
      "  'standardize': True,\n",
      "  't_r': None,\n",
      "  'target_affine': None,\n",
      "  'target_shape': None}, memory_level=1, memory=Memory(location=nilearn_cache\\joblib), verbose=5, confounds=None, dtype=None)\n",
      "[NiftiLabelsMasker.transform_single_imgs] Loading data from F:\\ece\\capstone\\code\\py\\data\\abide\\traindata\\29195_rest_1.nii.gz\n"
     ]
    },
    {
     "name": "stderr",
     "output_type": "stream",
     "text": [
      "C:\\Users\\June Cai\\AppData\\Roaming\\Python\\Python35\\site-packages\\nilearn\\_utils\\cache_mixin.py:84: DeprecationWarning: The 'cachedir' parameter has been deprecated in version 0.12 and will be removed in version 0.14.\n",
      "You provided \"cachedir='nilearn_cache'\", use \"location='nilearn_cache'\" instead.\n",
      "  memory = Memory(cachedir=cache_dir, verbose=verbose)\n",
      "C:\\Users\\June Cai\\AppData\\Roaming\\Python\\Python35\\site-packages\\nilearn\\_utils\\cache_mixin.py:232: DeprecationWarning: The 'cachedir' attribute has been deprecated in version 0.12 and will be removed in version 0.14.\n",
      "Use os.path.join(memory.location, 'joblib') attribute instead.\n",
      "  if (memory.cachedir is None and memory_level is not None\n"
     ]
    },
    {
     "name": "stdout",
     "output_type": "stream",
     "text": [
      "[NiftiLabelsMasker.transform_single_imgs] Extracting region signals\n",
      "[NiftiLabelsMasker.transform_single_imgs] Cleaning extracted signals\n",
      "_______________________________________________filter_and_extract - 0.9s, 0.0min\n",
      "[NiftiLabelsMasker.fit_transform] loading data from C:\\Users\\June Cai/nilearn_data\\fsl\\data\\atlases\\HarvardOxford\\HarvardOxford-cort-maxprob-thr25-2mm.nii.gz\n",
      "Resampling labels\n",
      "________________________________________________________________________________\n",
      "[Memory] Calling nilearn.input_data.base_masker.filter_and_extract...\n",
      "filter_and_extract('F:\\\\ece\\\\capstone\\\\code\\\\py\\\\data\\\\abide\\\\traindata\\\\29196_rest_1.nii.gz', <nilearn.input_data.nifti_labels_masker._ExtractionFunctor object at 0x00000124FBC1F5C0>, \n",
      "{ 'background_label': 0,\n",
      "  'detrend': False,\n",
      "  'dtype': None,\n",
      "  'high_pass': None,\n",
      "  'labels_img': 'C:\\\\Users\\\\June '\n",
      "                'Cai/nilearn_data\\\\fsl\\\\data\\\\atlases\\\\HarvardOxford\\\\HarvardOxford-cort-maxprob-thr25-2mm.nii.gz',\n",
      "  'low_pass': None,\n",
      "  'mask_img': None,\n",
      "  'smoothing_fwhm': None,\n",
      "  'standardize': True,\n",
      "  't_r': None,\n",
      "  'target_affine': None,\n",
      "  'target_shape': None}, memory_level=1, memory=Memory(location=nilearn_cache\\joblib), verbose=5, confounds=None, dtype=None)\n",
      "[NiftiLabelsMasker.transform_single_imgs] Loading data from F:\\ece\\capstone\\code\\py\\data\\abide\\traindata\\29196_rest_1.nii.gz\n"
     ]
    },
    {
     "name": "stderr",
     "output_type": "stream",
     "text": [
      "C:\\Users\\June Cai\\AppData\\Roaming\\Python\\Python35\\site-packages\\nilearn\\_utils\\cache_mixin.py:84: DeprecationWarning: The 'cachedir' parameter has been deprecated in version 0.12 and will be removed in version 0.14.\n",
      "You provided \"cachedir='nilearn_cache'\", use \"location='nilearn_cache'\" instead.\n",
      "  memory = Memory(cachedir=cache_dir, verbose=verbose)\n",
      "C:\\Users\\June Cai\\AppData\\Roaming\\Python\\Python35\\site-packages\\nilearn\\_utils\\cache_mixin.py:232: DeprecationWarning: The 'cachedir' attribute has been deprecated in version 0.12 and will be removed in version 0.14.\n",
      "Use os.path.join(memory.location, 'joblib') attribute instead.\n",
      "  if (memory.cachedir is None and memory_level is not None\n"
     ]
    },
    {
     "name": "stdout",
     "output_type": "stream",
     "text": [
      "[NiftiLabelsMasker.transform_single_imgs] Extracting region signals\n",
      "[NiftiLabelsMasker.transform_single_imgs] Cleaning extracted signals\n",
      "_______________________________________________filter_and_extract - 0.9s, 0.0min\n",
      "[NiftiLabelsMasker.fit_transform] loading data from C:\\Users\\June Cai/nilearn_data\\fsl\\data\\atlases\\HarvardOxford\\HarvardOxford-cort-maxprob-thr25-2mm.nii.gz\n",
      "Resampling labels\n",
      "________________________________________________________________________________\n",
      "[Memory] Calling nilearn.input_data.base_masker.filter_and_extract...\n",
      "filter_and_extract('F:\\\\ece\\\\capstone\\\\code\\\\py\\\\data\\\\abide\\\\traindata\\\\29197_rest_1.nii.gz', <nilearn.input_data.nifti_labels_masker._ExtractionFunctor object at 0x000001248AD57D68>, \n",
      "{ 'background_label': 0,\n",
      "  'detrend': False,\n",
      "  'dtype': None,\n",
      "  'high_pass': None,\n",
      "  'labels_img': 'C:\\\\Users\\\\June '\n",
      "                'Cai/nilearn_data\\\\fsl\\\\data\\\\atlases\\\\HarvardOxford\\\\HarvardOxford-cort-maxprob-thr25-2mm.nii.gz',\n",
      "  'low_pass': None,\n",
      "  'mask_img': None,\n",
      "  'smoothing_fwhm': None,\n",
      "  'standardize': True,\n",
      "  't_r': None,\n",
      "  'target_affine': None,\n",
      "  'target_shape': None}, memory_level=1, memory=Memory(location=nilearn_cache\\joblib), verbose=5, confounds=None, dtype=None)\n",
      "[NiftiLabelsMasker.transform_single_imgs] Loading data from F:\\ece\\capstone\\code\\py\\data\\abide\\traindata\\29197_rest_1.nii.gz\n"
     ]
    },
    {
     "name": "stderr",
     "output_type": "stream",
     "text": [
      "C:\\Users\\June Cai\\AppData\\Roaming\\Python\\Python35\\site-packages\\nilearn\\_utils\\cache_mixin.py:84: DeprecationWarning: The 'cachedir' parameter has been deprecated in version 0.12 and will be removed in version 0.14.\n",
      "You provided \"cachedir='nilearn_cache'\", use \"location='nilearn_cache'\" instead.\n",
      "  memory = Memory(cachedir=cache_dir, verbose=verbose)\n",
      "C:\\Users\\June Cai\\AppData\\Roaming\\Python\\Python35\\site-packages\\nilearn\\_utils\\cache_mixin.py:232: DeprecationWarning: The 'cachedir' attribute has been deprecated in version 0.12 and will be removed in version 0.14.\n",
      "Use os.path.join(memory.location, 'joblib') attribute instead.\n",
      "  if (memory.cachedir is None and memory_level is not None\n"
     ]
    },
    {
     "name": "stdout",
     "output_type": "stream",
     "text": [
      "[NiftiLabelsMasker.transform_single_imgs] Extracting region signals\n",
      "[NiftiLabelsMasker.transform_single_imgs] Cleaning extracted signals\n",
      "_______________________________________________filter_and_extract - 1.0s, 0.0min\n",
      "[NiftiLabelsMasker.fit_transform] loading data from C:\\Users\\June Cai/nilearn_data\\fsl\\data\\atlases\\HarvardOxford\\HarvardOxford-cort-maxprob-thr25-2mm.nii.gz\n",
      "Resampling labels\n",
      "________________________________________________________________________________\n",
      "[Memory] Calling nilearn.input_data.base_masker.filter_and_extract...\n",
      "filter_and_extract('F:\\\\ece\\\\capstone\\\\code\\\\py\\\\data\\\\abide\\\\traindata\\\\29198_rest_1.nii.gz', <nilearn.input_data.nifti_labels_masker._ExtractionFunctor object at 0x000001248D6CC4E0>, \n",
      "{ 'background_label': 0,\n",
      "  'detrend': False,\n",
      "  'dtype': None,\n",
      "  'high_pass': None,\n",
      "  'labels_img': 'C:\\\\Users\\\\June '\n",
      "                'Cai/nilearn_data\\\\fsl\\\\data\\\\atlases\\\\HarvardOxford\\\\HarvardOxford-cort-maxprob-thr25-2mm.nii.gz',\n",
      "  'low_pass': None,\n",
      "  'mask_img': None,\n",
      "  'smoothing_fwhm': None,\n",
      "  'standardize': True,\n",
      "  't_r': None,\n",
      "  'target_affine': None,\n",
      "  'target_shape': None}, memory_level=1, memory=Memory(location=nilearn_cache\\joblib), verbose=5, confounds=None, dtype=None)\n",
      "[NiftiLabelsMasker.transform_single_imgs] Loading data from F:\\ece\\capstone\\code\\py\\data\\abide\\traindata\\29198_rest_1.nii.gz\n"
     ]
    },
    {
     "name": "stderr",
     "output_type": "stream",
     "text": [
      "C:\\Users\\June Cai\\AppData\\Roaming\\Python\\Python35\\site-packages\\nilearn\\_utils\\cache_mixin.py:84: DeprecationWarning: The 'cachedir' parameter has been deprecated in version 0.12 and will be removed in version 0.14.\n",
      "You provided \"cachedir='nilearn_cache'\", use \"location='nilearn_cache'\" instead.\n",
      "  memory = Memory(cachedir=cache_dir, verbose=verbose)\n",
      "C:\\Users\\June Cai\\AppData\\Roaming\\Python\\Python35\\site-packages\\nilearn\\_utils\\cache_mixin.py:232: DeprecationWarning: The 'cachedir' attribute has been deprecated in version 0.12 and will be removed in version 0.14.\n",
      "Use os.path.join(memory.location, 'joblib') attribute instead.\n",
      "  if (memory.cachedir is None and memory_level is not None\n"
     ]
    },
    {
     "name": "stdout",
     "output_type": "stream",
     "text": [
      "[NiftiLabelsMasker.transform_single_imgs] Extracting region signals\n",
      "[NiftiLabelsMasker.transform_single_imgs] Cleaning extracted signals\n",
      "_______________________________________________filter_and_extract - 0.9s, 0.0min\n",
      "[NiftiLabelsMasker.fit_transform] loading data from C:\\Users\\June Cai/nilearn_data\\fsl\\data\\atlases\\HarvardOxford\\HarvardOxford-cort-maxprob-thr25-2mm.nii.gz\n",
      "Resampling labels\n",
      "________________________________________________________________________________\n",
      "[Memory] Calling nilearn.input_data.base_masker.filter_and_extract...\n",
      "filter_and_extract('F:\\\\ece\\\\capstone\\\\code\\\\py\\\\data\\\\abide\\\\traindata\\\\29199_rest_1.nii.gz', <nilearn.input_data.nifti_labels_masker._ExtractionFunctor object at 0x000001248C732048>, \n",
      "{ 'background_label': 0,\n",
      "  'detrend': False,\n",
      "  'dtype': None,\n",
      "  'high_pass': None,\n",
      "  'labels_img': 'C:\\\\Users\\\\June '\n",
      "                'Cai/nilearn_data\\\\fsl\\\\data\\\\atlases\\\\HarvardOxford\\\\HarvardOxford-cort-maxprob-thr25-2mm.nii.gz',\n",
      "  'low_pass': None,\n",
      "  'mask_img': None,\n",
      "  'smoothing_fwhm': None,\n",
      "  'standardize': True,\n",
      "  't_r': None,\n",
      "  'target_affine': None,\n",
      "  'target_shape': None}, memory_level=1, memory=Memory(location=nilearn_cache\\joblib), verbose=5, confounds=None, dtype=None)\n",
      "[NiftiLabelsMasker.transform_single_imgs] Loading data from F:\\ece\\capstone\\code\\py\\data\\abide\\traindata\\29199_rest_1.nii.gz\n"
     ]
    },
    {
     "name": "stderr",
     "output_type": "stream",
     "text": [
      "C:\\Users\\June Cai\\AppData\\Roaming\\Python\\Python35\\site-packages\\nilearn\\_utils\\cache_mixin.py:84: DeprecationWarning: The 'cachedir' parameter has been deprecated in version 0.12 and will be removed in version 0.14.\n",
      "You provided \"cachedir='nilearn_cache'\", use \"location='nilearn_cache'\" instead.\n",
      "  memory = Memory(cachedir=cache_dir, verbose=verbose)\n",
      "C:\\Users\\June Cai\\AppData\\Roaming\\Python\\Python35\\site-packages\\nilearn\\_utils\\cache_mixin.py:232: DeprecationWarning: The 'cachedir' attribute has been deprecated in version 0.12 and will be removed in version 0.14.\n",
      "Use os.path.join(memory.location, 'joblib') attribute instead.\n",
      "  if (memory.cachedir is None and memory_level is not None\n"
     ]
    },
    {
     "name": "stdout",
     "output_type": "stream",
     "text": [
      "[NiftiLabelsMasker.transform_single_imgs] Extracting region signals\n",
      "[NiftiLabelsMasker.transform_single_imgs] Cleaning extracted signals\n",
      "_______________________________________________filter_and_extract - 0.9s, 0.0min\n",
      "[NiftiLabelsMasker.fit_transform] loading data from C:\\Users\\June Cai/nilearn_data\\fsl\\data\\atlases\\HarvardOxford\\HarvardOxford-cort-maxprob-thr25-2mm.nii.gz\n",
      "Resampling labels\n",
      "________________________________________________________________________________\n",
      "[Memory] Calling nilearn.input_data.base_masker.filter_and_extract...\n",
      "filter_and_extract('F:\\\\ece\\\\capstone\\\\code\\\\py\\\\data\\\\abide\\\\traindata\\\\29200_rest_1.nii.gz', <nilearn.input_data.nifti_labels_masker._ExtractionFunctor object at 0x00000124FAB717F0>, \n",
      "{ 'background_label': 0,\n",
      "  'detrend': False,\n",
      "  'dtype': None,\n",
      "  'high_pass': None,\n",
      "  'labels_img': 'C:\\\\Users\\\\June '\n",
      "                'Cai/nilearn_data\\\\fsl\\\\data\\\\atlases\\\\HarvardOxford\\\\HarvardOxford-cort-maxprob-thr25-2mm.nii.gz',\n",
      "  'low_pass': None,\n",
      "  'mask_img': None,\n",
      "  'smoothing_fwhm': None,\n",
      "  'standardize': True,\n",
      "  't_r': None,\n",
      "  'target_affine': None,\n",
      "  'target_shape': None}, memory_level=1, memory=Memory(location=nilearn_cache\\joblib), verbose=5, confounds=None, dtype=None)\n",
      "[NiftiLabelsMasker.transform_single_imgs] Loading data from F:\\ece\\capstone\\code\\py\\data\\abide\\traindata\\29200_rest_1.nii.gz\n"
     ]
    },
    {
     "name": "stderr",
     "output_type": "stream",
     "text": [
      "C:\\Users\\June Cai\\AppData\\Roaming\\Python\\Python35\\site-packages\\nilearn\\_utils\\cache_mixin.py:84: DeprecationWarning: The 'cachedir' parameter has been deprecated in version 0.12 and will be removed in version 0.14.\n",
      "You provided \"cachedir='nilearn_cache'\", use \"location='nilearn_cache'\" instead.\n",
      "  memory = Memory(cachedir=cache_dir, verbose=verbose)\n",
      "C:\\Users\\June Cai\\AppData\\Roaming\\Python\\Python35\\site-packages\\nilearn\\_utils\\cache_mixin.py:232: DeprecationWarning: The 'cachedir' attribute has been deprecated in version 0.12 and will be removed in version 0.14.\n",
      "Use os.path.join(memory.location, 'joblib') attribute instead.\n",
      "  if (memory.cachedir is None and memory_level is not None\n"
     ]
    },
    {
     "name": "stdout",
     "output_type": "stream",
     "text": [
      "[NiftiLabelsMasker.transform_single_imgs] Extracting region signals\n",
      "[NiftiLabelsMasker.transform_single_imgs] Cleaning extracted signals\n",
      "_______________________________________________filter_and_extract - 0.9s, 0.0min\n",
      "[NiftiLabelsMasker.fit_transform] loading data from C:\\Users\\June Cai/nilearn_data\\fsl\\data\\atlases\\HarvardOxford\\HarvardOxford-cort-maxprob-thr25-2mm.nii.gz\n",
      "Resampling labels\n",
      "________________________________________________________________________________\n",
      "[Memory] Calling nilearn.input_data.base_masker.filter_and_extract...\n",
      "filter_and_extract('F:\\\\ece\\\\capstone\\\\code\\\\py\\\\data\\\\abide\\\\traindata\\\\29201_rest_1.nii.gz', <nilearn.input_data.nifti_labels_masker._ExtractionFunctor object at 0x000001248B1B5320>, \n",
      "{ 'background_label': 0,\n",
      "  'detrend': False,\n",
      "  'dtype': None,\n",
      "  'high_pass': None,\n",
      "  'labels_img': 'C:\\\\Users\\\\June '\n",
      "                'Cai/nilearn_data\\\\fsl\\\\data\\\\atlases\\\\HarvardOxford\\\\HarvardOxford-cort-maxprob-thr25-2mm.nii.gz',\n",
      "  'low_pass': None,\n",
      "  'mask_img': None,\n",
      "  'smoothing_fwhm': None,\n",
      "  'standardize': True,\n",
      "  't_r': None,\n",
      "  'target_affine': None,\n",
      "  'target_shape': None}, memory_level=1, memory=Memory(location=nilearn_cache\\joblib), verbose=5, confounds=None, dtype=None)\n",
      "[NiftiLabelsMasker.transform_single_imgs] Loading data from F:\\ece\\capstone\\code\\py\\data\\abide\\traindata\\29201_rest_1.nii.gz\n"
     ]
    },
    {
     "name": "stderr",
     "output_type": "stream",
     "text": [
      "C:\\Users\\June Cai\\AppData\\Roaming\\Python\\Python35\\site-packages\\nilearn\\_utils\\cache_mixin.py:84: DeprecationWarning: The 'cachedir' parameter has been deprecated in version 0.12 and will be removed in version 0.14.\n",
      "You provided \"cachedir='nilearn_cache'\", use \"location='nilearn_cache'\" instead.\n",
      "  memory = Memory(cachedir=cache_dir, verbose=verbose)\n",
      "C:\\Users\\June Cai\\AppData\\Roaming\\Python\\Python35\\site-packages\\nilearn\\_utils\\cache_mixin.py:232: DeprecationWarning: The 'cachedir' attribute has been deprecated in version 0.12 and will be removed in version 0.14.\n",
      "Use os.path.join(memory.location, 'joblib') attribute instead.\n",
      "  if (memory.cachedir is None and memory_level is not None\n"
     ]
    },
    {
     "name": "stdout",
     "output_type": "stream",
     "text": [
      "[NiftiLabelsMasker.transform_single_imgs] Extracting region signals\n",
      "[NiftiLabelsMasker.transform_single_imgs] Cleaning extracted signals\n",
      "_______________________________________________filter_and_extract - 0.9s, 0.0min\n",
      "[NiftiLabelsMasker.fit_transform] loading data from C:\\Users\\June Cai/nilearn_data\\fsl\\data\\atlases\\HarvardOxford\\HarvardOxford-cort-maxprob-thr25-2mm.nii.gz\n",
      "Resampling labels\n",
      "________________________________________________________________________________\n",
      "[Memory] Calling nilearn.input_data.base_masker.filter_and_extract...\n",
      "filter_and_extract('F:\\\\ece\\\\capstone\\\\code\\\\py\\\\data\\\\abide\\\\traindata\\\\29202_rest_1.nii.gz', <nilearn.input_data.nifti_labels_masker._ExtractionFunctor object at 0x0000012496F1A828>, \n",
      "{ 'background_label': 0,\n",
      "  'detrend': False,\n",
      "  'dtype': None,\n",
      "  'high_pass': None,\n",
      "  'labels_img': 'C:\\\\Users\\\\June '\n",
      "                'Cai/nilearn_data\\\\fsl\\\\data\\\\atlases\\\\HarvardOxford\\\\HarvardOxford-cort-maxprob-thr25-2mm.nii.gz',\n",
      "  'low_pass': None,\n",
      "  'mask_img': None,\n",
      "  'smoothing_fwhm': None,\n",
      "  'standardize': True,\n",
      "  't_r': None,\n",
      "  'target_affine': None,\n",
      "  'target_shape': None}, memory_level=1, memory=Memory(location=nilearn_cache\\joblib), verbose=5, confounds=None, dtype=None)\n",
      "[NiftiLabelsMasker.transform_single_imgs] Loading data from F:\\ece\\capstone\\code\\py\\data\\abide\\traindata\\29202_rest_1.nii.gz\n"
     ]
    },
    {
     "name": "stderr",
     "output_type": "stream",
     "text": [
      "C:\\Users\\June Cai\\AppData\\Roaming\\Python\\Python35\\site-packages\\nilearn\\_utils\\cache_mixin.py:84: DeprecationWarning: The 'cachedir' parameter has been deprecated in version 0.12 and will be removed in version 0.14.\n",
      "You provided \"cachedir='nilearn_cache'\", use \"location='nilearn_cache'\" instead.\n",
      "  memory = Memory(cachedir=cache_dir, verbose=verbose)\n",
      "C:\\Users\\June Cai\\AppData\\Roaming\\Python\\Python35\\site-packages\\nilearn\\_utils\\cache_mixin.py:232: DeprecationWarning: The 'cachedir' attribute has been deprecated in version 0.12 and will be removed in version 0.14.\n",
      "Use os.path.join(memory.location, 'joblib') attribute instead.\n",
      "  if (memory.cachedir is None and memory_level is not None\n"
     ]
    },
    {
     "name": "stdout",
     "output_type": "stream",
     "text": [
      "[NiftiLabelsMasker.transform_single_imgs] Extracting region signals\n",
      "[NiftiLabelsMasker.transform_single_imgs] Cleaning extracted signals\n",
      "_______________________________________________filter_and_extract - 0.9s, 0.0min\n",
      "[NiftiLabelsMasker.fit_transform] loading data from C:\\Users\\June Cai/nilearn_data\\fsl\\data\\atlases\\HarvardOxford\\HarvardOxford-cort-maxprob-thr25-2mm.nii.gz\n",
      "Resampling labels\n",
      "________________________________________________________________________________\n",
      "[Memory] Calling nilearn.input_data.base_masker.filter_and_extract...\n",
      "filter_and_extract('F:\\\\ece\\\\capstone\\\\code\\\\py\\\\data\\\\abide\\\\traindata\\\\29203_rest_1.nii.gz', <nilearn.input_data.nifti_labels_masker._ExtractionFunctor object at 0x000001248D6CC4E0>, \n",
      "{ 'background_label': 0,\n",
      "  'detrend': False,\n",
      "  'dtype': None,\n",
      "  'high_pass': None,\n",
      "  'labels_img': 'C:\\\\Users\\\\June '\n",
      "                'Cai/nilearn_data\\\\fsl\\\\data\\\\atlases\\\\HarvardOxford\\\\HarvardOxford-cort-maxprob-thr25-2mm.nii.gz',\n",
      "  'low_pass': None,\n",
      "  'mask_img': None,\n",
      "  'smoothing_fwhm': None,\n",
      "  'standardize': True,\n",
      "  't_r': None,\n",
      "  'target_affine': None,\n",
      "  'target_shape': None}, memory_level=1, memory=Memory(location=nilearn_cache\\joblib), verbose=5, confounds=None, dtype=None)\n",
      "[NiftiLabelsMasker.transform_single_imgs] Loading data from F:\\ece\\capstone\\code\\py\\data\\abide\\traindata\\29203_rest_1.nii.gz\n"
     ]
    },
    {
     "name": "stderr",
     "output_type": "stream",
     "text": [
      "C:\\Users\\June Cai\\AppData\\Roaming\\Python\\Python35\\site-packages\\nilearn\\_utils\\cache_mixin.py:84: DeprecationWarning: The 'cachedir' parameter has been deprecated in version 0.12 and will be removed in version 0.14.\n",
      "You provided \"cachedir='nilearn_cache'\", use \"location='nilearn_cache'\" instead.\n",
      "  memory = Memory(cachedir=cache_dir, verbose=verbose)\n",
      "C:\\Users\\June Cai\\AppData\\Roaming\\Python\\Python35\\site-packages\\nilearn\\_utils\\cache_mixin.py:232: DeprecationWarning: The 'cachedir' attribute has been deprecated in version 0.12 and will be removed in version 0.14.\n",
      "Use os.path.join(memory.location, 'joblib') attribute instead.\n",
      "  if (memory.cachedir is None and memory_level is not None\n"
     ]
    },
    {
     "name": "stdout",
     "output_type": "stream",
     "text": [
      "[NiftiLabelsMasker.transform_single_imgs] Extracting region signals\n",
      "[NiftiLabelsMasker.transform_single_imgs] Cleaning extracted signals\n",
      "_______________________________________________filter_and_extract - 0.9s, 0.0min\n",
      "[NiftiLabelsMasker.fit_transform] loading data from C:\\Users\\June Cai/nilearn_data\\fsl\\data\\atlases\\HarvardOxford\\HarvardOxford-cort-maxprob-thr25-2mm.nii.gz\n",
      "Resampling labels\n",
      "________________________________________________________________________________\n",
      "[Memory] Calling nilearn.input_data.base_masker.filter_and_extract...\n",
      "filter_and_extract('F:\\\\ece\\\\capstone\\\\code\\\\py\\\\data\\\\abide\\\\traindata\\\\29204_rest_1.nii.gz', <nilearn.input_data.nifti_labels_masker._ExtractionFunctor object at 0x000001248AD57D68>, \n",
      "{ 'background_label': 0,\n",
      "  'detrend': False,\n",
      "  'dtype': None,\n",
      "  'high_pass': None,\n",
      "  'labels_img': 'C:\\\\Users\\\\June '\n",
      "                'Cai/nilearn_data\\\\fsl\\\\data\\\\atlases\\\\HarvardOxford\\\\HarvardOxford-cort-maxprob-thr25-2mm.nii.gz',\n",
      "  'low_pass': None,\n",
      "  'mask_img': None,\n",
      "  'smoothing_fwhm': None,\n",
      "  'standardize': True,\n",
      "  't_r': None,\n",
      "  'target_affine': None,\n",
      "  'target_shape': None}, memory_level=1, memory=Memory(location=nilearn_cache\\joblib), verbose=5, confounds=None, dtype=None)\n",
      "[NiftiLabelsMasker.transform_single_imgs] Loading data from F:\\ece\\capstone\\code\\py\\data\\abide\\traindata\\29204_rest_1.nii.gz\n"
     ]
    },
    {
     "name": "stderr",
     "output_type": "stream",
     "text": [
      "C:\\Users\\June Cai\\AppData\\Roaming\\Python\\Python35\\site-packages\\nilearn\\_utils\\cache_mixin.py:84: DeprecationWarning: The 'cachedir' parameter has been deprecated in version 0.12 and will be removed in version 0.14.\n",
      "You provided \"cachedir='nilearn_cache'\", use \"location='nilearn_cache'\" instead.\n",
      "  memory = Memory(cachedir=cache_dir, verbose=verbose)\n",
      "C:\\Users\\June Cai\\AppData\\Roaming\\Python\\Python35\\site-packages\\nilearn\\_utils\\cache_mixin.py:232: DeprecationWarning: The 'cachedir' attribute has been deprecated in version 0.12 and will be removed in version 0.14.\n",
      "Use os.path.join(memory.location, 'joblib') attribute instead.\n",
      "  if (memory.cachedir is None and memory_level is not None\n"
     ]
    },
    {
     "name": "stdout",
     "output_type": "stream",
     "text": [
      "[NiftiLabelsMasker.transform_single_imgs] Extracting region signals\n",
      "[NiftiLabelsMasker.transform_single_imgs] Cleaning extracted signals\n",
      "_______________________________________________filter_and_extract - 0.9s, 0.0min\n",
      "[NiftiLabelsMasker.fit_transform] loading data from C:\\Users\\June Cai/nilearn_data\\fsl\\data\\atlases\\HarvardOxford\\HarvardOxford-cort-maxprob-thr25-2mm.nii.gz\n",
      "Resampling labels\n",
      "________________________________________________________________________________\n",
      "[Memory] Calling nilearn.input_data.base_masker.filter_and_extract...\n",
      "filter_and_extract('F:\\\\ece\\\\capstone\\\\code\\\\py\\\\data\\\\abide\\\\traindata\\\\29205_rest_1.nii.gz', <nilearn.input_data.nifti_labels_masker._ExtractionFunctor object at 0x00000124F72414A8>, \n",
      "{ 'background_label': 0,\n",
      "  'detrend': False,\n",
      "  'dtype': None,\n",
      "  'high_pass': None,\n",
      "  'labels_img': 'C:\\\\Users\\\\June '\n",
      "                'Cai/nilearn_data\\\\fsl\\\\data\\\\atlases\\\\HarvardOxford\\\\HarvardOxford-cort-maxprob-thr25-2mm.nii.gz',\n",
      "  'low_pass': None,\n",
      "  'mask_img': None,\n",
      "  'smoothing_fwhm': None,\n",
      "  'standardize': True,\n",
      "  't_r': None,\n",
      "  'target_affine': None,\n",
      "  'target_shape': None}, memory_level=1, memory=Memory(location=nilearn_cache\\joblib), verbose=5, confounds=None, dtype=None)\n",
      "[NiftiLabelsMasker.transform_single_imgs] Loading data from F:\\ece\\capstone\\code\\py\\data\\abide\\traindata\\29205_rest_1.nii.gz\n"
     ]
    },
    {
     "name": "stderr",
     "output_type": "stream",
     "text": [
      "C:\\Users\\June Cai\\AppData\\Roaming\\Python\\Python35\\site-packages\\nilearn\\_utils\\cache_mixin.py:84: DeprecationWarning: The 'cachedir' parameter has been deprecated in version 0.12 and will be removed in version 0.14.\n",
      "You provided \"cachedir='nilearn_cache'\", use \"location='nilearn_cache'\" instead.\n",
      "  memory = Memory(cachedir=cache_dir, verbose=verbose)\n",
      "C:\\Users\\June Cai\\AppData\\Roaming\\Python\\Python35\\site-packages\\nilearn\\_utils\\cache_mixin.py:232: DeprecationWarning: The 'cachedir' attribute has been deprecated in version 0.12 and will be removed in version 0.14.\n",
      "Use os.path.join(memory.location, 'joblib') attribute instead.\n",
      "  if (memory.cachedir is None and memory_level is not None\n"
     ]
    },
    {
     "name": "stdout",
     "output_type": "stream",
     "text": [
      "[NiftiLabelsMasker.transform_single_imgs] Extracting region signals\n",
      "[NiftiLabelsMasker.transform_single_imgs] Cleaning extracted signals\n",
      "_______________________________________________filter_and_extract - 1.0s, 0.0min\n",
      "[NiftiLabelsMasker.fit_transform] loading data from C:\\Users\\June Cai/nilearn_data\\fsl\\data\\atlases\\HarvardOxford\\HarvardOxford-cort-maxprob-thr25-2mm.nii.gz\n",
      "Resampling labels\n",
      "________________________________________________________________________________\n",
      "[Memory] Calling nilearn.input_data.base_masker.filter_and_extract...\n",
      "filter_and_extract('F:\\\\ece\\\\capstone\\\\code\\\\py\\\\data\\\\abide\\\\traindata\\\\29206_rest_1.nii.gz', <nilearn.input_data.nifti_labels_masker._ExtractionFunctor object at 0x0000012496F1A8D0>, \n",
      "{ 'background_label': 0,\n",
      "  'detrend': False,\n",
      "  'dtype': None,\n",
      "  'high_pass': None,\n",
      "  'labels_img': 'C:\\\\Users\\\\June '\n",
      "                'Cai/nilearn_data\\\\fsl\\\\data\\\\atlases\\\\HarvardOxford\\\\HarvardOxford-cort-maxprob-thr25-2mm.nii.gz',\n",
      "  'low_pass': None,\n",
      "  'mask_img': None,\n",
      "  'smoothing_fwhm': None,\n",
      "  'standardize': True,\n",
      "  't_r': None,\n",
      "  'target_affine': None,\n",
      "  'target_shape': None}, memory_level=1, memory=Memory(location=nilearn_cache\\joblib), verbose=5, confounds=None, dtype=None)\n",
      "[NiftiLabelsMasker.transform_single_imgs] Loading data from F:\\ece\\capstone\\code\\py\\data\\abide\\traindata\\29206_rest_1.nii.gz\n"
     ]
    },
    {
     "name": "stderr",
     "output_type": "stream",
     "text": [
      "C:\\Users\\June Cai\\AppData\\Roaming\\Python\\Python35\\site-packages\\nilearn\\_utils\\cache_mixin.py:84: DeprecationWarning: The 'cachedir' parameter has been deprecated in version 0.12 and will be removed in version 0.14.\n",
      "You provided \"cachedir='nilearn_cache'\", use \"location='nilearn_cache'\" instead.\n",
      "  memory = Memory(cachedir=cache_dir, verbose=verbose)\n",
      "C:\\Users\\June Cai\\AppData\\Roaming\\Python\\Python35\\site-packages\\nilearn\\_utils\\cache_mixin.py:232: DeprecationWarning: The 'cachedir' attribute has been deprecated in version 0.12 and will be removed in version 0.14.\n",
      "Use os.path.join(memory.location, 'joblib') attribute instead.\n",
      "  if (memory.cachedir is None and memory_level is not None\n"
     ]
    },
    {
     "name": "stdout",
     "output_type": "stream",
     "text": [
      "[NiftiLabelsMasker.transform_single_imgs] Extracting region signals\n",
      "[NiftiLabelsMasker.transform_single_imgs] Cleaning extracted signals\n",
      "_______________________________________________filter_and_extract - 0.9s, 0.0min\n",
      "[NiftiLabelsMasker.fit_transform] loading data from C:\\Users\\June Cai/nilearn_data\\fsl\\data\\atlases\\HarvardOxford\\HarvardOxford-cort-maxprob-thr25-2mm.nii.gz\n",
      "Resampling labels\n",
      "________________________________________________________________________________\n",
      "[Memory] Calling nilearn.input_data.base_masker.filter_and_extract...\n",
      "filter_and_extract('F:\\\\ece\\\\capstone\\\\code\\\\py\\\\data\\\\abide\\\\traindata\\\\29207_rest_1.nii.gz', <nilearn.input_data.nifti_labels_masker._ExtractionFunctor object at 0x0000012496F2AB00>, \n",
      "{ 'background_label': 0,\n",
      "  'detrend': False,\n",
      "  'dtype': None,\n",
      "  'high_pass': None,\n",
      "  'labels_img': 'C:\\\\Users\\\\June '\n",
      "                'Cai/nilearn_data\\\\fsl\\\\data\\\\atlases\\\\HarvardOxford\\\\HarvardOxford-cort-maxprob-thr25-2mm.nii.gz',\n",
      "  'low_pass': None,\n",
      "  'mask_img': None,\n",
      "  'smoothing_fwhm': None,\n",
      "  'standardize': True,\n",
      "  't_r': None,\n",
      "  'target_affine': None,\n",
      "  'target_shape': None}, memory_level=1, memory=Memory(location=nilearn_cache\\joblib), verbose=5, confounds=None, dtype=None)\n",
      "[NiftiLabelsMasker.transform_single_imgs] Loading data from F:\\ece\\capstone\\code\\py\\data\\abide\\traindata\\29207_rest_1.nii.gz\n"
     ]
    },
    {
     "name": "stderr",
     "output_type": "stream",
     "text": [
      "C:\\Users\\June Cai\\AppData\\Roaming\\Python\\Python35\\site-packages\\nilearn\\_utils\\cache_mixin.py:84: DeprecationWarning: The 'cachedir' parameter has been deprecated in version 0.12 and will be removed in version 0.14.\n",
      "You provided \"cachedir='nilearn_cache'\", use \"location='nilearn_cache'\" instead.\n",
      "  memory = Memory(cachedir=cache_dir, verbose=verbose)\n",
      "C:\\Users\\June Cai\\AppData\\Roaming\\Python\\Python35\\site-packages\\nilearn\\_utils\\cache_mixin.py:232: DeprecationWarning: The 'cachedir' attribute has been deprecated in version 0.12 and will be removed in version 0.14.\n",
      "Use os.path.join(memory.location, 'joblib') attribute instead.\n",
      "  if (memory.cachedir is None and memory_level is not None\n"
     ]
    },
    {
     "name": "stdout",
     "output_type": "stream",
     "text": [
      "[NiftiLabelsMasker.transform_single_imgs] Extracting region signals\n",
      "[NiftiLabelsMasker.transform_single_imgs] Cleaning extracted signals\n",
      "_______________________________________________filter_and_extract - 0.9s, 0.0min\n",
      "[NiftiLabelsMasker.fit_transform] loading data from C:\\Users\\June Cai/nilearn_data\\fsl\\data\\atlases\\HarvardOxford\\HarvardOxford-cort-maxprob-thr25-2mm.nii.gz\n",
      "Resampling labels\n",
      "________________________________________________________________________________\n",
      "[Memory] Calling nilearn.input_data.base_masker.filter_and_extract...\n",
      "filter_and_extract('F:\\\\ece\\\\capstone\\\\code\\\\py\\\\data\\\\abide\\\\traindata\\\\29208_rest_1.nii.gz', <nilearn.input_data.nifti_labels_masker._ExtractionFunctor object at 0x000001248A9110F0>, \n",
      "{ 'background_label': 0,\n",
      "  'detrend': False,\n",
      "  'dtype': None,\n",
      "  'high_pass': None,\n",
      "  'labels_img': 'C:\\\\Users\\\\June '\n",
      "                'Cai/nilearn_data\\\\fsl\\\\data\\\\atlases\\\\HarvardOxford\\\\HarvardOxford-cort-maxprob-thr25-2mm.nii.gz',\n",
      "  'low_pass': None,\n",
      "  'mask_img': None,\n",
      "  'smoothing_fwhm': None,\n",
      "  'standardize': True,\n",
      "  't_r': None,\n",
      "  'target_affine': None,\n",
      "  'target_shape': None}, memory_level=1, memory=Memory(location=nilearn_cache\\joblib), verbose=5, confounds=None, dtype=None)\n",
      "[NiftiLabelsMasker.transform_single_imgs] Loading data from F:\\ece\\capstone\\code\\py\\data\\abide\\traindata\\29208_rest_1.nii.gz\n"
     ]
    },
    {
     "name": "stderr",
     "output_type": "stream",
     "text": [
      "C:\\Users\\June Cai\\AppData\\Roaming\\Python\\Python35\\site-packages\\nilearn\\_utils\\cache_mixin.py:84: DeprecationWarning: The 'cachedir' parameter has been deprecated in version 0.12 and will be removed in version 0.14.\n",
      "You provided \"cachedir='nilearn_cache'\", use \"location='nilearn_cache'\" instead.\n",
      "  memory = Memory(cachedir=cache_dir, verbose=verbose)\n",
      "C:\\Users\\June Cai\\AppData\\Roaming\\Python\\Python35\\site-packages\\nilearn\\_utils\\cache_mixin.py:232: DeprecationWarning: The 'cachedir' attribute has been deprecated in version 0.12 and will be removed in version 0.14.\n",
      "Use os.path.join(memory.location, 'joblib') attribute instead.\n",
      "  if (memory.cachedir is None and memory_level is not None\n"
     ]
    },
    {
     "name": "stdout",
     "output_type": "stream",
     "text": [
      "[NiftiLabelsMasker.transform_single_imgs] Extracting region signals\n",
      "[NiftiLabelsMasker.transform_single_imgs] Cleaning extracted signals\n",
      "_______________________________________________filter_and_extract - 0.9s, 0.0min\n",
      "[NiftiLabelsMasker.fit_transform] loading data from C:\\Users\\June Cai/nilearn_data\\fsl\\data\\atlases\\HarvardOxford\\HarvardOxford-cort-maxprob-thr25-2mm.nii.gz\n",
      "Resampling labels\n",
      "________________________________________________________________________________\n",
      "[Memory] Calling nilearn.input_data.base_masker.filter_and_extract...\n",
      "filter_and_extract('F:\\\\ece\\\\capstone\\\\code\\\\py\\\\data\\\\abide\\\\traindata\\\\29209_rest_1.nii.gz', <nilearn.input_data.nifti_labels_masker._ExtractionFunctor object at 0x00000124FA6596D8>, \n",
      "{ 'background_label': 0,\n",
      "  'detrend': False,\n",
      "  'dtype': None,\n",
      "  'high_pass': None,\n",
      "  'labels_img': 'C:\\\\Users\\\\June '\n",
      "                'Cai/nilearn_data\\\\fsl\\\\data\\\\atlases\\\\HarvardOxford\\\\HarvardOxford-cort-maxprob-thr25-2mm.nii.gz',\n",
      "  'low_pass': None,\n",
      "  'mask_img': None,\n",
      "  'smoothing_fwhm': None,\n",
      "  'standardize': True,\n",
      "  't_r': None,\n",
      "  'target_affine': None,\n",
      "  'target_shape': None}, memory_level=1, memory=Memory(location=nilearn_cache\\joblib), verbose=5, confounds=None, dtype=None)\n",
      "[NiftiLabelsMasker.transform_single_imgs] Loading data from F:\\ece\\capstone\\code\\py\\data\\abide\\traindata\\29209_rest_1.nii.gz\n"
     ]
    },
    {
     "name": "stderr",
     "output_type": "stream",
     "text": [
      "C:\\Users\\June Cai\\AppData\\Roaming\\Python\\Python35\\site-packages\\nilearn\\_utils\\cache_mixin.py:84: DeprecationWarning: The 'cachedir' parameter has been deprecated in version 0.12 and will be removed in version 0.14.\n",
      "You provided \"cachedir='nilearn_cache'\", use \"location='nilearn_cache'\" instead.\n",
      "  memory = Memory(cachedir=cache_dir, verbose=verbose)\n",
      "C:\\Users\\June Cai\\AppData\\Roaming\\Python\\Python35\\site-packages\\nilearn\\_utils\\cache_mixin.py:232: DeprecationWarning: The 'cachedir' attribute has been deprecated in version 0.12 and will be removed in version 0.14.\n",
      "Use os.path.join(memory.location, 'joblib') attribute instead.\n",
      "  if (memory.cachedir is None and memory_level is not None\n"
     ]
    },
    {
     "name": "stdout",
     "output_type": "stream",
     "text": [
      "[NiftiLabelsMasker.transform_single_imgs] Extracting region signals\n",
      "[NiftiLabelsMasker.transform_single_imgs] Cleaning extracted signals\n",
      "_______________________________________________filter_and_extract - 0.9s, 0.0min\n",
      "[NiftiLabelsMasker.fit_transform] loading data from C:\\Users\\June Cai/nilearn_data\\fsl\\data\\atlases\\HarvardOxford\\HarvardOxford-cort-maxprob-thr25-2mm.nii.gz\n",
      "Resampling labels\n",
      "________________________________________________________________________________\n",
      "[Memory] Calling nilearn.input_data.base_masker.filter_and_extract...\n",
      "filter_and_extract('F:\\\\ece\\\\capstone\\\\code\\\\py\\\\data\\\\abide\\\\traindata\\\\29210_rest_1.nii.gz', <nilearn.input_data.nifti_labels_masker._ExtractionFunctor object at 0x00000124FAB743C8>, \n",
      "{ 'background_label': 0,\n",
      "  'detrend': False,\n",
      "  'dtype': None,\n",
      "  'high_pass': None,\n",
      "  'labels_img': 'C:\\\\Users\\\\June '\n",
      "                'Cai/nilearn_data\\\\fsl\\\\data\\\\atlases\\\\HarvardOxford\\\\HarvardOxford-cort-maxprob-thr25-2mm.nii.gz',\n",
      "  'low_pass': None,\n",
      "  'mask_img': None,\n",
      "  'smoothing_fwhm': None,\n",
      "  'standardize': True,\n",
      "  't_r': None,\n",
      "  'target_affine': None,\n",
      "  'target_shape': None}, memory_level=1, memory=Memory(location=nilearn_cache\\joblib), verbose=5, confounds=None, dtype=None)\n",
      "[NiftiLabelsMasker.transform_single_imgs] Loading data from F:\\ece\\capstone\\code\\py\\data\\abide\\traindata\\29210_rest_1.nii.gz\n"
     ]
    },
    {
     "name": "stderr",
     "output_type": "stream",
     "text": [
      "C:\\Users\\June Cai\\AppData\\Roaming\\Python\\Python35\\site-packages\\nilearn\\_utils\\cache_mixin.py:84: DeprecationWarning: The 'cachedir' parameter has been deprecated in version 0.12 and will be removed in version 0.14.\n",
      "You provided \"cachedir='nilearn_cache'\", use \"location='nilearn_cache'\" instead.\n",
      "  memory = Memory(cachedir=cache_dir, verbose=verbose)\n",
      "C:\\Users\\June Cai\\AppData\\Roaming\\Python\\Python35\\site-packages\\nilearn\\_utils\\cache_mixin.py:232: DeprecationWarning: The 'cachedir' attribute has been deprecated in version 0.12 and will be removed in version 0.14.\n",
      "Use os.path.join(memory.location, 'joblib') attribute instead.\n",
      "  if (memory.cachedir is None and memory_level is not None\n"
     ]
    },
    {
     "name": "stdout",
     "output_type": "stream",
     "text": [
      "[NiftiLabelsMasker.transform_single_imgs] Extracting region signals\n",
      "[NiftiLabelsMasker.transform_single_imgs] Cleaning extracted signals\n",
      "_______________________________________________filter_and_extract - 1.0s, 0.0min\n",
      "[NiftiLabelsMasker.fit_transform] loading data from C:\\Users\\June Cai/nilearn_data\\fsl\\data\\atlases\\HarvardOxford\\HarvardOxford-cort-maxprob-thr25-2mm.nii.gz\n",
      "Resampling labels\n",
      "________________________________________________________________________________\n",
      "[Memory] Calling nilearn.input_data.base_masker.filter_and_extract...\n",
      "filter_and_extract('F:\\\\ece\\\\capstone\\\\code\\\\py\\\\data\\\\abide\\\\traindata\\\\29211_rest_1.nii.gz', <nilearn.input_data.nifti_labels_masker._ExtractionFunctor object at 0x000001248A91FBA8>, \n",
      "{ 'background_label': 0,\n",
      "  'detrend': False,\n",
      "  'dtype': None,\n",
      "  'high_pass': None,\n",
      "  'labels_img': 'C:\\\\Users\\\\June '\n",
      "                'Cai/nilearn_data\\\\fsl\\\\data\\\\atlases\\\\HarvardOxford\\\\HarvardOxford-cort-maxprob-thr25-2mm.nii.gz',\n",
      "  'low_pass': None,\n",
      "  'mask_img': None,\n",
      "  'smoothing_fwhm': None,\n",
      "  'standardize': True,\n",
      "  't_r': None,\n",
      "  'target_affine': None,\n",
      "  'target_shape': None}, memory_level=1, memory=Memory(location=nilearn_cache\\joblib), verbose=5, confounds=None, dtype=None)\n",
      "[NiftiLabelsMasker.transform_single_imgs] Loading data from F:\\ece\\capstone\\code\\py\\data\\abide\\traindata\\29211_rest_1.nii.gz\n"
     ]
    },
    {
     "name": "stderr",
     "output_type": "stream",
     "text": [
      "C:\\Users\\June Cai\\AppData\\Roaming\\Python\\Python35\\site-packages\\nilearn\\_utils\\cache_mixin.py:84: DeprecationWarning: The 'cachedir' parameter has been deprecated in version 0.12 and will be removed in version 0.14.\n",
      "You provided \"cachedir='nilearn_cache'\", use \"location='nilearn_cache'\" instead.\n",
      "  memory = Memory(cachedir=cache_dir, verbose=verbose)\n",
      "C:\\Users\\June Cai\\AppData\\Roaming\\Python\\Python35\\site-packages\\nilearn\\_utils\\cache_mixin.py:232: DeprecationWarning: The 'cachedir' attribute has been deprecated in version 0.12 and will be removed in version 0.14.\n",
      "Use os.path.join(memory.location, 'joblib') attribute instead.\n",
      "  if (memory.cachedir is None and memory_level is not None\n"
     ]
    },
    {
     "name": "stdout",
     "output_type": "stream",
     "text": [
      "[NiftiLabelsMasker.transform_single_imgs] Extracting region signals\n",
      "[NiftiLabelsMasker.transform_single_imgs] Cleaning extracted signals\n",
      "_______________________________________________filter_and_extract - 0.9s, 0.0min\n",
      "[NiftiLabelsMasker.fit_transform] loading data from C:\\Users\\June Cai/nilearn_data\\fsl\\data\\atlases\\HarvardOxford\\HarvardOxford-cort-maxprob-thr25-2mm.nii.gz\n",
      "Resampling labels\n",
      "________________________________________________________________________________\n",
      "[Memory] Calling nilearn.input_data.base_masker.filter_and_extract...\n",
      "filter_and_extract('F:\\\\ece\\\\capstone\\\\code\\\\py\\\\data\\\\abide\\\\traindata\\\\29212_rest_1.nii.gz', <nilearn.input_data.nifti_labels_masker._ExtractionFunctor object at 0x000001248A91F6A0>, \n",
      "{ 'background_label': 0,\n",
      "  'detrend': False,\n",
      "  'dtype': None,\n",
      "  'high_pass': None,\n",
      "  'labels_img': 'C:\\\\Users\\\\June '\n",
      "                'Cai/nilearn_data\\\\fsl\\\\data\\\\atlases\\\\HarvardOxford\\\\HarvardOxford-cort-maxprob-thr25-2mm.nii.gz',\n",
      "  'low_pass': None,\n",
      "  'mask_img': None,\n",
      "  'smoothing_fwhm': None,\n",
      "  'standardize': True,\n",
      "  't_r': None,\n",
      "  'target_affine': None,\n",
      "  'target_shape': None}, memory_level=1, memory=Memory(location=nilearn_cache\\joblib), verbose=5, confounds=None, dtype=None)\n",
      "[NiftiLabelsMasker.transform_single_imgs] Loading data from F:\\ece\\capstone\\code\\py\\data\\abide\\traindata\\29212_rest_1.nii.gz\n"
     ]
    },
    {
     "name": "stderr",
     "output_type": "stream",
     "text": [
      "C:\\Users\\June Cai\\AppData\\Roaming\\Python\\Python35\\site-packages\\nilearn\\_utils\\cache_mixin.py:84: DeprecationWarning: The 'cachedir' parameter has been deprecated in version 0.12 and will be removed in version 0.14.\n",
      "You provided \"cachedir='nilearn_cache'\", use \"location='nilearn_cache'\" instead.\n",
      "  memory = Memory(cachedir=cache_dir, verbose=verbose)\n",
      "C:\\Users\\June Cai\\AppData\\Roaming\\Python\\Python35\\site-packages\\nilearn\\_utils\\cache_mixin.py:232: DeprecationWarning: The 'cachedir' attribute has been deprecated in version 0.12 and will be removed in version 0.14.\n",
      "Use os.path.join(memory.location, 'joblib') attribute instead.\n",
      "  if (memory.cachedir is None and memory_level is not None\n"
     ]
    },
    {
     "name": "stdout",
     "output_type": "stream",
     "text": [
      "[NiftiLabelsMasker.transform_single_imgs] Extracting region signals\n",
      "[NiftiLabelsMasker.transform_single_imgs] Cleaning extracted signals\n",
      "_______________________________________________filter_and_extract - 0.9s, 0.0min\n",
      "[NiftiLabelsMasker.fit_transform] loading data from C:\\Users\\June Cai/nilearn_data\\fsl\\data\\atlases\\HarvardOxford\\HarvardOxford-cort-maxprob-thr25-2mm.nii.gz\n",
      "Resampling labels\n",
      "________________________________________________________________________________\n",
      "[Memory] Calling nilearn.input_data.base_masker.filter_and_extract...\n",
      "filter_and_extract('F:\\\\ece\\\\capstone\\\\code\\\\py\\\\data\\\\abide\\\\traindata\\\\29213_rest_1.nii.gz', <nilearn.input_data.nifti_labels_masker._ExtractionFunctor object at 0x00000124FA6596D8>, \n",
      "{ 'background_label': 0,\n",
      "  'detrend': False,\n",
      "  'dtype': None,\n",
      "  'high_pass': None,\n",
      "  'labels_img': 'C:\\\\Users\\\\June '\n",
      "                'Cai/nilearn_data\\\\fsl\\\\data\\\\atlases\\\\HarvardOxford\\\\HarvardOxford-cort-maxprob-thr25-2mm.nii.gz',\n",
      "  'low_pass': None,\n",
      "  'mask_img': None,\n",
      "  'smoothing_fwhm': None,\n",
      "  'standardize': True,\n",
      "  't_r': None,\n",
      "  'target_affine': None,\n",
      "  'target_shape': None}, memory_level=1, memory=Memory(location=nilearn_cache\\joblib), verbose=5, confounds=None, dtype=None)\n",
      "[NiftiLabelsMasker.transform_single_imgs] Loading data from F:\\ece\\capstone\\code\\py\\data\\abide\\traindata\\29213_rest_1.nii.gz\n"
     ]
    },
    {
     "name": "stderr",
     "output_type": "stream",
     "text": [
      "C:\\Users\\June Cai\\AppData\\Roaming\\Python\\Python35\\site-packages\\nilearn\\_utils\\cache_mixin.py:84: DeprecationWarning: The 'cachedir' parameter has been deprecated in version 0.12 and will be removed in version 0.14.\n",
      "You provided \"cachedir='nilearn_cache'\", use \"location='nilearn_cache'\" instead.\n",
      "  memory = Memory(cachedir=cache_dir, verbose=verbose)\n",
      "C:\\Users\\June Cai\\AppData\\Roaming\\Python\\Python35\\site-packages\\nilearn\\_utils\\cache_mixin.py:232: DeprecationWarning: The 'cachedir' attribute has been deprecated in version 0.12 and will be removed in version 0.14.\n",
      "Use os.path.join(memory.location, 'joblib') attribute instead.\n",
      "  if (memory.cachedir is None and memory_level is not None\n"
     ]
    },
    {
     "name": "stdout",
     "output_type": "stream",
     "text": [
      "[NiftiLabelsMasker.transform_single_imgs] Extracting region signals\n",
      "[NiftiLabelsMasker.transform_single_imgs] Cleaning extracted signals\n",
      "_______________________________________________filter_and_extract - 0.9s, 0.0min\n",
      "[NiftiLabelsMasker.fit_transform] loading data from C:\\Users\\June Cai/nilearn_data\\fsl\\data\\atlases\\HarvardOxford\\HarvardOxford-cort-maxprob-thr25-2mm.nii.gz\n",
      "Resampling labels\n",
      "________________________________________________________________________________\n",
      "[Memory] Calling nilearn.input_data.base_masker.filter_and_extract...\n",
      "filter_and_extract('F:\\\\ece\\\\capstone\\\\code\\\\py\\\\data\\\\abide\\\\traindata\\\\29214_rest_1.nii.gz', <nilearn.input_data.nifti_labels_masker._ExtractionFunctor object at 0x000001248B1B5320>, \n",
      "{ 'background_label': 0,\n",
      "  'detrend': False,\n",
      "  'dtype': None,\n",
      "  'high_pass': None,\n",
      "  'labels_img': 'C:\\\\Users\\\\June '\n",
      "                'Cai/nilearn_data\\\\fsl\\\\data\\\\atlases\\\\HarvardOxford\\\\HarvardOxford-cort-maxprob-thr25-2mm.nii.gz',\n",
      "  'low_pass': None,\n",
      "  'mask_img': None,\n",
      "  'smoothing_fwhm': None,\n",
      "  'standardize': True,\n",
      "  't_r': None,\n",
      "  'target_affine': None,\n",
      "  'target_shape': None}, memory_level=1, memory=Memory(location=nilearn_cache\\joblib), verbose=5, confounds=None, dtype=None)\n",
      "[NiftiLabelsMasker.transform_single_imgs] Loading data from F:\\ece\\capstone\\code\\py\\data\\abide\\traindata\\29214_rest_1.nii.gz\n"
     ]
    },
    {
     "name": "stderr",
     "output_type": "stream",
     "text": [
      "C:\\Users\\June Cai\\AppData\\Roaming\\Python\\Python35\\site-packages\\nilearn\\_utils\\cache_mixin.py:84: DeprecationWarning: The 'cachedir' parameter has been deprecated in version 0.12 and will be removed in version 0.14.\n",
      "You provided \"cachedir='nilearn_cache'\", use \"location='nilearn_cache'\" instead.\n",
      "  memory = Memory(cachedir=cache_dir, verbose=verbose)\n",
      "C:\\Users\\June Cai\\AppData\\Roaming\\Python\\Python35\\site-packages\\nilearn\\_utils\\cache_mixin.py:232: DeprecationWarning: The 'cachedir' attribute has been deprecated in version 0.12 and will be removed in version 0.14.\n",
      "Use os.path.join(memory.location, 'joblib') attribute instead.\n",
      "  if (memory.cachedir is None and memory_level is not None\n"
     ]
    },
    {
     "name": "stdout",
     "output_type": "stream",
     "text": [
      "[NiftiLabelsMasker.transform_single_imgs] Extracting region signals\n",
      "[NiftiLabelsMasker.transform_single_imgs] Cleaning extracted signals\n",
      "_______________________________________________filter_and_extract - 0.9s, 0.0min\n",
      "[NiftiLabelsMasker.fit_transform] loading data from C:\\Users\\June Cai/nilearn_data\\fsl\\data\\atlases\\HarvardOxford\\HarvardOxford-cort-maxprob-thr25-2mm.nii.gz\n",
      "Resampling labels\n",
      "________________________________________________________________________________\n",
      "[Memory] Calling nilearn.input_data.base_masker.filter_and_extract...\n",
      "filter_and_extract('F:\\\\ece\\\\capstone\\\\code\\\\py\\\\data\\\\abide\\\\traindata\\\\29215_rest_1.nii.gz', <nilearn.input_data.nifti_labels_masker._ExtractionFunctor object at 0x00000124FBBBF390>, \n",
      "{ 'background_label': 0,\n",
      "  'detrend': False,\n",
      "  'dtype': None,\n",
      "  'high_pass': None,\n",
      "  'labels_img': 'C:\\\\Users\\\\June '\n",
      "                'Cai/nilearn_data\\\\fsl\\\\data\\\\atlases\\\\HarvardOxford\\\\HarvardOxford-cort-maxprob-thr25-2mm.nii.gz',\n",
      "  'low_pass': None,\n",
      "  'mask_img': None,\n",
      "  'smoothing_fwhm': None,\n",
      "  'standardize': True,\n",
      "  't_r': None,\n",
      "  'target_affine': None,\n",
      "  'target_shape': None}, memory_level=1, memory=Memory(location=nilearn_cache\\joblib), verbose=5, confounds=None, dtype=None)\n",
      "[NiftiLabelsMasker.transform_single_imgs] Loading data from F:\\ece\\capstone\\code\\py\\data\\abide\\traindata\\29215_rest_1.nii.gz\n"
     ]
    },
    {
     "name": "stderr",
     "output_type": "stream",
     "text": [
      "C:\\Users\\June Cai\\AppData\\Roaming\\Python\\Python35\\site-packages\\nilearn\\_utils\\cache_mixin.py:84: DeprecationWarning: The 'cachedir' parameter has been deprecated in version 0.12 and will be removed in version 0.14.\n",
      "You provided \"cachedir='nilearn_cache'\", use \"location='nilearn_cache'\" instead.\n",
      "  memory = Memory(cachedir=cache_dir, verbose=verbose)\n",
      "C:\\Users\\June Cai\\AppData\\Roaming\\Python\\Python35\\site-packages\\nilearn\\_utils\\cache_mixin.py:232: DeprecationWarning: The 'cachedir' attribute has been deprecated in version 0.12 and will be removed in version 0.14.\n",
      "Use os.path.join(memory.location, 'joblib') attribute instead.\n",
      "  if (memory.cachedir is None and memory_level is not None\n"
     ]
    },
    {
     "name": "stdout",
     "output_type": "stream",
     "text": [
      "[NiftiLabelsMasker.transform_single_imgs] Extracting region signals\n",
      "[NiftiLabelsMasker.transform_single_imgs] Cleaning extracted signals\n",
      "_______________________________________________filter_and_extract - 0.9s, 0.0min\n",
      "[NiftiLabelsMasker.fit_transform] loading data from C:\\Users\\June Cai/nilearn_data\\fsl\\data\\atlases\\HarvardOxford\\HarvardOxford-cort-maxprob-thr25-2mm.nii.gz\n",
      "Resampling labels\n",
      "________________________________________________________________________________\n",
      "[Memory] Calling nilearn.input_data.base_masker.filter_and_extract...\n",
      "filter_and_extract('F:\\\\ece\\\\capstone\\\\code\\\\py\\\\data\\\\abide\\\\traindata\\\\29216_rest_1.nii.gz', <nilearn.input_data.nifti_labels_masker._ExtractionFunctor object at 0x000001248A91F5C0>, \n",
      "{ 'background_label': 0,\n",
      "  'detrend': False,\n",
      "  'dtype': None,\n",
      "  'high_pass': None,\n",
      "  'labels_img': 'C:\\\\Users\\\\June '\n",
      "                'Cai/nilearn_data\\\\fsl\\\\data\\\\atlases\\\\HarvardOxford\\\\HarvardOxford-cort-maxprob-thr25-2mm.nii.gz',\n",
      "  'low_pass': None,\n",
      "  'mask_img': None,\n",
      "  'smoothing_fwhm': None,\n",
      "  'standardize': True,\n",
      "  't_r': None,\n",
      "  'target_affine': None,\n",
      "  'target_shape': None}, memory_level=1, memory=Memory(location=nilearn_cache\\joblib), verbose=5, confounds=None, dtype=None)\n",
      "[NiftiLabelsMasker.transform_single_imgs] Loading data from F:\\ece\\capstone\\code\\py\\data\\abide\\traindata\\29216_rest_1.nii.gz\n"
     ]
    },
    {
     "name": "stderr",
     "output_type": "stream",
     "text": [
      "C:\\Users\\June Cai\\AppData\\Roaming\\Python\\Python35\\site-packages\\nilearn\\_utils\\cache_mixin.py:84: DeprecationWarning: The 'cachedir' parameter has been deprecated in version 0.12 and will be removed in version 0.14.\n",
      "You provided \"cachedir='nilearn_cache'\", use \"location='nilearn_cache'\" instead.\n",
      "  memory = Memory(cachedir=cache_dir, verbose=verbose)\n",
      "C:\\Users\\June Cai\\AppData\\Roaming\\Python\\Python35\\site-packages\\nilearn\\_utils\\cache_mixin.py:232: DeprecationWarning: The 'cachedir' attribute has been deprecated in version 0.12 and will be removed in version 0.14.\n",
      "Use os.path.join(memory.location, 'joblib') attribute instead.\n",
      "  if (memory.cachedir is None and memory_level is not None\n"
     ]
    },
    {
     "name": "stdout",
     "output_type": "stream",
     "text": [
      "[NiftiLabelsMasker.transform_single_imgs] Extracting region signals\n",
      "[NiftiLabelsMasker.transform_single_imgs] Cleaning extracted signals\n",
      "_______________________________________________filter_and_extract - 0.9s, 0.0min\n",
      "[NiftiLabelsMasker.fit_transform] loading data from C:\\Users\\June Cai/nilearn_data\\fsl\\data\\atlases\\HarvardOxford\\HarvardOxford-cort-maxprob-thr25-2mm.nii.gz\n",
      "Resampling labels\n",
      "________________________________________________________________________________\n",
      "[Memory] Calling nilearn.input_data.base_masker.filter_and_extract...\n",
      "filter_and_extract('F:\\\\ece\\\\capstone\\\\code\\\\py\\\\data\\\\abide\\\\traindata\\\\29217_rest_1.nii.gz', <nilearn.input_data.nifti_labels_masker._ExtractionFunctor object at 0x00000124FA6596D8>, \n",
      "{ 'background_label': 0,\n",
      "  'detrend': False,\n",
      "  'dtype': None,\n",
      "  'high_pass': None,\n",
      "  'labels_img': 'C:\\\\Users\\\\June '\n",
      "                'Cai/nilearn_data\\\\fsl\\\\data\\\\atlases\\\\HarvardOxford\\\\HarvardOxford-cort-maxprob-thr25-2mm.nii.gz',\n",
      "  'low_pass': None,\n",
      "  'mask_img': None,\n",
      "  'smoothing_fwhm': None,\n",
      "  'standardize': True,\n",
      "  't_r': None,\n",
      "  'target_affine': None,\n",
      "  'target_shape': None}, memory_level=1, memory=Memory(location=nilearn_cache\\joblib), verbose=5, confounds=None, dtype=None)\n",
      "[NiftiLabelsMasker.transform_single_imgs] Loading data from F:\\ece\\capstone\\code\\py\\data\\abide\\traindata\\29217_rest_1.nii.gz\n"
     ]
    },
    {
     "name": "stderr",
     "output_type": "stream",
     "text": [
      "C:\\Users\\June Cai\\AppData\\Roaming\\Python\\Python35\\site-packages\\nilearn\\_utils\\cache_mixin.py:84: DeprecationWarning: The 'cachedir' parameter has been deprecated in version 0.12 and will be removed in version 0.14.\n",
      "You provided \"cachedir='nilearn_cache'\", use \"location='nilearn_cache'\" instead.\n",
      "  memory = Memory(cachedir=cache_dir, verbose=verbose)\n",
      "C:\\Users\\June Cai\\AppData\\Roaming\\Python\\Python35\\site-packages\\nilearn\\_utils\\cache_mixin.py:232: DeprecationWarning: The 'cachedir' attribute has been deprecated in version 0.12 and will be removed in version 0.14.\n",
      "Use os.path.join(memory.location, 'joblib') attribute instead.\n",
      "  if (memory.cachedir is None and memory_level is not None\n"
     ]
    },
    {
     "name": "stdout",
     "output_type": "stream",
     "text": [
      "[NiftiLabelsMasker.transform_single_imgs] Extracting region signals\n",
      "[NiftiLabelsMasker.transform_single_imgs] Cleaning extracted signals\n",
      "_______________________________________________filter_and_extract - 0.9s, 0.0min\n",
      "[NiftiLabelsMasker.fit_transform] loading data from C:\\Users\\June Cai/nilearn_data\\fsl\\data\\atlases\\HarvardOxford\\HarvardOxford-cort-maxprob-thr25-2mm.nii.gz\n",
      "Resampling labels\n",
      "________________________________________________________________________________\n",
      "[Memory] Calling nilearn.input_data.base_masker.filter_and_extract...\n",
      "filter_and_extract('F:\\\\ece\\\\capstone\\\\code\\\\py\\\\data\\\\abide\\\\traindata\\\\29218_rest_1.nii.gz', <nilearn.input_data.nifti_labels_masker._ExtractionFunctor object at 0x00000124FBBBF390>, \n",
      "{ 'background_label': 0,\n",
      "  'detrend': False,\n",
      "  'dtype': None,\n",
      "  'high_pass': None,\n",
      "  'labels_img': 'C:\\\\Users\\\\June '\n",
      "                'Cai/nilearn_data\\\\fsl\\\\data\\\\atlases\\\\HarvardOxford\\\\HarvardOxford-cort-maxprob-thr25-2mm.nii.gz',\n",
      "  'low_pass': None,\n",
      "  'mask_img': None,\n",
      "  'smoothing_fwhm': None,\n",
      "  'standardize': True,\n",
      "  't_r': None,\n",
      "  'target_affine': None,\n",
      "  'target_shape': None}, memory_level=1, memory=Memory(location=nilearn_cache\\joblib), verbose=5, confounds=None, dtype=None)\n",
      "[NiftiLabelsMasker.transform_single_imgs] Loading data from F:\\ece\\capstone\\code\\py\\data\\abide\\traindata\\29218_rest_1.nii.gz\n"
     ]
    },
    {
     "name": "stderr",
     "output_type": "stream",
     "text": [
      "C:\\Users\\June Cai\\AppData\\Roaming\\Python\\Python35\\site-packages\\nilearn\\_utils\\cache_mixin.py:84: DeprecationWarning: The 'cachedir' parameter has been deprecated in version 0.12 and will be removed in version 0.14.\n",
      "You provided \"cachedir='nilearn_cache'\", use \"location='nilearn_cache'\" instead.\n",
      "  memory = Memory(cachedir=cache_dir, verbose=verbose)\n",
      "C:\\Users\\June Cai\\AppData\\Roaming\\Python\\Python35\\site-packages\\nilearn\\_utils\\cache_mixin.py:232: DeprecationWarning: The 'cachedir' attribute has been deprecated in version 0.12 and will be removed in version 0.14.\n",
      "Use os.path.join(memory.location, 'joblib') attribute instead.\n",
      "  if (memory.cachedir is None and memory_level is not None\n"
     ]
    },
    {
     "name": "stdout",
     "output_type": "stream",
     "text": [
      "[NiftiLabelsMasker.transform_single_imgs] Extracting region signals\n",
      "[NiftiLabelsMasker.transform_single_imgs] Cleaning extracted signals\n",
      "_______________________________________________filter_and_extract - 0.9s, 0.0min\n",
      "[NiftiLabelsMasker.fit_transform] loading data from C:\\Users\\June Cai/nilearn_data\\fsl\\data\\atlases\\HarvardOxford\\HarvardOxford-cort-maxprob-thr25-2mm.nii.gz\n",
      "Resampling labels\n",
      "________________________________________________________________________________\n",
      "[Memory] Calling nilearn.input_data.base_masker.filter_and_extract...\n",
      "filter_and_extract('F:\\\\ece\\\\capstone\\\\code\\\\py\\\\data\\\\abide\\\\traindata\\\\29219_rest_1.nii.gz', <nilearn.input_data.nifti_labels_masker._ExtractionFunctor object at 0x00000124F72414A8>, \n",
      "{ 'background_label': 0,\n",
      "  'detrend': False,\n",
      "  'dtype': None,\n",
      "  'high_pass': None,\n",
      "  'labels_img': 'C:\\\\Users\\\\June '\n",
      "                'Cai/nilearn_data\\\\fsl\\\\data\\\\atlases\\\\HarvardOxford\\\\HarvardOxford-cort-maxprob-thr25-2mm.nii.gz',\n",
      "  'low_pass': None,\n",
      "  'mask_img': None,\n",
      "  'smoothing_fwhm': None,\n",
      "  'standardize': True,\n",
      "  't_r': None,\n",
      "  'target_affine': None,\n",
      "  'target_shape': None}, memory_level=1, memory=Memory(location=nilearn_cache\\joblib), verbose=5, confounds=None, dtype=None)\n",
      "[NiftiLabelsMasker.transform_single_imgs] Loading data from F:\\ece\\capstone\\code\\py\\data\\abide\\traindata\\29219_rest_1.nii.gz\n"
     ]
    },
    {
     "name": "stderr",
     "output_type": "stream",
     "text": [
      "C:\\Users\\June Cai\\AppData\\Roaming\\Python\\Python35\\site-packages\\nilearn\\_utils\\cache_mixin.py:84: DeprecationWarning: The 'cachedir' parameter has been deprecated in version 0.12 and will be removed in version 0.14.\n",
      "You provided \"cachedir='nilearn_cache'\", use \"location='nilearn_cache'\" instead.\n",
      "  memory = Memory(cachedir=cache_dir, verbose=verbose)\n",
      "C:\\Users\\June Cai\\AppData\\Roaming\\Python\\Python35\\site-packages\\nilearn\\_utils\\cache_mixin.py:232: DeprecationWarning: The 'cachedir' attribute has been deprecated in version 0.12 and will be removed in version 0.14.\n",
      "Use os.path.join(memory.location, 'joblib') attribute instead.\n",
      "  if (memory.cachedir is None and memory_level is not None\n"
     ]
    },
    {
     "name": "stdout",
     "output_type": "stream",
     "text": [
      "[NiftiLabelsMasker.transform_single_imgs] Extracting region signals\n",
      "[NiftiLabelsMasker.transform_single_imgs] Cleaning extracted signals\n",
      "_______________________________________________filter_and_extract - 0.9s, 0.0min\n",
      "[NiftiLabelsMasker.fit_transform] loading data from C:\\Users\\June Cai/nilearn_data\\fsl\\data\\atlases\\HarvardOxford\\HarvardOxford-cort-maxprob-thr25-2mm.nii.gz\n",
      "Resampling labels\n",
      "________________________________________________________________________________\n",
      "[Memory] Calling nilearn.input_data.base_masker.filter_and_extract...\n",
      "filter_and_extract('F:\\\\ece\\\\capstone\\\\code\\\\py\\\\data\\\\abide\\\\traindata\\\\29220_rest_1.nii.gz', <nilearn.input_data.nifti_labels_masker._ExtractionFunctor object at 0x000001248A91F4E0>, \n",
      "{ 'background_label': 0,\n",
      "  'detrend': False,\n",
      "  'dtype': None,\n",
      "  'high_pass': None,\n",
      "  'labels_img': 'C:\\\\Users\\\\June '\n",
      "                'Cai/nilearn_data\\\\fsl\\\\data\\\\atlases\\\\HarvardOxford\\\\HarvardOxford-cort-maxprob-thr25-2mm.nii.gz',\n",
      "  'low_pass': None,\n",
      "  'mask_img': None,\n",
      "  'smoothing_fwhm': None,\n",
      "  'standardize': True,\n",
      "  't_r': None,\n",
      "  'target_affine': None,\n",
      "  'target_shape': None}, memory_level=1, memory=Memory(location=nilearn_cache\\joblib), verbose=5, confounds=None, dtype=None)\n",
      "[NiftiLabelsMasker.transform_single_imgs] Loading data from F:\\ece\\capstone\\code\\py\\data\\abide\\traindata\\29220_rest_1.nii.gz\n"
     ]
    },
    {
     "name": "stderr",
     "output_type": "stream",
     "text": [
      "C:\\Users\\June Cai\\AppData\\Roaming\\Python\\Python35\\site-packages\\nilearn\\_utils\\cache_mixin.py:84: DeprecationWarning: The 'cachedir' parameter has been deprecated in version 0.12 and will be removed in version 0.14.\n",
      "You provided \"cachedir='nilearn_cache'\", use \"location='nilearn_cache'\" instead.\n",
      "  memory = Memory(cachedir=cache_dir, verbose=verbose)\n",
      "C:\\Users\\June Cai\\AppData\\Roaming\\Python\\Python35\\site-packages\\nilearn\\_utils\\cache_mixin.py:232: DeprecationWarning: The 'cachedir' attribute has been deprecated in version 0.12 and will be removed in version 0.14.\n",
      "Use os.path.join(memory.location, 'joblib') attribute instead.\n",
      "  if (memory.cachedir is None and memory_level is not None\n"
     ]
    },
    {
     "name": "stdout",
     "output_type": "stream",
     "text": [
      "[NiftiLabelsMasker.transform_single_imgs] Extracting region signals\n",
      "[NiftiLabelsMasker.transform_single_imgs] Cleaning extracted signals\n",
      "_______________________________________________filter_and_extract - 0.9s, 0.0min\n",
      "[NiftiLabelsMasker.fit_transform] loading data from C:\\Users\\June Cai/nilearn_data\\fsl\\data\\atlases\\HarvardOxford\\HarvardOxford-cort-maxprob-thr25-2mm.nii.gz\n",
      "Resampling labels\n",
      "________________________________________________________________________________\n",
      "[Memory] Calling nilearn.input_data.base_masker.filter_and_extract...\n",
      "filter_and_extract('F:\\\\ece\\\\capstone\\\\code\\\\py\\\\data\\\\abide\\\\traindata\\\\29221_rest_1.nii.gz', <nilearn.input_data.nifti_labels_masker._ExtractionFunctor object at 0x000001248A9110F0>, \n",
      "{ 'background_label': 0,\n",
      "  'detrend': False,\n",
      "  'dtype': None,\n",
      "  'high_pass': None,\n",
      "  'labels_img': 'C:\\\\Users\\\\June '\n",
      "                'Cai/nilearn_data\\\\fsl\\\\data\\\\atlases\\\\HarvardOxford\\\\HarvardOxford-cort-maxprob-thr25-2mm.nii.gz',\n",
      "  'low_pass': None,\n",
      "  'mask_img': None,\n",
      "  'smoothing_fwhm': None,\n",
      "  'standardize': True,\n",
      "  't_r': None,\n",
      "  'target_affine': None,\n",
      "  'target_shape': None}, memory_level=1, memory=Memory(location=nilearn_cache\\joblib), verbose=5, confounds=None, dtype=None)\n",
      "[NiftiLabelsMasker.transform_single_imgs] Loading data from F:\\ece\\capstone\\code\\py\\data\\abide\\traindata\\29221_rest_1.nii.gz\n"
     ]
    },
    {
     "name": "stderr",
     "output_type": "stream",
     "text": [
      "C:\\Users\\June Cai\\AppData\\Roaming\\Python\\Python35\\site-packages\\nilearn\\_utils\\cache_mixin.py:84: DeprecationWarning: The 'cachedir' parameter has been deprecated in version 0.12 and will be removed in version 0.14.\n",
      "You provided \"cachedir='nilearn_cache'\", use \"location='nilearn_cache'\" instead.\n",
      "  memory = Memory(cachedir=cache_dir, verbose=verbose)\n",
      "C:\\Users\\June Cai\\AppData\\Roaming\\Python\\Python35\\site-packages\\nilearn\\_utils\\cache_mixin.py:232: DeprecationWarning: The 'cachedir' attribute has been deprecated in version 0.12 and will be removed in version 0.14.\n",
      "Use os.path.join(memory.location, 'joblib') attribute instead.\n",
      "  if (memory.cachedir is None and memory_level is not None\n"
     ]
    },
    {
     "name": "stdout",
     "output_type": "stream",
     "text": [
      "[NiftiLabelsMasker.transform_single_imgs] Extracting region signals\n",
      "[NiftiLabelsMasker.transform_single_imgs] Cleaning extracted signals\n",
      "_______________________________________________filter_and_extract - 0.9s, 0.0min\n",
      "[NiftiLabelsMasker.fit_transform] loading data from C:\\Users\\June Cai/nilearn_data\\fsl\\data\\atlases\\HarvardOxford\\HarvardOxford-cort-maxprob-thr25-2mm.nii.gz\n",
      "Resampling labels\n",
      "________________________________________________________________________________\n",
      "[Memory] Calling nilearn.input_data.base_masker.filter_and_extract...\n",
      "filter_and_extract('F:\\\\ece\\\\capstone\\\\code\\\\py\\\\data\\\\abide\\\\traindata\\\\29222_rest_1.nii.gz', <nilearn.input_data.nifti_labels_masker._ExtractionFunctor object at 0x000001248A91F588>, \n",
      "{ 'background_label': 0,\n",
      "  'detrend': False,\n",
      "  'dtype': None,\n",
      "  'high_pass': None,\n",
      "  'labels_img': 'C:\\\\Users\\\\June '\n",
      "                'Cai/nilearn_data\\\\fsl\\\\data\\\\atlases\\\\HarvardOxford\\\\HarvardOxford-cort-maxprob-thr25-2mm.nii.gz',\n",
      "  'low_pass': None,\n",
      "  'mask_img': None,\n",
      "  'smoothing_fwhm': None,\n",
      "  'standardize': True,\n",
      "  't_r': None,\n",
      "  'target_affine': None,\n",
      "  'target_shape': None}, memory_level=1, memory=Memory(location=nilearn_cache\\joblib), verbose=5, confounds=None, dtype=None)\n",
      "[NiftiLabelsMasker.transform_single_imgs] Loading data from F:\\ece\\capstone\\code\\py\\data\\abide\\traindata\\29222_rest_1.nii.gz\n"
     ]
    },
    {
     "name": "stderr",
     "output_type": "stream",
     "text": [
      "C:\\Users\\June Cai\\AppData\\Roaming\\Python\\Python35\\site-packages\\nilearn\\_utils\\cache_mixin.py:84: DeprecationWarning: The 'cachedir' parameter has been deprecated in version 0.12 and will be removed in version 0.14.\n",
      "You provided \"cachedir='nilearn_cache'\", use \"location='nilearn_cache'\" instead.\n",
      "  memory = Memory(cachedir=cache_dir, verbose=verbose)\n",
      "C:\\Users\\June Cai\\AppData\\Roaming\\Python\\Python35\\site-packages\\nilearn\\_utils\\cache_mixin.py:232: DeprecationWarning: The 'cachedir' attribute has been deprecated in version 0.12 and will be removed in version 0.14.\n",
      "Use os.path.join(memory.location, 'joblib') attribute instead.\n",
      "  if (memory.cachedir is None and memory_level is not None\n"
     ]
    },
    {
     "name": "stdout",
     "output_type": "stream",
     "text": [
      "[NiftiLabelsMasker.transform_single_imgs] Extracting region signals\n",
      "[NiftiLabelsMasker.transform_single_imgs] Cleaning extracted signals\n",
      "_______________________________________________filter_and_extract - 1.0s, 0.0min\n",
      "[NiftiLabelsMasker.fit_transform] loading data from C:\\Users\\June Cai/nilearn_data\\fsl\\data\\atlases\\HarvardOxford\\HarvardOxford-cort-maxprob-thr25-2mm.nii.gz\n",
      "Resampling labels\n",
      "________________________________________________________________________________\n",
      "[Memory] Calling nilearn.input_data.base_masker.filter_and_extract...\n",
      "filter_and_extract('F:\\\\ece\\\\capstone\\\\code\\\\py\\\\data\\\\abide\\\\traindata\\\\29223_rest_1.nii.gz', <nilearn.input_data.nifti_labels_masker._ExtractionFunctor object at 0x000001248A91F400>, \n",
      "{ 'background_label': 0,\n",
      "  'detrend': False,\n",
      "  'dtype': None,\n",
      "  'high_pass': None,\n",
      "  'labels_img': 'C:\\\\Users\\\\June '\n",
      "                'Cai/nilearn_data\\\\fsl\\\\data\\\\atlases\\\\HarvardOxford\\\\HarvardOxford-cort-maxprob-thr25-2mm.nii.gz',\n",
      "  'low_pass': None,\n",
      "  'mask_img': None,\n",
      "  'smoothing_fwhm': None,\n",
      "  'standardize': True,\n",
      "  't_r': None,\n",
      "  'target_affine': None,\n",
      "  'target_shape': None}, memory_level=1, memory=Memory(location=nilearn_cache\\joblib), verbose=5, confounds=None, dtype=None)\n",
      "[NiftiLabelsMasker.transform_single_imgs] Loading data from F:\\ece\\capstone\\code\\py\\data\\abide\\traindata\\29223_rest_1.nii.gz\n"
     ]
    },
    {
     "name": "stderr",
     "output_type": "stream",
     "text": [
      "C:\\Users\\June Cai\\AppData\\Roaming\\Python\\Python35\\site-packages\\nilearn\\_utils\\cache_mixin.py:84: DeprecationWarning: The 'cachedir' parameter has been deprecated in version 0.12 and will be removed in version 0.14.\n",
      "You provided \"cachedir='nilearn_cache'\", use \"location='nilearn_cache'\" instead.\n",
      "  memory = Memory(cachedir=cache_dir, verbose=verbose)\n",
      "C:\\Users\\June Cai\\AppData\\Roaming\\Python\\Python35\\site-packages\\nilearn\\_utils\\cache_mixin.py:232: DeprecationWarning: The 'cachedir' attribute has been deprecated in version 0.12 and will be removed in version 0.14.\n",
      "Use os.path.join(memory.location, 'joblib') attribute instead.\n",
      "  if (memory.cachedir is None and memory_level is not None\n"
     ]
    },
    {
     "name": "stdout",
     "output_type": "stream",
     "text": [
      "[NiftiLabelsMasker.transform_single_imgs] Extracting region signals\n",
      "[NiftiLabelsMasker.transform_single_imgs] Cleaning extracted signals\n",
      "_______________________________________________filter_and_extract - 0.9s, 0.0min\n",
      "[NiftiLabelsMasker.fit_transform] loading data from C:\\Users\\June Cai/nilearn_data\\fsl\\data\\atlases\\HarvardOxford\\HarvardOxford-cort-maxprob-thr25-2mm.nii.gz\n",
      "Resampling labels\n",
      "________________________________________________________________________________\n",
      "[Memory] Calling nilearn.input_data.base_masker.filter_and_extract...\n",
      "filter_and_extract('F:\\\\ece\\\\capstone\\\\code\\\\py\\\\data\\\\abide\\\\traindata\\\\29224_rest_1.nii.gz', <nilearn.input_data.nifti_labels_masker._ExtractionFunctor object at 0x000001248D6CCC50>, \n",
      "{ 'background_label': 0,\n",
      "  'detrend': False,\n",
      "  'dtype': None,\n",
      "  'high_pass': None,\n",
      "  'labels_img': 'C:\\\\Users\\\\June '\n",
      "                'Cai/nilearn_data\\\\fsl\\\\data\\\\atlases\\\\HarvardOxford\\\\HarvardOxford-cort-maxprob-thr25-2mm.nii.gz',\n",
      "  'low_pass': None,\n",
      "  'mask_img': None,\n",
      "  'smoothing_fwhm': None,\n",
      "  'standardize': True,\n",
      "  't_r': None,\n",
      "  'target_affine': None,\n",
      "  'target_shape': None}, memory_level=1, memory=Memory(location=nilearn_cache\\joblib), verbose=5, confounds=None, dtype=None)\n",
      "[NiftiLabelsMasker.transform_single_imgs] Loading data from F:\\ece\\capstone\\code\\py\\data\\abide\\traindata\\29224_rest_1.nii.gz\n"
     ]
    },
    {
     "name": "stderr",
     "output_type": "stream",
     "text": [
      "C:\\Users\\June Cai\\AppData\\Roaming\\Python\\Python35\\site-packages\\nilearn\\_utils\\cache_mixin.py:84: DeprecationWarning: The 'cachedir' parameter has been deprecated in version 0.12 and will be removed in version 0.14.\n",
      "You provided \"cachedir='nilearn_cache'\", use \"location='nilearn_cache'\" instead.\n",
      "  memory = Memory(cachedir=cache_dir, verbose=verbose)\n",
      "C:\\Users\\June Cai\\AppData\\Roaming\\Python\\Python35\\site-packages\\nilearn\\_utils\\cache_mixin.py:232: DeprecationWarning: The 'cachedir' attribute has been deprecated in version 0.12 and will be removed in version 0.14.\n",
      "Use os.path.join(memory.location, 'joblib') attribute instead.\n",
      "  if (memory.cachedir is None and memory_level is not None\n"
     ]
    },
    {
     "name": "stdout",
     "output_type": "stream",
     "text": [
      "[NiftiLabelsMasker.transform_single_imgs] Extracting region signals\n",
      "[NiftiLabelsMasker.transform_single_imgs] Cleaning extracted signals\n",
      "_______________________________________________filter_and_extract - 0.9s, 0.0min\n",
      "[NiftiLabelsMasker.fit_transform] loading data from C:\\Users\\June Cai/nilearn_data\\fsl\\data\\atlases\\HarvardOxford\\HarvardOxford-cort-maxprob-thr25-2mm.nii.gz\n",
      "Resampling labels\n",
      "________________________________________________________________________________\n",
      "[Memory] Calling nilearn.input_data.base_masker.filter_and_extract...\n",
      "filter_and_extract('F:\\\\ece\\\\capstone\\\\code\\\\py\\\\data\\\\abide\\\\traindata\\\\29225_rest_1.nii.gz', <nilearn.input_data.nifti_labels_masker._ExtractionFunctor object at 0x00000124FBC1F5C0>, \n",
      "{ 'background_label': 0,\n",
      "  'detrend': False,\n",
      "  'dtype': None,\n",
      "  'high_pass': None,\n",
      "  'labels_img': 'C:\\\\Users\\\\June '\n",
      "                'Cai/nilearn_data\\\\fsl\\\\data\\\\atlases\\\\HarvardOxford\\\\HarvardOxford-cort-maxprob-thr25-2mm.nii.gz',\n",
      "  'low_pass': None,\n",
      "  'mask_img': None,\n",
      "  'smoothing_fwhm': None,\n",
      "  'standardize': True,\n",
      "  't_r': None,\n",
      "  'target_affine': None,\n",
      "  'target_shape': None}, memory_level=1, memory=Memory(location=nilearn_cache\\joblib), verbose=5, confounds=None, dtype=None)\n",
      "[NiftiLabelsMasker.transform_single_imgs] Loading data from F:\\ece\\capstone\\code\\py\\data\\abide\\traindata\\29225_rest_1.nii.gz\n"
     ]
    },
    {
     "name": "stderr",
     "output_type": "stream",
     "text": [
      "C:\\Users\\June Cai\\AppData\\Roaming\\Python\\Python35\\site-packages\\nilearn\\_utils\\cache_mixin.py:84: DeprecationWarning: The 'cachedir' parameter has been deprecated in version 0.12 and will be removed in version 0.14.\n",
      "You provided \"cachedir='nilearn_cache'\", use \"location='nilearn_cache'\" instead.\n",
      "  memory = Memory(cachedir=cache_dir, verbose=verbose)\n",
      "C:\\Users\\June Cai\\AppData\\Roaming\\Python\\Python35\\site-packages\\nilearn\\_utils\\cache_mixin.py:232: DeprecationWarning: The 'cachedir' attribute has been deprecated in version 0.12 and will be removed in version 0.14.\n",
      "Use os.path.join(memory.location, 'joblib') attribute instead.\n",
      "  if (memory.cachedir is None and memory_level is not None\n"
     ]
    },
    {
     "name": "stdout",
     "output_type": "stream",
     "text": [
      "[NiftiLabelsMasker.transform_single_imgs] Extracting region signals\n",
      "[NiftiLabelsMasker.transform_single_imgs] Cleaning extracted signals\n",
      "_______________________________________________filter_and_extract - 0.9s, 0.0min\n",
      "[NiftiLabelsMasker.fit_transform] loading data from C:\\Users\\June Cai/nilearn_data\\fsl\\data\\atlases\\HarvardOxford\\HarvardOxford-cort-maxprob-thr25-2mm.nii.gz\n",
      "Resampling labels\n",
      "________________________________________________________________________________\n",
      "[Memory] Calling nilearn.input_data.base_masker.filter_and_extract...\n",
      "filter_and_extract('F:\\\\ece\\\\capstone\\\\code\\\\py\\\\data\\\\abide\\\\traindata\\\\29226_rest_1.nii.gz', <nilearn.input_data.nifti_labels_masker._ExtractionFunctor object at 0x000001248A9110F0>, \n",
      "{ 'background_label': 0,\n",
      "  'detrend': False,\n",
      "  'dtype': None,\n",
      "  'high_pass': None,\n",
      "  'labels_img': 'C:\\\\Users\\\\June '\n",
      "                'Cai/nilearn_data\\\\fsl\\\\data\\\\atlases\\\\HarvardOxford\\\\HarvardOxford-cort-maxprob-thr25-2mm.nii.gz',\n",
      "  'low_pass': None,\n",
      "  'mask_img': None,\n",
      "  'smoothing_fwhm': None,\n",
      "  'standardize': True,\n",
      "  't_r': None,\n",
      "  'target_affine': None,\n",
      "  'target_shape': None}, memory_level=1, memory=Memory(location=nilearn_cache\\joblib), verbose=5, confounds=None, dtype=None)\n",
      "[NiftiLabelsMasker.transform_single_imgs] Loading data from F:\\ece\\capstone\\code\\py\\data\\abide\\traindata\\29226_rest_1.nii.gz\n"
     ]
    },
    {
     "name": "stderr",
     "output_type": "stream",
     "text": [
      "C:\\Users\\June Cai\\AppData\\Roaming\\Python\\Python35\\site-packages\\nilearn\\_utils\\cache_mixin.py:84: DeprecationWarning: The 'cachedir' parameter has been deprecated in version 0.12 and will be removed in version 0.14.\n",
      "You provided \"cachedir='nilearn_cache'\", use \"location='nilearn_cache'\" instead.\n",
      "  memory = Memory(cachedir=cache_dir, verbose=verbose)\n",
      "C:\\Users\\June Cai\\AppData\\Roaming\\Python\\Python35\\site-packages\\nilearn\\_utils\\cache_mixin.py:232: DeprecationWarning: The 'cachedir' attribute has been deprecated in version 0.12 and will be removed in version 0.14.\n",
      "Use os.path.join(memory.location, 'joblib') attribute instead.\n",
      "  if (memory.cachedir is None and memory_level is not None\n"
     ]
    },
    {
     "name": "stdout",
     "output_type": "stream",
     "text": [
      "[NiftiLabelsMasker.transform_single_imgs] Extracting region signals\n",
      "[NiftiLabelsMasker.transform_single_imgs] Cleaning extracted signals\n",
      "_______________________________________________filter_and_extract - 1.0s, 0.0min\n",
      "[NiftiLabelsMasker.fit_transform] loading data from C:\\Users\\June Cai/nilearn_data\\fsl\\data\\atlases\\HarvardOxford\\HarvardOxford-cort-maxprob-thr25-2mm.nii.gz\n",
      "Resampling labels\n",
      "________________________________________________________________________________\n",
      "[Memory] Calling nilearn.input_data.base_masker.filter_and_extract...\n",
      "filter_and_extract('F:\\\\ece\\\\capstone\\\\code\\\\py\\\\data\\\\abide\\\\traindata\\\\29227_rest_1.nii.gz', <nilearn.input_data.nifti_labels_masker._ExtractionFunctor object at 0x00000124FBBBF390>, \n",
      "{ 'background_label': 0,\n",
      "  'detrend': False,\n",
      "  'dtype': None,\n",
      "  'high_pass': None,\n",
      "  'labels_img': 'C:\\\\Users\\\\June '\n",
      "                'Cai/nilearn_data\\\\fsl\\\\data\\\\atlases\\\\HarvardOxford\\\\HarvardOxford-cort-maxprob-thr25-2mm.nii.gz',\n",
      "  'low_pass': None,\n",
      "  'mask_img': None,\n",
      "  'smoothing_fwhm': None,\n",
      "  'standardize': True,\n",
      "  't_r': None,\n",
      "  'target_affine': None,\n",
      "  'target_shape': None}, memory_level=1, memory=Memory(location=nilearn_cache\\joblib), verbose=5, confounds=None, dtype=None)\n",
      "[NiftiLabelsMasker.transform_single_imgs] Loading data from F:\\ece\\capstone\\code\\py\\data\\abide\\traindata\\29227_rest_1.nii.gz\n"
     ]
    },
    {
     "name": "stderr",
     "output_type": "stream",
     "text": [
      "C:\\Users\\June Cai\\AppData\\Roaming\\Python\\Python35\\site-packages\\nilearn\\_utils\\cache_mixin.py:84: DeprecationWarning: The 'cachedir' parameter has been deprecated in version 0.12 and will be removed in version 0.14.\n",
      "You provided \"cachedir='nilearn_cache'\", use \"location='nilearn_cache'\" instead.\n",
      "  memory = Memory(cachedir=cache_dir, verbose=verbose)\n",
      "C:\\Users\\June Cai\\AppData\\Roaming\\Python\\Python35\\site-packages\\nilearn\\_utils\\cache_mixin.py:232: DeprecationWarning: The 'cachedir' attribute has been deprecated in version 0.12 and will be removed in version 0.14.\n",
      "Use os.path.join(memory.location, 'joblib') attribute instead.\n",
      "  if (memory.cachedir is None and memory_level is not None\n"
     ]
    },
    {
     "name": "stdout",
     "output_type": "stream",
     "text": [
      "[NiftiLabelsMasker.transform_single_imgs] Extracting region signals\n",
      "[NiftiLabelsMasker.transform_single_imgs] Cleaning extracted signals\n",
      "_______________________________________________filter_and_extract - 0.9s, 0.0min\n",
      "[NiftiLabelsMasker.fit_transform] loading data from C:\\Users\\June Cai/nilearn_data\\fsl\\data\\atlases\\HarvardOxford\\HarvardOxford-cort-maxprob-thr25-2mm.nii.gz\n",
      "Resampling labels\n",
      "________________________________________________________________________________\n",
      "[Memory] Calling nilearn.input_data.base_masker.filter_and_extract...\n",
      "filter_and_extract('F:\\\\ece\\\\capstone\\\\code\\\\py\\\\data\\\\abide\\\\traindata\\\\29228_rest_1.nii.gz', <nilearn.input_data.nifti_labels_masker._ExtractionFunctor object at 0x000001248C732048>, \n",
      "{ 'background_label': 0,\n",
      "  'detrend': False,\n",
      "  'dtype': None,\n",
      "  'high_pass': None,\n",
      "  'labels_img': 'C:\\\\Users\\\\June '\n",
      "                'Cai/nilearn_data\\\\fsl\\\\data\\\\atlases\\\\HarvardOxford\\\\HarvardOxford-cort-maxprob-thr25-2mm.nii.gz',\n",
      "  'low_pass': None,\n",
      "  'mask_img': None,\n",
      "  'smoothing_fwhm': None,\n",
      "  'standardize': True,\n",
      "  't_r': None,\n",
      "  'target_affine': None,\n",
      "  'target_shape': None}, memory_level=1, memory=Memory(location=nilearn_cache\\joblib), verbose=5, confounds=None, dtype=None)\n",
      "[NiftiLabelsMasker.transform_single_imgs] Loading data from F:\\ece\\capstone\\code\\py\\data\\abide\\traindata\\29228_rest_1.nii.gz\n"
     ]
    },
    {
     "name": "stderr",
     "output_type": "stream",
     "text": [
      "C:\\Users\\June Cai\\AppData\\Roaming\\Python\\Python35\\site-packages\\nilearn\\_utils\\cache_mixin.py:84: DeprecationWarning: The 'cachedir' parameter has been deprecated in version 0.12 and will be removed in version 0.14.\n",
      "You provided \"cachedir='nilearn_cache'\", use \"location='nilearn_cache'\" instead.\n",
      "  memory = Memory(cachedir=cache_dir, verbose=verbose)\n",
      "C:\\Users\\June Cai\\AppData\\Roaming\\Python\\Python35\\site-packages\\nilearn\\_utils\\cache_mixin.py:232: DeprecationWarning: The 'cachedir' attribute has been deprecated in version 0.12 and will be removed in version 0.14.\n",
      "Use os.path.join(memory.location, 'joblib') attribute instead.\n",
      "  if (memory.cachedir is None and memory_level is not None\n"
     ]
    },
    {
     "name": "stdout",
     "output_type": "stream",
     "text": [
      "[NiftiLabelsMasker.transform_single_imgs] Extracting region signals\n",
      "[NiftiLabelsMasker.transform_single_imgs] Cleaning extracted signals\n",
      "_______________________________________________filter_and_extract - 1.0s, 0.0min\n",
      "[NiftiLabelsMasker.fit_transform] loading data from C:\\Users\\June Cai/nilearn_data\\fsl\\data\\atlases\\HarvardOxford\\HarvardOxford-cort-maxprob-thr25-2mm.nii.gz\n",
      "Resampling labels\n",
      "________________________________________________________________________________\n",
      "[Memory] Calling nilearn.input_data.base_masker.filter_and_extract...\n",
      "filter_and_extract('F:\\\\ece\\\\capstone\\\\code\\\\py\\\\data\\\\abide\\\\traindata\\\\29229_rest_1.nii.gz', <nilearn.input_data.nifti_labels_masker._ExtractionFunctor object at 0x00000124F72414A8>, \n",
      "{ 'background_label': 0,\n",
      "  'detrend': False,\n",
      "  'dtype': None,\n",
      "  'high_pass': None,\n",
      "  'labels_img': 'C:\\\\Users\\\\June '\n",
      "                'Cai/nilearn_data\\\\fsl\\\\data\\\\atlases\\\\HarvardOxford\\\\HarvardOxford-cort-maxprob-thr25-2mm.nii.gz',\n",
      "  'low_pass': None,\n",
      "  'mask_img': None,\n",
      "  'smoothing_fwhm': None,\n",
      "  'standardize': True,\n",
      "  't_r': None,\n",
      "  'target_affine': None,\n",
      "  'target_shape': None}, memory_level=1, memory=Memory(location=nilearn_cache\\joblib), verbose=5, confounds=None, dtype=None)\n",
      "[NiftiLabelsMasker.transform_single_imgs] Loading data from F:\\ece\\capstone\\code\\py\\data\\abide\\traindata\\29229_rest_1.nii.gz\n"
     ]
    },
    {
     "name": "stderr",
     "output_type": "stream",
     "text": [
      "C:\\Users\\June Cai\\AppData\\Roaming\\Python\\Python35\\site-packages\\nilearn\\_utils\\cache_mixin.py:84: DeprecationWarning: The 'cachedir' parameter has been deprecated in version 0.12 and will be removed in version 0.14.\n",
      "You provided \"cachedir='nilearn_cache'\", use \"location='nilearn_cache'\" instead.\n",
      "  memory = Memory(cachedir=cache_dir, verbose=verbose)\n",
      "C:\\Users\\June Cai\\AppData\\Roaming\\Python\\Python35\\site-packages\\nilearn\\_utils\\cache_mixin.py:232: DeprecationWarning: The 'cachedir' attribute has been deprecated in version 0.12 and will be removed in version 0.14.\n",
      "Use os.path.join(memory.location, 'joblib') attribute instead.\n",
      "  if (memory.cachedir is None and memory_level is not None\n"
     ]
    },
    {
     "name": "stdout",
     "output_type": "stream",
     "text": [
      "[NiftiLabelsMasker.transform_single_imgs] Extracting region signals\n",
      "[NiftiLabelsMasker.transform_single_imgs] Cleaning extracted signals\n",
      "_______________________________________________filter_and_extract - 0.9s, 0.0min\n",
      "[NiftiLabelsMasker.fit_transform] loading data from C:\\Users\\June Cai/nilearn_data\\fsl\\data\\atlases\\HarvardOxford\\HarvardOxford-cort-maxprob-thr25-2mm.nii.gz\n",
      "Resampling labels\n",
      "________________________________________________________________________________\n",
      "[Memory] Calling nilearn.input_data.base_masker.filter_and_extract...\n",
      "filter_and_extract('F:\\\\ece\\\\capstone\\\\code\\\\py\\\\data\\\\abide\\\\traindata\\\\29230_rest_1.nii.gz', <nilearn.input_data.nifti_labels_masker._ExtractionFunctor object at 0x0000012496F2ABA8>, \n",
      "{ 'background_label': 0,\n",
      "  'detrend': False,\n",
      "  'dtype': None,\n",
      "  'high_pass': None,\n",
      "  'labels_img': 'C:\\\\Users\\\\June '\n",
      "                'Cai/nilearn_data\\\\fsl\\\\data\\\\atlases\\\\HarvardOxford\\\\HarvardOxford-cort-maxprob-thr25-2mm.nii.gz',\n",
      "  'low_pass': None,\n",
      "  'mask_img': None,\n",
      "  'smoothing_fwhm': None,\n",
      "  'standardize': True,\n",
      "  't_r': None,\n",
      "  'target_affine': None,\n",
      "  'target_shape': None}, memory_level=1, memory=Memory(location=nilearn_cache\\joblib), verbose=5, confounds=None, dtype=None)\n",
      "[NiftiLabelsMasker.transform_single_imgs] Loading data from F:\\ece\\capstone\\code\\py\\data\\abide\\traindata\\29230_rest_1.nii.gz\n"
     ]
    },
    {
     "name": "stderr",
     "output_type": "stream",
     "text": [
      "C:\\Users\\June Cai\\AppData\\Roaming\\Python\\Python35\\site-packages\\nilearn\\_utils\\cache_mixin.py:84: DeprecationWarning: The 'cachedir' parameter has been deprecated in version 0.12 and will be removed in version 0.14.\n",
      "You provided \"cachedir='nilearn_cache'\", use \"location='nilearn_cache'\" instead.\n",
      "  memory = Memory(cachedir=cache_dir, verbose=verbose)\n",
      "C:\\Users\\June Cai\\AppData\\Roaming\\Python\\Python35\\site-packages\\nilearn\\_utils\\cache_mixin.py:232: DeprecationWarning: The 'cachedir' attribute has been deprecated in version 0.12 and will be removed in version 0.14.\n",
      "Use os.path.join(memory.location, 'joblib') attribute instead.\n",
      "  if (memory.cachedir is None and memory_level is not None\n"
     ]
    },
    {
     "name": "stdout",
     "output_type": "stream",
     "text": [
      "[NiftiLabelsMasker.transform_single_imgs] Extracting region signals\n",
      "[NiftiLabelsMasker.transform_single_imgs] Cleaning extracted signals\n",
      "_______________________________________________filter_and_extract - 1.0s, 0.0min\n",
      "[NiftiLabelsMasker.fit_transform] loading data from C:\\Users\\June Cai/nilearn_data\\fsl\\data\\atlases\\HarvardOxford\\HarvardOxford-cort-maxprob-thr25-2mm.nii.gz\n",
      "Resampling labels\n",
      "________________________________________________________________________________\n",
      "[Memory] Calling nilearn.input_data.base_masker.filter_and_extract...\n",
      "filter_and_extract('F:\\\\ece\\\\capstone\\\\code\\\\py\\\\data\\\\abide\\\\traindata\\\\29231_rest_1.nii.gz', <nilearn.input_data.nifti_labels_masker._ExtractionFunctor object at 0x00000124FBC1F5C0>, \n",
      "{ 'background_label': 0,\n",
      "  'detrend': False,\n",
      "  'dtype': None,\n",
      "  'high_pass': None,\n",
      "  'labels_img': 'C:\\\\Users\\\\June '\n",
      "                'Cai/nilearn_data\\\\fsl\\\\data\\\\atlases\\\\HarvardOxford\\\\HarvardOxford-cort-maxprob-thr25-2mm.nii.gz',\n",
      "  'low_pass': None,\n",
      "  'mask_img': None,\n",
      "  'smoothing_fwhm': None,\n",
      "  'standardize': True,\n",
      "  't_r': None,\n",
      "  'target_affine': None,\n",
      "  'target_shape': None}, memory_level=1, memory=Memory(location=nilearn_cache\\joblib), verbose=5, confounds=None, dtype=None)\n",
      "[NiftiLabelsMasker.transform_single_imgs] Loading data from F:\\ece\\capstone\\code\\py\\data\\abide\\traindata\\29231_rest_1.nii.gz\n"
     ]
    },
    {
     "name": "stderr",
     "output_type": "stream",
     "text": [
      "C:\\Users\\June Cai\\AppData\\Roaming\\Python\\Python35\\site-packages\\nilearn\\_utils\\cache_mixin.py:84: DeprecationWarning: The 'cachedir' parameter has been deprecated in version 0.12 and will be removed in version 0.14.\n",
      "You provided \"cachedir='nilearn_cache'\", use \"location='nilearn_cache'\" instead.\n",
      "  memory = Memory(cachedir=cache_dir, verbose=verbose)\n",
      "C:\\Users\\June Cai\\AppData\\Roaming\\Python\\Python35\\site-packages\\nilearn\\_utils\\cache_mixin.py:232: DeprecationWarning: The 'cachedir' attribute has been deprecated in version 0.12 and will be removed in version 0.14.\n",
      "Use os.path.join(memory.location, 'joblib') attribute instead.\n",
      "  if (memory.cachedir is None and memory_level is not None\n"
     ]
    },
    {
     "name": "stdout",
     "output_type": "stream",
     "text": [
      "[NiftiLabelsMasker.transform_single_imgs] Extracting region signals\n",
      "[NiftiLabelsMasker.transform_single_imgs] Cleaning extracted signals\n",
      "_______________________________________________filter_and_extract - 0.9s, 0.0min\n",
      "[NiftiLabelsMasker.fit_transform] loading data from C:\\Users\\June Cai/nilearn_data\\fsl\\data\\atlases\\HarvardOxford\\HarvardOxford-cort-maxprob-thr25-2mm.nii.gz\n",
      "Resampling labels\n",
      "________________________________________________________________________________\n",
      "[Memory] Calling nilearn.input_data.base_masker.filter_and_extract...\n",
      "filter_and_extract('F:\\\\ece\\\\capstone\\\\code\\\\py\\\\data\\\\abide\\\\traindata\\\\29232_rest_1.nii.gz', <nilearn.input_data.nifti_labels_masker._ExtractionFunctor object at 0x0000012496F1A8D0>, \n",
      "{ 'background_label': 0,\n",
      "  'detrend': False,\n",
      "  'dtype': None,\n",
      "  'high_pass': None,\n",
      "  'labels_img': 'C:\\\\Users\\\\June '\n",
      "                'Cai/nilearn_data\\\\fsl\\\\data\\\\atlases\\\\HarvardOxford\\\\HarvardOxford-cort-maxprob-thr25-2mm.nii.gz',\n",
      "  'low_pass': None,\n",
      "  'mask_img': None,\n",
      "  'smoothing_fwhm': None,\n",
      "  'standardize': True,\n",
      "  't_r': None,\n",
      "  'target_affine': None,\n",
      "  'target_shape': None}, memory_level=1, memory=Memory(location=nilearn_cache\\joblib), verbose=5, confounds=None, dtype=None)\n",
      "[NiftiLabelsMasker.transform_single_imgs] Loading data from F:\\ece\\capstone\\code\\py\\data\\abide\\traindata\\29232_rest_1.nii.gz\n"
     ]
    },
    {
     "name": "stderr",
     "output_type": "stream",
     "text": [
      "C:\\Users\\June Cai\\AppData\\Roaming\\Python\\Python35\\site-packages\\nilearn\\_utils\\cache_mixin.py:84: DeprecationWarning: The 'cachedir' parameter has been deprecated in version 0.12 and will be removed in version 0.14.\n",
      "You provided \"cachedir='nilearn_cache'\", use \"location='nilearn_cache'\" instead.\n",
      "  memory = Memory(cachedir=cache_dir, verbose=verbose)\n",
      "C:\\Users\\June Cai\\AppData\\Roaming\\Python\\Python35\\site-packages\\nilearn\\_utils\\cache_mixin.py:232: DeprecationWarning: The 'cachedir' attribute has been deprecated in version 0.12 and will be removed in version 0.14.\n",
      "Use os.path.join(memory.location, 'joblib') attribute instead.\n",
      "  if (memory.cachedir is None and memory_level is not None\n"
     ]
    },
    {
     "name": "stdout",
     "output_type": "stream",
     "text": [
      "[NiftiLabelsMasker.transform_single_imgs] Extracting region signals\n",
      "[NiftiLabelsMasker.transform_single_imgs] Cleaning extracted signals\n",
      "_______________________________________________filter_and_extract - 0.9s, 0.0min\n",
      "[NiftiLabelsMasker.fit_transform] loading data from C:\\Users\\June Cai/nilearn_data\\fsl\\data\\atlases\\HarvardOxford\\HarvardOxford-cort-maxprob-thr25-2mm.nii.gz\n",
      "Resampling labels\n",
      "________________________________________________________________________________\n",
      "[Memory] Calling nilearn.input_data.base_masker.filter_and_extract...\n",
      "filter_and_extract('F:\\\\ece\\\\capstone\\\\code\\\\py\\\\data\\\\abide\\\\traindata\\\\29233_rest_1.nii.gz', <nilearn.input_data.nifti_labels_masker._ExtractionFunctor object at 0x000001248AD57BE0>, \n",
      "{ 'background_label': 0,\n",
      "  'detrend': False,\n",
      "  'dtype': None,\n",
      "  'high_pass': None,\n",
      "  'labels_img': 'C:\\\\Users\\\\June '\n",
      "                'Cai/nilearn_data\\\\fsl\\\\data\\\\atlases\\\\HarvardOxford\\\\HarvardOxford-cort-maxprob-thr25-2mm.nii.gz',\n",
      "  'low_pass': None,\n",
      "  'mask_img': None,\n",
      "  'smoothing_fwhm': None,\n",
      "  'standardize': True,\n",
      "  't_r': None,\n",
      "  'target_affine': None,\n",
      "  'target_shape': None}, memory_level=1, memory=Memory(location=nilearn_cache\\joblib), verbose=5, confounds=None, dtype=None)\n",
      "[NiftiLabelsMasker.transform_single_imgs] Loading data from F:\\ece\\capstone\\code\\py\\data\\abide\\traindata\\29233_rest_1.nii.gz\n"
     ]
    },
    {
     "name": "stderr",
     "output_type": "stream",
     "text": [
      "C:\\Users\\June Cai\\AppData\\Roaming\\Python\\Python35\\site-packages\\nilearn\\_utils\\cache_mixin.py:84: DeprecationWarning: The 'cachedir' parameter has been deprecated in version 0.12 and will be removed in version 0.14.\n",
      "You provided \"cachedir='nilearn_cache'\", use \"location='nilearn_cache'\" instead.\n",
      "  memory = Memory(cachedir=cache_dir, verbose=verbose)\n",
      "C:\\Users\\June Cai\\AppData\\Roaming\\Python\\Python35\\site-packages\\nilearn\\_utils\\cache_mixin.py:232: DeprecationWarning: The 'cachedir' attribute has been deprecated in version 0.12 and will be removed in version 0.14.\n",
      "Use os.path.join(memory.location, 'joblib') attribute instead.\n",
      "  if (memory.cachedir is None and memory_level is not None\n"
     ]
    },
    {
     "name": "stdout",
     "output_type": "stream",
     "text": [
      "[NiftiLabelsMasker.transform_single_imgs] Extracting region signals\n",
      "[NiftiLabelsMasker.transform_single_imgs] Cleaning extracted signals\n",
      "_______________________________________________filter_and_extract - 0.9s, 0.0min\n",
      "[NiftiLabelsMasker.fit_transform] loading data from C:\\Users\\June Cai/nilearn_data\\fsl\\data\\atlases\\HarvardOxford\\HarvardOxford-cort-maxprob-thr25-2mm.nii.gz\n",
      "Resampling labels\n",
      "________________________________________________________________________________\n",
      "[Memory] Calling nilearn.input_data.base_masker.filter_and_extract...\n",
      "filter_and_extract('F:\\\\ece\\\\capstone\\\\code\\\\py\\\\data\\\\abide\\\\traindata\\\\29234_rest_1.nii.gz', <nilearn.input_data.nifti_labels_masker._ExtractionFunctor object at 0x000001248A9110F0>, \n",
      "{ 'background_label': 0,\n",
      "  'detrend': False,\n",
      "  'dtype': None,\n",
      "  'high_pass': None,\n",
      "  'labels_img': 'C:\\\\Users\\\\June '\n",
      "                'Cai/nilearn_data\\\\fsl\\\\data\\\\atlases\\\\HarvardOxford\\\\HarvardOxford-cort-maxprob-thr25-2mm.nii.gz',\n",
      "  'low_pass': None,\n",
      "  'mask_img': None,\n",
      "  'smoothing_fwhm': None,\n",
      "  'standardize': True,\n",
      "  't_r': None,\n",
      "  'target_affine': None,\n",
      "  'target_shape': None}, memory_level=1, memory=Memory(location=nilearn_cache\\joblib), verbose=5, confounds=None, dtype=None)\n",
      "[NiftiLabelsMasker.transform_single_imgs] Loading data from F:\\ece\\capstone\\code\\py\\data\\abide\\traindata\\29234_rest_1.nii.gz\n"
     ]
    },
    {
     "name": "stderr",
     "output_type": "stream",
     "text": [
      "C:\\Users\\June Cai\\AppData\\Roaming\\Python\\Python35\\site-packages\\nilearn\\_utils\\cache_mixin.py:84: DeprecationWarning: The 'cachedir' parameter has been deprecated in version 0.12 and will be removed in version 0.14.\n",
      "You provided \"cachedir='nilearn_cache'\", use \"location='nilearn_cache'\" instead.\n",
      "  memory = Memory(cachedir=cache_dir, verbose=verbose)\n",
      "C:\\Users\\June Cai\\AppData\\Roaming\\Python\\Python35\\site-packages\\nilearn\\_utils\\cache_mixin.py:232: DeprecationWarning: The 'cachedir' attribute has been deprecated in version 0.12 and will be removed in version 0.14.\n",
      "Use os.path.join(memory.location, 'joblib') attribute instead.\n",
      "  if (memory.cachedir is None and memory_level is not None\n"
     ]
    },
    {
     "name": "stdout",
     "output_type": "stream",
     "text": [
      "[NiftiLabelsMasker.transform_single_imgs] Extracting region signals\n",
      "[NiftiLabelsMasker.transform_single_imgs] Cleaning extracted signals\n",
      "_______________________________________________filter_and_extract - 0.9s, 0.0min\n",
      "[NiftiLabelsMasker.fit_transform] loading data from C:\\Users\\June Cai/nilearn_data\\fsl\\data\\atlases\\HarvardOxford\\HarvardOxford-cort-maxprob-thr25-2mm.nii.gz\n",
      "Resampling labels\n",
      "________________________________________________________________________________\n",
      "[Memory] Calling nilearn.input_data.base_masker.filter_and_extract...\n",
      "filter_and_extract('F:\\\\ece\\\\capstone\\\\code\\\\py\\\\data\\\\abide\\\\traindata\\\\29235_rest_1.nii.gz', <nilearn.input_data.nifti_labels_masker._ExtractionFunctor object at 0x000001248D6CC4E0>, \n",
      "{ 'background_label': 0,\n",
      "  'detrend': False,\n",
      "  'dtype': None,\n",
      "  'high_pass': None,\n",
      "  'labels_img': 'C:\\\\Users\\\\June '\n",
      "                'Cai/nilearn_data\\\\fsl\\\\data\\\\atlases\\\\HarvardOxford\\\\HarvardOxford-cort-maxprob-thr25-2mm.nii.gz',\n",
      "  'low_pass': None,\n",
      "  'mask_img': None,\n",
      "  'smoothing_fwhm': None,\n",
      "  'standardize': True,\n",
      "  't_r': None,\n",
      "  'target_affine': None,\n",
      "  'target_shape': None}, memory_level=1, memory=Memory(location=nilearn_cache\\joblib), verbose=5, confounds=None, dtype=None)\n",
      "[NiftiLabelsMasker.transform_single_imgs] Loading data from F:\\ece\\capstone\\code\\py\\data\\abide\\traindata\\29235_rest_1.nii.gz\n"
     ]
    },
    {
     "name": "stderr",
     "output_type": "stream",
     "text": [
      "C:\\Users\\June Cai\\AppData\\Roaming\\Python\\Python35\\site-packages\\nilearn\\_utils\\cache_mixin.py:84: DeprecationWarning: The 'cachedir' parameter has been deprecated in version 0.12 and will be removed in version 0.14.\n",
      "You provided \"cachedir='nilearn_cache'\", use \"location='nilearn_cache'\" instead.\n",
      "  memory = Memory(cachedir=cache_dir, verbose=verbose)\n",
      "C:\\Users\\June Cai\\AppData\\Roaming\\Python\\Python35\\site-packages\\nilearn\\_utils\\cache_mixin.py:232: DeprecationWarning: The 'cachedir' attribute has been deprecated in version 0.12 and will be removed in version 0.14.\n",
      "Use os.path.join(memory.location, 'joblib') attribute instead.\n",
      "  if (memory.cachedir is None and memory_level is not None\n"
     ]
    },
    {
     "name": "stdout",
     "output_type": "stream",
     "text": [
      "[NiftiLabelsMasker.transform_single_imgs] Extracting region signals\n",
      "[NiftiLabelsMasker.transform_single_imgs] Cleaning extracted signals\n",
      "_______________________________________________filter_and_extract - 0.9s, 0.0min\n",
      "[NiftiLabelsMasker.fit_transform] loading data from C:\\Users\\June Cai/nilearn_data\\fsl\\data\\atlases\\HarvardOxford\\HarvardOxford-cort-maxprob-thr25-2mm.nii.gz\n",
      "Resampling labels\n",
      "________________________________________________________________________________\n",
      "[Memory] Calling nilearn.input_data.base_masker.filter_and_extract...\n",
      "filter_and_extract('F:\\\\ece\\\\capstone\\\\code\\\\py\\\\data\\\\abide\\\\traindata\\\\29236_rest_1.nii.gz', <nilearn.input_data.nifti_labels_masker._ExtractionFunctor object at 0x00000124FAB717F0>, \n",
      "{ 'background_label': 0,\n",
      "  'detrend': False,\n",
      "  'dtype': None,\n",
      "  'high_pass': None,\n",
      "  'labels_img': 'C:\\\\Users\\\\June '\n",
      "                'Cai/nilearn_data\\\\fsl\\\\data\\\\atlases\\\\HarvardOxford\\\\HarvardOxford-cort-maxprob-thr25-2mm.nii.gz',\n",
      "  'low_pass': None,\n",
      "  'mask_img': None,\n",
      "  'smoothing_fwhm': None,\n",
      "  'standardize': True,\n",
      "  't_r': None,\n",
      "  'target_affine': None,\n",
      "  'target_shape': None}, memory_level=1, memory=Memory(location=nilearn_cache\\joblib), verbose=5, confounds=None, dtype=None)\n",
      "[NiftiLabelsMasker.transform_single_imgs] Loading data from F:\\ece\\capstone\\code\\py\\data\\abide\\traindata\\29236_rest_1.nii.gz\n"
     ]
    },
    {
     "name": "stderr",
     "output_type": "stream",
     "text": [
      "C:\\Users\\June Cai\\AppData\\Roaming\\Python\\Python35\\site-packages\\nilearn\\_utils\\cache_mixin.py:84: DeprecationWarning: The 'cachedir' parameter has been deprecated in version 0.12 and will be removed in version 0.14.\n",
      "You provided \"cachedir='nilearn_cache'\", use \"location='nilearn_cache'\" instead.\n",
      "  memory = Memory(cachedir=cache_dir, verbose=verbose)\n",
      "C:\\Users\\June Cai\\AppData\\Roaming\\Python\\Python35\\site-packages\\nilearn\\_utils\\cache_mixin.py:232: DeprecationWarning: The 'cachedir' attribute has been deprecated in version 0.12 and will be removed in version 0.14.\n",
      "Use os.path.join(memory.location, 'joblib') attribute instead.\n",
      "  if (memory.cachedir is None and memory_level is not None\n"
     ]
    },
    {
     "name": "stdout",
     "output_type": "stream",
     "text": [
      "[NiftiLabelsMasker.transform_single_imgs] Extracting region signals\n",
      "[NiftiLabelsMasker.transform_single_imgs] Cleaning extracted signals\n",
      "_______________________________________________filter_and_extract - 0.9s, 0.0min\n",
      "[NiftiLabelsMasker.fit_transform] loading data from C:\\Users\\June Cai/nilearn_data\\fsl\\data\\atlases\\HarvardOxford\\HarvardOxford-cort-maxprob-thr25-2mm.nii.gz\n",
      "Resampling labels\n",
      "________________________________________________________________________________\n",
      "[Memory] Calling nilearn.input_data.base_masker.filter_and_extract...\n",
      "filter_and_extract('F:\\\\ece\\\\capstone\\\\code\\\\py\\\\data\\\\abide\\\\traindata\\\\29237_rest_1.nii.gz', <nilearn.input_data.nifti_labels_masker._ExtractionFunctor object at 0x000001248D6CCC50>, \n",
      "{ 'background_label': 0,\n",
      "  'detrend': False,\n",
      "  'dtype': None,\n",
      "  'high_pass': None,\n",
      "  'labels_img': 'C:\\\\Users\\\\June '\n",
      "                'Cai/nilearn_data\\\\fsl\\\\data\\\\atlases\\\\HarvardOxford\\\\HarvardOxford-cort-maxprob-thr25-2mm.nii.gz',\n",
      "  'low_pass': None,\n",
      "  'mask_img': None,\n",
      "  'smoothing_fwhm': None,\n",
      "  'standardize': True,\n",
      "  't_r': None,\n",
      "  'target_affine': None,\n",
      "  'target_shape': None}, memory_level=1, memory=Memory(location=nilearn_cache\\joblib), verbose=5, confounds=None, dtype=None)\n",
      "[NiftiLabelsMasker.transform_single_imgs] Loading data from F:\\ece\\capstone\\code\\py\\data\\abide\\traindata\\29237_rest_1.nii.gz\n"
     ]
    },
    {
     "name": "stderr",
     "output_type": "stream",
     "text": [
      "C:\\Users\\June Cai\\AppData\\Roaming\\Python\\Python35\\site-packages\\nilearn\\_utils\\cache_mixin.py:84: DeprecationWarning: The 'cachedir' parameter has been deprecated in version 0.12 and will be removed in version 0.14.\n",
      "You provided \"cachedir='nilearn_cache'\", use \"location='nilearn_cache'\" instead.\n",
      "  memory = Memory(cachedir=cache_dir, verbose=verbose)\n",
      "C:\\Users\\June Cai\\AppData\\Roaming\\Python\\Python35\\site-packages\\nilearn\\_utils\\cache_mixin.py:232: DeprecationWarning: The 'cachedir' attribute has been deprecated in version 0.12 and will be removed in version 0.14.\n",
      "Use os.path.join(memory.location, 'joblib') attribute instead.\n",
      "  if (memory.cachedir is None and memory_level is not None\n"
     ]
    },
    {
     "name": "stdout",
     "output_type": "stream",
     "text": [
      "[NiftiLabelsMasker.transform_single_imgs] Extracting region signals\n",
      "[NiftiLabelsMasker.transform_single_imgs] Cleaning extracted signals\n",
      "_______________________________________________filter_and_extract - 0.9s, 0.0min\n",
      "[NiftiLabelsMasker.fit_transform] loading data from C:\\Users\\June Cai/nilearn_data\\fsl\\data\\atlases\\HarvardOxford\\HarvardOxford-cort-maxprob-thr25-2mm.nii.gz\n",
      "Resampling labels\n",
      "________________________________________________________________________________\n",
      "[Memory] Calling nilearn.input_data.base_masker.filter_and_extract...\n",
      "filter_and_extract('F:\\\\ece\\\\capstone\\\\code\\\\py\\\\data\\\\abide\\\\traindata\\\\29238_rest_1.nii.gz', <nilearn.input_data.nifti_labels_masker._ExtractionFunctor object at 0x00000124FAB743C8>, \n",
      "{ 'background_label': 0,\n",
      "  'detrend': False,\n",
      "  'dtype': None,\n",
      "  'high_pass': None,\n",
      "  'labels_img': 'C:\\\\Users\\\\June '\n",
      "                'Cai/nilearn_data\\\\fsl\\\\data\\\\atlases\\\\HarvardOxford\\\\HarvardOxford-cort-maxprob-thr25-2mm.nii.gz',\n",
      "  'low_pass': None,\n",
      "  'mask_img': None,\n",
      "  'smoothing_fwhm': None,\n",
      "  'standardize': True,\n",
      "  't_r': None,\n",
      "  'target_affine': None,\n",
      "  'target_shape': None}, memory_level=1, memory=Memory(location=nilearn_cache\\joblib), verbose=5, confounds=None, dtype=None)\n",
      "[NiftiLabelsMasker.transform_single_imgs] Loading data from F:\\ece\\capstone\\code\\py\\data\\abide\\traindata\\29238_rest_1.nii.gz\n"
     ]
    },
    {
     "name": "stderr",
     "output_type": "stream",
     "text": [
      "C:\\Users\\June Cai\\AppData\\Roaming\\Python\\Python35\\site-packages\\nilearn\\_utils\\cache_mixin.py:84: DeprecationWarning: The 'cachedir' parameter has been deprecated in version 0.12 and will be removed in version 0.14.\n",
      "You provided \"cachedir='nilearn_cache'\", use \"location='nilearn_cache'\" instead.\n",
      "  memory = Memory(cachedir=cache_dir, verbose=verbose)\n",
      "C:\\Users\\June Cai\\AppData\\Roaming\\Python\\Python35\\site-packages\\nilearn\\_utils\\cache_mixin.py:232: DeprecationWarning: The 'cachedir' attribute has been deprecated in version 0.12 and will be removed in version 0.14.\n",
      "Use os.path.join(memory.location, 'joblib') attribute instead.\n",
      "  if (memory.cachedir is None and memory_level is not None\n"
     ]
    },
    {
     "name": "stdout",
     "output_type": "stream",
     "text": [
      "[NiftiLabelsMasker.transform_single_imgs] Extracting region signals\n",
      "[NiftiLabelsMasker.transform_single_imgs] Cleaning extracted signals\n",
      "_______________________________________________filter_and_extract - 1.0s, 0.0min\n",
      "[NiftiLabelsMasker.fit_transform] loading data from C:\\Users\\June Cai/nilearn_data\\fsl\\data\\atlases\\HarvardOxford\\HarvardOxford-cort-maxprob-thr25-2mm.nii.gz\n",
      "Resampling labels\n",
      "________________________________________________________________________________\n",
      "[Memory] Calling nilearn.input_data.base_masker.filter_and_extract...\n",
      "filter_and_extract('F:\\\\ece\\\\capstone\\\\code\\\\py\\\\data\\\\abide\\\\traindata\\\\29239_rest_1.nii.gz', <nilearn.input_data.nifti_labels_masker._ExtractionFunctor object at 0x000001248D6CCC50>, \n",
      "{ 'background_label': 0,\n",
      "  'detrend': False,\n",
      "  'dtype': None,\n",
      "  'high_pass': None,\n",
      "  'labels_img': 'C:\\\\Users\\\\June '\n",
      "                'Cai/nilearn_data\\\\fsl\\\\data\\\\atlases\\\\HarvardOxford\\\\HarvardOxford-cort-maxprob-thr25-2mm.nii.gz',\n",
      "  'low_pass': None,\n",
      "  'mask_img': None,\n",
      "  'smoothing_fwhm': None,\n",
      "  'standardize': True,\n",
      "  't_r': None,\n",
      "  'target_affine': None,\n",
      "  'target_shape': None}, memory_level=1, memory=Memory(location=nilearn_cache\\joblib), verbose=5, confounds=None, dtype=None)\n",
      "[NiftiLabelsMasker.transform_single_imgs] Loading data from F:\\ece\\capstone\\code\\py\\data\\abide\\traindata\\29239_rest_1.nii.gz\n"
     ]
    },
    {
     "name": "stderr",
     "output_type": "stream",
     "text": [
      "C:\\Users\\June Cai\\AppData\\Roaming\\Python\\Python35\\site-packages\\nilearn\\_utils\\cache_mixin.py:84: DeprecationWarning: The 'cachedir' parameter has been deprecated in version 0.12 and will be removed in version 0.14.\n",
      "You provided \"cachedir='nilearn_cache'\", use \"location='nilearn_cache'\" instead.\n",
      "  memory = Memory(cachedir=cache_dir, verbose=verbose)\n",
      "C:\\Users\\June Cai\\AppData\\Roaming\\Python\\Python35\\site-packages\\nilearn\\_utils\\cache_mixin.py:232: DeprecationWarning: The 'cachedir' attribute has been deprecated in version 0.12 and will be removed in version 0.14.\n",
      "Use os.path.join(memory.location, 'joblib') attribute instead.\n",
      "  if (memory.cachedir is None and memory_level is not None\n"
     ]
    },
    {
     "name": "stdout",
     "output_type": "stream",
     "text": [
      "[NiftiLabelsMasker.transform_single_imgs] Extracting region signals\n",
      "[NiftiLabelsMasker.transform_single_imgs] Cleaning extracted signals\n",
      "_______________________________________________filter_and_extract - 0.9s, 0.0min\n",
      "[NiftiLabelsMasker.fit_transform] loading data from C:\\Users\\June Cai/nilearn_data\\fsl\\data\\atlases\\HarvardOxford\\HarvardOxford-cort-maxprob-thr25-2mm.nii.gz\n",
      "Resampling labels\n",
      "________________________________________________________________________________\n",
      "[Memory] Calling nilearn.input_data.base_masker.filter_and_extract...\n",
      "filter_and_extract('F:\\\\ece\\\\capstone\\\\code\\\\py\\\\data\\\\abide\\\\traindata\\\\29240_rest_1.nii.gz', <nilearn.input_data.nifti_labels_masker._ExtractionFunctor object at 0x00000124FAB717F0>, \n",
      "{ 'background_label': 0,\n",
      "  'detrend': False,\n",
      "  'dtype': None,\n",
      "  'high_pass': None,\n",
      "  'labels_img': 'C:\\\\Users\\\\June '\n",
      "                'Cai/nilearn_data\\\\fsl\\\\data\\\\atlases\\\\HarvardOxford\\\\HarvardOxford-cort-maxprob-thr25-2mm.nii.gz',\n",
      "  'low_pass': None,\n",
      "  'mask_img': None,\n",
      "  'smoothing_fwhm': None,\n",
      "  'standardize': True,\n",
      "  't_r': None,\n",
      "  'target_affine': None,\n",
      "  'target_shape': None}, memory_level=1, memory=Memory(location=nilearn_cache\\joblib), verbose=5, confounds=None, dtype=None)\n",
      "[NiftiLabelsMasker.transform_single_imgs] Loading data from F:\\ece\\capstone\\code\\py\\data\\abide\\traindata\\29240_rest_1.nii.gz\n"
     ]
    },
    {
     "name": "stderr",
     "output_type": "stream",
     "text": [
      "C:\\Users\\June Cai\\AppData\\Roaming\\Python\\Python35\\site-packages\\nilearn\\_utils\\cache_mixin.py:84: DeprecationWarning: The 'cachedir' parameter has been deprecated in version 0.12 and will be removed in version 0.14.\n",
      "You provided \"cachedir='nilearn_cache'\", use \"location='nilearn_cache'\" instead.\n",
      "  memory = Memory(cachedir=cache_dir, verbose=verbose)\n",
      "C:\\Users\\June Cai\\AppData\\Roaming\\Python\\Python35\\site-packages\\nilearn\\_utils\\cache_mixin.py:232: DeprecationWarning: The 'cachedir' attribute has been deprecated in version 0.12 and will be removed in version 0.14.\n",
      "Use os.path.join(memory.location, 'joblib') attribute instead.\n",
      "  if (memory.cachedir is None and memory_level is not None\n"
     ]
    },
    {
     "name": "stdout",
     "output_type": "stream",
     "text": [
      "[NiftiLabelsMasker.transform_single_imgs] Extracting region signals\n",
      "[NiftiLabelsMasker.transform_single_imgs] Cleaning extracted signals\n",
      "_______________________________________________filter_and_extract - 0.9s, 0.0min\n",
      "[NiftiLabelsMasker.fit_transform] loading data from C:\\Users\\June Cai/nilearn_data\\fsl\\data\\atlases\\HarvardOxford\\HarvardOxford-cort-maxprob-thr25-2mm.nii.gz\n",
      "Resampling labels\n",
      "________________________________________________________________________________\n",
      "[Memory] Calling nilearn.input_data.base_masker.filter_and_extract...\n",
      "filter_and_extract('F:\\\\ece\\\\capstone\\\\code\\\\py\\\\data\\\\abide\\\\traindata\\\\29241_rest_1.nii.gz', <nilearn.input_data.nifti_labels_masker._ExtractionFunctor object at 0x00000124F72414A8>, \n",
      "{ 'background_label': 0,\n",
      "  'detrend': False,\n",
      "  'dtype': None,\n",
      "  'high_pass': None,\n",
      "  'labels_img': 'C:\\\\Users\\\\June '\n",
      "                'Cai/nilearn_data\\\\fsl\\\\data\\\\atlases\\\\HarvardOxford\\\\HarvardOxford-cort-maxprob-thr25-2mm.nii.gz',\n",
      "  'low_pass': None,\n",
      "  'mask_img': None,\n",
      "  'smoothing_fwhm': None,\n",
      "  'standardize': True,\n",
      "  't_r': None,\n",
      "  'target_affine': None,\n",
      "  'target_shape': None}, memory_level=1, memory=Memory(location=nilearn_cache\\joblib), verbose=5, confounds=None, dtype=None)\n",
      "[NiftiLabelsMasker.transform_single_imgs] Loading data from F:\\ece\\capstone\\code\\py\\data\\abide\\traindata\\29241_rest_1.nii.gz\n"
     ]
    },
    {
     "name": "stderr",
     "output_type": "stream",
     "text": [
      "C:\\Users\\June Cai\\AppData\\Roaming\\Python\\Python35\\site-packages\\nilearn\\_utils\\cache_mixin.py:84: DeprecationWarning: The 'cachedir' parameter has been deprecated in version 0.12 and will be removed in version 0.14.\n",
      "You provided \"cachedir='nilearn_cache'\", use \"location='nilearn_cache'\" instead.\n",
      "  memory = Memory(cachedir=cache_dir, verbose=verbose)\n",
      "C:\\Users\\June Cai\\AppData\\Roaming\\Python\\Python35\\site-packages\\nilearn\\_utils\\cache_mixin.py:232: DeprecationWarning: The 'cachedir' attribute has been deprecated in version 0.12 and will be removed in version 0.14.\n",
      "Use os.path.join(memory.location, 'joblib') attribute instead.\n",
      "  if (memory.cachedir is None and memory_level is not None\n"
     ]
    },
    {
     "name": "stdout",
     "output_type": "stream",
     "text": [
      "[NiftiLabelsMasker.transform_single_imgs] Extracting region signals\n",
      "[NiftiLabelsMasker.transform_single_imgs] Cleaning extracted signals\n",
      "_______________________________________________filter_and_extract - 0.9s, 0.0min\n",
      "[NiftiLabelsMasker.fit_transform] loading data from C:\\Users\\June Cai/nilearn_data\\fsl\\data\\atlases\\HarvardOxford\\HarvardOxford-cort-maxprob-thr25-2mm.nii.gz\n",
      "Resampling labels\n",
      "________________________________________________________________________________\n",
      "[Memory] Calling nilearn.input_data.base_masker.filter_and_extract...\n",
      "filter_and_extract('F:\\\\ece\\\\capstone\\\\code\\\\py\\\\data\\\\abide\\\\traindata\\\\29242_rest_1.nii.gz', <nilearn.input_data.nifti_labels_masker._ExtractionFunctor object at 0x000001248D6CCC50>, \n",
      "{ 'background_label': 0,\n",
      "  'detrend': False,\n",
      "  'dtype': None,\n",
      "  'high_pass': None,\n",
      "  'labels_img': 'C:\\\\Users\\\\June '\n",
      "                'Cai/nilearn_data\\\\fsl\\\\data\\\\atlases\\\\HarvardOxford\\\\HarvardOxford-cort-maxprob-thr25-2mm.nii.gz',\n",
      "  'low_pass': None,\n",
      "  'mask_img': None,\n",
      "  'smoothing_fwhm': None,\n",
      "  'standardize': True,\n",
      "  't_r': None,\n",
      "  'target_affine': None,\n",
      "  'target_shape': None}, memory_level=1, memory=Memory(location=nilearn_cache\\joblib), verbose=5, confounds=None, dtype=None)\n",
      "[NiftiLabelsMasker.transform_single_imgs] Loading data from F:\\ece\\capstone\\code\\py\\data\\abide\\traindata\\29242_rest_1.nii.gz\n"
     ]
    },
    {
     "name": "stderr",
     "output_type": "stream",
     "text": [
      "C:\\Users\\June Cai\\AppData\\Roaming\\Python\\Python35\\site-packages\\nilearn\\_utils\\cache_mixin.py:84: DeprecationWarning: The 'cachedir' parameter has been deprecated in version 0.12 and will be removed in version 0.14.\n",
      "You provided \"cachedir='nilearn_cache'\", use \"location='nilearn_cache'\" instead.\n",
      "  memory = Memory(cachedir=cache_dir, verbose=verbose)\n",
      "C:\\Users\\June Cai\\AppData\\Roaming\\Python\\Python35\\site-packages\\nilearn\\_utils\\cache_mixin.py:232: DeprecationWarning: The 'cachedir' attribute has been deprecated in version 0.12 and will be removed in version 0.14.\n",
      "Use os.path.join(memory.location, 'joblib') attribute instead.\n",
      "  if (memory.cachedir is None and memory_level is not None\n"
     ]
    },
    {
     "name": "stdout",
     "output_type": "stream",
     "text": [
      "[NiftiLabelsMasker.transform_single_imgs] Extracting region signals\n",
      "[NiftiLabelsMasker.transform_single_imgs] Cleaning extracted signals\n",
      "_______________________________________________filter_and_extract - 0.9s, 0.0min\n",
      "[NiftiLabelsMasker.fit_transform] loading data from C:\\Users\\June Cai/nilearn_data\\fsl\\data\\atlases\\HarvardOxford\\HarvardOxford-cort-maxprob-thr25-2mm.nii.gz\n",
      "Resampling labels\n",
      "________________________________________________________________________________\n",
      "[Memory] Calling nilearn.input_data.base_masker.filter_and_extract...\n",
      "filter_and_extract('F:\\\\ece\\\\capstone\\\\code\\\\py\\\\data\\\\abide\\\\traindata\\\\29243_rest_1.nii.gz', <nilearn.input_data.nifti_labels_masker._ExtractionFunctor object at 0x00000124FAB743C8>, \n",
      "{ 'background_label': 0,\n",
      "  'detrend': False,\n",
      "  'dtype': None,\n",
      "  'high_pass': None,\n",
      "  'labels_img': 'C:\\\\Users\\\\June '\n",
      "                'Cai/nilearn_data\\\\fsl\\\\data\\\\atlases\\\\HarvardOxford\\\\HarvardOxford-cort-maxprob-thr25-2mm.nii.gz',\n",
      "  'low_pass': None,\n",
      "  'mask_img': None,\n",
      "  'smoothing_fwhm': None,\n",
      "  'standardize': True,\n",
      "  't_r': None,\n",
      "  'target_affine': None,\n",
      "  'target_shape': None}, memory_level=1, memory=Memory(location=nilearn_cache\\joblib), verbose=5, confounds=None, dtype=None)\n",
      "[NiftiLabelsMasker.transform_single_imgs] Loading data from F:\\ece\\capstone\\code\\py\\data\\abide\\traindata\\29243_rest_1.nii.gz\n"
     ]
    },
    {
     "name": "stderr",
     "output_type": "stream",
     "text": [
      "C:\\Users\\June Cai\\AppData\\Roaming\\Python\\Python35\\site-packages\\nilearn\\_utils\\cache_mixin.py:84: DeprecationWarning: The 'cachedir' parameter has been deprecated in version 0.12 and will be removed in version 0.14.\n",
      "You provided \"cachedir='nilearn_cache'\", use \"location='nilearn_cache'\" instead.\n",
      "  memory = Memory(cachedir=cache_dir, verbose=verbose)\n",
      "C:\\Users\\June Cai\\AppData\\Roaming\\Python\\Python35\\site-packages\\nilearn\\_utils\\cache_mixin.py:232: DeprecationWarning: The 'cachedir' attribute has been deprecated in version 0.12 and will be removed in version 0.14.\n",
      "Use os.path.join(memory.location, 'joblib') attribute instead.\n",
      "  if (memory.cachedir is None and memory_level is not None\n"
     ]
    },
    {
     "name": "stdout",
     "output_type": "stream",
     "text": [
      "[NiftiLabelsMasker.transform_single_imgs] Extracting region signals\n",
      "[NiftiLabelsMasker.transform_single_imgs] Cleaning extracted signals\n",
      "_______________________________________________filter_and_extract - 0.9s, 0.0min\n",
      "[NiftiLabelsMasker.fit_transform] loading data from C:\\Users\\June Cai/nilearn_data\\fsl\\data\\atlases\\HarvardOxford\\HarvardOxford-cort-maxprob-thr25-2mm.nii.gz\n",
      "Resampling labels\n",
      "________________________________________________________________________________\n",
      "[Memory] Calling nilearn.input_data.base_masker.filter_and_extract...\n",
      "filter_and_extract('F:\\\\ece\\\\capstone\\\\code\\\\py\\\\data\\\\abide\\\\traindata\\\\29244_rest_1.nii.gz', <nilearn.input_data.nifti_labels_masker._ExtractionFunctor object at 0x00000124F72414A8>, \n",
      "{ 'background_label': 0,\n",
      "  'detrend': False,\n",
      "  'dtype': None,\n",
      "  'high_pass': None,\n",
      "  'labels_img': 'C:\\\\Users\\\\June '\n",
      "                'Cai/nilearn_data\\\\fsl\\\\data\\\\atlases\\\\HarvardOxford\\\\HarvardOxford-cort-maxprob-thr25-2mm.nii.gz',\n",
      "  'low_pass': None,\n",
      "  'mask_img': None,\n",
      "  'smoothing_fwhm': None,\n",
      "  'standardize': True,\n",
      "  't_r': None,\n",
      "  'target_affine': None,\n",
      "  'target_shape': None}, memory_level=1, memory=Memory(location=nilearn_cache\\joblib), verbose=5, confounds=None, dtype=None)\n",
      "[NiftiLabelsMasker.transform_single_imgs] Loading data from F:\\ece\\capstone\\code\\py\\data\\abide\\traindata\\29244_rest_1.nii.gz\n"
     ]
    },
    {
     "name": "stderr",
     "output_type": "stream",
     "text": [
      "C:\\Users\\June Cai\\AppData\\Roaming\\Python\\Python35\\site-packages\\nilearn\\_utils\\cache_mixin.py:84: DeprecationWarning: The 'cachedir' parameter has been deprecated in version 0.12 and will be removed in version 0.14.\n",
      "You provided \"cachedir='nilearn_cache'\", use \"location='nilearn_cache'\" instead.\n",
      "  memory = Memory(cachedir=cache_dir, verbose=verbose)\n",
      "C:\\Users\\June Cai\\AppData\\Roaming\\Python\\Python35\\site-packages\\nilearn\\_utils\\cache_mixin.py:232: DeprecationWarning: The 'cachedir' attribute has been deprecated in version 0.12 and will be removed in version 0.14.\n",
      "Use os.path.join(memory.location, 'joblib') attribute instead.\n",
      "  if (memory.cachedir is None and memory_level is not None\n"
     ]
    },
    {
     "name": "stdout",
     "output_type": "stream",
     "text": [
      "[NiftiLabelsMasker.transform_single_imgs] Extracting region signals\n",
      "[NiftiLabelsMasker.transform_single_imgs] Cleaning extracted signals\n",
      "_______________________________________________filter_and_extract - 0.9s, 0.0min\n",
      "[NiftiLabelsMasker.fit_transform] loading data from C:\\Users\\June Cai/nilearn_data\\fsl\\data\\atlases\\HarvardOxford\\HarvardOxford-cort-maxprob-thr25-2mm.nii.gz\n",
      "Resampling labels\n",
      "________________________________________________________________________________\n",
      "[Memory] Calling nilearn.input_data.base_masker.filter_and_extract...\n",
      "filter_and_extract('F:\\\\ece\\\\capstone\\\\code\\\\py\\\\data\\\\abide\\\\traindata\\\\29245_rest_1.nii.gz', <nilearn.input_data.nifti_labels_masker._ExtractionFunctor object at 0x0000012496F2AB00>, \n",
      "{ 'background_label': 0,\n",
      "  'detrend': False,\n",
      "  'dtype': None,\n",
      "  'high_pass': None,\n",
      "  'labels_img': 'C:\\\\Users\\\\June '\n",
      "                'Cai/nilearn_data\\\\fsl\\\\data\\\\atlases\\\\HarvardOxford\\\\HarvardOxford-cort-maxprob-thr25-2mm.nii.gz',\n",
      "  'low_pass': None,\n",
      "  'mask_img': None,\n",
      "  'smoothing_fwhm': None,\n",
      "  'standardize': True,\n",
      "  't_r': None,\n",
      "  'target_affine': None,\n",
      "  'target_shape': None}, memory_level=1, memory=Memory(location=nilearn_cache\\joblib), verbose=5, confounds=None, dtype=None)\n",
      "[NiftiLabelsMasker.transform_single_imgs] Loading data from F:\\ece\\capstone\\code\\py\\data\\abide\\traindata\\29245_rest_1.nii.gz\n"
     ]
    },
    {
     "name": "stderr",
     "output_type": "stream",
     "text": [
      "C:\\Users\\June Cai\\AppData\\Roaming\\Python\\Python35\\site-packages\\nilearn\\_utils\\cache_mixin.py:84: DeprecationWarning: The 'cachedir' parameter has been deprecated in version 0.12 and will be removed in version 0.14.\n",
      "You provided \"cachedir='nilearn_cache'\", use \"location='nilearn_cache'\" instead.\n",
      "  memory = Memory(cachedir=cache_dir, verbose=verbose)\n",
      "C:\\Users\\June Cai\\AppData\\Roaming\\Python\\Python35\\site-packages\\nilearn\\_utils\\cache_mixin.py:232: DeprecationWarning: The 'cachedir' attribute has been deprecated in version 0.12 and will be removed in version 0.14.\n",
      "Use os.path.join(memory.location, 'joblib') attribute instead.\n",
      "  if (memory.cachedir is None and memory_level is not None\n"
     ]
    },
    {
     "name": "stdout",
     "output_type": "stream",
     "text": [
      "[NiftiLabelsMasker.transform_single_imgs] Extracting region signals\n",
      "[NiftiLabelsMasker.transform_single_imgs] Cleaning extracted signals\n",
      "_______________________________________________filter_and_extract - 1.0s, 0.0min\n",
      "[NiftiLabelsMasker.fit_transform] loading data from C:\\Users\\June Cai/nilearn_data\\fsl\\data\\atlases\\HarvardOxford\\HarvardOxford-cort-maxprob-thr25-2mm.nii.gz\n",
      "Resampling labels\n",
      "________________________________________________________________________________\n",
      "[Memory] Calling nilearn.input_data.base_masker.filter_and_extract...\n",
      "filter_and_extract('F:\\\\ece\\\\capstone\\\\code\\\\py\\\\data\\\\abide\\\\traindata\\\\29246_rest_1.nii.gz', <nilearn.input_data.nifti_labels_masker._ExtractionFunctor object at 0x00000124FA6596D8>, \n",
      "{ 'background_label': 0,\n",
      "  'detrend': False,\n",
      "  'dtype': None,\n",
      "  'high_pass': None,\n",
      "  'labels_img': 'C:\\\\Users\\\\June '\n",
      "                'Cai/nilearn_data\\\\fsl\\\\data\\\\atlases\\\\HarvardOxford\\\\HarvardOxford-cort-maxprob-thr25-2mm.nii.gz',\n",
      "  'low_pass': None,\n",
      "  'mask_img': None,\n",
      "  'smoothing_fwhm': None,\n",
      "  'standardize': True,\n",
      "  't_r': None,\n",
      "  'target_affine': None,\n",
      "  'target_shape': None}, memory_level=1, memory=Memory(location=nilearn_cache\\joblib), verbose=5, confounds=None, dtype=None)\n",
      "[NiftiLabelsMasker.transform_single_imgs] Loading data from F:\\ece\\capstone\\code\\py\\data\\abide\\traindata\\29246_rest_1.nii.gz\n"
     ]
    },
    {
     "name": "stderr",
     "output_type": "stream",
     "text": [
      "C:\\Users\\June Cai\\AppData\\Roaming\\Python\\Python35\\site-packages\\nilearn\\_utils\\cache_mixin.py:84: DeprecationWarning: The 'cachedir' parameter has been deprecated in version 0.12 and will be removed in version 0.14.\n",
      "You provided \"cachedir='nilearn_cache'\", use \"location='nilearn_cache'\" instead.\n",
      "  memory = Memory(cachedir=cache_dir, verbose=verbose)\n",
      "C:\\Users\\June Cai\\AppData\\Roaming\\Python\\Python35\\site-packages\\nilearn\\_utils\\cache_mixin.py:232: DeprecationWarning: The 'cachedir' attribute has been deprecated in version 0.12 and will be removed in version 0.14.\n",
      "Use os.path.join(memory.location, 'joblib') attribute instead.\n",
      "  if (memory.cachedir is None and memory_level is not None\n"
     ]
    },
    {
     "name": "stdout",
     "output_type": "stream",
     "text": [
      "[NiftiLabelsMasker.transform_single_imgs] Extracting region signals\n",
      "[NiftiLabelsMasker.transform_single_imgs] Cleaning extracted signals\n",
      "_______________________________________________filter_and_extract - 0.9s, 0.0min\n",
      "[NiftiLabelsMasker.fit_transform] loading data from C:\\Users\\June Cai/nilearn_data\\fsl\\data\\atlases\\HarvardOxford\\HarvardOxford-cort-maxprob-thr25-2mm.nii.gz\n",
      "Resampling labels\n",
      "________________________________________________________________________________\n",
      "[Memory] Calling nilearn.input_data.base_masker.filter_and_extract...\n",
      "filter_and_extract('F:\\\\ece\\\\capstone\\\\code\\\\py\\\\data\\\\abide\\\\traindata\\\\29247_rest_1.nii.gz', <nilearn.input_data.nifti_labels_masker._ExtractionFunctor object at 0x00000124FAB717F0>, \n",
      "{ 'background_label': 0,\n",
      "  'detrend': False,\n",
      "  'dtype': None,\n",
      "  'high_pass': None,\n",
      "  'labels_img': 'C:\\\\Users\\\\June '\n",
      "                'Cai/nilearn_data\\\\fsl\\\\data\\\\atlases\\\\HarvardOxford\\\\HarvardOxford-cort-maxprob-thr25-2mm.nii.gz',\n",
      "  'low_pass': None,\n",
      "  'mask_img': None,\n",
      "  'smoothing_fwhm': None,\n",
      "  'standardize': True,\n",
      "  't_r': None,\n",
      "  'target_affine': None,\n",
      "  'target_shape': None}, memory_level=1, memory=Memory(location=nilearn_cache\\joblib), verbose=5, confounds=None, dtype=None)\n",
      "[NiftiLabelsMasker.transform_single_imgs] Loading data from F:\\ece\\capstone\\code\\py\\data\\abide\\traindata\\29247_rest_1.nii.gz\n"
     ]
    },
    {
     "name": "stderr",
     "output_type": "stream",
     "text": [
      "C:\\Users\\June Cai\\AppData\\Roaming\\Python\\Python35\\site-packages\\nilearn\\_utils\\cache_mixin.py:84: DeprecationWarning: The 'cachedir' parameter has been deprecated in version 0.12 and will be removed in version 0.14.\n",
      "You provided \"cachedir='nilearn_cache'\", use \"location='nilearn_cache'\" instead.\n",
      "  memory = Memory(cachedir=cache_dir, verbose=verbose)\n",
      "C:\\Users\\June Cai\\AppData\\Roaming\\Python\\Python35\\site-packages\\nilearn\\_utils\\cache_mixin.py:232: DeprecationWarning: The 'cachedir' attribute has been deprecated in version 0.12 and will be removed in version 0.14.\n",
      "Use os.path.join(memory.location, 'joblib') attribute instead.\n",
      "  if (memory.cachedir is None and memory_level is not None\n"
     ]
    },
    {
     "name": "stdout",
     "output_type": "stream",
     "text": [
      "[NiftiLabelsMasker.transform_single_imgs] Extracting region signals\n",
      "[NiftiLabelsMasker.transform_single_imgs] Cleaning extracted signals\n",
      "_______________________________________________filter_and_extract - 0.9s, 0.0min\n",
      "[NiftiLabelsMasker.fit_transform] loading data from C:\\Users\\June Cai/nilearn_data\\fsl\\data\\atlases\\HarvardOxford\\HarvardOxford-cort-maxprob-thr25-2mm.nii.gz\n",
      "Resampling labels\n",
      "________________________________________________________________________________\n",
      "[Memory] Calling nilearn.input_data.base_masker.filter_and_extract...\n",
      "filter_and_extract('F:\\\\ece\\\\capstone\\\\code\\\\py\\\\data\\\\abide\\\\traindata\\\\29248_rest_1.nii.gz', <nilearn.input_data.nifti_labels_masker._ExtractionFunctor object at 0x00000124FBBBF390>, \n",
      "{ 'background_label': 0,\n",
      "  'detrend': False,\n",
      "  'dtype': None,\n",
      "  'high_pass': None,\n",
      "  'labels_img': 'C:\\\\Users\\\\June '\n",
      "                'Cai/nilearn_data\\\\fsl\\\\data\\\\atlases\\\\HarvardOxford\\\\HarvardOxford-cort-maxprob-thr25-2mm.nii.gz',\n",
      "  'low_pass': None,\n",
      "  'mask_img': None,\n",
      "  'smoothing_fwhm': None,\n",
      "  'standardize': True,\n",
      "  't_r': None,\n",
      "  'target_affine': None,\n",
      "  'target_shape': None}, memory_level=1, memory=Memory(location=nilearn_cache\\joblib), verbose=5, confounds=None, dtype=None)\n",
      "[NiftiLabelsMasker.transform_single_imgs] Loading data from F:\\ece\\capstone\\code\\py\\data\\abide\\traindata\\29248_rest_1.nii.gz\n"
     ]
    },
    {
     "name": "stderr",
     "output_type": "stream",
     "text": [
      "C:\\Users\\June Cai\\AppData\\Roaming\\Python\\Python35\\site-packages\\nilearn\\_utils\\cache_mixin.py:84: DeprecationWarning: The 'cachedir' parameter has been deprecated in version 0.12 and will be removed in version 0.14.\n",
      "You provided \"cachedir='nilearn_cache'\", use \"location='nilearn_cache'\" instead.\n",
      "  memory = Memory(cachedir=cache_dir, verbose=verbose)\n",
      "C:\\Users\\June Cai\\AppData\\Roaming\\Python\\Python35\\site-packages\\nilearn\\_utils\\cache_mixin.py:232: DeprecationWarning: The 'cachedir' attribute has been deprecated in version 0.12 and will be removed in version 0.14.\n",
      "Use os.path.join(memory.location, 'joblib') attribute instead.\n",
      "  if (memory.cachedir is None and memory_level is not None\n"
     ]
    },
    {
     "name": "stdout",
     "output_type": "stream",
     "text": [
      "[NiftiLabelsMasker.transform_single_imgs] Extracting region signals\n",
      "[NiftiLabelsMasker.transform_single_imgs] Cleaning extracted signals\n",
      "_______________________________________________filter_and_extract - 0.9s, 0.0min\n",
      "[NiftiLabelsMasker.fit_transform] loading data from C:\\Users\\June Cai/nilearn_data\\fsl\\data\\atlases\\HarvardOxford\\HarvardOxford-cort-maxprob-thr25-2mm.nii.gz\n",
      "Resampling labels\n",
      "________________________________________________________________________________\n",
      "[Memory] Calling nilearn.input_data.base_masker.filter_and_extract...\n",
      "filter_and_extract('F:\\\\ece\\\\capstone\\\\code\\\\py\\\\data\\\\abide\\\\traindata\\\\29249_rest_1.nii.gz', <nilearn.input_data.nifti_labels_masker._ExtractionFunctor object at 0x000001248A91FB70>, \n",
      "{ 'background_label': 0,\n",
      "  'detrend': False,\n",
      "  'dtype': None,\n",
      "  'high_pass': None,\n",
      "  'labels_img': 'C:\\\\Users\\\\June '\n",
      "                'Cai/nilearn_data\\\\fsl\\\\data\\\\atlases\\\\HarvardOxford\\\\HarvardOxford-cort-maxprob-thr25-2mm.nii.gz',\n",
      "  'low_pass': None,\n",
      "  'mask_img': None,\n",
      "  'smoothing_fwhm': None,\n",
      "  'standardize': True,\n",
      "  't_r': None,\n",
      "  'target_affine': None,\n",
      "  'target_shape': None}, memory_level=1, memory=Memory(location=nilearn_cache\\joblib), verbose=5, confounds=None, dtype=None)\n",
      "[NiftiLabelsMasker.transform_single_imgs] Loading data from F:\\ece\\capstone\\code\\py\\data\\abide\\traindata\\29249_rest_1.nii.gz\n"
     ]
    },
    {
     "name": "stderr",
     "output_type": "stream",
     "text": [
      "C:\\Users\\June Cai\\AppData\\Roaming\\Python\\Python35\\site-packages\\nilearn\\_utils\\cache_mixin.py:84: DeprecationWarning: The 'cachedir' parameter has been deprecated in version 0.12 and will be removed in version 0.14.\n",
      "You provided \"cachedir='nilearn_cache'\", use \"location='nilearn_cache'\" instead.\n",
      "  memory = Memory(cachedir=cache_dir, verbose=verbose)\n",
      "C:\\Users\\June Cai\\AppData\\Roaming\\Python\\Python35\\site-packages\\nilearn\\_utils\\cache_mixin.py:232: DeprecationWarning: The 'cachedir' attribute has been deprecated in version 0.12 and will be removed in version 0.14.\n",
      "Use os.path.join(memory.location, 'joblib') attribute instead.\n",
      "  if (memory.cachedir is None and memory_level is not None\n"
     ]
    },
    {
     "name": "stdout",
     "output_type": "stream",
     "text": [
      "[NiftiLabelsMasker.transform_single_imgs] Extracting region signals\n",
      "[NiftiLabelsMasker.transform_single_imgs] Cleaning extracted signals\n",
      "_______________________________________________filter_and_extract - 0.9s, 0.0min\n",
      "[NiftiLabelsMasker.fit_transform] loading data from C:\\Users\\June Cai/nilearn_data\\fsl\\data\\atlases\\HarvardOxford\\HarvardOxford-cort-maxprob-thr25-2mm.nii.gz\n",
      "Resampling labels\n",
      "________________________________________________________________________________\n",
      "[Memory] Calling nilearn.input_data.base_masker.filter_and_extract...\n",
      "filter_and_extract('F:\\\\ece\\\\capstone\\\\code\\\\py\\\\data\\\\abide\\\\traindata\\\\29250_rest_1.nii.gz', <nilearn.input_data.nifti_labels_masker._ExtractionFunctor object at 0x00000124FA6596D8>, \n",
      "{ 'background_label': 0,\n",
      "  'detrend': False,\n",
      "  'dtype': None,\n",
      "  'high_pass': None,\n",
      "  'labels_img': 'C:\\\\Users\\\\June '\n",
      "                'Cai/nilearn_data\\\\fsl\\\\data\\\\atlases\\\\HarvardOxford\\\\HarvardOxford-cort-maxprob-thr25-2mm.nii.gz',\n",
      "  'low_pass': None,\n",
      "  'mask_img': None,\n",
      "  'smoothing_fwhm': None,\n",
      "  'standardize': True,\n",
      "  't_r': None,\n",
      "  'target_affine': None,\n",
      "  'target_shape': None}, memory_level=1, memory=Memory(location=nilearn_cache\\joblib), verbose=5, confounds=None, dtype=None)\n",
      "[NiftiLabelsMasker.transform_single_imgs] Loading data from F:\\ece\\capstone\\code\\py\\data\\abide\\traindata\\29250_rest_1.nii.gz\n"
     ]
    },
    {
     "name": "stderr",
     "output_type": "stream",
     "text": [
      "C:\\Users\\June Cai\\AppData\\Roaming\\Python\\Python35\\site-packages\\nilearn\\_utils\\cache_mixin.py:84: DeprecationWarning: The 'cachedir' parameter has been deprecated in version 0.12 and will be removed in version 0.14.\n",
      "You provided \"cachedir='nilearn_cache'\", use \"location='nilearn_cache'\" instead.\n",
      "  memory = Memory(cachedir=cache_dir, verbose=verbose)\n",
      "C:\\Users\\June Cai\\AppData\\Roaming\\Python\\Python35\\site-packages\\nilearn\\_utils\\cache_mixin.py:232: DeprecationWarning: The 'cachedir' attribute has been deprecated in version 0.12 and will be removed in version 0.14.\n",
      "Use os.path.join(memory.location, 'joblib') attribute instead.\n",
      "  if (memory.cachedir is None and memory_level is not None\n"
     ]
    },
    {
     "name": "stdout",
     "output_type": "stream",
     "text": [
      "[NiftiLabelsMasker.transform_single_imgs] Extracting region signals\n",
      "[NiftiLabelsMasker.transform_single_imgs] Cleaning extracted signals\n",
      "_______________________________________________filter_and_extract - 0.9s, 0.0min\n",
      "[NiftiLabelsMasker.fit_transform] loading data from C:\\Users\\June Cai/nilearn_data\\fsl\\data\\atlases\\HarvardOxford\\HarvardOxford-cort-maxprob-thr25-2mm.nii.gz\n",
      "Resampling labels\n",
      "________________________________________________________________________________\n",
      "[Memory] Calling nilearn.input_data.base_masker.filter_and_extract...\n",
      "filter_and_extract('F:\\\\ece\\\\capstone\\\\code\\\\py\\\\data\\\\abide\\\\traindata\\\\29251_rest_1.nii.gz', <nilearn.input_data.nifti_labels_masker._ExtractionFunctor object at 0x000001248A91FC18>, \n",
      "{ 'background_label': 0,\n",
      "  'detrend': False,\n",
      "  'dtype': None,\n",
      "  'high_pass': None,\n",
      "  'labels_img': 'C:\\\\Users\\\\June '\n",
      "                'Cai/nilearn_data\\\\fsl\\\\data\\\\atlases\\\\HarvardOxford\\\\HarvardOxford-cort-maxprob-thr25-2mm.nii.gz',\n",
      "  'low_pass': None,\n",
      "  'mask_img': None,\n",
      "  'smoothing_fwhm': None,\n",
      "  'standardize': True,\n",
      "  't_r': None,\n",
      "  'target_affine': None,\n",
      "  'target_shape': None}, memory_level=1, memory=Memory(location=nilearn_cache\\joblib), verbose=5, confounds=None, dtype=None)\n",
      "[NiftiLabelsMasker.transform_single_imgs] Loading data from F:\\ece\\capstone\\code\\py\\data\\abide\\traindata\\29251_rest_1.nii.gz\n"
     ]
    },
    {
     "name": "stderr",
     "output_type": "stream",
     "text": [
      "C:\\Users\\June Cai\\AppData\\Roaming\\Python\\Python35\\site-packages\\nilearn\\_utils\\cache_mixin.py:84: DeprecationWarning: The 'cachedir' parameter has been deprecated in version 0.12 and will be removed in version 0.14.\n",
      "You provided \"cachedir='nilearn_cache'\", use \"location='nilearn_cache'\" instead.\n",
      "  memory = Memory(cachedir=cache_dir, verbose=verbose)\n",
      "C:\\Users\\June Cai\\AppData\\Roaming\\Python\\Python35\\site-packages\\nilearn\\_utils\\cache_mixin.py:232: DeprecationWarning: The 'cachedir' attribute has been deprecated in version 0.12 and will be removed in version 0.14.\n",
      "Use os.path.join(memory.location, 'joblib') attribute instead.\n",
      "  if (memory.cachedir is None and memory_level is not None\n"
     ]
    },
    {
     "name": "stdout",
     "output_type": "stream",
     "text": [
      "[NiftiLabelsMasker.transform_single_imgs] Extracting region signals\n",
      "[NiftiLabelsMasker.transform_single_imgs] Cleaning extracted signals\n",
      "_______________________________________________filter_and_extract - 0.9s, 0.0min\n",
      "[NiftiLabelsMasker.fit_transform] loading data from C:\\Users\\June Cai/nilearn_data\\fsl\\data\\atlases\\HarvardOxford\\HarvardOxford-cort-maxprob-thr25-2mm.nii.gz\n",
      "Resampling labels\n",
      "________________________________________________________________________________\n",
      "[Memory] Calling nilearn.input_data.base_masker.filter_and_extract...\n",
      "filter_and_extract('F:\\\\ece\\\\capstone\\\\code\\\\py\\\\data\\\\abide\\\\traindata\\\\29252_rest_1.nii.gz', <nilearn.input_data.nifti_labels_masker._ExtractionFunctor object at 0x000001248A91F898>, \n",
      "{ 'background_label': 0,\n",
      "  'detrend': False,\n",
      "  'dtype': None,\n",
      "  'high_pass': None,\n",
      "  'labels_img': 'C:\\\\Users\\\\June '\n",
      "                'Cai/nilearn_data\\\\fsl\\\\data\\\\atlases\\\\HarvardOxford\\\\HarvardOxford-cort-maxprob-thr25-2mm.nii.gz',\n",
      "  'low_pass': None,\n",
      "  'mask_img': None,\n",
      "  'smoothing_fwhm': None,\n",
      "  'standardize': True,\n",
      "  't_r': None,\n",
      "  'target_affine': None,\n",
      "  'target_shape': None}, memory_level=1, memory=Memory(location=nilearn_cache\\joblib), verbose=5, confounds=None, dtype=None)\n",
      "[NiftiLabelsMasker.transform_single_imgs] Loading data from F:\\ece\\capstone\\code\\py\\data\\abide\\traindata\\29252_rest_1.nii.gz\n"
     ]
    },
    {
     "name": "stderr",
     "output_type": "stream",
     "text": [
      "C:\\Users\\June Cai\\AppData\\Roaming\\Python\\Python35\\site-packages\\nilearn\\_utils\\cache_mixin.py:84: DeprecationWarning: The 'cachedir' parameter has been deprecated in version 0.12 and will be removed in version 0.14.\n",
      "You provided \"cachedir='nilearn_cache'\", use \"location='nilearn_cache'\" instead.\n",
      "  memory = Memory(cachedir=cache_dir, verbose=verbose)\n",
      "C:\\Users\\June Cai\\AppData\\Roaming\\Python\\Python35\\site-packages\\nilearn\\_utils\\cache_mixin.py:232: DeprecationWarning: The 'cachedir' attribute has been deprecated in version 0.12 and will be removed in version 0.14.\n",
      "Use os.path.join(memory.location, 'joblib') attribute instead.\n",
      "  if (memory.cachedir is None and memory_level is not None\n"
     ]
    },
    {
     "name": "stdout",
     "output_type": "stream",
     "text": [
      "[NiftiLabelsMasker.transform_single_imgs] Extracting region signals\n",
      "[NiftiLabelsMasker.transform_single_imgs] Cleaning extracted signals\n",
      "_______________________________________________filter_and_extract - 0.9s, 0.0min\n",
      "[NiftiLabelsMasker.fit_transform] loading data from C:\\Users\\June Cai/nilearn_data\\fsl\\data\\atlases\\HarvardOxford\\HarvardOxford-cort-maxprob-thr25-2mm.nii.gz\n",
      "Resampling labels\n",
      "________________________________________________________________________________\n",
      "[Memory] Calling nilearn.input_data.base_masker.filter_and_extract...\n",
      "filter_and_extract('F:\\\\ece\\\\capstone\\\\code\\\\py\\\\data\\\\abide\\\\traindata\\\\29253_rest_1.nii.gz', <nilearn.input_data.nifti_labels_masker._ExtractionFunctor object at 0x000001248D6CCC50>, \n",
      "{ 'background_label': 0,\n",
      "  'detrend': False,\n",
      "  'dtype': None,\n",
      "  'high_pass': None,\n",
      "  'labels_img': 'C:\\\\Users\\\\June '\n",
      "                'Cai/nilearn_data\\\\fsl\\\\data\\\\atlases\\\\HarvardOxford\\\\HarvardOxford-cort-maxprob-thr25-2mm.nii.gz',\n",
      "  'low_pass': None,\n",
      "  'mask_img': None,\n",
      "  'smoothing_fwhm': None,\n",
      "  'standardize': True,\n",
      "  't_r': None,\n",
      "  'target_affine': None,\n",
      "  'target_shape': None}, memory_level=1, memory=Memory(location=nilearn_cache\\joblib), verbose=5, confounds=None, dtype=None)\n",
      "[NiftiLabelsMasker.transform_single_imgs] Loading data from F:\\ece\\capstone\\code\\py\\data\\abide\\traindata\\29253_rest_1.nii.gz\n"
     ]
    },
    {
     "name": "stderr",
     "output_type": "stream",
     "text": [
      "C:\\Users\\June Cai\\AppData\\Roaming\\Python\\Python35\\site-packages\\nilearn\\_utils\\cache_mixin.py:84: DeprecationWarning: The 'cachedir' parameter has been deprecated in version 0.12 and will be removed in version 0.14.\n",
      "You provided \"cachedir='nilearn_cache'\", use \"location='nilearn_cache'\" instead.\n",
      "  memory = Memory(cachedir=cache_dir, verbose=verbose)\n",
      "C:\\Users\\June Cai\\AppData\\Roaming\\Python\\Python35\\site-packages\\nilearn\\_utils\\cache_mixin.py:232: DeprecationWarning: The 'cachedir' attribute has been deprecated in version 0.12 and will be removed in version 0.14.\n",
      "Use os.path.join(memory.location, 'joblib') attribute instead.\n",
      "  if (memory.cachedir is None and memory_level is not None\n"
     ]
    },
    {
     "name": "stdout",
     "output_type": "stream",
     "text": [
      "[NiftiLabelsMasker.transform_single_imgs] Extracting region signals\n",
      "[NiftiLabelsMasker.transform_single_imgs] Cleaning extracted signals\n",
      "_______________________________________________filter_and_extract - 1.0s, 0.0min\n",
      "[NiftiLabelsMasker.fit_transform] loading data from C:\\Users\\June Cai/nilearn_data\\fsl\\data\\atlases\\HarvardOxford\\HarvardOxford-cort-maxprob-thr25-2mm.nii.gz\n",
      "Resampling labels\n",
      "________________________________________________________________________________\n",
      "[Memory] Calling nilearn.input_data.base_masker.filter_and_extract...\n",
      "filter_and_extract('F:\\\\ece\\\\capstone\\\\code\\\\py\\\\data\\\\abide\\\\traindata\\\\29254_rest_1.nii.gz', <nilearn.input_data.nifti_labels_masker._ExtractionFunctor object at 0x00000124FBBBF390>, \n",
      "{ 'background_label': 0,\n",
      "  'detrend': False,\n",
      "  'dtype': None,\n",
      "  'high_pass': None,\n",
      "  'labels_img': 'C:\\\\Users\\\\June '\n",
      "                'Cai/nilearn_data\\\\fsl\\\\data\\\\atlases\\\\HarvardOxford\\\\HarvardOxford-cort-maxprob-thr25-2mm.nii.gz',\n",
      "  'low_pass': None,\n",
      "  'mask_img': None,\n",
      "  'smoothing_fwhm': None,\n",
      "  'standardize': True,\n",
      "  't_r': None,\n",
      "  'target_affine': None,\n",
      "  'target_shape': None}, memory_level=1, memory=Memory(location=nilearn_cache\\joblib), verbose=5, confounds=None, dtype=None)\n",
      "[NiftiLabelsMasker.transform_single_imgs] Loading data from F:\\ece\\capstone\\code\\py\\data\\abide\\traindata\\29254_rest_1.nii.gz\n"
     ]
    },
    {
     "name": "stderr",
     "output_type": "stream",
     "text": [
      "C:\\Users\\June Cai\\AppData\\Roaming\\Python\\Python35\\site-packages\\nilearn\\_utils\\cache_mixin.py:84: DeprecationWarning: The 'cachedir' parameter has been deprecated in version 0.12 and will be removed in version 0.14.\n",
      "You provided \"cachedir='nilearn_cache'\", use \"location='nilearn_cache'\" instead.\n",
      "  memory = Memory(cachedir=cache_dir, verbose=verbose)\n",
      "C:\\Users\\June Cai\\AppData\\Roaming\\Python\\Python35\\site-packages\\nilearn\\_utils\\cache_mixin.py:232: DeprecationWarning: The 'cachedir' attribute has been deprecated in version 0.12 and will be removed in version 0.14.\n",
      "Use os.path.join(memory.location, 'joblib') attribute instead.\n",
      "  if (memory.cachedir is None and memory_level is not None\n"
     ]
    },
    {
     "name": "stdout",
     "output_type": "stream",
     "text": [
      "[NiftiLabelsMasker.transform_single_imgs] Extracting region signals\n",
      "[NiftiLabelsMasker.transform_single_imgs] Cleaning extracted signals\n",
      "_______________________________________________filter_and_extract - 0.9s, 0.0min\n",
      "[NiftiLabelsMasker.fit_transform] loading data from C:\\Users\\June Cai/nilearn_data\\fsl\\data\\atlases\\HarvardOxford\\HarvardOxford-cort-maxprob-thr25-2mm.nii.gz\n",
      "Resampling labels\n",
      "________________________________________________________________________________\n",
      "[Memory] Calling nilearn.input_data.base_masker.filter_and_extract...\n",
      "filter_and_extract('F:\\\\ece\\\\capstone\\\\code\\\\py\\\\data\\\\abide\\\\traindata\\\\29864_rest_1.nii.gz', <nilearn.input_data.nifti_labels_masker._ExtractionFunctor object at 0x00000124F72414A8>, \n",
      "{ 'background_label': 0,\n",
      "  'detrend': False,\n",
      "  'dtype': None,\n",
      "  'high_pass': None,\n",
      "  'labels_img': 'C:\\\\Users\\\\June '\n",
      "                'Cai/nilearn_data\\\\fsl\\\\data\\\\atlases\\\\HarvardOxford\\\\HarvardOxford-cort-maxprob-thr25-2mm.nii.gz',\n",
      "  'low_pass': None,\n",
      "  'mask_img': None,\n",
      "  'smoothing_fwhm': None,\n",
      "  'standardize': True,\n",
      "  't_r': None,\n",
      "  'target_affine': None,\n",
      "  'target_shape': None}, memory_level=1, memory=Memory(location=nilearn_cache\\joblib), verbose=5, confounds=None, dtype=None)\n",
      "[NiftiLabelsMasker.transform_single_imgs] Loading data from F:\\ece\\capstone\\code\\py\\data\\abide\\traindata\\29864_rest_1.nii.gz\n"
     ]
    },
    {
     "name": "stderr",
     "output_type": "stream",
     "text": [
      "C:\\Users\\June Cai\\AppData\\Roaming\\Python\\Python35\\site-packages\\nilearn\\_utils\\cache_mixin.py:84: DeprecationWarning: The 'cachedir' parameter has been deprecated in version 0.12 and will be removed in version 0.14.\n",
      "You provided \"cachedir='nilearn_cache'\", use \"location='nilearn_cache'\" instead.\n",
      "  memory = Memory(cachedir=cache_dir, verbose=verbose)\n",
      "C:\\Users\\June Cai\\AppData\\Roaming\\Python\\Python35\\site-packages\\nilearn\\_utils\\cache_mixin.py:232: DeprecationWarning: The 'cachedir' attribute has been deprecated in version 0.12 and will be removed in version 0.14.\n",
      "Use os.path.join(memory.location, 'joblib') attribute instead.\n",
      "  if (memory.cachedir is None and memory_level is not None\n"
     ]
    },
    {
     "name": "stdout",
     "output_type": "stream",
     "text": [
      "[NiftiLabelsMasker.transform_single_imgs] Extracting region signals\n",
      "[NiftiLabelsMasker.transform_single_imgs] Cleaning extracted signals\n",
      "_______________________________________________filter_and_extract - 0.8s, 0.0min\n",
      "[NiftiLabelsMasker.fit_transform] loading data from C:\\Users\\June Cai/nilearn_data\\fsl\\data\\atlases\\HarvardOxford\\HarvardOxford-cort-maxprob-thr25-2mm.nii.gz\n",
      "Resampling labels\n",
      "________________________________________________________________________________\n",
      "[Memory] Calling nilearn.input_data.base_masker.filter_and_extract...\n",
      "filter_and_extract('F:\\\\ece\\\\capstone\\\\code\\\\py\\\\data\\\\abide\\\\traindata\\\\29865_rest_1.nii.gz', <nilearn.input_data.nifti_labels_masker._ExtractionFunctor object at 0x000001248D58C0F0>, \n",
      "{ 'background_label': 0,\n",
      "  'detrend': False,\n",
      "  'dtype': None,\n",
      "  'high_pass': None,\n",
      "  'labels_img': 'C:\\\\Users\\\\June '\n",
      "                'Cai/nilearn_data\\\\fsl\\\\data\\\\atlases\\\\HarvardOxford\\\\HarvardOxford-cort-maxprob-thr25-2mm.nii.gz',\n",
      "  'low_pass': None,\n",
      "  'mask_img': None,\n",
      "  'smoothing_fwhm': None,\n",
      "  'standardize': True,\n",
      "  't_r': None,\n",
      "  'target_affine': None,\n",
      "  'target_shape': None}, memory_level=1, memory=Memory(location=nilearn_cache\\joblib), verbose=5, confounds=None, dtype=None)\n",
      "[NiftiLabelsMasker.transform_single_imgs] Loading data from F:\\ece\\capstone\\code\\py\\data\\abide\\traindata\\29865_rest_1.nii.gz\n"
     ]
    },
    {
     "name": "stderr",
     "output_type": "stream",
     "text": [
      "C:\\Users\\June Cai\\AppData\\Roaming\\Python\\Python35\\site-packages\\nilearn\\_utils\\cache_mixin.py:84: DeprecationWarning: The 'cachedir' parameter has been deprecated in version 0.12 and will be removed in version 0.14.\n",
      "You provided \"cachedir='nilearn_cache'\", use \"location='nilearn_cache'\" instead.\n",
      "  memory = Memory(cachedir=cache_dir, verbose=verbose)\n",
      "C:\\Users\\June Cai\\AppData\\Roaming\\Python\\Python35\\site-packages\\nilearn\\_utils\\cache_mixin.py:232: DeprecationWarning: The 'cachedir' attribute has been deprecated in version 0.12 and will be removed in version 0.14.\n",
      "Use os.path.join(memory.location, 'joblib') attribute instead.\n",
      "  if (memory.cachedir is None and memory_level is not None\n"
     ]
    },
    {
     "name": "stdout",
     "output_type": "stream",
     "text": [
      "[NiftiLabelsMasker.transform_single_imgs] Extracting region signals\n",
      "[NiftiLabelsMasker.transform_single_imgs] Cleaning extracted signals\n",
      "_______________________________________________filter_and_extract - 0.9s, 0.0min\n",
      "[NiftiLabelsMasker.fit_transform] loading data from C:\\Users\\June Cai/nilearn_data\\fsl\\data\\atlases\\HarvardOxford\\HarvardOxford-cort-maxprob-thr25-2mm.nii.gz\n",
      "Resampling labels\n",
      "________________________________________________________________________________\n",
      "[Memory] Calling nilearn.input_data.base_masker.filter_and_extract...\n",
      "filter_and_extract('F:\\\\ece\\\\capstone\\\\code\\\\py\\\\data\\\\abide\\\\traindata\\\\29866_rest_1.nii.gz', <nilearn.input_data.nifti_labels_masker._ExtractionFunctor object at 0x00000124FAB743C8>, \n",
      "{ 'background_label': 0,\n",
      "  'detrend': False,\n",
      "  'dtype': None,\n",
      "  'high_pass': None,\n",
      "  'labels_img': 'C:\\\\Users\\\\June '\n",
      "                'Cai/nilearn_data\\\\fsl\\\\data\\\\atlases\\\\HarvardOxford\\\\HarvardOxford-cort-maxprob-thr25-2mm.nii.gz',\n",
      "  'low_pass': None,\n",
      "  'mask_img': None,\n",
      "  'smoothing_fwhm': None,\n",
      "  'standardize': True,\n",
      "  't_r': None,\n",
      "  'target_affine': None,\n",
      "  'target_shape': None}, memory_level=1, memory=Memory(location=nilearn_cache\\joblib), verbose=5, confounds=None, dtype=None)\n",
      "[NiftiLabelsMasker.transform_single_imgs] Loading data from F:\\ece\\capstone\\code\\py\\data\\abide\\traindata\\29866_rest_1.nii.gz\n"
     ]
    },
    {
     "name": "stderr",
     "output_type": "stream",
     "text": [
      "C:\\Users\\June Cai\\AppData\\Roaming\\Python\\Python35\\site-packages\\nilearn\\_utils\\cache_mixin.py:84: DeprecationWarning: The 'cachedir' parameter has been deprecated in version 0.12 and will be removed in version 0.14.\n",
      "You provided \"cachedir='nilearn_cache'\", use \"location='nilearn_cache'\" instead.\n",
      "  memory = Memory(cachedir=cache_dir, verbose=verbose)\n",
      "C:\\Users\\June Cai\\AppData\\Roaming\\Python\\Python35\\site-packages\\nilearn\\_utils\\cache_mixin.py:232: DeprecationWarning: The 'cachedir' attribute has been deprecated in version 0.12 and will be removed in version 0.14.\n",
      "Use os.path.join(memory.location, 'joblib') attribute instead.\n",
      "  if (memory.cachedir is None and memory_level is not None\n"
     ]
    },
    {
     "name": "stdout",
     "output_type": "stream",
     "text": [
      "[NiftiLabelsMasker.transform_single_imgs] Extracting region signals\n",
      "[NiftiLabelsMasker.transform_single_imgs] Cleaning extracted signals\n",
      "_______________________________________________filter_and_extract - 0.9s, 0.0min\n",
      "[NiftiLabelsMasker.fit_transform] loading data from C:\\Users\\June Cai/nilearn_data\\fsl\\data\\atlases\\HarvardOxford\\HarvardOxford-cort-maxprob-thr25-2mm.nii.gz\n",
      "Resampling labels\n",
      "________________________________________________________________________________\n",
      "[Memory] Calling nilearn.input_data.base_masker.filter_and_extract...\n",
      "filter_and_extract('F:\\\\ece\\\\capstone\\\\code\\\\py\\\\data\\\\abide\\\\traindata\\\\29867_rest_1.nii.gz', <nilearn.input_data.nifti_labels_masker._ExtractionFunctor object at 0x00000124FBBBF390>, \n",
      "{ 'background_label': 0,\n",
      "  'detrend': False,\n",
      "  'dtype': None,\n",
      "  'high_pass': None,\n",
      "  'labels_img': 'C:\\\\Users\\\\June '\n",
      "                'Cai/nilearn_data\\\\fsl\\\\data\\\\atlases\\\\HarvardOxford\\\\HarvardOxford-cort-maxprob-thr25-2mm.nii.gz',\n",
      "  'low_pass': None,\n",
      "  'mask_img': None,\n",
      "  'smoothing_fwhm': None,\n",
      "  'standardize': True,\n",
      "  't_r': None,\n",
      "  'target_affine': None,\n",
      "  'target_shape': None}, memory_level=1, memory=Memory(location=nilearn_cache\\joblib), verbose=5, confounds=None, dtype=None)\n",
      "[NiftiLabelsMasker.transform_single_imgs] Loading data from F:\\ece\\capstone\\code\\py\\data\\abide\\traindata\\29867_rest_1.nii.gz\n"
     ]
    },
    {
     "name": "stderr",
     "output_type": "stream",
     "text": [
      "C:\\Users\\June Cai\\AppData\\Roaming\\Python\\Python35\\site-packages\\nilearn\\_utils\\cache_mixin.py:84: DeprecationWarning: The 'cachedir' parameter has been deprecated in version 0.12 and will be removed in version 0.14.\n",
      "You provided \"cachedir='nilearn_cache'\", use \"location='nilearn_cache'\" instead.\n",
      "  memory = Memory(cachedir=cache_dir, verbose=verbose)\n",
      "C:\\Users\\June Cai\\AppData\\Roaming\\Python\\Python35\\site-packages\\nilearn\\_utils\\cache_mixin.py:232: DeprecationWarning: The 'cachedir' attribute has been deprecated in version 0.12 and will be removed in version 0.14.\n",
      "Use os.path.join(memory.location, 'joblib') attribute instead.\n",
      "  if (memory.cachedir is None and memory_level is not None\n"
     ]
    },
    {
     "name": "stdout",
     "output_type": "stream",
     "text": [
      "[NiftiLabelsMasker.transform_single_imgs] Extracting region signals\n",
      "[NiftiLabelsMasker.transform_single_imgs] Cleaning extracted signals\n",
      "_______________________________________________filter_and_extract - 0.9s, 0.0min\n",
      "[NiftiLabelsMasker.fit_transform] loading data from C:\\Users\\June Cai/nilearn_data\\fsl\\data\\atlases\\HarvardOxford\\HarvardOxford-cort-maxprob-thr25-2mm.nii.gz\n",
      "Resampling labels\n",
      "________________________________________________________________________________\n",
      "[Memory] Calling nilearn.input_data.base_masker.filter_and_extract...\n",
      "filter_and_extract('F:\\\\ece\\\\capstone\\\\code\\\\py\\\\data\\\\abide\\\\traindata\\\\29868_rest_1.nii.gz', <nilearn.input_data.nifti_labels_masker._ExtractionFunctor object at 0x000001248D6CCC50>, \n",
      "{ 'background_label': 0,\n",
      "  'detrend': False,\n",
      "  'dtype': None,\n",
      "  'high_pass': None,\n",
      "  'labels_img': 'C:\\\\Users\\\\June '\n",
      "                'Cai/nilearn_data\\\\fsl\\\\data\\\\atlases\\\\HarvardOxford\\\\HarvardOxford-cort-maxprob-thr25-2mm.nii.gz',\n",
      "  'low_pass': None,\n",
      "  'mask_img': None,\n",
      "  'smoothing_fwhm': None,\n",
      "  'standardize': True,\n",
      "  't_r': None,\n",
      "  'target_affine': None,\n",
      "  'target_shape': None}, memory_level=1, memory=Memory(location=nilearn_cache\\joblib), verbose=5, confounds=None, dtype=None)\n",
      "[NiftiLabelsMasker.transform_single_imgs] Loading data from F:\\ece\\capstone\\code\\py\\data\\abide\\traindata\\29868_rest_1.nii.gz\n"
     ]
    },
    {
     "name": "stderr",
     "output_type": "stream",
     "text": [
      "C:\\Users\\June Cai\\AppData\\Roaming\\Python\\Python35\\site-packages\\nilearn\\_utils\\cache_mixin.py:84: DeprecationWarning: The 'cachedir' parameter has been deprecated in version 0.12 and will be removed in version 0.14.\n",
      "You provided \"cachedir='nilearn_cache'\", use \"location='nilearn_cache'\" instead.\n",
      "  memory = Memory(cachedir=cache_dir, verbose=verbose)\n",
      "C:\\Users\\June Cai\\AppData\\Roaming\\Python\\Python35\\site-packages\\nilearn\\_utils\\cache_mixin.py:232: DeprecationWarning: The 'cachedir' attribute has been deprecated in version 0.12 and will be removed in version 0.14.\n",
      "Use os.path.join(memory.location, 'joblib') attribute instead.\n",
      "  if (memory.cachedir is None and memory_level is not None\n"
     ]
    },
    {
     "name": "stdout",
     "output_type": "stream",
     "text": [
      "[NiftiLabelsMasker.transform_single_imgs] Extracting region signals\n",
      "[NiftiLabelsMasker.transform_single_imgs] Cleaning extracted signals\n",
      "_______________________________________________filter_and_extract - 0.8s, 0.0min\n",
      "[NiftiLabelsMasker.fit_transform] loading data from C:\\Users\\June Cai/nilearn_data\\fsl\\data\\atlases\\HarvardOxford\\HarvardOxford-cort-maxprob-thr25-2mm.nii.gz\n",
      "Resampling labels\n",
      "________________________________________________________________________________\n",
      "[Memory] Calling nilearn.input_data.base_masker.filter_and_extract...\n",
      "filter_and_extract('F:\\\\ece\\\\capstone\\\\code\\\\py\\\\data\\\\abide\\\\traindata\\\\29869_rest_1.nii.gz', <nilearn.input_data.nifti_labels_masker._ExtractionFunctor object at 0x0000012496F2ABA8>, \n",
      "{ 'background_label': 0,\n",
      "  'detrend': False,\n",
      "  'dtype': None,\n",
      "  'high_pass': None,\n",
      "  'labels_img': 'C:\\\\Users\\\\June '\n",
      "                'Cai/nilearn_data\\\\fsl\\\\data\\\\atlases\\\\HarvardOxford\\\\HarvardOxford-cort-maxprob-thr25-2mm.nii.gz',\n",
      "  'low_pass': None,\n",
      "  'mask_img': None,\n",
      "  'smoothing_fwhm': None,\n",
      "  'standardize': True,\n",
      "  't_r': None,\n",
      "  'target_affine': None,\n",
      "  'target_shape': None}, memory_level=1, memory=Memory(location=nilearn_cache\\joblib), verbose=5, confounds=None, dtype=None)\n",
      "[NiftiLabelsMasker.transform_single_imgs] Loading data from F:\\ece\\capstone\\code\\py\\data\\abide\\traindata\\29869_rest_1.nii.gz\n"
     ]
    },
    {
     "name": "stderr",
     "output_type": "stream",
     "text": [
      "C:\\Users\\June Cai\\AppData\\Roaming\\Python\\Python35\\site-packages\\nilearn\\_utils\\cache_mixin.py:84: DeprecationWarning: The 'cachedir' parameter has been deprecated in version 0.12 and will be removed in version 0.14.\n",
      "You provided \"cachedir='nilearn_cache'\", use \"location='nilearn_cache'\" instead.\n",
      "  memory = Memory(cachedir=cache_dir, verbose=verbose)\n",
      "C:\\Users\\June Cai\\AppData\\Roaming\\Python\\Python35\\site-packages\\nilearn\\_utils\\cache_mixin.py:232: DeprecationWarning: The 'cachedir' attribute has been deprecated in version 0.12 and will be removed in version 0.14.\n",
      "Use os.path.join(memory.location, 'joblib') attribute instead.\n",
      "  if (memory.cachedir is None and memory_level is not None\n"
     ]
    },
    {
     "name": "stdout",
     "output_type": "stream",
     "text": [
      "[NiftiLabelsMasker.transform_single_imgs] Extracting region signals\n",
      "[NiftiLabelsMasker.transform_single_imgs] Cleaning extracted signals\n",
      "_______________________________________________filter_and_extract - 0.9s, 0.0min\n",
      "[NiftiLabelsMasker.fit_transform] loading data from C:\\Users\\June Cai/nilearn_data\\fsl\\data\\atlases\\HarvardOxford\\HarvardOxford-cort-maxprob-thr25-2mm.nii.gz\n",
      "Resampling labels\n",
      "________________________________________________________________________________\n",
      "[Memory] Calling nilearn.input_data.base_masker.filter_and_extract...\n",
      "filter_and_extract('F:\\\\ece\\\\capstone\\\\code\\\\py\\\\data\\\\abide\\\\traindata\\\\29870_rest_1.nii.gz', <nilearn.input_data.nifti_labels_masker._ExtractionFunctor object at 0x00000124FBC1F5C0>, \n",
      "{ 'background_label': 0,\n",
      "  'detrend': False,\n",
      "  'dtype': None,\n",
      "  'high_pass': None,\n",
      "  'labels_img': 'C:\\\\Users\\\\June '\n",
      "                'Cai/nilearn_data\\\\fsl\\\\data\\\\atlases\\\\HarvardOxford\\\\HarvardOxford-cort-maxprob-thr25-2mm.nii.gz',\n",
      "  'low_pass': None,\n",
      "  'mask_img': None,\n",
      "  'smoothing_fwhm': None,\n",
      "  'standardize': True,\n",
      "  't_r': None,\n",
      "  'target_affine': None,\n",
      "  'target_shape': None}, memory_level=1, memory=Memory(location=nilearn_cache\\joblib), verbose=5, confounds=None, dtype=None)\n",
      "[NiftiLabelsMasker.transform_single_imgs] Loading data from F:\\ece\\capstone\\code\\py\\data\\abide\\traindata\\29870_rest_1.nii.gz\n"
     ]
    },
    {
     "name": "stderr",
     "output_type": "stream",
     "text": [
      "C:\\Users\\June Cai\\AppData\\Roaming\\Python\\Python35\\site-packages\\nilearn\\_utils\\cache_mixin.py:84: DeprecationWarning: The 'cachedir' parameter has been deprecated in version 0.12 and will be removed in version 0.14.\n",
      "You provided \"cachedir='nilearn_cache'\", use \"location='nilearn_cache'\" instead.\n",
      "  memory = Memory(cachedir=cache_dir, verbose=verbose)\n",
      "C:\\Users\\June Cai\\AppData\\Roaming\\Python\\Python35\\site-packages\\nilearn\\_utils\\cache_mixin.py:232: DeprecationWarning: The 'cachedir' attribute has been deprecated in version 0.12 and will be removed in version 0.14.\n",
      "Use os.path.join(memory.location, 'joblib') attribute instead.\n",
      "  if (memory.cachedir is None and memory_level is not None\n"
     ]
    },
    {
     "name": "stdout",
     "output_type": "stream",
     "text": [
      "[NiftiLabelsMasker.transform_single_imgs] Extracting region signals\n",
      "[NiftiLabelsMasker.transform_single_imgs] Cleaning extracted signals\n",
      "_______________________________________________filter_and_extract - 0.9s, 0.0min\n",
      "[NiftiLabelsMasker.fit_transform] loading data from C:\\Users\\June Cai/nilearn_data\\fsl\\data\\atlases\\HarvardOxford\\HarvardOxford-cort-maxprob-thr25-2mm.nii.gz\n",
      "Resampling labels\n",
      "________________________________________________________________________________\n",
      "[Memory] Calling nilearn.input_data.base_masker.filter_and_extract...\n",
      "filter_and_extract('F:\\\\ece\\\\capstone\\\\code\\\\py\\\\data\\\\abide\\\\traindata\\\\29871_rest_1.nii.gz', <nilearn.input_data.nifti_labels_masker._ExtractionFunctor object at 0x000001248B1B5320>, \n",
      "{ 'background_label': 0,\n",
      "  'detrend': False,\n",
      "  'dtype': None,\n",
      "  'high_pass': None,\n",
      "  'labels_img': 'C:\\\\Users\\\\June '\n",
      "                'Cai/nilearn_data\\\\fsl\\\\data\\\\atlases\\\\HarvardOxford\\\\HarvardOxford-cort-maxprob-thr25-2mm.nii.gz',\n",
      "  'low_pass': None,\n",
      "  'mask_img': None,\n",
      "  'smoothing_fwhm': None,\n",
      "  'standardize': True,\n",
      "  't_r': None,\n",
      "  'target_affine': None,\n",
      "  'target_shape': None}, memory_level=1, memory=Memory(location=nilearn_cache\\joblib), verbose=5, confounds=None, dtype=None)\n",
      "[NiftiLabelsMasker.transform_single_imgs] Loading data from F:\\ece\\capstone\\code\\py\\data\\abide\\traindata\\29871_rest_1.nii.gz\n"
     ]
    },
    {
     "name": "stderr",
     "output_type": "stream",
     "text": [
      "C:\\Users\\June Cai\\AppData\\Roaming\\Python\\Python35\\site-packages\\nilearn\\_utils\\cache_mixin.py:84: DeprecationWarning: The 'cachedir' parameter has been deprecated in version 0.12 and will be removed in version 0.14.\n",
      "You provided \"cachedir='nilearn_cache'\", use \"location='nilearn_cache'\" instead.\n",
      "  memory = Memory(cachedir=cache_dir, verbose=verbose)\n",
      "C:\\Users\\June Cai\\AppData\\Roaming\\Python\\Python35\\site-packages\\nilearn\\_utils\\cache_mixin.py:232: DeprecationWarning: The 'cachedir' attribute has been deprecated in version 0.12 and will be removed in version 0.14.\n",
      "Use os.path.join(memory.location, 'joblib') attribute instead.\n",
      "  if (memory.cachedir is None and memory_level is not None\n"
     ]
    },
    {
     "name": "stdout",
     "output_type": "stream",
     "text": [
      "[NiftiLabelsMasker.transform_single_imgs] Extracting region signals\n",
      "[NiftiLabelsMasker.transform_single_imgs] Cleaning extracted signals\n",
      "_______________________________________________filter_and_extract - 0.9s, 0.0min\n",
      "[NiftiLabelsMasker.fit_transform] loading data from C:\\Users\\June Cai/nilearn_data\\fsl\\data\\atlases\\HarvardOxford\\HarvardOxford-cort-maxprob-thr25-2mm.nii.gz\n",
      "Resampling labels\n",
      "________________________________________________________________________________\n",
      "[Memory] Calling nilearn.input_data.base_masker.filter_and_extract...\n",
      "filter_and_extract('F:\\\\ece\\\\capstone\\\\code\\\\py\\\\data\\\\abide\\\\traindata\\\\29872_rest_1.nii.gz', <nilearn.input_data.nifti_labels_masker._ExtractionFunctor object at 0x0000012496F1A8D0>, \n",
      "{ 'background_label': 0,\n",
      "  'detrend': False,\n",
      "  'dtype': None,\n",
      "  'high_pass': None,\n",
      "  'labels_img': 'C:\\\\Users\\\\June '\n",
      "                'Cai/nilearn_data\\\\fsl\\\\data\\\\atlases\\\\HarvardOxford\\\\HarvardOxford-cort-maxprob-thr25-2mm.nii.gz',\n",
      "  'low_pass': None,\n",
      "  'mask_img': None,\n",
      "  'smoothing_fwhm': None,\n",
      "  'standardize': True,\n",
      "  't_r': None,\n",
      "  'target_affine': None,\n",
      "  'target_shape': None}, memory_level=1, memory=Memory(location=nilearn_cache\\joblib), verbose=5, confounds=None, dtype=None)\n",
      "[NiftiLabelsMasker.transform_single_imgs] Loading data from F:\\ece\\capstone\\code\\py\\data\\abide\\traindata\\29872_rest_1.nii.gz\n"
     ]
    },
    {
     "name": "stderr",
     "output_type": "stream",
     "text": [
      "C:\\Users\\June Cai\\AppData\\Roaming\\Python\\Python35\\site-packages\\nilearn\\_utils\\cache_mixin.py:84: DeprecationWarning: The 'cachedir' parameter has been deprecated in version 0.12 and will be removed in version 0.14.\n",
      "You provided \"cachedir='nilearn_cache'\", use \"location='nilearn_cache'\" instead.\n",
      "  memory = Memory(cachedir=cache_dir, verbose=verbose)\n",
      "C:\\Users\\June Cai\\AppData\\Roaming\\Python\\Python35\\site-packages\\nilearn\\_utils\\cache_mixin.py:232: DeprecationWarning: The 'cachedir' attribute has been deprecated in version 0.12 and will be removed in version 0.14.\n",
      "Use os.path.join(memory.location, 'joblib') attribute instead.\n",
      "  if (memory.cachedir is None and memory_level is not None\n"
     ]
    },
    {
     "name": "stdout",
     "output_type": "stream",
     "text": [
      "[NiftiLabelsMasker.transform_single_imgs] Extracting region signals\n",
      "[NiftiLabelsMasker.transform_single_imgs] Cleaning extracted signals\n",
      "_______________________________________________filter_and_extract - 0.9s, 0.0min\n",
      "[NiftiLabelsMasker.fit_transform] loading data from C:\\Users\\June Cai/nilearn_data\\fsl\\data\\atlases\\HarvardOxford\\HarvardOxford-cort-maxprob-thr25-2mm.nii.gz\n",
      "Resampling labels\n",
      "________________________________________________________________________________\n",
      "[Memory] Calling nilearn.input_data.base_masker.filter_and_extract...\n",
      "filter_and_extract('F:\\\\ece\\\\capstone\\\\code\\\\py\\\\data\\\\abide\\\\traindata\\\\29873_rest_1.nii.gz', <nilearn.input_data.nifti_labels_masker._ExtractionFunctor object at 0x00000124FAB743C8>, \n",
      "{ 'background_label': 0,\n",
      "  'detrend': False,\n",
      "  'dtype': None,\n",
      "  'high_pass': None,\n",
      "  'labels_img': 'C:\\\\Users\\\\June '\n",
      "                'Cai/nilearn_data\\\\fsl\\\\data\\\\atlases\\\\HarvardOxford\\\\HarvardOxford-cort-maxprob-thr25-2mm.nii.gz',\n",
      "  'low_pass': None,\n",
      "  'mask_img': None,\n",
      "  'smoothing_fwhm': None,\n",
      "  'standardize': True,\n",
      "  't_r': None,\n",
      "  'target_affine': None,\n",
      "  'target_shape': None}, memory_level=1, memory=Memory(location=nilearn_cache\\joblib), verbose=5, confounds=None, dtype=None)\n",
      "[NiftiLabelsMasker.transform_single_imgs] Loading data from F:\\ece\\capstone\\code\\py\\data\\abide\\traindata\\29873_rest_1.nii.gz\n"
     ]
    },
    {
     "name": "stderr",
     "output_type": "stream",
     "text": [
      "C:\\Users\\June Cai\\AppData\\Roaming\\Python\\Python35\\site-packages\\nilearn\\_utils\\cache_mixin.py:84: DeprecationWarning: The 'cachedir' parameter has been deprecated in version 0.12 and will be removed in version 0.14.\n",
      "You provided \"cachedir='nilearn_cache'\", use \"location='nilearn_cache'\" instead.\n",
      "  memory = Memory(cachedir=cache_dir, verbose=verbose)\n",
      "C:\\Users\\June Cai\\AppData\\Roaming\\Python\\Python35\\site-packages\\nilearn\\_utils\\cache_mixin.py:232: DeprecationWarning: The 'cachedir' attribute has been deprecated in version 0.12 and will be removed in version 0.14.\n",
      "Use os.path.join(memory.location, 'joblib') attribute instead.\n",
      "  if (memory.cachedir is None and memory_level is not None\n"
     ]
    },
    {
     "name": "stdout",
     "output_type": "stream",
     "text": [
      "[NiftiLabelsMasker.transform_single_imgs] Extracting region signals\n",
      "[NiftiLabelsMasker.transform_single_imgs] Cleaning extracted signals\n",
      "_______________________________________________filter_and_extract - 0.9s, 0.0min\n",
      "[NiftiLabelsMasker.fit_transform] loading data from C:\\Users\\June Cai/nilearn_data\\fsl\\data\\atlases\\HarvardOxford\\HarvardOxford-cort-maxprob-thr25-2mm.nii.gz\n",
      "Resampling labels\n",
      "________________________________________________________________________________\n",
      "[Memory] Calling nilearn.input_data.base_masker.filter_and_extract...\n",
      "filter_and_extract('F:\\\\ece\\\\capstone\\\\code\\\\py\\\\data\\\\abide\\\\traindata\\\\29874_rest_1.nii.gz', <nilearn.input_data.nifti_labels_masker._ExtractionFunctor object at 0x00000124FBC1F5C0>, \n",
      "{ 'background_label': 0,\n",
      "  'detrend': False,\n",
      "  'dtype': None,\n",
      "  'high_pass': None,\n",
      "  'labels_img': 'C:\\\\Users\\\\June '\n",
      "                'Cai/nilearn_data\\\\fsl\\\\data\\\\atlases\\\\HarvardOxford\\\\HarvardOxford-cort-maxprob-thr25-2mm.nii.gz',\n",
      "  'low_pass': None,\n",
      "  'mask_img': None,\n",
      "  'smoothing_fwhm': None,\n",
      "  'standardize': True,\n",
      "  't_r': None,\n",
      "  'target_affine': None,\n",
      "  'target_shape': None}, memory_level=1, memory=Memory(location=nilearn_cache\\joblib), verbose=5, confounds=None, dtype=None)\n",
      "[NiftiLabelsMasker.transform_single_imgs] Loading data from F:\\ece\\capstone\\code\\py\\data\\abide\\traindata\\29874_rest_1.nii.gz\n"
     ]
    },
    {
     "name": "stderr",
     "output_type": "stream",
     "text": [
      "C:\\Users\\June Cai\\AppData\\Roaming\\Python\\Python35\\site-packages\\nilearn\\_utils\\cache_mixin.py:84: DeprecationWarning: The 'cachedir' parameter has been deprecated in version 0.12 and will be removed in version 0.14.\n",
      "You provided \"cachedir='nilearn_cache'\", use \"location='nilearn_cache'\" instead.\n",
      "  memory = Memory(cachedir=cache_dir, verbose=verbose)\n",
      "C:\\Users\\June Cai\\AppData\\Roaming\\Python\\Python35\\site-packages\\nilearn\\_utils\\cache_mixin.py:232: DeprecationWarning: The 'cachedir' attribute has been deprecated in version 0.12 and will be removed in version 0.14.\n",
      "Use os.path.join(memory.location, 'joblib') attribute instead.\n",
      "  if (memory.cachedir is None and memory_level is not None\n"
     ]
    },
    {
     "name": "stdout",
     "output_type": "stream",
     "text": [
      "[NiftiLabelsMasker.transform_single_imgs] Extracting region signals\n",
      "[NiftiLabelsMasker.transform_single_imgs] Cleaning extracted signals\n",
      "_______________________________________________filter_and_extract - 0.9s, 0.0min\n",
      "[NiftiLabelsMasker.fit_transform] loading data from C:\\Users\\June Cai/nilearn_data\\fsl\\data\\atlases\\HarvardOxford\\HarvardOxford-cort-maxprob-thr25-2mm.nii.gz\n",
      "Resampling labels\n",
      "________________________________________________________________________________\n",
      "[Memory] Calling nilearn.input_data.base_masker.filter_and_extract...\n",
      "filter_and_extract('F:\\\\ece\\\\capstone\\\\code\\\\py\\\\data\\\\abide\\\\traindata\\\\29875_rest_1.nii.gz', <nilearn.input_data.nifti_labels_masker._ExtractionFunctor object at 0x00000124F72414A8>, \n",
      "{ 'background_label': 0,\n",
      "  'detrend': False,\n",
      "  'dtype': None,\n",
      "  'high_pass': None,\n",
      "  'labels_img': 'C:\\\\Users\\\\June '\n",
      "                'Cai/nilearn_data\\\\fsl\\\\data\\\\atlases\\\\HarvardOxford\\\\HarvardOxford-cort-maxprob-thr25-2mm.nii.gz',\n",
      "  'low_pass': None,\n",
      "  'mask_img': None,\n",
      "  'smoothing_fwhm': None,\n",
      "  'standardize': True,\n",
      "  't_r': None,\n",
      "  'target_affine': None,\n",
      "  'target_shape': None}, memory_level=1, memory=Memory(location=nilearn_cache\\joblib), verbose=5, confounds=None, dtype=None)\n",
      "[NiftiLabelsMasker.transform_single_imgs] Loading data from F:\\ece\\capstone\\code\\py\\data\\abide\\traindata\\29875_rest_1.nii.gz\n"
     ]
    },
    {
     "name": "stderr",
     "output_type": "stream",
     "text": [
      "C:\\Users\\June Cai\\AppData\\Roaming\\Python\\Python35\\site-packages\\nilearn\\_utils\\cache_mixin.py:84: DeprecationWarning: The 'cachedir' parameter has been deprecated in version 0.12 and will be removed in version 0.14.\n",
      "You provided \"cachedir='nilearn_cache'\", use \"location='nilearn_cache'\" instead.\n",
      "  memory = Memory(cachedir=cache_dir, verbose=verbose)\n",
      "C:\\Users\\June Cai\\AppData\\Roaming\\Python\\Python35\\site-packages\\nilearn\\_utils\\cache_mixin.py:232: DeprecationWarning: The 'cachedir' attribute has been deprecated in version 0.12 and will be removed in version 0.14.\n",
      "Use os.path.join(memory.location, 'joblib') attribute instead.\n",
      "  if (memory.cachedir is None and memory_level is not None\n"
     ]
    },
    {
     "name": "stdout",
     "output_type": "stream",
     "text": [
      "[NiftiLabelsMasker.transform_single_imgs] Extracting region signals\n",
      "[NiftiLabelsMasker.transform_single_imgs] Cleaning extracted signals\n",
      "_______________________________________________filter_and_extract - 0.8s, 0.0min\n",
      "[NiftiLabelsMasker.fit_transform] loading data from C:\\Users\\June Cai/nilearn_data\\fsl\\data\\atlases\\HarvardOxford\\HarvardOxford-cort-maxprob-thr25-2mm.nii.gz\n",
      "Resampling labels\n",
      "________________________________________________________________________________\n",
      "[Memory] Calling nilearn.input_data.base_masker.filter_and_extract...\n",
      "filter_and_extract('F:\\\\ece\\\\capstone\\\\code\\\\py\\\\data\\\\abide\\\\traindata\\\\29876_rest_1.nii.gz', <nilearn.input_data.nifti_labels_masker._ExtractionFunctor object at 0x000001248B1B5320>, \n",
      "{ 'background_label': 0,\n",
      "  'detrend': False,\n",
      "  'dtype': None,\n",
      "  'high_pass': None,\n",
      "  'labels_img': 'C:\\\\Users\\\\June '\n",
      "                'Cai/nilearn_data\\\\fsl\\\\data\\\\atlases\\\\HarvardOxford\\\\HarvardOxford-cort-maxprob-thr25-2mm.nii.gz',\n",
      "  'low_pass': None,\n",
      "  'mask_img': None,\n",
      "  'smoothing_fwhm': None,\n",
      "  'standardize': True,\n",
      "  't_r': None,\n",
      "  'target_affine': None,\n",
      "  'target_shape': None}, memory_level=1, memory=Memory(location=nilearn_cache\\joblib), verbose=5, confounds=None, dtype=None)\n",
      "[NiftiLabelsMasker.transform_single_imgs] Loading data from F:\\ece\\capstone\\code\\py\\data\\abide\\traindata\\29876_rest_1.nii.gz\n"
     ]
    },
    {
     "name": "stderr",
     "output_type": "stream",
     "text": [
      "C:\\Users\\June Cai\\AppData\\Roaming\\Python\\Python35\\site-packages\\nilearn\\_utils\\cache_mixin.py:84: DeprecationWarning: The 'cachedir' parameter has been deprecated in version 0.12 and will be removed in version 0.14.\n",
      "You provided \"cachedir='nilearn_cache'\", use \"location='nilearn_cache'\" instead.\n",
      "  memory = Memory(cachedir=cache_dir, verbose=verbose)\n",
      "C:\\Users\\June Cai\\AppData\\Roaming\\Python\\Python35\\site-packages\\nilearn\\_utils\\cache_mixin.py:232: DeprecationWarning: The 'cachedir' attribute has been deprecated in version 0.12 and will be removed in version 0.14.\n",
      "Use os.path.join(memory.location, 'joblib') attribute instead.\n",
      "  if (memory.cachedir is None and memory_level is not None\n"
     ]
    },
    {
     "name": "stdout",
     "output_type": "stream",
     "text": [
      "[NiftiLabelsMasker.transform_single_imgs] Extracting region signals\n",
      "[NiftiLabelsMasker.transform_single_imgs] Cleaning extracted signals\n",
      "_______________________________________________filter_and_extract - 0.9s, 0.0min\n",
      "[NiftiLabelsMasker.fit_transform] loading data from C:\\Users\\June Cai/nilearn_data\\fsl\\data\\atlases\\HarvardOxford\\HarvardOxford-cort-maxprob-thr25-2mm.nii.gz\n",
      "Resampling labels\n",
      "________________________________________________________________________________\n",
      "[Memory] Calling nilearn.input_data.base_masker.filter_and_extract...\n",
      "filter_and_extract('F:\\\\ece\\\\capstone\\\\code\\\\py\\\\data\\\\abide\\\\traindata\\\\29877_rest_1.nii.gz', <nilearn.input_data.nifti_labels_masker._ExtractionFunctor object at 0x0000012496F2AA90>, \n",
      "{ 'background_label': 0,\n",
      "  'detrend': False,\n",
      "  'dtype': None,\n",
      "  'high_pass': None,\n",
      "  'labels_img': 'C:\\\\Users\\\\June '\n",
      "                'Cai/nilearn_data\\\\fsl\\\\data\\\\atlases\\\\HarvardOxford\\\\HarvardOxford-cort-maxprob-thr25-2mm.nii.gz',\n",
      "  'low_pass': None,\n",
      "  'mask_img': None,\n",
      "  'smoothing_fwhm': None,\n",
      "  'standardize': True,\n",
      "  't_r': None,\n",
      "  'target_affine': None,\n",
      "  'target_shape': None}, memory_level=1, memory=Memory(location=nilearn_cache\\joblib), verbose=5, confounds=None, dtype=None)\n",
      "[NiftiLabelsMasker.transform_single_imgs] Loading data from F:\\ece\\capstone\\code\\py\\data\\abide\\traindata\\29877_rest_1.nii.gz\n"
     ]
    },
    {
     "name": "stderr",
     "output_type": "stream",
     "text": [
      "C:\\Users\\June Cai\\AppData\\Roaming\\Python\\Python35\\site-packages\\nilearn\\_utils\\cache_mixin.py:84: DeprecationWarning: The 'cachedir' parameter has been deprecated in version 0.12 and will be removed in version 0.14.\n",
      "You provided \"cachedir='nilearn_cache'\", use \"location='nilearn_cache'\" instead.\n",
      "  memory = Memory(cachedir=cache_dir, verbose=verbose)\n",
      "C:\\Users\\June Cai\\AppData\\Roaming\\Python\\Python35\\site-packages\\nilearn\\_utils\\cache_mixin.py:232: DeprecationWarning: The 'cachedir' attribute has been deprecated in version 0.12 and will be removed in version 0.14.\n",
      "Use os.path.join(memory.location, 'joblib') attribute instead.\n",
      "  if (memory.cachedir is None and memory_level is not None\n"
     ]
    },
    {
     "name": "stdout",
     "output_type": "stream",
     "text": [
      "[NiftiLabelsMasker.transform_single_imgs] Extracting region signals\n",
      "[NiftiLabelsMasker.transform_single_imgs] Cleaning extracted signals\n",
      "_______________________________________________filter_and_extract - 0.8s, 0.0min\n",
      "[NiftiLabelsMasker.fit_transform] loading data from C:\\Users\\June Cai/nilearn_data\\fsl\\data\\atlases\\HarvardOxford\\HarvardOxford-cort-maxprob-thr25-2mm.nii.gz\n",
      "Resampling labels\n",
      "________________________________________________________________________________\n",
      "[Memory] Calling nilearn.input_data.base_masker.filter_and_extract...\n",
      "filter_and_extract('F:\\\\ece\\\\capstone\\\\code\\\\py\\\\data\\\\abide\\\\traindata\\\\29878_rest_1.nii.gz', <nilearn.input_data.nifti_labels_masker._ExtractionFunctor object at 0x000001248C732048>, \n",
      "{ 'background_label': 0,\n",
      "  'detrend': False,\n",
      "  'dtype': None,\n",
      "  'high_pass': None,\n",
      "  'labels_img': 'C:\\\\Users\\\\June '\n",
      "                'Cai/nilearn_data\\\\fsl\\\\data\\\\atlases\\\\HarvardOxford\\\\HarvardOxford-cort-maxprob-thr25-2mm.nii.gz',\n",
      "  'low_pass': None,\n",
      "  'mask_img': None,\n",
      "  'smoothing_fwhm': None,\n",
      "  'standardize': True,\n",
      "  't_r': None,\n",
      "  'target_affine': None,\n",
      "  'target_shape': None}, memory_level=1, memory=Memory(location=nilearn_cache\\joblib), verbose=5, confounds=None, dtype=None)\n",
      "[NiftiLabelsMasker.transform_single_imgs] Loading data from F:\\ece\\capstone\\code\\py\\data\\abide\\traindata\\29878_rest_1.nii.gz\n"
     ]
    },
    {
     "name": "stderr",
     "output_type": "stream",
     "text": [
      "C:\\Users\\June Cai\\AppData\\Roaming\\Python\\Python35\\site-packages\\nilearn\\_utils\\cache_mixin.py:84: DeprecationWarning: The 'cachedir' parameter has been deprecated in version 0.12 and will be removed in version 0.14.\n",
      "You provided \"cachedir='nilearn_cache'\", use \"location='nilearn_cache'\" instead.\n",
      "  memory = Memory(cachedir=cache_dir, verbose=verbose)\n",
      "C:\\Users\\June Cai\\AppData\\Roaming\\Python\\Python35\\site-packages\\nilearn\\_utils\\cache_mixin.py:232: DeprecationWarning: The 'cachedir' attribute has been deprecated in version 0.12 and will be removed in version 0.14.\n",
      "Use os.path.join(memory.location, 'joblib') attribute instead.\n",
      "  if (memory.cachedir is None and memory_level is not None\n"
     ]
    },
    {
     "name": "stdout",
     "output_type": "stream",
     "text": [
      "[NiftiLabelsMasker.transform_single_imgs] Extracting region signals\n",
      "[NiftiLabelsMasker.transform_single_imgs] Cleaning extracted signals\n",
      "_______________________________________________filter_and_extract - 0.9s, 0.0min\n",
      "[NiftiLabelsMasker.fit_transform] loading data from C:\\Users\\June Cai/nilearn_data\\fsl\\data\\atlases\\HarvardOxford\\HarvardOxford-cort-maxprob-thr25-2mm.nii.gz\n",
      "Resampling labels\n",
      "________________________________________________________________________________\n",
      "[Memory] Calling nilearn.input_data.base_masker.filter_and_extract...\n",
      "filter_and_extract('F:\\\\ece\\\\capstone\\\\code\\\\py\\\\data\\\\abide\\\\traindata\\\\29879_rest_1.nii.gz', <nilearn.input_data.nifti_labels_masker._ExtractionFunctor object at 0x000001248A9110F0>, \n",
      "{ 'background_label': 0,\n",
      "  'detrend': False,\n",
      "  'dtype': None,\n",
      "  'high_pass': None,\n",
      "  'labels_img': 'C:\\\\Users\\\\June '\n",
      "                'Cai/nilearn_data\\\\fsl\\\\data\\\\atlases\\\\HarvardOxford\\\\HarvardOxford-cort-maxprob-thr25-2mm.nii.gz',\n",
      "  'low_pass': None,\n",
      "  'mask_img': None,\n",
      "  'smoothing_fwhm': None,\n",
      "  'standardize': True,\n",
      "  't_r': None,\n",
      "  'target_affine': None,\n",
      "  'target_shape': None}, memory_level=1, memory=Memory(location=nilearn_cache\\joblib), verbose=5, confounds=None, dtype=None)\n",
      "[NiftiLabelsMasker.transform_single_imgs] Loading data from F:\\ece\\capstone\\code\\py\\data\\abide\\traindata\\29879_rest_1.nii.gz\n"
     ]
    },
    {
     "name": "stderr",
     "output_type": "stream",
     "text": [
      "C:\\Users\\June Cai\\AppData\\Roaming\\Python\\Python35\\site-packages\\nilearn\\_utils\\cache_mixin.py:84: DeprecationWarning: The 'cachedir' parameter has been deprecated in version 0.12 and will be removed in version 0.14.\n",
      "You provided \"cachedir='nilearn_cache'\", use \"location='nilearn_cache'\" instead.\n",
      "  memory = Memory(cachedir=cache_dir, verbose=verbose)\n",
      "C:\\Users\\June Cai\\AppData\\Roaming\\Python\\Python35\\site-packages\\nilearn\\_utils\\cache_mixin.py:232: DeprecationWarning: The 'cachedir' attribute has been deprecated in version 0.12 and will be removed in version 0.14.\n",
      "Use os.path.join(memory.location, 'joblib') attribute instead.\n",
      "  if (memory.cachedir is None and memory_level is not None\n"
     ]
    },
    {
     "name": "stdout",
     "output_type": "stream",
     "text": [
      "[NiftiLabelsMasker.transform_single_imgs] Extracting region signals\n",
      "[NiftiLabelsMasker.transform_single_imgs] Cleaning extracted signals\n",
      "_______________________________________________filter_and_extract - 0.9s, 0.0min\n",
      "[NiftiLabelsMasker.fit_transform] loading data from C:\\Users\\June Cai/nilearn_data\\fsl\\data\\atlases\\HarvardOxford\\HarvardOxford-cort-maxprob-thr25-2mm.nii.gz\n",
      "Resampling labels\n",
      "________________________________________________________________________________\n",
      "[Memory] Calling nilearn.input_data.base_masker.filter_and_extract...\n",
      "filter_and_extract('F:\\\\ece\\\\capstone\\\\code\\\\py\\\\data\\\\abide\\\\traindata\\\\29880_rest_1.nii.gz', <nilearn.input_data.nifti_labels_masker._ExtractionFunctor object at 0x00000124FAB717F0>, \n",
      "{ 'background_label': 0,\n",
      "  'detrend': False,\n",
      "  'dtype': None,\n",
      "  'high_pass': None,\n",
      "  'labels_img': 'C:\\\\Users\\\\June '\n",
      "                'Cai/nilearn_data\\\\fsl\\\\data\\\\atlases\\\\HarvardOxford\\\\HarvardOxford-cort-maxprob-thr25-2mm.nii.gz',\n",
      "  'low_pass': None,\n",
      "  'mask_img': None,\n",
      "  'smoothing_fwhm': None,\n",
      "  'standardize': True,\n",
      "  't_r': None,\n",
      "  'target_affine': None,\n",
      "  'target_shape': None}, memory_level=1, memory=Memory(location=nilearn_cache\\joblib), verbose=5, confounds=None, dtype=None)\n",
      "[NiftiLabelsMasker.transform_single_imgs] Loading data from F:\\ece\\capstone\\code\\py\\data\\abide\\traindata\\29880_rest_1.nii.gz\n"
     ]
    },
    {
     "name": "stderr",
     "output_type": "stream",
     "text": [
      "C:\\Users\\June Cai\\AppData\\Roaming\\Python\\Python35\\site-packages\\nilearn\\_utils\\cache_mixin.py:84: DeprecationWarning: The 'cachedir' parameter has been deprecated in version 0.12 and will be removed in version 0.14.\n",
      "You provided \"cachedir='nilearn_cache'\", use \"location='nilearn_cache'\" instead.\n",
      "  memory = Memory(cachedir=cache_dir, verbose=verbose)\n",
      "C:\\Users\\June Cai\\AppData\\Roaming\\Python\\Python35\\site-packages\\nilearn\\_utils\\cache_mixin.py:232: DeprecationWarning: The 'cachedir' attribute has been deprecated in version 0.12 and will be removed in version 0.14.\n",
      "Use os.path.join(memory.location, 'joblib') attribute instead.\n",
      "  if (memory.cachedir is None and memory_level is not None\n"
     ]
    },
    {
     "name": "stdout",
     "output_type": "stream",
     "text": [
      "[NiftiLabelsMasker.transform_single_imgs] Extracting region signals\n",
      "[NiftiLabelsMasker.transform_single_imgs] Cleaning extracted signals\n",
      "_______________________________________________filter_and_extract - 0.9s, 0.0min\n",
      "[NiftiLabelsMasker.fit_transform] loading data from C:\\Users\\June Cai/nilearn_data\\fsl\\data\\atlases\\HarvardOxford\\HarvardOxford-cort-maxprob-thr25-2mm.nii.gz\n",
      "Resampling labels\n",
      "________________________________________________________________________________\n",
      "[Memory] Calling nilearn.input_data.base_masker.filter_and_extract...\n",
      "filter_and_extract('F:\\\\ece\\\\capstone\\\\code\\\\py\\\\data\\\\abide\\\\traindata\\\\29881_rest_1.nii.gz', <nilearn.input_data.nifti_labels_masker._ExtractionFunctor object at 0x000001248D6CC4E0>, \n",
      "{ 'background_label': 0,\n",
      "  'detrend': False,\n",
      "  'dtype': None,\n",
      "  'high_pass': None,\n",
      "  'labels_img': 'C:\\\\Users\\\\June '\n",
      "                'Cai/nilearn_data\\\\fsl\\\\data\\\\atlases\\\\HarvardOxford\\\\HarvardOxford-cort-maxprob-thr25-2mm.nii.gz',\n",
      "  'low_pass': None,\n",
      "  'mask_img': None,\n",
      "  'smoothing_fwhm': None,\n",
      "  'standardize': True,\n",
      "  't_r': None,\n",
      "  'target_affine': None,\n",
      "  'target_shape': None}, memory_level=1, memory=Memory(location=nilearn_cache\\joblib), verbose=5, confounds=None, dtype=None)\n",
      "[NiftiLabelsMasker.transform_single_imgs] Loading data from F:\\ece\\capstone\\code\\py\\data\\abide\\traindata\\29881_rest_1.nii.gz\n"
     ]
    },
    {
     "name": "stderr",
     "output_type": "stream",
     "text": [
      "C:\\Users\\June Cai\\AppData\\Roaming\\Python\\Python35\\site-packages\\nilearn\\_utils\\cache_mixin.py:84: DeprecationWarning: The 'cachedir' parameter has been deprecated in version 0.12 and will be removed in version 0.14.\n",
      "You provided \"cachedir='nilearn_cache'\", use \"location='nilearn_cache'\" instead.\n",
      "  memory = Memory(cachedir=cache_dir, verbose=verbose)\n",
      "C:\\Users\\June Cai\\AppData\\Roaming\\Python\\Python35\\site-packages\\nilearn\\_utils\\cache_mixin.py:232: DeprecationWarning: The 'cachedir' attribute has been deprecated in version 0.12 and will be removed in version 0.14.\n",
      "Use os.path.join(memory.location, 'joblib') attribute instead.\n",
      "  if (memory.cachedir is None and memory_level is not None\n"
     ]
    },
    {
     "name": "stdout",
     "output_type": "stream",
     "text": [
      "[NiftiLabelsMasker.transform_single_imgs] Extracting region signals\n",
      "[NiftiLabelsMasker.transform_single_imgs] Cleaning extracted signals\n",
      "_______________________________________________filter_and_extract - 0.8s, 0.0min\n",
      "[NiftiLabelsMasker.fit_transform] loading data from C:\\Users\\June Cai/nilearn_data\\fsl\\data\\atlases\\HarvardOxford\\HarvardOxford-cort-maxprob-thr25-2mm.nii.gz\n",
      "Resampling labels\n",
      "________________________________________________________________________________\n",
      "[Memory] Calling nilearn.input_data.base_masker.filter_and_extract...\n",
      "filter_and_extract('F:\\\\ece\\\\capstone\\\\code\\\\py\\\\data\\\\abide\\\\traindata\\\\29882_rest_1.nii.gz', <nilearn.input_data.nifti_labels_masker._ExtractionFunctor object at 0x0000012496F1A8D0>, \n",
      "{ 'background_label': 0,\n",
      "  'detrend': False,\n",
      "  'dtype': None,\n",
      "  'high_pass': None,\n",
      "  'labels_img': 'C:\\\\Users\\\\June '\n",
      "                'Cai/nilearn_data\\\\fsl\\\\data\\\\atlases\\\\HarvardOxford\\\\HarvardOxford-cort-maxprob-thr25-2mm.nii.gz',\n",
      "  'low_pass': None,\n",
      "  'mask_img': None,\n",
      "  'smoothing_fwhm': None,\n",
      "  'standardize': True,\n",
      "  't_r': None,\n",
      "  'target_affine': None,\n",
      "  'target_shape': None}, memory_level=1, memory=Memory(location=nilearn_cache\\joblib), verbose=5, confounds=None, dtype=None)\n",
      "[NiftiLabelsMasker.transform_single_imgs] Loading data from F:\\ece\\capstone\\code\\py\\data\\abide\\traindata\\29882_rest_1.nii.gz\n"
     ]
    },
    {
     "name": "stderr",
     "output_type": "stream",
     "text": [
      "C:\\Users\\June Cai\\AppData\\Roaming\\Python\\Python35\\site-packages\\nilearn\\_utils\\cache_mixin.py:84: DeprecationWarning: The 'cachedir' parameter has been deprecated in version 0.12 and will be removed in version 0.14.\n",
      "You provided \"cachedir='nilearn_cache'\", use \"location='nilearn_cache'\" instead.\n",
      "  memory = Memory(cachedir=cache_dir, verbose=verbose)\n",
      "C:\\Users\\June Cai\\AppData\\Roaming\\Python\\Python35\\site-packages\\nilearn\\_utils\\cache_mixin.py:232: DeprecationWarning: The 'cachedir' attribute has been deprecated in version 0.12 and will be removed in version 0.14.\n",
      "Use os.path.join(memory.location, 'joblib') attribute instead.\n",
      "  if (memory.cachedir is None and memory_level is not None\n"
     ]
    },
    {
     "name": "stdout",
     "output_type": "stream",
     "text": [
      "[NiftiLabelsMasker.transform_single_imgs] Extracting region signals\n",
      "[NiftiLabelsMasker.transform_single_imgs] Cleaning extracted signals\n",
      "_______________________________________________filter_and_extract - 0.9s, 0.0min\n",
      "[NiftiLabelsMasker.fit_transform] loading data from C:\\Users\\June Cai/nilearn_data\\fsl\\data\\atlases\\HarvardOxford\\HarvardOxford-cort-maxprob-thr25-2mm.nii.gz\n",
      "Resampling labels\n",
      "________________________________________________________________________________\n",
      "[Memory] Calling nilearn.input_data.base_masker.filter_and_extract...\n",
      "filter_and_extract('F:\\\\ece\\\\capstone\\\\code\\\\py\\\\data\\\\abide\\\\traindata\\\\29883_rest_1.nii.gz', <nilearn.input_data.nifti_labels_masker._ExtractionFunctor object at 0x00000124F72414A8>, \n",
      "{ 'background_label': 0,\n",
      "  'detrend': False,\n",
      "  'dtype': None,\n",
      "  'high_pass': None,\n",
      "  'labels_img': 'C:\\\\Users\\\\June '\n",
      "                'Cai/nilearn_data\\\\fsl\\\\data\\\\atlases\\\\HarvardOxford\\\\HarvardOxford-cort-maxprob-thr25-2mm.nii.gz',\n",
      "  'low_pass': None,\n",
      "  'mask_img': None,\n",
      "  'smoothing_fwhm': None,\n",
      "  'standardize': True,\n",
      "  't_r': None,\n",
      "  'target_affine': None,\n",
      "  'target_shape': None}, memory_level=1, memory=Memory(location=nilearn_cache\\joblib), verbose=5, confounds=None, dtype=None)\n",
      "[NiftiLabelsMasker.transform_single_imgs] Loading data from F:\\ece\\capstone\\code\\py\\data\\abide\\traindata\\29883_rest_1.nii.gz\n"
     ]
    },
    {
     "name": "stderr",
     "output_type": "stream",
     "text": [
      "C:\\Users\\June Cai\\AppData\\Roaming\\Python\\Python35\\site-packages\\nilearn\\_utils\\cache_mixin.py:84: DeprecationWarning: The 'cachedir' parameter has been deprecated in version 0.12 and will be removed in version 0.14.\n",
      "You provided \"cachedir='nilearn_cache'\", use \"location='nilearn_cache'\" instead.\n",
      "  memory = Memory(cachedir=cache_dir, verbose=verbose)\n",
      "C:\\Users\\June Cai\\AppData\\Roaming\\Python\\Python35\\site-packages\\nilearn\\_utils\\cache_mixin.py:232: DeprecationWarning: The 'cachedir' attribute has been deprecated in version 0.12 and will be removed in version 0.14.\n",
      "Use os.path.join(memory.location, 'joblib') attribute instead.\n",
      "  if (memory.cachedir is None and memory_level is not None\n"
     ]
    },
    {
     "name": "stdout",
     "output_type": "stream",
     "text": [
      "[NiftiLabelsMasker.transform_single_imgs] Extracting region signals\n",
      "[NiftiLabelsMasker.transform_single_imgs] Cleaning extracted signals\n",
      "_______________________________________________filter_and_extract - 0.9s, 0.0min\n",
      "[NiftiLabelsMasker.fit_transform] loading data from C:\\Users\\June Cai/nilearn_data\\fsl\\data\\atlases\\HarvardOxford\\HarvardOxford-cort-maxprob-thr25-2mm.nii.gz\n",
      "Resampling labels\n",
      "________________________________________________________________________________\n",
      "[Memory] Calling nilearn.input_data.base_masker.filter_and_extract...\n",
      "filter_and_extract('F:\\\\ece\\\\capstone\\\\code\\\\py\\\\data\\\\abide\\\\traindata\\\\29884_rest_1.nii.gz', <nilearn.input_data.nifti_labels_masker._ExtractionFunctor object at 0x000001248AD57DA0>, \n",
      "{ 'background_label': 0,\n",
      "  'detrend': False,\n",
      "  'dtype': None,\n",
      "  'high_pass': None,\n",
      "  'labels_img': 'C:\\\\Users\\\\June '\n",
      "                'Cai/nilearn_data\\\\fsl\\\\data\\\\atlases\\\\HarvardOxford\\\\HarvardOxford-cort-maxprob-thr25-2mm.nii.gz',\n",
      "  'low_pass': None,\n",
      "  'mask_img': None,\n",
      "  'smoothing_fwhm': None,\n",
      "  'standardize': True,\n",
      "  't_r': None,\n",
      "  'target_affine': None,\n",
      "  'target_shape': None}, memory_level=1, memory=Memory(location=nilearn_cache\\joblib), verbose=5, confounds=None, dtype=None)\n",
      "[NiftiLabelsMasker.transform_single_imgs] Loading data from F:\\ece\\capstone\\code\\py\\data\\abide\\traindata\\29884_rest_1.nii.gz\n"
     ]
    },
    {
     "name": "stderr",
     "output_type": "stream",
     "text": [
      "C:\\Users\\June Cai\\AppData\\Roaming\\Python\\Python35\\site-packages\\nilearn\\_utils\\cache_mixin.py:84: DeprecationWarning: The 'cachedir' parameter has been deprecated in version 0.12 and will be removed in version 0.14.\n",
      "You provided \"cachedir='nilearn_cache'\", use \"location='nilearn_cache'\" instead.\n",
      "  memory = Memory(cachedir=cache_dir, verbose=verbose)\n",
      "C:\\Users\\June Cai\\AppData\\Roaming\\Python\\Python35\\site-packages\\nilearn\\_utils\\cache_mixin.py:232: DeprecationWarning: The 'cachedir' attribute has been deprecated in version 0.12 and will be removed in version 0.14.\n",
      "Use os.path.join(memory.location, 'joblib') attribute instead.\n",
      "  if (memory.cachedir is None and memory_level is not None\n"
     ]
    },
    {
     "name": "stdout",
     "output_type": "stream",
     "text": [
      "[NiftiLabelsMasker.transform_single_imgs] Extracting region signals\n",
      "[NiftiLabelsMasker.transform_single_imgs] Cleaning extracted signals\n",
      "_______________________________________________filter_and_extract - 0.9s, 0.0min\n",
      "[NiftiLabelsMasker.fit_transform] loading data from C:\\Users\\June Cai/nilearn_data\\fsl\\data\\atlases\\HarvardOxford\\HarvardOxford-cort-maxprob-thr25-2mm.nii.gz\n",
      "Resampling labels\n",
      "________________________________________________________________________________\n",
      "[Memory] Calling nilearn.input_data.base_masker.filter_and_extract...\n",
      "filter_and_extract('F:\\\\ece\\\\capstone\\\\code\\\\py\\\\data\\\\abide\\\\traindata\\\\29885_rest_1.nii.gz', <nilearn.input_data.nifti_labels_masker._ExtractionFunctor object at 0x000001248D6CC4E0>, \n",
      "{ 'background_label': 0,\n",
      "  'detrend': False,\n",
      "  'dtype': None,\n",
      "  'high_pass': None,\n",
      "  'labels_img': 'C:\\\\Users\\\\June '\n",
      "                'Cai/nilearn_data\\\\fsl\\\\data\\\\atlases\\\\HarvardOxford\\\\HarvardOxford-cort-maxprob-thr25-2mm.nii.gz',\n",
      "  'low_pass': None,\n",
      "  'mask_img': None,\n",
      "  'smoothing_fwhm': None,\n",
      "  'standardize': True,\n",
      "  't_r': None,\n",
      "  'target_affine': None,\n",
      "  'target_shape': None}, memory_level=1, memory=Memory(location=nilearn_cache\\joblib), verbose=5, confounds=None, dtype=None)\n",
      "[NiftiLabelsMasker.transform_single_imgs] Loading data from F:\\ece\\capstone\\code\\py\\data\\abide\\traindata\\29885_rest_1.nii.gz\n"
     ]
    },
    {
     "name": "stderr",
     "output_type": "stream",
     "text": [
      "C:\\Users\\June Cai\\AppData\\Roaming\\Python\\Python35\\site-packages\\nilearn\\_utils\\cache_mixin.py:84: DeprecationWarning: The 'cachedir' parameter has been deprecated in version 0.12 and will be removed in version 0.14.\n",
      "You provided \"cachedir='nilearn_cache'\", use \"location='nilearn_cache'\" instead.\n",
      "  memory = Memory(cachedir=cache_dir, verbose=verbose)\n",
      "C:\\Users\\June Cai\\AppData\\Roaming\\Python\\Python35\\site-packages\\nilearn\\_utils\\cache_mixin.py:232: DeprecationWarning: The 'cachedir' attribute has been deprecated in version 0.12 and will be removed in version 0.14.\n",
      "Use os.path.join(memory.location, 'joblib') attribute instead.\n",
      "  if (memory.cachedir is None and memory_level is not None\n"
     ]
    },
    {
     "name": "stdout",
     "output_type": "stream",
     "text": [
      "[NiftiLabelsMasker.transform_single_imgs] Extracting region signals\n",
      "[NiftiLabelsMasker.transform_single_imgs] Cleaning extracted signals\n",
      "_______________________________________________filter_and_extract - 0.9s, 0.0min\n",
      "[NiftiLabelsMasker.fit_transform] loading data from C:\\Users\\June Cai/nilearn_data\\fsl\\data\\atlases\\HarvardOxford\\HarvardOxford-cort-maxprob-thr25-2mm.nii.gz\n",
      "Resampling labels\n",
      "________________________________________________________________________________\n",
      "[Memory] Calling nilearn.input_data.base_masker.filter_and_extract...\n",
      "filter_and_extract('F:\\\\ece\\\\capstone\\\\code\\\\py\\\\data\\\\abide\\\\traindata\\\\29886_rest_1.nii.gz', <nilearn.input_data.nifti_labels_masker._ExtractionFunctor object at 0x00000124FAB717F0>, \n",
      "{ 'background_label': 0,\n",
      "  'detrend': False,\n",
      "  'dtype': None,\n",
      "  'high_pass': None,\n",
      "  'labels_img': 'C:\\\\Users\\\\June '\n",
      "                'Cai/nilearn_data\\\\fsl\\\\data\\\\atlases\\\\HarvardOxford\\\\HarvardOxford-cort-maxprob-thr25-2mm.nii.gz',\n",
      "  'low_pass': None,\n",
      "  'mask_img': None,\n",
      "  'smoothing_fwhm': None,\n",
      "  'standardize': True,\n",
      "  't_r': None,\n",
      "  'target_affine': None,\n",
      "  'target_shape': None}, memory_level=1, memory=Memory(location=nilearn_cache\\joblib), verbose=5, confounds=None, dtype=None)\n",
      "[NiftiLabelsMasker.transform_single_imgs] Loading data from F:\\ece\\capstone\\code\\py\\data\\abide\\traindata\\29886_rest_1.nii.gz\n"
     ]
    },
    {
     "name": "stderr",
     "output_type": "stream",
     "text": [
      "C:\\Users\\June Cai\\AppData\\Roaming\\Python\\Python35\\site-packages\\nilearn\\_utils\\cache_mixin.py:84: DeprecationWarning: The 'cachedir' parameter has been deprecated in version 0.12 and will be removed in version 0.14.\n",
      "You provided \"cachedir='nilearn_cache'\", use \"location='nilearn_cache'\" instead.\n",
      "  memory = Memory(cachedir=cache_dir, verbose=verbose)\n",
      "C:\\Users\\June Cai\\AppData\\Roaming\\Python\\Python35\\site-packages\\nilearn\\_utils\\cache_mixin.py:232: DeprecationWarning: The 'cachedir' attribute has been deprecated in version 0.12 and will be removed in version 0.14.\n",
      "Use os.path.join(memory.location, 'joblib') attribute instead.\n",
      "  if (memory.cachedir is None and memory_level is not None\n"
     ]
    },
    {
     "name": "stdout",
     "output_type": "stream",
     "text": [
      "[NiftiLabelsMasker.transform_single_imgs] Extracting region signals\n",
      "[NiftiLabelsMasker.transform_single_imgs] Cleaning extracted signals\n",
      "_______________________________________________filter_and_extract - 0.9s, 0.0min\n",
      "[NiftiLabelsMasker.fit_transform] loading data from C:\\Users\\June Cai/nilearn_data\\fsl\\data\\atlases\\HarvardOxford\\HarvardOxford-cort-maxprob-thr25-2mm.nii.gz\n",
      "Resampling labels\n",
      "________________________________________________________________________________\n",
      "[Memory] Calling nilearn.input_data.base_masker.filter_and_extract...\n",
      "filter_and_extract('F:\\\\ece\\\\capstone\\\\code\\\\py\\\\data\\\\abide\\\\traindata\\\\29887_rest_1.nii.gz', <nilearn.input_data.nifti_labels_masker._ExtractionFunctor object at 0x00000124F72414A8>, \n",
      "{ 'background_label': 0,\n",
      "  'detrend': False,\n",
      "  'dtype': None,\n",
      "  'high_pass': None,\n",
      "  'labels_img': 'C:\\\\Users\\\\June '\n",
      "                'Cai/nilearn_data\\\\fsl\\\\data\\\\atlases\\\\HarvardOxford\\\\HarvardOxford-cort-maxprob-thr25-2mm.nii.gz',\n",
      "  'low_pass': None,\n",
      "  'mask_img': None,\n",
      "  'smoothing_fwhm': None,\n",
      "  'standardize': True,\n",
      "  't_r': None,\n",
      "  'target_affine': None,\n",
      "  'target_shape': None}, memory_level=1, memory=Memory(location=nilearn_cache\\joblib), verbose=5, confounds=None, dtype=None)\n",
      "[NiftiLabelsMasker.transform_single_imgs] Loading data from F:\\ece\\capstone\\code\\py\\data\\abide\\traindata\\29887_rest_1.nii.gz\n"
     ]
    },
    {
     "name": "stderr",
     "output_type": "stream",
     "text": [
      "C:\\Users\\June Cai\\AppData\\Roaming\\Python\\Python35\\site-packages\\nilearn\\_utils\\cache_mixin.py:84: DeprecationWarning: The 'cachedir' parameter has been deprecated in version 0.12 and will be removed in version 0.14.\n",
      "You provided \"cachedir='nilearn_cache'\", use \"location='nilearn_cache'\" instead.\n",
      "  memory = Memory(cachedir=cache_dir, verbose=verbose)\n",
      "C:\\Users\\June Cai\\AppData\\Roaming\\Python\\Python35\\site-packages\\nilearn\\_utils\\cache_mixin.py:232: DeprecationWarning: The 'cachedir' attribute has been deprecated in version 0.12 and will be removed in version 0.14.\n",
      "Use os.path.join(memory.location, 'joblib') attribute instead.\n",
      "  if (memory.cachedir is None and memory_level is not None\n"
     ]
    },
    {
     "name": "stdout",
     "output_type": "stream",
     "text": [
      "[NiftiLabelsMasker.transform_single_imgs] Extracting region signals\n",
      "[NiftiLabelsMasker.transform_single_imgs] Cleaning extracted signals\n",
      "_______________________________________________filter_and_extract - 0.9s, 0.0min\n",
      "[NiftiLabelsMasker.fit_transform] loading data from C:\\Users\\June Cai/nilearn_data\\fsl\\data\\atlases\\HarvardOxford\\HarvardOxford-cort-maxprob-thr25-2mm.nii.gz\n",
      "Resampling labels\n",
      "________________________________________________________________________________\n",
      "[Memory] Calling nilearn.input_data.base_masker.filter_and_extract...\n",
      "filter_and_extract('F:\\\\ece\\\\capstone\\\\code\\\\py\\\\data\\\\abide\\\\traindata\\\\29888_rest_1.nii.gz', <nilearn.input_data.nifti_labels_masker._ExtractionFunctor object at 0x000001248A9110F0>, \n",
      "{ 'background_label': 0,\n",
      "  'detrend': False,\n",
      "  'dtype': None,\n",
      "  'high_pass': None,\n",
      "  'labels_img': 'C:\\\\Users\\\\June '\n",
      "                'Cai/nilearn_data\\\\fsl\\\\data\\\\atlases\\\\HarvardOxford\\\\HarvardOxford-cort-maxprob-thr25-2mm.nii.gz',\n",
      "  'low_pass': None,\n",
      "  'mask_img': None,\n",
      "  'smoothing_fwhm': None,\n",
      "  'standardize': True,\n",
      "  't_r': None,\n",
      "  'target_affine': None,\n",
      "  'target_shape': None}, memory_level=1, memory=Memory(location=nilearn_cache\\joblib), verbose=5, confounds=None, dtype=None)\n",
      "[NiftiLabelsMasker.transform_single_imgs] Loading data from F:\\ece\\capstone\\code\\py\\data\\abide\\traindata\\29888_rest_1.nii.gz\n"
     ]
    },
    {
     "name": "stderr",
     "output_type": "stream",
     "text": [
      "C:\\Users\\June Cai\\AppData\\Roaming\\Python\\Python35\\site-packages\\nilearn\\_utils\\cache_mixin.py:84: DeprecationWarning: The 'cachedir' parameter has been deprecated in version 0.12 and will be removed in version 0.14.\n",
      "You provided \"cachedir='nilearn_cache'\", use \"location='nilearn_cache'\" instead.\n",
      "  memory = Memory(cachedir=cache_dir, verbose=verbose)\n",
      "C:\\Users\\June Cai\\AppData\\Roaming\\Python\\Python35\\site-packages\\nilearn\\_utils\\cache_mixin.py:232: DeprecationWarning: The 'cachedir' attribute has been deprecated in version 0.12 and will be removed in version 0.14.\n",
      "Use os.path.join(memory.location, 'joblib') attribute instead.\n",
      "  if (memory.cachedir is None and memory_level is not None\n"
     ]
    },
    {
     "name": "stdout",
     "output_type": "stream",
     "text": [
      "[NiftiLabelsMasker.transform_single_imgs] Extracting region signals\n",
      "[NiftiLabelsMasker.transform_single_imgs] Cleaning extracted signals\n",
      "_______________________________________________filter_and_extract - 0.9s, 0.0min\n",
      "[NiftiLabelsMasker.fit_transform] loading data from C:\\Users\\June Cai/nilearn_data\\fsl\\data\\atlases\\HarvardOxford\\HarvardOxford-cort-maxprob-thr25-2mm.nii.gz\n",
      "Resampling labels\n",
      "________________________________________________________________________________\n",
      "[Memory] Calling nilearn.input_data.base_masker.filter_and_extract...\n",
      "filter_and_extract('F:\\\\ece\\\\capstone\\\\code\\\\py\\\\data\\\\abide\\\\traindata\\\\29889_rest_1.nii.gz', <nilearn.input_data.nifti_labels_masker._ExtractionFunctor object at 0x00000124FBC1F5C0>, \n",
      "{ 'background_label': 0,\n",
      "  'detrend': False,\n",
      "  'dtype': None,\n",
      "  'high_pass': None,\n",
      "  'labels_img': 'C:\\\\Users\\\\June '\n",
      "                'Cai/nilearn_data\\\\fsl\\\\data\\\\atlases\\\\HarvardOxford\\\\HarvardOxford-cort-maxprob-thr25-2mm.nii.gz',\n",
      "  'low_pass': None,\n",
      "  'mask_img': None,\n",
      "  'smoothing_fwhm': None,\n",
      "  'standardize': True,\n",
      "  't_r': None,\n",
      "  'target_affine': None,\n",
      "  'target_shape': None}, memory_level=1, memory=Memory(location=nilearn_cache\\joblib), verbose=5, confounds=None, dtype=None)\n",
      "[NiftiLabelsMasker.transform_single_imgs] Loading data from F:\\ece\\capstone\\code\\py\\data\\abide\\traindata\\29889_rest_1.nii.gz\n"
     ]
    },
    {
     "name": "stderr",
     "output_type": "stream",
     "text": [
      "C:\\Users\\June Cai\\AppData\\Roaming\\Python\\Python35\\site-packages\\nilearn\\_utils\\cache_mixin.py:84: DeprecationWarning: The 'cachedir' parameter has been deprecated in version 0.12 and will be removed in version 0.14.\n",
      "You provided \"cachedir='nilearn_cache'\", use \"location='nilearn_cache'\" instead.\n",
      "  memory = Memory(cachedir=cache_dir, verbose=verbose)\n",
      "C:\\Users\\June Cai\\AppData\\Roaming\\Python\\Python35\\site-packages\\nilearn\\_utils\\cache_mixin.py:232: DeprecationWarning: The 'cachedir' attribute has been deprecated in version 0.12 and will be removed in version 0.14.\n",
      "Use os.path.join(memory.location, 'joblib') attribute instead.\n",
      "  if (memory.cachedir is None and memory_level is not None\n"
     ]
    },
    {
     "name": "stdout",
     "output_type": "stream",
     "text": [
      "[NiftiLabelsMasker.transform_single_imgs] Extracting region signals\n",
      "[NiftiLabelsMasker.transform_single_imgs] Cleaning extracted signals\n",
      "_______________________________________________filter_and_extract - 0.9s, 0.0min\n",
      "[NiftiLabelsMasker.fit_transform] loading data from C:\\Users\\June Cai/nilearn_data\\fsl\\data\\atlases\\HarvardOxford\\HarvardOxford-cort-maxprob-thr25-2mm.nii.gz\n",
      "Resampling labels\n",
      "________________________________________________________________________________\n",
      "[Memory] Calling nilearn.input_data.base_masker.filter_and_extract...\n",
      "filter_and_extract('F:\\\\ece\\\\capstone\\\\code\\\\py\\\\data\\\\abide\\\\traindata\\\\29890_rest_1.nii.gz', <nilearn.input_data.nifti_labels_masker._ExtractionFunctor object at 0x00000124FBBBF390>, \n",
      "{ 'background_label': 0,\n",
      "  'detrend': False,\n",
      "  'dtype': None,\n",
      "  'high_pass': None,\n",
      "  'labels_img': 'C:\\\\Users\\\\June '\n",
      "                'Cai/nilearn_data\\\\fsl\\\\data\\\\atlases\\\\HarvardOxford\\\\HarvardOxford-cort-maxprob-thr25-2mm.nii.gz',\n",
      "  'low_pass': None,\n",
      "  'mask_img': None,\n",
      "  'smoothing_fwhm': None,\n",
      "  'standardize': True,\n",
      "  't_r': None,\n",
      "  'target_affine': None,\n",
      "  'target_shape': None}, memory_level=1, memory=Memory(location=nilearn_cache\\joblib), verbose=5, confounds=None, dtype=None)\n",
      "[NiftiLabelsMasker.transform_single_imgs] Loading data from F:\\ece\\capstone\\code\\py\\data\\abide\\traindata\\29890_rest_1.nii.gz\n"
     ]
    },
    {
     "name": "stderr",
     "output_type": "stream",
     "text": [
      "C:\\Users\\June Cai\\AppData\\Roaming\\Python\\Python35\\site-packages\\nilearn\\_utils\\cache_mixin.py:84: DeprecationWarning: The 'cachedir' parameter has been deprecated in version 0.12 and will be removed in version 0.14.\n",
      "You provided \"cachedir='nilearn_cache'\", use \"location='nilearn_cache'\" instead.\n",
      "  memory = Memory(cachedir=cache_dir, verbose=verbose)\n",
      "C:\\Users\\June Cai\\AppData\\Roaming\\Python\\Python35\\site-packages\\nilearn\\_utils\\cache_mixin.py:232: DeprecationWarning: The 'cachedir' attribute has been deprecated in version 0.12 and will be removed in version 0.14.\n",
      "Use os.path.join(memory.location, 'joblib') attribute instead.\n",
      "  if (memory.cachedir is None and memory_level is not None\n"
     ]
    },
    {
     "name": "stdout",
     "output_type": "stream",
     "text": [
      "[NiftiLabelsMasker.transform_single_imgs] Extracting region signals\n",
      "[NiftiLabelsMasker.transform_single_imgs] Cleaning extracted signals\n",
      "_______________________________________________filter_and_extract - 0.9s, 0.0min\n",
      "[NiftiLabelsMasker.fit_transform] loading data from C:\\Users\\June Cai/nilearn_data\\fsl\\data\\atlases\\HarvardOxford\\HarvardOxford-cort-maxprob-thr25-2mm.nii.gz\n",
      "Resampling labels\n",
      "________________________________________________________________________________\n",
      "[Memory] Calling nilearn.input_data.base_masker.filter_and_extract...\n",
      "filter_and_extract('F:\\\\ece\\\\capstone\\\\code\\\\py\\\\data\\\\abide\\\\traindata\\\\29891_rest_1.nii.gz', <nilearn.input_data.nifti_labels_masker._ExtractionFunctor object at 0x00000124FAB743C8>, \n",
      "{ 'background_label': 0,\n",
      "  'detrend': False,\n",
      "  'dtype': None,\n",
      "  'high_pass': None,\n",
      "  'labels_img': 'C:\\\\Users\\\\June '\n",
      "                'Cai/nilearn_data\\\\fsl\\\\data\\\\atlases\\\\HarvardOxford\\\\HarvardOxford-cort-maxprob-thr25-2mm.nii.gz',\n",
      "  'low_pass': None,\n",
      "  'mask_img': None,\n",
      "  'smoothing_fwhm': None,\n",
      "  'standardize': True,\n",
      "  't_r': None,\n",
      "  'target_affine': None,\n",
      "  'target_shape': None}, memory_level=1, memory=Memory(location=nilearn_cache\\joblib), verbose=5, confounds=None, dtype=None)\n",
      "[NiftiLabelsMasker.transform_single_imgs] Loading data from F:\\ece\\capstone\\code\\py\\data\\abide\\traindata\\29891_rest_1.nii.gz\n"
     ]
    },
    {
     "name": "stderr",
     "output_type": "stream",
     "text": [
      "C:\\Users\\June Cai\\AppData\\Roaming\\Python\\Python35\\site-packages\\nilearn\\_utils\\cache_mixin.py:84: DeprecationWarning: The 'cachedir' parameter has been deprecated in version 0.12 and will be removed in version 0.14.\n",
      "You provided \"cachedir='nilearn_cache'\", use \"location='nilearn_cache'\" instead.\n",
      "  memory = Memory(cachedir=cache_dir, verbose=verbose)\n",
      "C:\\Users\\June Cai\\AppData\\Roaming\\Python\\Python35\\site-packages\\nilearn\\_utils\\cache_mixin.py:232: DeprecationWarning: The 'cachedir' attribute has been deprecated in version 0.12 and will be removed in version 0.14.\n",
      "Use os.path.join(memory.location, 'joblib') attribute instead.\n",
      "  if (memory.cachedir is None and memory_level is not None\n"
     ]
    },
    {
     "name": "stdout",
     "output_type": "stream",
     "text": [
      "[NiftiLabelsMasker.transform_single_imgs] Extracting region signals\n",
      "[NiftiLabelsMasker.transform_single_imgs] Cleaning extracted signals\n",
      "_______________________________________________filter_and_extract - 0.8s, 0.0min\n",
      "[NiftiLabelsMasker.fit_transform] loading data from C:\\Users\\June Cai/nilearn_data\\fsl\\data\\atlases\\HarvardOxford\\HarvardOxford-cort-maxprob-thr25-2mm.nii.gz\n",
      "Resampling labels\n",
      "________________________________________________________________________________\n",
      "[Memory] Calling nilearn.input_data.base_masker.filter_and_extract...\n",
      "filter_and_extract('F:\\\\ece\\\\capstone\\\\code\\\\py\\\\data\\\\abide\\\\traindata\\\\29892_rest_1.nii.gz', <nilearn.input_data.nifti_labels_masker._ExtractionFunctor object at 0x000001248C732048>, \n",
      "{ 'background_label': 0,\n",
      "  'detrend': False,\n",
      "  'dtype': None,\n",
      "  'high_pass': None,\n",
      "  'labels_img': 'C:\\\\Users\\\\June '\n",
      "                'Cai/nilearn_data\\\\fsl\\\\data\\\\atlases\\\\HarvardOxford\\\\HarvardOxford-cort-maxprob-thr25-2mm.nii.gz',\n",
      "  'low_pass': None,\n",
      "  'mask_img': None,\n",
      "  'smoothing_fwhm': None,\n",
      "  'standardize': True,\n",
      "  't_r': None,\n",
      "  'target_affine': None,\n",
      "  'target_shape': None}, memory_level=1, memory=Memory(location=nilearn_cache\\joblib), verbose=5, confounds=None, dtype=None)\n",
      "[NiftiLabelsMasker.transform_single_imgs] Loading data from F:\\ece\\capstone\\code\\py\\data\\abide\\traindata\\29892_rest_1.nii.gz\n"
     ]
    },
    {
     "name": "stderr",
     "output_type": "stream",
     "text": [
      "C:\\Users\\June Cai\\AppData\\Roaming\\Python\\Python35\\site-packages\\nilearn\\_utils\\cache_mixin.py:84: DeprecationWarning: The 'cachedir' parameter has been deprecated in version 0.12 and will be removed in version 0.14.\n",
      "You provided \"cachedir='nilearn_cache'\", use \"location='nilearn_cache'\" instead.\n",
      "  memory = Memory(cachedir=cache_dir, verbose=verbose)\n",
      "C:\\Users\\June Cai\\AppData\\Roaming\\Python\\Python35\\site-packages\\nilearn\\_utils\\cache_mixin.py:232: DeprecationWarning: The 'cachedir' attribute has been deprecated in version 0.12 and will be removed in version 0.14.\n",
      "Use os.path.join(memory.location, 'joblib') attribute instead.\n",
      "  if (memory.cachedir is None and memory_level is not None\n"
     ]
    },
    {
     "name": "stdout",
     "output_type": "stream",
     "text": [
      "[NiftiLabelsMasker.transform_single_imgs] Extracting region signals\n",
      "[NiftiLabelsMasker.transform_single_imgs] Cleaning extracted signals\n",
      "_______________________________________________filter_and_extract - 0.9s, 0.0min\n",
      "[NiftiLabelsMasker.fit_transform] loading data from C:\\Users\\June Cai/nilearn_data\\fsl\\data\\atlases\\HarvardOxford\\HarvardOxford-cort-maxprob-thr25-2mm.nii.gz\n",
      "Resampling labels\n",
      "________________________________________________________________________________\n",
      "[Memory] Calling nilearn.input_data.base_masker.filter_and_extract...\n",
      "filter_and_extract('F:\\\\ece\\\\capstone\\\\code\\\\py\\\\data\\\\abide\\\\traindata\\\\29893_rest_1.nii.gz', <nilearn.input_data.nifti_labels_masker._ExtractionFunctor object at 0x000001248B1B5320>, \n",
      "{ 'background_label': 0,\n",
      "  'detrend': False,\n",
      "  'dtype': None,\n",
      "  'high_pass': None,\n",
      "  'labels_img': 'C:\\\\Users\\\\June '\n",
      "                'Cai/nilearn_data\\\\fsl\\\\data\\\\atlases\\\\HarvardOxford\\\\HarvardOxford-cort-maxprob-thr25-2mm.nii.gz',\n",
      "  'low_pass': None,\n",
      "  'mask_img': None,\n",
      "  'smoothing_fwhm': None,\n",
      "  'standardize': True,\n",
      "  't_r': None,\n",
      "  'target_affine': None,\n",
      "  'target_shape': None}, memory_level=1, memory=Memory(location=nilearn_cache\\joblib), verbose=5, confounds=None, dtype=None)\n",
      "[NiftiLabelsMasker.transform_single_imgs] Loading data from F:\\ece\\capstone\\code\\py\\data\\abide\\traindata\\29893_rest_1.nii.gz\n"
     ]
    },
    {
     "name": "stderr",
     "output_type": "stream",
     "text": [
      "C:\\Users\\June Cai\\AppData\\Roaming\\Python\\Python35\\site-packages\\nilearn\\_utils\\cache_mixin.py:84: DeprecationWarning: The 'cachedir' parameter has been deprecated in version 0.12 and will be removed in version 0.14.\n",
      "You provided \"cachedir='nilearn_cache'\", use \"location='nilearn_cache'\" instead.\n",
      "  memory = Memory(cachedir=cache_dir, verbose=verbose)\n",
      "C:\\Users\\June Cai\\AppData\\Roaming\\Python\\Python35\\site-packages\\nilearn\\_utils\\cache_mixin.py:232: DeprecationWarning: The 'cachedir' attribute has been deprecated in version 0.12 and will be removed in version 0.14.\n",
      "Use os.path.join(memory.location, 'joblib') attribute instead.\n",
      "  if (memory.cachedir is None and memory_level is not None\n"
     ]
    },
    {
     "name": "stdout",
     "output_type": "stream",
     "text": [
      "[NiftiLabelsMasker.transform_single_imgs] Extracting region signals\n",
      "[NiftiLabelsMasker.transform_single_imgs] Cleaning extracted signals\n",
      "_______________________________________________filter_and_extract - 0.9s, 0.0min\n",
      "[NiftiLabelsMasker.fit_transform] loading data from C:\\Users\\June Cai/nilearn_data\\fsl\\data\\atlases\\HarvardOxford\\HarvardOxford-cort-maxprob-thr25-2mm.nii.gz\n",
      "Resampling labels\n",
      "________________________________________________________________________________\n",
      "[Memory] Calling nilearn.input_data.base_masker.filter_and_extract...\n",
      "filter_and_extract('F:\\\\ece\\\\capstone\\\\code\\\\py\\\\data\\\\abide\\\\traindata\\\\29894_rest_1.nii.gz', <nilearn.input_data.nifti_labels_masker._ExtractionFunctor object at 0x000001248D6CC4E0>, \n",
      "{ 'background_label': 0,\n",
      "  'detrend': False,\n",
      "  'dtype': None,\n",
      "  'high_pass': None,\n",
      "  'labels_img': 'C:\\\\Users\\\\June '\n",
      "                'Cai/nilearn_data\\\\fsl\\\\data\\\\atlases\\\\HarvardOxford\\\\HarvardOxford-cort-maxprob-thr25-2mm.nii.gz',\n",
      "  'low_pass': None,\n",
      "  'mask_img': None,\n",
      "  'smoothing_fwhm': None,\n",
      "  'standardize': True,\n",
      "  't_r': None,\n",
      "  'target_affine': None,\n",
      "  'target_shape': None}, memory_level=1, memory=Memory(location=nilearn_cache\\joblib), verbose=5, confounds=None, dtype=None)\n",
      "[NiftiLabelsMasker.transform_single_imgs] Loading data from F:\\ece\\capstone\\code\\py\\data\\abide\\traindata\\29894_rest_1.nii.gz\n"
     ]
    },
    {
     "name": "stderr",
     "output_type": "stream",
     "text": [
      "C:\\Users\\June Cai\\AppData\\Roaming\\Python\\Python35\\site-packages\\nilearn\\_utils\\cache_mixin.py:84: DeprecationWarning: The 'cachedir' parameter has been deprecated in version 0.12 and will be removed in version 0.14.\n",
      "You provided \"cachedir='nilearn_cache'\", use \"location='nilearn_cache'\" instead.\n",
      "  memory = Memory(cachedir=cache_dir, verbose=verbose)\n",
      "C:\\Users\\June Cai\\AppData\\Roaming\\Python\\Python35\\site-packages\\nilearn\\_utils\\cache_mixin.py:232: DeprecationWarning: The 'cachedir' attribute has been deprecated in version 0.12 and will be removed in version 0.14.\n",
      "Use os.path.join(memory.location, 'joblib') attribute instead.\n",
      "  if (memory.cachedir is None and memory_level is not None\n"
     ]
    },
    {
     "name": "stdout",
     "output_type": "stream",
     "text": [
      "[NiftiLabelsMasker.transform_single_imgs] Extracting region signals\n",
      "[NiftiLabelsMasker.transform_single_imgs] Cleaning extracted signals\n",
      "_______________________________________________filter_and_extract - 0.8s, 0.0min\n",
      "[NiftiLabelsMasker.fit_transform] loading data from C:\\Users\\June Cai/nilearn_data\\fsl\\data\\atlases\\HarvardOxford\\HarvardOxford-cort-maxprob-thr25-2mm.nii.gz\n",
      "Resampling labels\n",
      "________________________________________________________________________________\n",
      "[Memory] Calling nilearn.input_data.base_masker.filter_and_extract...\n",
      "filter_and_extract('F:\\\\ece\\\\capstone\\\\code\\\\py\\\\data\\\\abide\\\\traindata\\\\29895_rest_1.nii.gz', <nilearn.input_data.nifti_labels_masker._ExtractionFunctor object at 0x0000012496F1A8D0>, \n",
      "{ 'background_label': 0,\n",
      "  'detrend': False,\n",
      "  'dtype': None,\n",
      "  'high_pass': None,\n",
      "  'labels_img': 'C:\\\\Users\\\\June '\n",
      "                'Cai/nilearn_data\\\\fsl\\\\data\\\\atlases\\\\HarvardOxford\\\\HarvardOxford-cort-maxprob-thr25-2mm.nii.gz',\n",
      "  'low_pass': None,\n",
      "  'mask_img': None,\n",
      "  'smoothing_fwhm': None,\n",
      "  'standardize': True,\n",
      "  't_r': None,\n",
      "  'target_affine': None,\n",
      "  'target_shape': None}, memory_level=1, memory=Memory(location=nilearn_cache\\joblib), verbose=5, confounds=None, dtype=None)\n",
      "[NiftiLabelsMasker.transform_single_imgs] Loading data from F:\\ece\\capstone\\code\\py\\data\\abide\\traindata\\29895_rest_1.nii.gz\n"
     ]
    },
    {
     "name": "stderr",
     "output_type": "stream",
     "text": [
      "C:\\Users\\June Cai\\AppData\\Roaming\\Python\\Python35\\site-packages\\nilearn\\_utils\\cache_mixin.py:84: DeprecationWarning: The 'cachedir' parameter has been deprecated in version 0.12 and will be removed in version 0.14.\n",
      "You provided \"cachedir='nilearn_cache'\", use \"location='nilearn_cache'\" instead.\n",
      "  memory = Memory(cachedir=cache_dir, verbose=verbose)\n",
      "C:\\Users\\June Cai\\AppData\\Roaming\\Python\\Python35\\site-packages\\nilearn\\_utils\\cache_mixin.py:232: DeprecationWarning: The 'cachedir' attribute has been deprecated in version 0.12 and will be removed in version 0.14.\n",
      "Use os.path.join(memory.location, 'joblib') attribute instead.\n",
      "  if (memory.cachedir is None and memory_level is not None\n"
     ]
    },
    {
     "name": "stdout",
     "output_type": "stream",
     "text": [
      "[NiftiLabelsMasker.transform_single_imgs] Extracting region signals\n",
      "[NiftiLabelsMasker.transform_single_imgs] Cleaning extracted signals\n",
      "_______________________________________________filter_and_extract - 0.9s, 0.0min\n",
      "[NiftiLabelsMasker.fit_transform] loading data from C:\\Users\\June Cai/nilearn_data\\fsl\\data\\atlases\\HarvardOxford\\HarvardOxford-cort-maxprob-thr25-2mm.nii.gz\n",
      "Resampling labels\n",
      "________________________________________________________________________________\n",
      "[Memory] Calling nilearn.input_data.base_masker.filter_and_extract...\n",
      "filter_and_extract('F:\\\\ece\\\\capstone\\\\code\\\\py\\\\data\\\\abide\\\\traindata\\\\29896_rest_1.nii.gz', <nilearn.input_data.nifti_labels_masker._ExtractionFunctor object at 0x000001248C732048>, \n",
      "{ 'background_label': 0,\n",
      "  'detrend': False,\n",
      "  'dtype': None,\n",
      "  'high_pass': None,\n",
      "  'labels_img': 'C:\\\\Users\\\\June '\n",
      "                'Cai/nilearn_data\\\\fsl\\\\data\\\\atlases\\\\HarvardOxford\\\\HarvardOxford-cort-maxprob-thr25-2mm.nii.gz',\n",
      "  'low_pass': None,\n",
      "  'mask_img': None,\n",
      "  'smoothing_fwhm': None,\n",
      "  'standardize': True,\n",
      "  't_r': None,\n",
      "  'target_affine': None,\n",
      "  'target_shape': None}, memory_level=1, memory=Memory(location=nilearn_cache\\joblib), verbose=5, confounds=None, dtype=None)\n",
      "[NiftiLabelsMasker.transform_single_imgs] Loading data from F:\\ece\\capstone\\code\\py\\data\\abide\\traindata\\29896_rest_1.nii.gz\n"
     ]
    },
    {
     "name": "stderr",
     "output_type": "stream",
     "text": [
      "C:\\Users\\June Cai\\AppData\\Roaming\\Python\\Python35\\site-packages\\nilearn\\_utils\\cache_mixin.py:84: DeprecationWarning: The 'cachedir' parameter has been deprecated in version 0.12 and will be removed in version 0.14.\n",
      "You provided \"cachedir='nilearn_cache'\", use \"location='nilearn_cache'\" instead.\n",
      "  memory = Memory(cachedir=cache_dir, verbose=verbose)\n",
      "C:\\Users\\June Cai\\AppData\\Roaming\\Python\\Python35\\site-packages\\nilearn\\_utils\\cache_mixin.py:232: DeprecationWarning: The 'cachedir' attribute has been deprecated in version 0.12 and will be removed in version 0.14.\n",
      "Use os.path.join(memory.location, 'joblib') attribute instead.\n",
      "  if (memory.cachedir is None and memory_level is not None\n"
     ]
    },
    {
     "name": "stdout",
     "output_type": "stream",
     "text": [
      "[NiftiLabelsMasker.transform_single_imgs] Extracting region signals\n",
      "[NiftiLabelsMasker.transform_single_imgs] Cleaning extracted signals\n",
      "_______________________________________________filter_and_extract - 0.9s, 0.0min\n",
      "[NiftiLabelsMasker.fit_transform] loading data from C:\\Users\\June Cai/nilearn_data\\fsl\\data\\atlases\\HarvardOxford\\HarvardOxford-cort-maxprob-thr25-2mm.nii.gz\n",
      "Resampling labels\n",
      "________________________________________________________________________________\n",
      "[Memory] Calling nilearn.input_data.base_masker.filter_and_extract...\n",
      "filter_and_extract('F:\\\\ece\\\\capstone\\\\code\\\\py\\\\data\\\\abide\\\\traindata\\\\29897_rest_1.nii.gz', <nilearn.input_data.nifti_labels_masker._ExtractionFunctor object at 0x00000124FBC1F5C0>, \n",
      "{ 'background_label': 0,\n",
      "  'detrend': False,\n",
      "  'dtype': None,\n",
      "  'high_pass': None,\n",
      "  'labels_img': 'C:\\\\Users\\\\June '\n",
      "                'Cai/nilearn_data\\\\fsl\\\\data\\\\atlases\\\\HarvardOxford\\\\HarvardOxford-cort-maxprob-thr25-2mm.nii.gz',\n",
      "  'low_pass': None,\n",
      "  'mask_img': None,\n",
      "  'smoothing_fwhm': None,\n",
      "  'standardize': True,\n",
      "  't_r': None,\n",
      "  'target_affine': None,\n",
      "  'target_shape': None}, memory_level=1, memory=Memory(location=nilearn_cache\\joblib), verbose=5, confounds=None, dtype=None)\n",
      "[NiftiLabelsMasker.transform_single_imgs] Loading data from F:\\ece\\capstone\\code\\py\\data\\abide\\traindata\\29897_rest_1.nii.gz\n"
     ]
    },
    {
     "name": "stderr",
     "output_type": "stream",
     "text": [
      "C:\\Users\\June Cai\\AppData\\Roaming\\Python\\Python35\\site-packages\\nilearn\\_utils\\cache_mixin.py:84: DeprecationWarning: The 'cachedir' parameter has been deprecated in version 0.12 and will be removed in version 0.14.\n",
      "You provided \"cachedir='nilearn_cache'\", use \"location='nilearn_cache'\" instead.\n",
      "  memory = Memory(cachedir=cache_dir, verbose=verbose)\n",
      "C:\\Users\\June Cai\\AppData\\Roaming\\Python\\Python35\\site-packages\\nilearn\\_utils\\cache_mixin.py:232: DeprecationWarning: The 'cachedir' attribute has been deprecated in version 0.12 and will be removed in version 0.14.\n",
      "Use os.path.join(memory.location, 'joblib') attribute instead.\n",
      "  if (memory.cachedir is None and memory_level is not None\n"
     ]
    },
    {
     "name": "stdout",
     "output_type": "stream",
     "text": [
      "[NiftiLabelsMasker.transform_single_imgs] Extracting region signals\n",
      "[NiftiLabelsMasker.transform_single_imgs] Cleaning extracted signals\n",
      "_______________________________________________filter_and_extract - 0.9s, 0.0min\n",
      "[NiftiLabelsMasker.fit_transform] loading data from C:\\Users\\June Cai/nilearn_data\\fsl\\data\\atlases\\HarvardOxford\\HarvardOxford-cort-maxprob-thr25-2mm.nii.gz\n",
      "Resampling labels\n",
      "________________________________________________________________________________\n",
      "[Memory] Calling nilearn.input_data.base_masker.filter_and_extract...\n",
      "filter_and_extract('F:\\\\ece\\\\capstone\\\\code\\\\py\\\\data\\\\abide\\\\traindata\\\\29898_rest_1.nii.gz', <nilearn.input_data.nifti_labels_masker._ExtractionFunctor object at 0x0000012496F1A8D0>, \n",
      "{ 'background_label': 0,\n",
      "  'detrend': False,\n",
      "  'dtype': None,\n",
      "  'high_pass': None,\n",
      "  'labels_img': 'C:\\\\Users\\\\June '\n",
      "                'Cai/nilearn_data\\\\fsl\\\\data\\\\atlases\\\\HarvardOxford\\\\HarvardOxford-cort-maxprob-thr25-2mm.nii.gz',\n",
      "  'low_pass': None,\n",
      "  'mask_img': None,\n",
      "  'smoothing_fwhm': None,\n",
      "  'standardize': True,\n",
      "  't_r': None,\n",
      "  'target_affine': None,\n",
      "  'target_shape': None}, memory_level=1, memory=Memory(location=nilearn_cache\\joblib), verbose=5, confounds=None, dtype=None)\n",
      "[NiftiLabelsMasker.transform_single_imgs] Loading data from F:\\ece\\capstone\\code\\py\\data\\abide\\traindata\\29898_rest_1.nii.gz\n"
     ]
    },
    {
     "name": "stderr",
     "output_type": "stream",
     "text": [
      "C:\\Users\\June Cai\\AppData\\Roaming\\Python\\Python35\\site-packages\\nilearn\\_utils\\cache_mixin.py:84: DeprecationWarning: The 'cachedir' parameter has been deprecated in version 0.12 and will be removed in version 0.14.\n",
      "You provided \"cachedir='nilearn_cache'\", use \"location='nilearn_cache'\" instead.\n",
      "  memory = Memory(cachedir=cache_dir, verbose=verbose)\n",
      "C:\\Users\\June Cai\\AppData\\Roaming\\Python\\Python35\\site-packages\\nilearn\\_utils\\cache_mixin.py:232: DeprecationWarning: The 'cachedir' attribute has been deprecated in version 0.12 and will be removed in version 0.14.\n",
      "Use os.path.join(memory.location, 'joblib') attribute instead.\n",
      "  if (memory.cachedir is None and memory_level is not None\n"
     ]
    },
    {
     "name": "stdout",
     "output_type": "stream",
     "text": [
      "[NiftiLabelsMasker.transform_single_imgs] Extracting region signals\n",
      "[NiftiLabelsMasker.transform_single_imgs] Cleaning extracted signals\n",
      "_______________________________________________filter_and_extract - 0.9s, 0.0min\n",
      "[NiftiLabelsMasker.fit_transform] loading data from C:\\Users\\June Cai/nilearn_data\\fsl\\data\\atlases\\HarvardOxford\\HarvardOxford-cort-maxprob-thr25-2mm.nii.gz\n",
      "Resampling labels\n",
      "________________________________________________________________________________\n",
      "[Memory] Calling nilearn.input_data.base_masker.filter_and_extract...\n",
      "filter_and_extract('F:\\\\ece\\\\capstone\\\\code\\\\py\\\\data\\\\abide\\\\traindata\\\\29899_rest_1.nii.gz', <nilearn.input_data.nifti_labels_masker._ExtractionFunctor object at 0x00000124FA6596D8>, \n",
      "{ 'background_label': 0,\n",
      "  'detrend': False,\n",
      "  'dtype': None,\n",
      "  'high_pass': None,\n",
      "  'labels_img': 'C:\\\\Users\\\\June '\n",
      "                'Cai/nilearn_data\\\\fsl\\\\data\\\\atlases\\\\HarvardOxford\\\\HarvardOxford-cort-maxprob-thr25-2mm.nii.gz',\n",
      "  'low_pass': None,\n",
      "  'mask_img': None,\n",
      "  'smoothing_fwhm': None,\n",
      "  'standardize': True,\n",
      "  't_r': None,\n",
      "  'target_affine': None,\n",
      "  'target_shape': None}, memory_level=1, memory=Memory(location=nilearn_cache\\joblib), verbose=5, confounds=None, dtype=None)\n",
      "[NiftiLabelsMasker.transform_single_imgs] Loading data from F:\\ece\\capstone\\code\\py\\data\\abide\\traindata\\29899_rest_1.nii.gz\n"
     ]
    },
    {
     "name": "stderr",
     "output_type": "stream",
     "text": [
      "C:\\Users\\June Cai\\AppData\\Roaming\\Python\\Python35\\site-packages\\nilearn\\_utils\\cache_mixin.py:84: DeprecationWarning: The 'cachedir' parameter has been deprecated in version 0.12 and will be removed in version 0.14.\n",
      "You provided \"cachedir='nilearn_cache'\", use \"location='nilearn_cache'\" instead.\n",
      "  memory = Memory(cachedir=cache_dir, verbose=verbose)\n",
      "C:\\Users\\June Cai\\AppData\\Roaming\\Python\\Python35\\site-packages\\nilearn\\_utils\\cache_mixin.py:232: DeprecationWarning: The 'cachedir' attribute has been deprecated in version 0.12 and will be removed in version 0.14.\n",
      "Use os.path.join(memory.location, 'joblib') attribute instead.\n",
      "  if (memory.cachedir is None and memory_level is not None\n"
     ]
    },
    {
     "name": "stdout",
     "output_type": "stream",
     "text": [
      "[NiftiLabelsMasker.transform_single_imgs] Extracting region signals\n",
      "[NiftiLabelsMasker.transform_single_imgs] Cleaning extracted signals\n",
      "_______________________________________________filter_and_extract - 0.9s, 0.0min\n",
      "[NiftiLabelsMasker.fit_transform] loading data from C:\\Users\\June Cai/nilearn_data\\fsl\\data\\atlases\\HarvardOxford\\HarvardOxford-cort-maxprob-thr25-2mm.nii.gz\n",
      "Resampling labels\n",
      "________________________________________________________________________________\n",
      "[Memory] Calling nilearn.input_data.base_masker.filter_and_extract...\n",
      "filter_and_extract('F:\\\\ece\\\\capstone\\\\code\\\\py\\\\data\\\\abide\\\\traindata\\\\29900_rest_1.nii.gz', <nilearn.input_data.nifti_labels_masker._ExtractionFunctor object at 0x000001248B1B5320>, \n",
      "{ 'background_label': 0,\n",
      "  'detrend': False,\n",
      "  'dtype': None,\n",
      "  'high_pass': None,\n",
      "  'labels_img': 'C:\\\\Users\\\\June '\n",
      "                'Cai/nilearn_data\\\\fsl\\\\data\\\\atlases\\\\HarvardOxford\\\\HarvardOxford-cort-maxprob-thr25-2mm.nii.gz',\n",
      "  'low_pass': None,\n",
      "  'mask_img': None,\n",
      "  'smoothing_fwhm': None,\n",
      "  'standardize': True,\n",
      "  't_r': None,\n",
      "  'target_affine': None,\n",
      "  'target_shape': None}, memory_level=1, memory=Memory(location=nilearn_cache\\joblib), verbose=5, confounds=None, dtype=None)\n",
      "[NiftiLabelsMasker.transform_single_imgs] Loading data from F:\\ece\\capstone\\code\\py\\data\\abide\\traindata\\29900_rest_1.nii.gz\n"
     ]
    },
    {
     "name": "stderr",
     "output_type": "stream",
     "text": [
      "C:\\Users\\June Cai\\AppData\\Roaming\\Python\\Python35\\site-packages\\nilearn\\_utils\\cache_mixin.py:84: DeprecationWarning: The 'cachedir' parameter has been deprecated in version 0.12 and will be removed in version 0.14.\n",
      "You provided \"cachedir='nilearn_cache'\", use \"location='nilearn_cache'\" instead.\n",
      "  memory = Memory(cachedir=cache_dir, verbose=verbose)\n",
      "C:\\Users\\June Cai\\AppData\\Roaming\\Python\\Python35\\site-packages\\nilearn\\_utils\\cache_mixin.py:232: DeprecationWarning: The 'cachedir' attribute has been deprecated in version 0.12 and will be removed in version 0.14.\n",
      "Use os.path.join(memory.location, 'joblib') attribute instead.\n",
      "  if (memory.cachedir is None and memory_level is not None\n"
     ]
    },
    {
     "name": "stdout",
     "output_type": "stream",
     "text": [
      "[NiftiLabelsMasker.transform_single_imgs] Extracting region signals\n",
      "[NiftiLabelsMasker.transform_single_imgs] Cleaning extracted signals\n",
      "_______________________________________________filter_and_extract - 0.9s, 0.0min\n",
      "[NiftiLabelsMasker.fit_transform] loading data from C:\\Users\\June Cai/nilearn_data\\fsl\\data\\atlases\\HarvardOxford\\HarvardOxford-cort-maxprob-thr25-2mm.nii.gz\n",
      "Resampling labels\n",
      "________________________________________________________________________________\n",
      "[Memory] Calling nilearn.input_data.base_masker.filter_and_extract...\n",
      "filter_and_extract('F:\\\\ece\\\\capstone\\\\code\\\\py\\\\data\\\\abide\\\\traindata\\\\29901_rest_1.nii.gz', <nilearn.input_data.nifti_labels_masker._ExtractionFunctor object at 0x0000012496F1A8D0>, \n",
      "{ 'background_label': 0,\n",
      "  'detrend': False,\n",
      "  'dtype': None,\n",
      "  'high_pass': None,\n",
      "  'labels_img': 'C:\\\\Users\\\\June '\n",
      "                'Cai/nilearn_data\\\\fsl\\\\data\\\\atlases\\\\HarvardOxford\\\\HarvardOxford-cort-maxprob-thr25-2mm.nii.gz',\n",
      "  'low_pass': None,\n",
      "  'mask_img': None,\n",
      "  'smoothing_fwhm': None,\n",
      "  'standardize': True,\n",
      "  't_r': None,\n",
      "  'target_affine': None,\n",
      "  'target_shape': None}, memory_level=1, memory=Memory(location=nilearn_cache\\joblib), verbose=5, confounds=None, dtype=None)\n",
      "[NiftiLabelsMasker.transform_single_imgs] Loading data from F:\\ece\\capstone\\code\\py\\data\\abide\\traindata\\29901_rest_1.nii.gz\n"
     ]
    },
    {
     "name": "stderr",
     "output_type": "stream",
     "text": [
      "C:\\Users\\June Cai\\AppData\\Roaming\\Python\\Python35\\site-packages\\nilearn\\_utils\\cache_mixin.py:84: DeprecationWarning: The 'cachedir' parameter has been deprecated in version 0.12 and will be removed in version 0.14.\n",
      "You provided \"cachedir='nilearn_cache'\", use \"location='nilearn_cache'\" instead.\n",
      "  memory = Memory(cachedir=cache_dir, verbose=verbose)\n",
      "C:\\Users\\June Cai\\AppData\\Roaming\\Python\\Python35\\site-packages\\nilearn\\_utils\\cache_mixin.py:232: DeprecationWarning: The 'cachedir' attribute has been deprecated in version 0.12 and will be removed in version 0.14.\n",
      "Use os.path.join(memory.location, 'joblib') attribute instead.\n",
      "  if (memory.cachedir is None and memory_level is not None\n"
     ]
    },
    {
     "name": "stdout",
     "output_type": "stream",
     "text": [
      "[NiftiLabelsMasker.transform_single_imgs] Extracting region signals\n",
      "[NiftiLabelsMasker.transform_single_imgs] Cleaning extracted signals\n",
      "_______________________________________________filter_and_extract - 0.9s, 0.0min\n",
      "[NiftiLabelsMasker.fit_transform] loading data from C:\\Users\\June Cai/nilearn_data\\fsl\\data\\atlases\\HarvardOxford\\HarvardOxford-cort-maxprob-thr25-2mm.nii.gz\n",
      "Resampling labels\n",
      "________________________________________________________________________________\n",
      "[Memory] Calling nilearn.input_data.base_masker.filter_and_extract...\n",
      "filter_and_extract('F:\\\\ece\\\\capstone\\\\code\\\\py\\\\data\\\\abide\\\\traindata\\\\29902_rest_1.nii.gz', <nilearn.input_data.nifti_labels_masker._ExtractionFunctor object at 0x0000012496F2AB00>, \n",
      "{ 'background_label': 0,\n",
      "  'detrend': False,\n",
      "  'dtype': None,\n",
      "  'high_pass': None,\n",
      "  'labels_img': 'C:\\\\Users\\\\June '\n",
      "                'Cai/nilearn_data\\\\fsl\\\\data\\\\atlases\\\\HarvardOxford\\\\HarvardOxford-cort-maxprob-thr25-2mm.nii.gz',\n",
      "  'low_pass': None,\n",
      "  'mask_img': None,\n",
      "  'smoothing_fwhm': None,\n",
      "  'standardize': True,\n",
      "  't_r': None,\n",
      "  'target_affine': None,\n",
      "  'target_shape': None}, memory_level=1, memory=Memory(location=nilearn_cache\\joblib), verbose=5, confounds=None, dtype=None)\n",
      "[NiftiLabelsMasker.transform_single_imgs] Loading data from F:\\ece\\capstone\\code\\py\\data\\abide\\traindata\\29902_rest_1.nii.gz\n"
     ]
    },
    {
     "name": "stderr",
     "output_type": "stream",
     "text": [
      "C:\\Users\\June Cai\\AppData\\Roaming\\Python\\Python35\\site-packages\\nilearn\\_utils\\cache_mixin.py:84: DeprecationWarning: The 'cachedir' parameter has been deprecated in version 0.12 and will be removed in version 0.14.\n",
      "You provided \"cachedir='nilearn_cache'\", use \"location='nilearn_cache'\" instead.\n",
      "  memory = Memory(cachedir=cache_dir, verbose=verbose)\n",
      "C:\\Users\\June Cai\\AppData\\Roaming\\Python\\Python35\\site-packages\\nilearn\\_utils\\cache_mixin.py:232: DeprecationWarning: The 'cachedir' attribute has been deprecated in version 0.12 and will be removed in version 0.14.\n",
      "Use os.path.join(memory.location, 'joblib') attribute instead.\n",
      "  if (memory.cachedir is None and memory_level is not None\n"
     ]
    },
    {
     "name": "stdout",
     "output_type": "stream",
     "text": [
      "[NiftiLabelsMasker.transform_single_imgs] Extracting region signals\n",
      "[NiftiLabelsMasker.transform_single_imgs] Cleaning extracted signals\n",
      "_______________________________________________filter_and_extract - 0.9s, 0.0min\n",
      "[NiftiLabelsMasker.fit_transform] loading data from C:\\Users\\June Cai/nilearn_data\\fsl\\data\\atlases\\HarvardOxford\\HarvardOxford-cort-maxprob-thr25-2mm.nii.gz\n",
      "Resampling labels\n",
      "________________________________________________________________________________\n",
      "[Memory] Calling nilearn.input_data.base_masker.filter_and_extract...\n",
      "filter_and_extract('F:\\\\ece\\\\capstone\\\\code\\\\py\\\\data\\\\abide\\\\traindata\\\\29903_rest_1.nii.gz', <nilearn.input_data.nifti_labels_masker._ExtractionFunctor object at 0x000001248D6CC4E0>, \n",
      "{ 'background_label': 0,\n",
      "  'detrend': False,\n",
      "  'dtype': None,\n",
      "  'high_pass': None,\n",
      "  'labels_img': 'C:\\\\Users\\\\June '\n",
      "                'Cai/nilearn_data\\\\fsl\\\\data\\\\atlases\\\\HarvardOxford\\\\HarvardOxford-cort-maxprob-thr25-2mm.nii.gz',\n",
      "  'low_pass': None,\n",
      "  'mask_img': None,\n",
      "  'smoothing_fwhm': None,\n",
      "  'standardize': True,\n",
      "  't_r': None,\n",
      "  'target_affine': None,\n",
      "  'target_shape': None}, memory_level=1, memory=Memory(location=nilearn_cache\\joblib), verbose=5, confounds=None, dtype=None)\n",
      "[NiftiLabelsMasker.transform_single_imgs] Loading data from F:\\ece\\capstone\\code\\py\\data\\abide\\traindata\\29903_rest_1.nii.gz\n"
     ]
    },
    {
     "name": "stderr",
     "output_type": "stream",
     "text": [
      "C:\\Users\\June Cai\\AppData\\Roaming\\Python\\Python35\\site-packages\\nilearn\\_utils\\cache_mixin.py:84: DeprecationWarning: The 'cachedir' parameter has been deprecated in version 0.12 and will be removed in version 0.14.\n",
      "You provided \"cachedir='nilearn_cache'\", use \"location='nilearn_cache'\" instead.\n",
      "  memory = Memory(cachedir=cache_dir, verbose=verbose)\n",
      "C:\\Users\\June Cai\\AppData\\Roaming\\Python\\Python35\\site-packages\\nilearn\\_utils\\cache_mixin.py:232: DeprecationWarning: The 'cachedir' attribute has been deprecated in version 0.12 and will be removed in version 0.14.\n",
      "Use os.path.join(memory.location, 'joblib') attribute instead.\n",
      "  if (memory.cachedir is None and memory_level is not None\n"
     ]
    },
    {
     "name": "stdout",
     "output_type": "stream",
     "text": [
      "[NiftiLabelsMasker.transform_single_imgs] Extracting region signals\n",
      "[NiftiLabelsMasker.transform_single_imgs] Cleaning extracted signals\n",
      "_______________________________________________filter_and_extract - 0.9s, 0.0min\n",
      "[NiftiLabelsMasker.fit_transform] loading data from C:\\Users\\June Cai/nilearn_data\\fsl\\data\\atlases\\HarvardOxford\\HarvardOxford-cort-maxprob-thr25-2mm.nii.gz\n",
      "Resampling labels\n",
      "________________________________________________________________________________\n",
      "[Memory] Calling nilearn.input_data.base_masker.filter_and_extract...\n",
      "filter_and_extract('F:\\\\ece\\\\capstone\\\\code\\\\py\\\\data\\\\abide\\\\traindata\\\\29904_rest_1.nii.gz', <nilearn.input_data.nifti_labels_masker._ExtractionFunctor object at 0x00000124FBC1F5C0>, \n",
      "{ 'background_label': 0,\n",
      "  'detrend': False,\n",
      "  'dtype': None,\n",
      "  'high_pass': None,\n",
      "  'labels_img': 'C:\\\\Users\\\\June '\n",
      "                'Cai/nilearn_data\\\\fsl\\\\data\\\\atlases\\\\HarvardOxford\\\\HarvardOxford-cort-maxprob-thr25-2mm.nii.gz',\n",
      "  'low_pass': None,\n",
      "  'mask_img': None,\n",
      "  'smoothing_fwhm': None,\n",
      "  'standardize': True,\n",
      "  't_r': None,\n",
      "  'target_affine': None,\n",
      "  'target_shape': None}, memory_level=1, memory=Memory(location=nilearn_cache\\joblib), verbose=5, confounds=None, dtype=None)\n",
      "[NiftiLabelsMasker.transform_single_imgs] Loading data from F:\\ece\\capstone\\code\\py\\data\\abide\\traindata\\29904_rest_1.nii.gz\n"
     ]
    },
    {
     "name": "stderr",
     "output_type": "stream",
     "text": [
      "C:\\Users\\June Cai\\AppData\\Roaming\\Python\\Python35\\site-packages\\nilearn\\_utils\\cache_mixin.py:84: DeprecationWarning: The 'cachedir' parameter has been deprecated in version 0.12 and will be removed in version 0.14.\n",
      "You provided \"cachedir='nilearn_cache'\", use \"location='nilearn_cache'\" instead.\n",
      "  memory = Memory(cachedir=cache_dir, verbose=verbose)\n",
      "C:\\Users\\June Cai\\AppData\\Roaming\\Python\\Python35\\site-packages\\nilearn\\_utils\\cache_mixin.py:232: DeprecationWarning: The 'cachedir' attribute has been deprecated in version 0.12 and will be removed in version 0.14.\n",
      "Use os.path.join(memory.location, 'joblib') attribute instead.\n",
      "  if (memory.cachedir is None and memory_level is not None\n"
     ]
    },
    {
     "name": "stdout",
     "output_type": "stream",
     "text": [
      "[NiftiLabelsMasker.transform_single_imgs] Extracting region signals\n",
      "[NiftiLabelsMasker.transform_single_imgs] Cleaning extracted signals\n",
      "_______________________________________________filter_and_extract - 0.9s, 0.0min\n",
      "[NiftiLabelsMasker.fit_transform] loading data from C:\\Users\\June Cai/nilearn_data\\fsl\\data\\atlases\\HarvardOxford\\HarvardOxford-cort-maxprob-thr25-2mm.nii.gz\n",
      "Resampling labels\n",
      "________________________________________________________________________________\n",
      "[Memory] Calling nilearn.input_data.base_masker.filter_and_extract...\n",
      "filter_and_extract('F:\\\\ece\\\\capstone\\\\code\\\\py\\\\data\\\\abide\\\\traindata\\\\29905_rest_1.nii.gz', <nilearn.input_data.nifti_labels_masker._ExtractionFunctor object at 0x0000012496F2ABA8>, \n",
      "{ 'background_label': 0,\n",
      "  'detrend': False,\n",
      "  'dtype': None,\n",
      "  'high_pass': None,\n",
      "  'labels_img': 'C:\\\\Users\\\\June '\n",
      "                'Cai/nilearn_data\\\\fsl\\\\data\\\\atlases\\\\HarvardOxford\\\\HarvardOxford-cort-maxprob-thr25-2mm.nii.gz',\n",
      "  'low_pass': None,\n",
      "  'mask_img': None,\n",
      "  'smoothing_fwhm': None,\n",
      "  'standardize': True,\n",
      "  't_r': None,\n",
      "  'target_affine': None,\n",
      "  'target_shape': None}, memory_level=1, memory=Memory(location=nilearn_cache\\joblib), verbose=5, confounds=None, dtype=None)\n",
      "[NiftiLabelsMasker.transform_single_imgs] Loading data from F:\\ece\\capstone\\code\\py\\data\\abide\\traindata\\29905_rest_1.nii.gz\n"
     ]
    },
    {
     "name": "stderr",
     "output_type": "stream",
     "text": [
      "C:\\Users\\June Cai\\AppData\\Roaming\\Python\\Python35\\site-packages\\nilearn\\_utils\\cache_mixin.py:84: DeprecationWarning: The 'cachedir' parameter has been deprecated in version 0.12 and will be removed in version 0.14.\n",
      "You provided \"cachedir='nilearn_cache'\", use \"location='nilearn_cache'\" instead.\n",
      "  memory = Memory(cachedir=cache_dir, verbose=verbose)\n",
      "C:\\Users\\June Cai\\AppData\\Roaming\\Python\\Python35\\site-packages\\nilearn\\_utils\\cache_mixin.py:232: DeprecationWarning: The 'cachedir' attribute has been deprecated in version 0.12 and will be removed in version 0.14.\n",
      "Use os.path.join(memory.location, 'joblib') attribute instead.\n",
      "  if (memory.cachedir is None and memory_level is not None\n"
     ]
    },
    {
     "name": "stdout",
     "output_type": "stream",
     "text": [
      "[NiftiLabelsMasker.transform_single_imgs] Extracting region signals\n",
      "[NiftiLabelsMasker.transform_single_imgs] Cleaning extracted signals\n",
      "_______________________________________________filter_and_extract - 0.9s, 0.0min\n",
      "[NiftiLabelsMasker.fit_transform] loading data from C:\\Users\\June Cai/nilearn_data\\fsl\\data\\atlases\\HarvardOxford\\HarvardOxford-cort-maxprob-thr25-2mm.nii.gz\n",
      "Resampling labels\n",
      "________________________________________________________________________________\n",
      "[Memory] Calling nilearn.input_data.base_masker.filter_and_extract...\n",
      "filter_and_extract('F:\\\\ece\\\\capstone\\\\code\\\\py\\\\data\\\\abide\\\\traindata\\\\29906_rest_1.nii.gz', <nilearn.input_data.nifti_labels_masker._ExtractionFunctor object at 0x000001248B1B5320>, \n",
      "{ 'background_label': 0,\n",
      "  'detrend': False,\n",
      "  'dtype': None,\n",
      "  'high_pass': None,\n",
      "  'labels_img': 'C:\\\\Users\\\\June '\n",
      "                'Cai/nilearn_data\\\\fsl\\\\data\\\\atlases\\\\HarvardOxford\\\\HarvardOxford-cort-maxprob-thr25-2mm.nii.gz',\n",
      "  'low_pass': None,\n",
      "  'mask_img': None,\n",
      "  'smoothing_fwhm': None,\n",
      "  'standardize': True,\n",
      "  't_r': None,\n",
      "  'target_affine': None,\n",
      "  'target_shape': None}, memory_level=1, memory=Memory(location=nilearn_cache\\joblib), verbose=5, confounds=None, dtype=None)\n",
      "[NiftiLabelsMasker.transform_single_imgs] Loading data from F:\\ece\\capstone\\code\\py\\data\\abide\\traindata\\29906_rest_1.nii.gz\n"
     ]
    },
    {
     "name": "stderr",
     "output_type": "stream",
     "text": [
      "C:\\Users\\June Cai\\AppData\\Roaming\\Python\\Python35\\site-packages\\nilearn\\_utils\\cache_mixin.py:84: DeprecationWarning: The 'cachedir' parameter has been deprecated in version 0.12 and will be removed in version 0.14.\n",
      "You provided \"cachedir='nilearn_cache'\", use \"location='nilearn_cache'\" instead.\n",
      "  memory = Memory(cachedir=cache_dir, verbose=verbose)\n",
      "C:\\Users\\June Cai\\AppData\\Roaming\\Python\\Python35\\site-packages\\nilearn\\_utils\\cache_mixin.py:232: DeprecationWarning: The 'cachedir' attribute has been deprecated in version 0.12 and will be removed in version 0.14.\n",
      "Use os.path.join(memory.location, 'joblib') attribute instead.\n",
      "  if (memory.cachedir is None and memory_level is not None\n"
     ]
    },
    {
     "name": "stdout",
     "output_type": "stream",
     "text": [
      "[NiftiLabelsMasker.transform_single_imgs] Extracting region signals\n",
      "[NiftiLabelsMasker.transform_single_imgs] Cleaning extracted signals\n",
      "_______________________________________________filter_and_extract - 0.9s, 0.0min\n",
      "[NiftiLabelsMasker.fit_transform] loading data from C:\\Users\\June Cai/nilearn_data\\fsl\\data\\atlases\\HarvardOxford\\HarvardOxford-cort-maxprob-thr25-2mm.nii.gz\n",
      "Resampling labels\n",
      "________________________________________________________________________________\n",
      "[Memory] Calling nilearn.input_data.base_masker.filter_and_extract...\n",
      "filter_and_extract('F:\\\\ece\\\\capstone\\\\code\\\\py\\\\data\\\\abide\\\\traindata\\\\29907_rest_1.nii.gz', <nilearn.input_data.nifti_labels_masker._ExtractionFunctor object at 0x000001248C732048>, \n",
      "{ 'background_label': 0,\n",
      "  'detrend': False,\n",
      "  'dtype': None,\n",
      "  'high_pass': None,\n",
      "  'labels_img': 'C:\\\\Users\\\\June '\n",
      "                'Cai/nilearn_data\\\\fsl\\\\data\\\\atlases\\\\HarvardOxford\\\\HarvardOxford-cort-maxprob-thr25-2mm.nii.gz',\n",
      "  'low_pass': None,\n",
      "  'mask_img': None,\n",
      "  'smoothing_fwhm': None,\n",
      "  'standardize': True,\n",
      "  't_r': None,\n",
      "  'target_affine': None,\n",
      "  'target_shape': None}, memory_level=1, memory=Memory(location=nilearn_cache\\joblib), verbose=5, confounds=None, dtype=None)\n",
      "[NiftiLabelsMasker.transform_single_imgs] Loading data from F:\\ece\\capstone\\code\\py\\data\\abide\\traindata\\29907_rest_1.nii.gz\n"
     ]
    },
    {
     "name": "stderr",
     "output_type": "stream",
     "text": [
      "C:\\Users\\June Cai\\AppData\\Roaming\\Python\\Python35\\site-packages\\nilearn\\_utils\\cache_mixin.py:84: DeprecationWarning: The 'cachedir' parameter has been deprecated in version 0.12 and will be removed in version 0.14.\n",
      "You provided \"cachedir='nilearn_cache'\", use \"location='nilearn_cache'\" instead.\n",
      "  memory = Memory(cachedir=cache_dir, verbose=verbose)\n",
      "C:\\Users\\June Cai\\AppData\\Roaming\\Python\\Python35\\site-packages\\nilearn\\_utils\\cache_mixin.py:232: DeprecationWarning: The 'cachedir' attribute has been deprecated in version 0.12 and will be removed in version 0.14.\n",
      "Use os.path.join(memory.location, 'joblib') attribute instead.\n",
      "  if (memory.cachedir is None and memory_level is not None\n"
     ]
    },
    {
     "name": "stdout",
     "output_type": "stream",
     "text": [
      "[NiftiLabelsMasker.transform_single_imgs] Extracting region signals\n",
      "[NiftiLabelsMasker.transform_single_imgs] Cleaning extracted signals\n",
      "_______________________________________________filter_and_extract - 0.9s, 0.0min\n",
      "[NiftiLabelsMasker.fit_transform] loading data from C:\\Users\\June Cai/nilearn_data\\fsl\\data\\atlases\\HarvardOxford\\HarvardOxford-cort-maxprob-thr25-2mm.nii.gz\n",
      "Resampling labels\n",
      "________________________________________________________________________________\n",
      "[Memory] Calling nilearn.input_data.base_masker.filter_and_extract...\n",
      "filter_and_extract('F:\\\\ece\\\\capstone\\\\code\\\\py\\\\data\\\\abide\\\\traindata\\\\29908_rest_1.nii.gz', <nilearn.input_data.nifti_labels_masker._ExtractionFunctor object at 0x000001248A9110F0>, \n",
      "{ 'background_label': 0,\n",
      "  'detrend': False,\n",
      "  'dtype': None,\n",
      "  'high_pass': None,\n",
      "  'labels_img': 'C:\\\\Users\\\\June '\n",
      "                'Cai/nilearn_data\\\\fsl\\\\data\\\\atlases\\\\HarvardOxford\\\\HarvardOxford-cort-maxprob-thr25-2mm.nii.gz',\n",
      "  'low_pass': None,\n",
      "  'mask_img': None,\n",
      "  'smoothing_fwhm': None,\n",
      "  'standardize': True,\n",
      "  't_r': None,\n",
      "  'target_affine': None,\n",
      "  'target_shape': None}, memory_level=1, memory=Memory(location=nilearn_cache\\joblib), verbose=5, confounds=None, dtype=None)\n",
      "[NiftiLabelsMasker.transform_single_imgs] Loading data from F:\\ece\\capstone\\code\\py\\data\\abide\\traindata\\29908_rest_1.nii.gz\n"
     ]
    },
    {
     "name": "stderr",
     "output_type": "stream",
     "text": [
      "C:\\Users\\June Cai\\AppData\\Roaming\\Python\\Python35\\site-packages\\nilearn\\_utils\\cache_mixin.py:84: DeprecationWarning: The 'cachedir' parameter has been deprecated in version 0.12 and will be removed in version 0.14.\n",
      "You provided \"cachedir='nilearn_cache'\", use \"location='nilearn_cache'\" instead.\n",
      "  memory = Memory(cachedir=cache_dir, verbose=verbose)\n",
      "C:\\Users\\June Cai\\AppData\\Roaming\\Python\\Python35\\site-packages\\nilearn\\_utils\\cache_mixin.py:232: DeprecationWarning: The 'cachedir' attribute has been deprecated in version 0.12 and will be removed in version 0.14.\n",
      "Use os.path.join(memory.location, 'joblib') attribute instead.\n",
      "  if (memory.cachedir is None and memory_level is not None\n"
     ]
    },
    {
     "name": "stdout",
     "output_type": "stream",
     "text": [
      "[NiftiLabelsMasker.transform_single_imgs] Extracting region signals\n",
      "[NiftiLabelsMasker.transform_single_imgs] Cleaning extracted signals\n",
      "_______________________________________________filter_and_extract - 0.9s, 0.0min\n",
      "[NiftiLabelsMasker.fit_transform] loading data from C:\\Users\\June Cai/nilearn_data\\fsl\\data\\atlases\\HarvardOxford\\HarvardOxford-cort-maxprob-thr25-2mm.nii.gz\n",
      "Resampling labels\n",
      "________________________________________________________________________________\n",
      "[Memory] Calling nilearn.input_data.base_masker.filter_and_extract...\n",
      "filter_and_extract('F:\\\\ece\\\\capstone\\\\code\\\\py\\\\data\\\\abide\\\\traindata\\\\29909_rest_1.nii.gz', <nilearn.input_data.nifti_labels_masker._ExtractionFunctor object at 0x00000124FA6596D8>, \n",
      "{ 'background_label': 0,\n",
      "  'detrend': False,\n",
      "  'dtype': None,\n",
      "  'high_pass': None,\n",
      "  'labels_img': 'C:\\\\Users\\\\June '\n",
      "                'Cai/nilearn_data\\\\fsl\\\\data\\\\atlases\\\\HarvardOxford\\\\HarvardOxford-cort-maxprob-thr25-2mm.nii.gz',\n",
      "  'low_pass': None,\n",
      "  'mask_img': None,\n",
      "  'smoothing_fwhm': None,\n",
      "  'standardize': True,\n",
      "  't_r': None,\n",
      "  'target_affine': None,\n",
      "  'target_shape': None}, memory_level=1, memory=Memory(location=nilearn_cache\\joblib), verbose=5, confounds=None, dtype=None)\n",
      "[NiftiLabelsMasker.transform_single_imgs] Loading data from F:\\ece\\capstone\\code\\py\\data\\abide\\traindata\\29909_rest_1.nii.gz\n"
     ]
    },
    {
     "name": "stderr",
     "output_type": "stream",
     "text": [
      "C:\\Users\\June Cai\\AppData\\Roaming\\Python\\Python35\\site-packages\\nilearn\\_utils\\cache_mixin.py:84: DeprecationWarning: The 'cachedir' parameter has been deprecated in version 0.12 and will be removed in version 0.14.\n",
      "You provided \"cachedir='nilearn_cache'\", use \"location='nilearn_cache'\" instead.\n",
      "  memory = Memory(cachedir=cache_dir, verbose=verbose)\n",
      "C:\\Users\\June Cai\\AppData\\Roaming\\Python\\Python35\\site-packages\\nilearn\\_utils\\cache_mixin.py:232: DeprecationWarning: The 'cachedir' attribute has been deprecated in version 0.12 and will be removed in version 0.14.\n",
      "Use os.path.join(memory.location, 'joblib') attribute instead.\n",
      "  if (memory.cachedir is None and memory_level is not None\n"
     ]
    },
    {
     "name": "stdout",
     "output_type": "stream",
     "text": [
      "[NiftiLabelsMasker.transform_single_imgs] Extracting region signals\n",
      "[NiftiLabelsMasker.transform_single_imgs] Cleaning extracted signals\n",
      "_______________________________________________filter_and_extract - 0.8s, 0.0min\n",
      "[NiftiLabelsMasker.fit_transform] loading data from C:\\Users\\June Cai/nilearn_data\\fsl\\data\\atlases\\HarvardOxford\\HarvardOxford-cort-maxprob-thr25-2mm.nii.gz\n",
      "Resampling labels\n",
      "________________________________________________________________________________\n",
      "[Memory] Calling nilearn.input_data.base_masker.filter_and_extract...\n",
      "filter_and_extract('F:\\\\ece\\\\capstone\\\\code\\\\py\\\\data\\\\abide\\\\traindata\\\\29910_rest_1.nii.gz', <nilearn.input_data.nifti_labels_masker._ExtractionFunctor object at 0x000001248A91FC50>, \n",
      "{ 'background_label': 0,\n",
      "  'detrend': False,\n",
      "  'dtype': None,\n",
      "  'high_pass': None,\n",
      "  'labels_img': 'C:\\\\Users\\\\June '\n",
      "                'Cai/nilearn_data\\\\fsl\\\\data\\\\atlases\\\\HarvardOxford\\\\HarvardOxford-cort-maxprob-thr25-2mm.nii.gz',\n",
      "  'low_pass': None,\n",
      "  'mask_img': None,\n",
      "  'smoothing_fwhm': None,\n",
      "  'standardize': True,\n",
      "  't_r': None,\n",
      "  'target_affine': None,\n",
      "  'target_shape': None}, memory_level=1, memory=Memory(location=nilearn_cache\\joblib), verbose=5, confounds=None, dtype=None)\n",
      "[NiftiLabelsMasker.transform_single_imgs] Loading data from F:\\ece\\capstone\\code\\py\\data\\abide\\traindata\\29910_rest_1.nii.gz\n"
     ]
    },
    {
     "name": "stderr",
     "output_type": "stream",
     "text": [
      "C:\\Users\\June Cai\\AppData\\Roaming\\Python\\Python35\\site-packages\\nilearn\\_utils\\cache_mixin.py:84: DeprecationWarning: The 'cachedir' parameter has been deprecated in version 0.12 and will be removed in version 0.14.\n",
      "You provided \"cachedir='nilearn_cache'\", use \"location='nilearn_cache'\" instead.\n",
      "  memory = Memory(cachedir=cache_dir, verbose=verbose)\n",
      "C:\\Users\\June Cai\\AppData\\Roaming\\Python\\Python35\\site-packages\\nilearn\\_utils\\cache_mixin.py:232: DeprecationWarning: The 'cachedir' attribute has been deprecated in version 0.12 and will be removed in version 0.14.\n",
      "Use os.path.join(memory.location, 'joblib') attribute instead.\n",
      "  if (memory.cachedir is None and memory_level is not None\n"
     ]
    },
    {
     "name": "stdout",
     "output_type": "stream",
     "text": [
      "[NiftiLabelsMasker.transform_single_imgs] Extracting region signals\n",
      "[NiftiLabelsMasker.transform_single_imgs] Cleaning extracted signals\n",
      "_______________________________________________filter_and_extract - 0.9s, 0.0min\n",
      "[NiftiLabelsMasker.fit_transform] loading data from C:\\Users\\June Cai/nilearn_data\\fsl\\data\\atlases\\HarvardOxford\\HarvardOxford-cort-maxprob-thr25-2mm.nii.gz\n",
      "Resampling labels\n",
      "________________________________________________________________________________\n",
      "[Memory] Calling nilearn.input_data.base_masker.filter_and_extract...\n",
      "filter_and_extract('F:\\\\ece\\\\capstone\\\\code\\\\py\\\\data\\\\abide\\\\traindata\\\\29911_rest_1.nii.gz', <nilearn.input_data.nifti_labels_masker._ExtractionFunctor object at 0x000001248B1B5320>, \n",
      "{ 'background_label': 0,\n",
      "  'detrend': False,\n",
      "  'dtype': None,\n",
      "  'high_pass': None,\n",
      "  'labels_img': 'C:\\\\Users\\\\June '\n",
      "                'Cai/nilearn_data\\\\fsl\\\\data\\\\atlases\\\\HarvardOxford\\\\HarvardOxford-cort-maxprob-thr25-2mm.nii.gz',\n",
      "  'low_pass': None,\n",
      "  'mask_img': None,\n",
      "  'smoothing_fwhm': None,\n",
      "  'standardize': True,\n",
      "  't_r': None,\n",
      "  'target_affine': None,\n",
      "  'target_shape': None}, memory_level=1, memory=Memory(location=nilearn_cache\\joblib), verbose=5, confounds=None, dtype=None)\n",
      "[NiftiLabelsMasker.transform_single_imgs] Loading data from F:\\ece\\capstone\\code\\py\\data\\abide\\traindata\\29911_rest_1.nii.gz\n"
     ]
    },
    {
     "name": "stderr",
     "output_type": "stream",
     "text": [
      "C:\\Users\\June Cai\\AppData\\Roaming\\Python\\Python35\\site-packages\\nilearn\\_utils\\cache_mixin.py:84: DeprecationWarning: The 'cachedir' parameter has been deprecated in version 0.12 and will be removed in version 0.14.\n",
      "You provided \"cachedir='nilearn_cache'\", use \"location='nilearn_cache'\" instead.\n",
      "  memory = Memory(cachedir=cache_dir, verbose=verbose)\n",
      "C:\\Users\\June Cai\\AppData\\Roaming\\Python\\Python35\\site-packages\\nilearn\\_utils\\cache_mixin.py:232: DeprecationWarning: The 'cachedir' attribute has been deprecated in version 0.12 and will be removed in version 0.14.\n",
      "Use os.path.join(memory.location, 'joblib') attribute instead.\n",
      "  if (memory.cachedir is None and memory_level is not None\n"
     ]
    },
    {
     "name": "stdout",
     "output_type": "stream",
     "text": [
      "[NiftiLabelsMasker.transform_single_imgs] Extracting region signals\n",
      "[NiftiLabelsMasker.transform_single_imgs] Cleaning extracted signals\n",
      "_______________________________________________filter_and_extract - 0.9s, 0.0min\n",
      "[NiftiLabelsMasker.fit_transform] loading data from C:\\Users\\June Cai/nilearn_data\\fsl\\data\\atlases\\HarvardOxford\\HarvardOxford-cort-maxprob-thr25-2mm.nii.gz\n",
      "Resampling labels\n",
      "________________________________________________________________________________\n",
      "[Memory] Calling nilearn.input_data.base_masker.filter_and_extract...\n",
      "filter_and_extract('F:\\\\ece\\\\capstone\\\\code\\\\py\\\\data\\\\abide\\\\traindata\\\\29912_rest_1.nii.gz', <nilearn.input_data.nifti_labels_masker._ExtractionFunctor object at 0x00000124FAB743C8>, \n",
      "{ 'background_label': 0,\n",
      "  'detrend': False,\n",
      "  'dtype': None,\n",
      "  'high_pass': None,\n",
      "  'labels_img': 'C:\\\\Users\\\\June '\n",
      "                'Cai/nilearn_data\\\\fsl\\\\data\\\\atlases\\\\HarvardOxford\\\\HarvardOxford-cort-maxprob-thr25-2mm.nii.gz',\n",
      "  'low_pass': None,\n",
      "  'mask_img': None,\n",
      "  'smoothing_fwhm': None,\n",
      "  'standardize': True,\n",
      "  't_r': None,\n",
      "  'target_affine': None,\n",
      "  'target_shape': None}, memory_level=1, memory=Memory(location=nilearn_cache\\joblib), verbose=5, confounds=None, dtype=None)\n",
      "[NiftiLabelsMasker.transform_single_imgs] Loading data from F:\\ece\\capstone\\code\\py\\data\\abide\\traindata\\29912_rest_1.nii.gz\n"
     ]
    },
    {
     "name": "stderr",
     "output_type": "stream",
     "text": [
      "C:\\Users\\June Cai\\AppData\\Roaming\\Python\\Python35\\site-packages\\nilearn\\_utils\\cache_mixin.py:84: DeprecationWarning: The 'cachedir' parameter has been deprecated in version 0.12 and will be removed in version 0.14.\n",
      "You provided \"cachedir='nilearn_cache'\", use \"location='nilearn_cache'\" instead.\n",
      "  memory = Memory(cachedir=cache_dir, verbose=verbose)\n",
      "C:\\Users\\June Cai\\AppData\\Roaming\\Python\\Python35\\site-packages\\nilearn\\_utils\\cache_mixin.py:232: DeprecationWarning: The 'cachedir' attribute has been deprecated in version 0.12 and will be removed in version 0.14.\n",
      "Use os.path.join(memory.location, 'joblib') attribute instead.\n",
      "  if (memory.cachedir is None and memory_level is not None\n"
     ]
    },
    {
     "name": "stdout",
     "output_type": "stream",
     "text": [
      "[NiftiLabelsMasker.transform_single_imgs] Extracting region signals\n",
      "[NiftiLabelsMasker.transform_single_imgs] Cleaning extracted signals\n",
      "_______________________________________________filter_and_extract - 0.9s, 0.0min\n",
      "[NiftiLabelsMasker.fit_transform] loading data from C:\\Users\\June Cai/nilearn_data\\fsl\\data\\atlases\\HarvardOxford\\HarvardOxford-cort-maxprob-thr25-2mm.nii.gz\n",
      "Resampling labels\n",
      "________________________________________________________________________________\n",
      "[Memory] Calling nilearn.input_data.base_masker.filter_and_extract...\n",
      "filter_and_extract('F:\\\\ece\\\\capstone\\\\code\\\\py\\\\data\\\\abide\\\\traindata\\\\29913_rest_1.nii.gz', <nilearn.input_data.nifti_labels_masker._ExtractionFunctor object at 0x0000012496F1A828>, \n",
      "{ 'background_label': 0,\n",
      "  'detrend': False,\n",
      "  'dtype': None,\n",
      "  'high_pass': None,\n",
      "  'labels_img': 'C:\\\\Users\\\\June '\n",
      "                'Cai/nilearn_data\\\\fsl\\\\data\\\\atlases\\\\HarvardOxford\\\\HarvardOxford-cort-maxprob-thr25-2mm.nii.gz',\n",
      "  'low_pass': None,\n",
      "  'mask_img': None,\n",
      "  'smoothing_fwhm': None,\n",
      "  'standardize': True,\n",
      "  't_r': None,\n",
      "  'target_affine': None,\n",
      "  'target_shape': None}, memory_level=1, memory=Memory(location=nilearn_cache\\joblib), verbose=5, confounds=None, dtype=None)\n",
      "[NiftiLabelsMasker.transform_single_imgs] Loading data from F:\\ece\\capstone\\code\\py\\data\\abide\\traindata\\29913_rest_1.nii.gz\n"
     ]
    },
    {
     "name": "stderr",
     "output_type": "stream",
     "text": [
      "C:\\Users\\June Cai\\AppData\\Roaming\\Python\\Python35\\site-packages\\nilearn\\_utils\\cache_mixin.py:84: DeprecationWarning: The 'cachedir' parameter has been deprecated in version 0.12 and will be removed in version 0.14.\n",
      "You provided \"cachedir='nilearn_cache'\", use \"location='nilearn_cache'\" instead.\n",
      "  memory = Memory(cachedir=cache_dir, verbose=verbose)\n",
      "C:\\Users\\June Cai\\AppData\\Roaming\\Python\\Python35\\site-packages\\nilearn\\_utils\\cache_mixin.py:232: DeprecationWarning: The 'cachedir' attribute has been deprecated in version 0.12 and will be removed in version 0.14.\n",
      "Use os.path.join(memory.location, 'joblib') attribute instead.\n",
      "  if (memory.cachedir is None and memory_level is not None\n"
     ]
    },
    {
     "name": "stdout",
     "output_type": "stream",
     "text": [
      "[NiftiLabelsMasker.transform_single_imgs] Extracting region signals\n",
      "[NiftiLabelsMasker.transform_single_imgs] Cleaning extracted signals\n",
      "_______________________________________________filter_and_extract - 0.9s, 0.0min\n",
      "[NiftiLabelsMasker.fit_transform] loading data from C:\\Users\\June Cai/nilearn_data\\fsl\\data\\atlases\\HarvardOxford\\HarvardOxford-cort-maxprob-thr25-2mm.nii.gz\n",
      "Resampling labels\n",
      "________________________________________________________________________________\n",
      "[Memory] Calling nilearn.input_data.base_masker.filter_and_extract...\n",
      "filter_and_extract('F:\\\\ece\\\\capstone\\\\code\\\\py\\\\data\\\\abide\\\\traindata\\\\29914_rest_1.nii.gz', <nilearn.input_data.nifti_labels_masker._ExtractionFunctor object at 0x00000124FA6596D8>, \n",
      "{ 'background_label': 0,\n",
      "  'detrend': False,\n",
      "  'dtype': None,\n",
      "  'high_pass': None,\n",
      "  'labels_img': 'C:\\\\Users\\\\June '\n",
      "                'Cai/nilearn_data\\\\fsl\\\\data\\\\atlases\\\\HarvardOxford\\\\HarvardOxford-cort-maxprob-thr25-2mm.nii.gz',\n",
      "  'low_pass': None,\n",
      "  'mask_img': None,\n",
      "  'smoothing_fwhm': None,\n",
      "  'standardize': True,\n",
      "  't_r': None,\n",
      "  'target_affine': None,\n",
      "  'target_shape': None}, memory_level=1, memory=Memory(location=nilearn_cache\\joblib), verbose=5, confounds=None, dtype=None)\n",
      "[NiftiLabelsMasker.transform_single_imgs] Loading data from F:\\ece\\capstone\\code\\py\\data\\abide\\traindata\\29914_rest_1.nii.gz\n"
     ]
    },
    {
     "name": "stderr",
     "output_type": "stream",
     "text": [
      "C:\\Users\\June Cai\\AppData\\Roaming\\Python\\Python35\\site-packages\\nilearn\\_utils\\cache_mixin.py:84: DeprecationWarning: The 'cachedir' parameter has been deprecated in version 0.12 and will be removed in version 0.14.\n",
      "You provided \"cachedir='nilearn_cache'\", use \"location='nilearn_cache'\" instead.\n",
      "  memory = Memory(cachedir=cache_dir, verbose=verbose)\n",
      "C:\\Users\\June Cai\\AppData\\Roaming\\Python\\Python35\\site-packages\\nilearn\\_utils\\cache_mixin.py:232: DeprecationWarning: The 'cachedir' attribute has been deprecated in version 0.12 and will be removed in version 0.14.\n",
      "Use os.path.join(memory.location, 'joblib') attribute instead.\n",
      "  if (memory.cachedir is None and memory_level is not None\n"
     ]
    },
    {
     "name": "stdout",
     "output_type": "stream",
     "text": [
      "[NiftiLabelsMasker.transform_single_imgs] Extracting region signals\n",
      "[NiftiLabelsMasker.transform_single_imgs] Cleaning extracted signals\n",
      "_______________________________________________filter_and_extract - 0.9s, 0.0min\n",
      "[NiftiLabelsMasker.fit_transform] loading data from C:\\Users\\June Cai/nilearn_data\\fsl\\data\\atlases\\HarvardOxford\\HarvardOxford-cort-maxprob-thr25-2mm.nii.gz\n",
      "Resampling labels\n",
      "________________________________________________________________________________\n",
      "[Memory] Calling nilearn.input_data.base_masker.filter_and_extract...\n",
      "filter_and_extract('F:\\\\ece\\\\capstone\\\\code\\\\py\\\\data\\\\abide\\\\traindata\\\\29915_rest_1.nii.gz', <nilearn.input_data.nifti_labels_masker._ExtractionFunctor object at 0x000001248A9110F0>, \n",
      "{ 'background_label': 0,\n",
      "  'detrend': False,\n",
      "  'dtype': None,\n",
      "  'high_pass': None,\n",
      "  'labels_img': 'C:\\\\Users\\\\June '\n",
      "                'Cai/nilearn_data\\\\fsl\\\\data\\\\atlases\\\\HarvardOxford\\\\HarvardOxford-cort-maxprob-thr25-2mm.nii.gz',\n",
      "  'low_pass': None,\n",
      "  'mask_img': None,\n",
      "  'smoothing_fwhm': None,\n",
      "  'standardize': True,\n",
      "  't_r': None,\n",
      "  'target_affine': None,\n",
      "  'target_shape': None}, memory_level=1, memory=Memory(location=nilearn_cache\\joblib), verbose=5, confounds=None, dtype=None)\n",
      "[NiftiLabelsMasker.transform_single_imgs] Loading data from F:\\ece\\capstone\\code\\py\\data\\abide\\traindata\\29915_rest_1.nii.gz\n"
     ]
    },
    {
     "name": "stderr",
     "output_type": "stream",
     "text": [
      "C:\\Users\\June Cai\\AppData\\Roaming\\Python\\Python35\\site-packages\\nilearn\\_utils\\cache_mixin.py:84: DeprecationWarning: The 'cachedir' parameter has been deprecated in version 0.12 and will be removed in version 0.14.\n",
      "You provided \"cachedir='nilearn_cache'\", use \"location='nilearn_cache'\" instead.\n",
      "  memory = Memory(cachedir=cache_dir, verbose=verbose)\n",
      "C:\\Users\\June Cai\\AppData\\Roaming\\Python\\Python35\\site-packages\\nilearn\\_utils\\cache_mixin.py:232: DeprecationWarning: The 'cachedir' attribute has been deprecated in version 0.12 and will be removed in version 0.14.\n",
      "Use os.path.join(memory.location, 'joblib') attribute instead.\n",
      "  if (memory.cachedir is None and memory_level is not None\n"
     ]
    },
    {
     "name": "stdout",
     "output_type": "stream",
     "text": [
      "[NiftiLabelsMasker.transform_single_imgs] Extracting region signals\n",
      "[NiftiLabelsMasker.transform_single_imgs] Cleaning extracted signals\n",
      "_______________________________________________filter_and_extract - 0.8s, 0.0min\n",
      "[NiftiLabelsMasker.fit_transform] loading data from C:\\Users\\June Cai/nilearn_data\\fsl\\data\\atlases\\HarvardOxford\\HarvardOxford-cort-maxprob-thr25-2mm.nii.gz\n",
      "Resampling labels\n",
      "________________________________________________________________________________\n",
      "[Memory] Calling nilearn.input_data.base_masker.filter_and_extract...\n",
      "filter_and_extract('F:\\\\ece\\\\capstone\\\\code\\\\py\\\\data\\\\abide\\\\traindata\\\\29916_rest_1.nii.gz', <nilearn.input_data.nifti_labels_masker._ExtractionFunctor object at 0x0000012496F2ABA8>, \n",
      "{ 'background_label': 0,\n",
      "  'detrend': False,\n",
      "  'dtype': None,\n",
      "  'high_pass': None,\n",
      "  'labels_img': 'C:\\\\Users\\\\June '\n",
      "                'Cai/nilearn_data\\\\fsl\\\\data\\\\atlases\\\\HarvardOxford\\\\HarvardOxford-cort-maxprob-thr25-2mm.nii.gz',\n",
      "  'low_pass': None,\n",
      "  'mask_img': None,\n",
      "  'smoothing_fwhm': None,\n",
      "  'standardize': True,\n",
      "  't_r': None,\n",
      "  'target_affine': None,\n",
      "  'target_shape': None}, memory_level=1, memory=Memory(location=nilearn_cache\\joblib), verbose=5, confounds=None, dtype=None)\n",
      "[NiftiLabelsMasker.transform_single_imgs] Loading data from F:\\ece\\capstone\\code\\py\\data\\abide\\traindata\\29916_rest_1.nii.gz\n"
     ]
    },
    {
     "name": "stderr",
     "output_type": "stream",
     "text": [
      "C:\\Users\\June Cai\\AppData\\Roaming\\Python\\Python35\\site-packages\\nilearn\\_utils\\cache_mixin.py:84: DeprecationWarning: The 'cachedir' parameter has been deprecated in version 0.12 and will be removed in version 0.14.\n",
      "You provided \"cachedir='nilearn_cache'\", use \"location='nilearn_cache'\" instead.\n",
      "  memory = Memory(cachedir=cache_dir, verbose=verbose)\n",
      "C:\\Users\\June Cai\\AppData\\Roaming\\Python\\Python35\\site-packages\\nilearn\\_utils\\cache_mixin.py:232: DeprecationWarning: The 'cachedir' attribute has been deprecated in version 0.12 and will be removed in version 0.14.\n",
      "Use os.path.join(memory.location, 'joblib') attribute instead.\n",
      "  if (memory.cachedir is None and memory_level is not None\n"
     ]
    },
    {
     "name": "stdout",
     "output_type": "stream",
     "text": [
      "[NiftiLabelsMasker.transform_single_imgs] Extracting region signals\n",
      "[NiftiLabelsMasker.transform_single_imgs] Cleaning extracted signals\n",
      "_______________________________________________filter_and_extract - 0.9s, 0.0min\n",
      "[NiftiLabelsMasker.fit_transform] loading data from C:\\Users\\June Cai/nilearn_data\\fsl\\data\\atlases\\HarvardOxford\\HarvardOxford-cort-maxprob-thr25-2mm.nii.gz\n",
      "Resampling labels\n",
      "________________________________________________________________________________\n",
      "[Memory] Calling nilearn.input_data.base_masker.filter_and_extract...\n",
      "filter_and_extract('F:\\\\ece\\\\capstone\\\\code\\\\py\\\\data\\\\abide\\\\traindata\\\\29917_rest_1.nii.gz', <nilearn.input_data.nifti_labels_masker._ExtractionFunctor object at 0x00000124FBC1F5C0>, \n",
      "{ 'background_label': 0,\n",
      "  'detrend': False,\n",
      "  'dtype': None,\n",
      "  'high_pass': None,\n",
      "  'labels_img': 'C:\\\\Users\\\\June '\n",
      "                'Cai/nilearn_data\\\\fsl\\\\data\\\\atlases\\\\HarvardOxford\\\\HarvardOxford-cort-maxprob-thr25-2mm.nii.gz',\n",
      "  'low_pass': None,\n",
      "  'mask_img': None,\n",
      "  'smoothing_fwhm': None,\n",
      "  'standardize': True,\n",
      "  't_r': None,\n",
      "  'target_affine': None,\n",
      "  'target_shape': None}, memory_level=1, memory=Memory(location=nilearn_cache\\joblib), verbose=5, confounds=None, dtype=None)\n",
      "[NiftiLabelsMasker.transform_single_imgs] Loading data from F:\\ece\\capstone\\code\\py\\data\\abide\\traindata\\29917_rest_1.nii.gz\n"
     ]
    },
    {
     "name": "stderr",
     "output_type": "stream",
     "text": [
      "C:\\Users\\June Cai\\AppData\\Roaming\\Python\\Python35\\site-packages\\nilearn\\_utils\\cache_mixin.py:84: DeprecationWarning: The 'cachedir' parameter has been deprecated in version 0.12 and will be removed in version 0.14.\n",
      "You provided \"cachedir='nilearn_cache'\", use \"location='nilearn_cache'\" instead.\n",
      "  memory = Memory(cachedir=cache_dir, verbose=verbose)\n",
      "C:\\Users\\June Cai\\AppData\\Roaming\\Python\\Python35\\site-packages\\nilearn\\_utils\\cache_mixin.py:232: DeprecationWarning: The 'cachedir' attribute has been deprecated in version 0.12 and will be removed in version 0.14.\n",
      "Use os.path.join(memory.location, 'joblib') attribute instead.\n",
      "  if (memory.cachedir is None and memory_level is not None\n"
     ]
    },
    {
     "name": "stdout",
     "output_type": "stream",
     "text": [
      "[NiftiLabelsMasker.transform_single_imgs] Extracting region signals\n",
      "[NiftiLabelsMasker.transform_single_imgs] Cleaning extracted signals\n",
      "_______________________________________________filter_and_extract - 0.8s, 0.0min\n"
     ]
    }
   ],
   "source": [
    "for fmri_filename in files:\n",
    "    curFIleName = fmri_filename.split('\\\\')[-1]\n",
    "    id = curFIleName.split('_')[0]\n",
    "    type = curFIleName.split('_')[1]\n",
    "    if type != 'rest':\n",
    "        continue\n",
    "    \n",
    "    from nilearn.input_data import NiftiLabelsMasker\n",
    "    masker = NiftiLabelsMasker(labels_img=atlas_filename, standardize=True,\n",
    "                               memory='nilearn_cache', verbose=5)\n",
    "\n",
    "    from nilearn.connectome import ConnectivityMeasure\n",
    "    correlation_measure = ConnectivityMeasure(kind='correlation')\n",
    "    time_series = masker.fit_transform(fmri_filename)\n",
    "\n",
    "    correlation_matrix = correlation_measure.fit_transform([time_series])[0]\n",
    "\n",
    "    #storing to csv\n",
    "    import csv\n",
    "    import numpy as np\n",
    "    fil_name = 'abideMatrix'+str(fileNum)\n",
    "\n",
    "    with open(fil_name+'.csv','a') as csvfile:\n",
    "        writer = csv.writer(csvfile, delimiter=',')\n",
    "        csvfile.write(id)\n",
    "        csvfile.write('\\n')\n",
    "        writer.writerows(correlation_matrix)\n",
    "        \n",
    "    counter=counter+1\n",
    "    if counter % 50 == 0:\n",
    "        fileNum = fileNum + 1\n"
   ]
  },
  {
   "cell_type": "code",
   "execution_count": null,
   "metadata": {},
   "outputs": [],
   "source": [
    "\n",
    "from nilearn import plotting\n",
    "# Mask the main diagonal for visualization:\n",
    "np.fill_diagonal(correlation_matrix, 0)\n",
    "\n",
    "plotting.plot_matrix(correlation_matrix, figure=(10, 8), labels=labels[1:],\n",
    "                     vmax=0.8, vmin=-0.8, reorder=True)\n",
    "\n",
    "plotting.show()\n",
    "\n",
    "#to read file you saved\n",
    "with open(fil_name+'.csv', 'r') as f:\n",
    "  reader = csv.reader(f)\n",
    "  examples = list(reader)\n",
    "\n",
    "print(examples)\n",
    "nwexamples = []\n",
    "for row in examples:\n",
    "    nwrow = []\n",
    "    for r in row:\n",
    "        nwrow.append(eval(r))\n",
    "    nwexamples.append(nwrow)\n",
    "print(nwexamples)"
   ]
  }
 ],
 "metadata": {
  "kernelspec": {
   "display_name": "Python 3",
   "language": "python",
   "name": "python3"
  },
  "language_info": {
   "codemirror_mode": {
    "name": "ipython",
    "version": 3
   },
   "file_extension": ".py",
   "mimetype": "text/x-python",
   "name": "python",
   "nbconvert_exporter": "python",
   "pygments_lexer": "ipython3",
   "version": "3.5.6"
  }
 },
 "nbformat": 4,
 "nbformat_minor": 1
}
